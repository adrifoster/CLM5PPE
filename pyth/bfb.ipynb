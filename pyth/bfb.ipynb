{
 "cells": [
  {
   "cell_type": "code",
   "execution_count": 1,
   "id": "00ae3db4-6de3-4164-b1af-64969ab4f864",
   "metadata": {},
   "outputs": [],
   "source": [
    "import numpy as np\n",
    "import pandas as pd\n",
    "import xarray as xr\n",
    "import glob\n",
    "import matplotlib\n",
    "import matplotlib.pyplot as plt\n",
    "import cftime\n",
    "import dask"
   ]
  },
  {
   "cell_type": "code",
   "execution_count": 2,
   "id": "bc91a8e4-ef9b-458b-a594-815f0480689d",
   "metadata": {},
   "outputs": [],
   "source": [
    "# Setup your PBSCluster\n",
    "import dask\n",
    "from dask_jobqueue import PBSCluster\n",
    "from dask.distributed import Client\n",
    "ncores=1\n",
    "nmem='25GB'\n",
    "cluster = PBSCluster(\n",
    "    cores=ncores, # The number of cores you want\n",
    "    memory=nmem, # Amount of memory\n",
    "    processes=1, # How many processes\n",
    "    queue='casper', # The type of queue to utilize (/glade/u/apps/dav/opt/usr/bin/execcasper)\n",
    "    local_directory='$TMPDIR', # Use your local directory\n",
    "    resource_spec='select=1:ncpus='+str(ncores)+':mem='+nmem, # Specify resources\n",
    "    project='P93300641', # Input your project ID here\n",
    "    walltime='01:00:00', # Amount of wall time\n",
    "    interface='ib0', # Interface to use\n",
    ")\n",
    "\n",
    "# Scale up\n",
    "cluster.scale(30)\n",
    "\n",
    "# Setup your client\n",
    "client = Client(cluster)"
   ]
  },
  {
   "cell_type": "code",
   "execution_count": 3,
   "id": "56662717-0779-4f98-9d42-638bd5c47832",
   "metadata": {},
   "outputs": [],
   "source": [
    "files = sorted(glob.glob('/glade/campaign/asp/djk2120/PPEn11/CTL2010/hist/*h0*'))"
   ]
  },
  {
   "cell_type": "code",
   "execution_count": 9,
   "id": "02d84bab-cf85-440e-aee5-ac7d127f3483",
   "metadata": {},
   "outputs": [],
   "source": [
    "datavars = ['GPP','EFLX_LH_TOT','FSA','TV','TSOI_10CM','SOILWATER_10CM']\n",
    "def preprocess(ds):\n",
    "    return ds[datavars]"
   ]
  },
  {
   "cell_type": "code",
   "execution_count": 56,
   "id": "a6494531-df5c-4a32-a97f-84c254e22c54",
   "metadata": {},
   "outputs": [],
   "source": [
    "ds = xr.open_mfdataset(files,combine='nested',concat_dim='ens',\n",
    "                       parallel=True,decode_times=False,preprocess=preprocess)"
   ]
  },
  {
   "cell_type": "code",
   "execution_count": 57,
   "id": "316f596a-bb89-46b9-81c0-6426daaffe59",
   "metadata": {},
   "outputs": [],
   "source": [
    "nens=len(ds.ens)\n",
    "#diagnose the number of datapoints, e.g. nlat*nlon*nt\n",
    "nx=1\n",
    "for dim in ds.dims:\n",
    "    if dim !='ens':\n",
    "        nx=nx*len(ds[dim])"
   ]
  },
  {
   "cell_type": "code",
   "execution_count": 58,
   "id": "014b6e0e-db4c-4ef0-b7cf-9a87e0e20bcb",
   "metadata": {},
   "outputs": [],
   "source": [
    "dims=np.array([dim for dim in ds.dims])\n",
    "tiler=np.ones(len(dims))\n",
    "tiler[dims=='ens']=nens  #need this for a nan thing below\n",
    "summer=tuple(np.arange(len(dims))[dims!='ens']) #I don't want to sum over the ens dimension, see below"
   ]
  },
  {
   "cell_type": "code",
   "execution_count": 64,
   "id": "ab222949-089b-4f4d-b408-2c200d5da1f2",
   "metadata": {},
   "outputs": [],
   "source": [
    "\n",
    "bfb_allvars = np.ones(nens)\n",
    "\n",
    "for v in datavars:  #loop through datavars\n",
    "    x0=ds[v].isel(ens=0)  ##default run\n",
    "\n",
    "    bfb_grid = (ds[v]==x0).values  ## testing equality across the ensemble\n",
    "\n",
    "    #ignoring nans\n",
    "    isnan = np.tile(np.isnan(x0),tiler.astype(int))\n",
    "    bfb_grid[isnan]=1                       \n",
    "\n",
    "    bfbx=bfb_grid.sum(axis=summer)==nx  #which members are bfb for this datavar\n",
    "    bfb_allvars = bfbx*bfb_allvars #which members are bfb for all datavars\n"
   ]
  },
  {
   "cell_type": "code",
   "execution_count": null,
   "id": "77621ce4-4847-46ca-9821-e42c8b7fb565",
   "metadata": {},
   "outputs": [],
   "source": [
    "##none of my simulations are bfb..."
   ]
  },
  {
   "cell_type": "code",
   "execution_count": 65,
   "id": "2b9d6361-3cf9-4698-83e4-60619ca250b1",
   "metadata": {},
   "outputs": [
    {
     "data": {
      "text/plain": [
       "array([1., 0., 0., 0., 0., 0., 0., 0., 0., 0., 0., 0., 0., 0., 0., 0., 0.,\n",
       "       0., 0., 0., 0., 0., 0., 0., 0., 0., 0., 0., 0., 0., 0., 0., 0., 0.,\n",
       "       0., 0., 0., 0., 0., 0., 0., 0., 0., 0., 0., 0., 0., 0., 0., 0., 0.,\n",
       "       0., 0., 0., 0., 0., 0., 0., 0., 0., 0., 0., 0., 0., 0., 0., 0., 0.,\n",
       "       0., 0., 0., 0., 0., 0., 0., 0., 0., 0., 0., 0., 0., 0., 0., 0., 0.,\n",
       "       0., 0., 0., 0., 0., 0., 0., 0., 0., 0., 0., 0., 0., 0., 0., 0., 0.,\n",
       "       0., 0., 0., 0., 0., 0., 0., 0., 0., 0., 0., 0., 0., 0., 0., 0., 0.,\n",
       "       0., 0., 0., 0., 0., 0., 0., 0., 0., 0., 0., 0., 0., 0., 0., 0., 0.,\n",
       "       0., 0., 0., 0., 0., 0., 0., 0., 0., 0., 0., 0., 0., 0., 0., 0., 0.,\n",
       "       0., 0., 0., 0., 0., 0., 0., 0., 0., 0., 0., 0., 0., 0., 0., 0., 0.,\n",
       "       0., 0., 0., 0., 0., 0., 0., 0., 0., 0., 0., 0., 0., 0., 0., 0., 0.,\n",
       "       0., 0., 0., 0., 0., 0., 0., 0., 0., 0., 0., 0., 0., 0., 0., 0., 0.,\n",
       "       0., 0., 0., 0., 0., 0., 0., 0., 0., 0., 0., 0., 0., 0., 0., 0., 0.,\n",
       "       0., 0., 0., 0., 0., 0., 0., 0., 0., 0., 0., 0., 0., 0., 0., 0., 0.,\n",
       "       0., 0., 0., 0., 0., 0., 0., 0., 0., 0., 0., 0., 0., 0., 0., 0., 0.,\n",
       "       0., 0., 0., 0., 0., 0., 0., 0., 0., 0., 0., 0., 0., 0., 0., 0., 0.,\n",
       "       0., 0., 0., 0., 0., 0., 0., 0., 0., 0., 0., 0., 0., 0., 0., 0., 0.,\n",
       "       0., 0., 0., 0., 0., 0., 0., 0., 0., 0., 0., 0., 0., 0., 0., 0., 0.,\n",
       "       0., 0., 0., 0., 0., 0., 0., 0., 0., 0., 0., 0., 0., 0., 0., 0., 0.,\n",
       "       0., 0., 0., 0., 0., 0., 0., 0., 0., 0., 0., 0., 0., 0., 0., 0., 0.,\n",
       "       0., 0., 0., 0., 0., 0., 0., 0., 0., 0., 0., 0., 0., 0., 0., 0., 0.,\n",
       "       0., 0., 0., 0., 0., 0., 0., 0., 0., 0., 0., 0., 0., 0., 0., 0., 0.,\n",
       "       0., 0., 0., 0., 0., 0., 0., 0., 0., 0., 0., 0., 0., 0., 0., 0., 0.,\n",
       "       0., 0., 0., 0., 0., 0., 0., 0., 0., 0., 0., 0., 0., 0., 0., 0., 0.,\n",
       "       0., 0., 0., 0., 0., 0., 0., 0., 0., 0., 0., 0., 0., 0., 0., 0., 0.,\n",
       "       0., 0., 0., 0., 0., 0., 0., 0., 0., 0., 0., 0., 0., 0., 0., 0., 0.,\n",
       "       0., 0., 0., 0., 0., 0., 0., 0., 0., 0., 0., 0., 0., 0., 0., 0., 0.,\n",
       "       0., 0., 0., 0., 0., 0., 0., 0., 0., 0., 0., 0., 0., 0., 0., 0., 0.,\n",
       "       0., 0., 0., 0., 0., 0., 0., 0., 0., 0., 0., 0., 0., 0., 0., 0., 0.,\n",
       "       0., 0., 0., 0., 0., 0., 0., 0., 0., 0., 0., 0., 0., 0., 0., 0., 0.,\n",
       "       0., 0., 0., 0., 0., 0., 0., 0., 0., 0., 0., 0., 0., 0., 0., 0., 0.,\n",
       "       0., 0., 0., 0., 0., 0., 0., 0., 0., 0., 0., 0., 0., 0., 0., 0.])"
      ]
     },
     "execution_count": 65,
     "metadata": {},
     "output_type": "execute_result"
    }
   ],
   "source": [
    "bfb_allvars"
   ]
  },
  {
   "cell_type": "code",
   "execution_count": null,
   "id": "a6577411-9cb4-4866-8d74-36bb03eacba0",
   "metadata": {},
   "outputs": [],
   "source": []
  }
 ],
 "metadata": {
  "kernelspec": {
   "display_name": "Python [conda env:miniconda3-ppe-py]",
   "language": "python",
   "name": "conda-env-miniconda3-ppe-py-py"
  },
  "language_info": {
   "codemirror_mode": {
    "name": "ipython",
    "version": 3
   },
   "file_extension": ".py",
   "mimetype": "text/x-python",
   "name": "python",
   "nbconvert_exporter": "python",
   "pygments_lexer": "ipython3",
   "version": "3.7.10"
  }
 },
 "nbformat": 4,
 "nbformat_minor": 5
}
