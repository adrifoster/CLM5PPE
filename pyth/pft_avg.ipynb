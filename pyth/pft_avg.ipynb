{
 "cells": [
  {
   "cell_type": "code",
   "execution_count": 1,
   "id": "ec978fdf",
   "metadata": {},
   "outputs": [],
   "source": [
    "import numpy as np\n",
    "import pandas as pd\n",
    "import xarray as xr\n",
    "import glob\n",
    "import matplotlib\n",
    "import matplotlib.pyplot as plt\n",
    "import cftime\n",
    "import dask\n",
    "import statsmodels.api as sm\n",
    "import os\n",
    "import cartopy.crs as ccrs\n",
    "import cartopy.feature as cfeature"
   ]
  },
  {
   "cell_type": "code",
   "execution_count": 2,
   "id": "bf7b7a5f-79b8-4bd3-83a5-30a2e99b0ec7",
   "metadata": {},
   "outputs": [],
   "source": [
    "### import some analysis functions we wrote for this project\n",
    "import sys ; sys.path.append(\"..\")\n",
    "from ppe_analysis.analysis import *"
   ]
  },
  {
   "cell_type": "markdown",
   "id": "60e7bb29",
   "metadata": {},
   "source": [
    "### Start up PBS cluster\n",
    " - may need to adjust project and/or walltime"
   ]
  },
  {
   "cell_type": "code",
   "execution_count": 3,
   "id": "a078a6da",
   "metadata": {},
   "outputs": [],
   "source": [
    "# Setup your PBSCluster\n",
    "import dask\n",
    "from dask_jobqueue import PBSCluster\n",
    "from dask.distributed import Client\n",
    "ncores=1\n",
    "nmem='25GB'\n",
    "cluster = PBSCluster(\n",
    "    cores=ncores, # The number of cores you want\n",
    "    memory=nmem, # Amount of memory\n",
    "    processes=1, # How many processes\n",
    "    queue='casper', # The type of queue to utilize (/glade/u/apps/dav/opt/usr/bin/execcasper)\n",
    "    local_directory='$TMPDIR', # Use your local directory\n",
    "    resource_spec='select=1:ncpus='+str(ncores)+':mem='+nmem, # Specify resources\n",
    "    project='P93300641', # Input your project ID here\n",
    "    walltime='03:00:00', # Amount of wall time\n",
    "    interface='ib0', # Interface to use\n",
    ")\n",
    "\n",
    "# Scale up\n",
    "cluster.scale(30)\n",
    "\n",
    "# Setup your client\n",
    "client = Client(cluster)"
   ]
  },
  {
   "cell_type": "code",
   "execution_count": 4,
   "id": "639c39c9",
   "metadata": {},
   "outputs": [
    {
     "data": {
      "application/vnd.jupyter.widget-view+json": {
       "model_id": "79800bcf40d5477fa0fe3210ba3e2ccc",
       "version_major": 2,
       "version_minor": 0
      },
      "text/plain": [
       "Tab(children=(HTML(value='<div class=\"jp-RenderedHTMLCommon jp-RenderedHTML jp-mod-trusted jp-OutputArea-outpu…"
      ]
     },
     "metadata": {},
     "output_type": "display_data"
    }
   ],
   "source": [
    "client.cluster"
   ]
  },
  {
   "cell_type": "markdown",
   "id": "a9acbab1",
   "metadata": {},
   "source": [
    "### Some custom functions"
   ]
  },
  {
   "cell_type": "code",
   "execution_count": 5,
   "id": "d4dc97c8",
   "metadata": {},
   "outputs": [],
   "source": [
    "def get_files(htape,yr0=1850,yr1=2014):\n",
    "    d='/glade/campaign/asp/djk2120/PPEn11/transient/hist/'\n",
    "\n",
    "    #find all files\n",
    "    fs   = np.array(sorted(glob.glob(d+'*'+htape+'*')))\n",
    "    yrs  = np.array([int(f.split(htape)[1][1:5]) for f in fs])\n",
    "    keys = np.array([f.split('.clm2')[0][-7:] for f in fs])\n",
    "\n",
    "    #bump back yr0, if needed\n",
    "    uyrs=np.unique(yrs)\n",
    "    dy=uyrs[1]-yrs[0]\n",
    "    yr0=dy*int(yr0/dy)\n",
    "    \n",
    "    #find index to subset files\n",
    "    ix   = (yrs>=yr0)&(yrs<=yr1)\n",
    "    yrs  = yrs[ix]\n",
    "    keys = keys[ix]\n",
    "\n",
    "    #subset and reshape files\n",
    "    ny=np.sum(keys=='LHC0000')\n",
    "    nens = int(len(keys)/ny)\n",
    "    files = fs[ix].reshape([nens,ny])\n",
    "\n",
    "    #convert to list of lists\n",
    "    files = [list(f) for f in files]\n",
    "    \n",
    "    return files,np.unique(keys)"
   ]
  },
  {
   "cell_type": "code",
   "execution_count": 6,
   "id": "84e683b4",
   "metadata": {},
   "outputs": [],
   "source": [
    "def add_params(ds,df,keys):\n",
    "    mems=df['member'].values\n",
    "    ix1=0*mems==1\n",
    "    for key in keys:\n",
    "        ix1=(ix1)|(mems==key)\n",
    "\n",
    "    nens=len(ds.ens)    \n",
    "    ix2=0*np.arange(nens)==1\n",
    "    for mem in mems:\n",
    "        ix2=(ix2)|(ds.key==mem)\n",
    "\n",
    "\n",
    "    params=[]    \n",
    "    for p in df.keys():\n",
    "        if p!='member':\n",
    "            x=xr.DataArray(np.nan+np.zeros(nens),dims='ens')\n",
    "            x[ix2]=df[p][ix1]\n",
    "            ds[p]=x\n",
    "            params.append(p)\n",
    "    ds['params']=xr.DataArray(params,dims='param')"
   ]
  },
  {
   "cell_type": "code",
   "execution_count": 7,
   "id": "4f63efc4",
   "metadata": {},
   "outputs": [],
   "source": [
    "def get_ds(dvs,htape,yr0=1850,yr1=2014,dropdef=False):\n",
    "    \n",
    "    def preprocess(ds):\n",
    "        return ds[dvs]\n",
    "    \n",
    "    #read in the data\n",
    "    files,keys = get_files(htape,yr0,yr1)\n",
    "    if dropdef:\n",
    "        files = files[1:]\n",
    "        keys  = keys[1:]\n",
    "    \n",
    "    ds = xr.open_mfdataset(files,combine='nested',concat_dim=['ens','time'],\n",
    "                       parallel=True,preprocess=preprocess)\n",
    "    \n",
    "    #fix the time dimension, if needed\n",
    "    yr0=str(ds['time.year'].values[0])\n",
    "    if (htape=='h0')|(htape=='h1'):\n",
    "        ds['time']=xr.cftime_range(yr0,periods=len(ds.time),freq='MS')\n",
    "    \n",
    "    #add some param info, etc.\n",
    "    df=pd.read_csv('/glade/campaign/asp/djk2120/PPEn11/csvs/lhc220926.txt')\n",
    "    ds['key']=xr.DataArray(keys,dims=['ens'])\n",
    "    add_params(ds,df,keys)\n",
    "    \n",
    "    #add landarea info\n",
    "    la_file = '/glade/u/home/djk2120/clm5ppe/pyth/sparsegrid_landarea.nc'\n",
    "    la = xr.open_dataset(la_file).landarea  #km2\n",
    "    ds['la'] = la\n",
    "    \n",
    "    #add some extra variables, e.g. lat/lon\n",
    "    tmp = xr.open_dataset(files[0][0])\n",
    "    for v in tmp.data_vars:\n",
    "        if 'time' not in tmp[v].dims:\n",
    "            ds[v]=tmp[v]   \n",
    "    \n",
    "    return ds\n",
    "    "
   ]
  },
  {
   "cell_type": "code",
   "execution_count": 57,
   "id": "e11bacbd",
   "metadata": {},
   "outputs": [],
   "source": [
    "def gmean(da,la,cf=1):\n",
    "    #global mean\n",
    "    if 'gridcell' in da.coords:\n",
    "        xg=cf/la.sum()*(la*da).sum(dim='gridcell').compute()\n",
    "    else:\n",
    "        xg=cf/la.sum()*(la*da).sum(dim=['lat','lon']).compute()\n",
    "    return xg\n"
   ]
  },
  {
   "cell_type": "code",
   "execution_count": 9,
   "id": "26bbe0f8-6a37-4776-ac1c-c46c12564413",
   "metadata": {},
   "outputs": [],
   "source": [
    "whit = xr.open_dataset('./whit/whitkey.nc')\n",
    "def bmean(da,la):\n",
    "    g=whit.biome\n",
    "    xb=1/la.groupby(g).sum()*(la*da).groupby(g).sum(dim='gridcell').compute()\n",
    "    xb['biome_name']=xr.DataArray(whit.biome_name.values,dims='biome')\n",
    "    return xb"
   ]
  },
  {
   "cell_type": "code",
   "execution_count": 10,
   "id": "ecabdf2e",
   "metadata": {},
   "outputs": [],
   "source": [
    "def amean(da,cf=1):\n",
    "    #annual mean\n",
    "    m  = da['time.daysinmonth']\n",
    "    xa = cf/365*(m*da).groupby('time.year').sum().compute()\n",
    "    return xa"
   ]
  },
  {
   "cell_type": "markdown",
   "id": "45cbd4be",
   "metadata": {},
   "source": [
    "### Gridcell level output"
   ]
  },
  {
   "cell_type": "code",
   "execution_count": 240,
   "id": "53be4759-6919-4b18-84bf-42dd6d8438b3",
   "metadata": {},
   "outputs": [],
   "source": [
    "#locate the output files\n",
    "d='/glade/p/cgd/tss/people/oleson/clm51_lmbirchwkattgen01ctsm51d006_2deg_GSWP3V1_nocrop_PPE2_hist/lnd/hist/'\n",
    "tape='h0'\n",
    "files = sorted(glob.glob(d+'*.'+tape+'.*'))\n",
    "yrs=np.array([int(f.split('.'+tape+'.')[1][:4]) for f in files])\n",
    "yr0=1980\n",
    "files = np.array(files)[yrs>=yr0]\n",
    "tmp=xr.open_dataset(files[0])\n",
    "la=tmp.area*tmp.landfrac"
   ]
  },
  {
   "cell_type": "code",
   "execution_count": 241,
   "id": "d8046987-585a-4985-ae3a-adf25ef54a0f",
   "metadata": {},
   "outputs": [],
   "source": [
    "#read in the dataset\n",
    "def preprocess(ds):\n",
    "    dvs=['TLAI']\n",
    "    return ds[dvs]\n",
    "ds = xr.open_mfdataset(files,combine='nested',concat_dim='time',parallel=True,\n",
    "                       decode_times=False,preprocess=preprocess)\n",
    "ds['time']=xr.cftime_range(str(yr0),periods=len(ds.time),freq='MS',calendar='noleap')"
   ]
  },
  {
   "cell_type": "code",
   "execution_count": 86,
   "id": "65b4b229-8387-4cd4-918b-e23854609ce0",
   "metadata": {},
   "outputs": [],
   "source": [
    "#calculate fullgrid average LAI\n",
    "lai_fg=gmean(amean(ds.TLAI),la)"
   ]
  },
  {
   "cell_type": "code",
   "execution_count": 87,
   "id": "db3555ed",
   "metadata": {},
   "outputs": [],
   "source": [
    "#read in sparse grid information\n",
    "thedir  = '/glade/u/home/forrest/ppe_representativeness/output_v4/'\n",
    "thefile = 'clusters.clm51_PPEn02ctsm51d021_2deg_GSWP3V1_leafbiomassesai_PPE3_hist.annual+sd.400.nc'\n",
    "sg = xr.open_dataset(thedir+thefile)\n",
    "sgix = sg.rcent>0\n",
    "la_file = '/glade/u/home/djk2120/clm5ppe/pyth/sparsegrid_landarea.nc'\n",
    "lasg = xr.open_dataset(la_file).landarea  #km2"
   ]
  },
  {
   "cell_type": "code",
   "execution_count": 88,
   "id": "0d11f89e",
   "metadata": {},
   "outputs": [],
   "source": [
    "x=xr.DataArray(ds.TLAI.values[:,sgix],coords={'time':ds.time,'gridcell':range(400)})\n",
    "lai_sg=gmean(amean(x),lasg)"
   ]
  },
  {
   "cell_type": "code",
   "execution_count": 110,
   "id": "465146d3-b182-4f85-816e-7ec37bbeeda2",
   "metadata": {},
   "outputs": [
    {
     "data": {
      "image/png": "[encoded data removed]",
      "text/plain": [
       "<Figure size 360x288 with 1 Axes>"
      ]
     },
     "metadata": {
      "needs_background": "light"
     },
     "output_type": "display_data"
    }
   ],
   "source": [
    "x=sm.add_constant(lai_fg)\n",
    "lm=sm.OLS(lai_sg.values,x).fit()\n",
    "r2=np.round(lm.rsquared,2)\n",
    "m=np.round(lm.params[1],3)\n",
    "b=np.round(lm.params[0],2)\n",
    "\n",
    "plt.figure(figsize=[5,4])\n",
    "plt.plot(lai_fg,lai_sg,'.',label=r'R$^2$='+str(r2))\n",
    "plt.plot([1.7,2.3],[1.7,2.3],'k:',label='1:1')\n",
    "plt.title('TLAI: sparsegrid is biased high')\n",
    "plt.xlabel('full grid')\n",
    "plt.ylabel('sparse grid')\n",
    "plt.legend()\n",
    "plt.xlim([1.7,2.3])\n",
    "plt.ylim([1.7,2.3]);\n"
   ]
  },
  {
   "cell_type": "markdown",
   "id": "9c60bc65-0a34-48bb-a322-06536410efa1",
   "metadata": {},
   "source": [
    "### PFT-level output"
   ]
  },
  {
   "cell_type": "code",
   "execution_count": 391,
   "id": "bdad6d22-ec48-474d-8334-bb017f297ee6",
   "metadata": {},
   "outputs": [],
   "source": [
    "#locate the output files\n",
    "d='/glade/p/cgd/tss/people/oleson/clm51_lmbirchwkattgen01ctsm51d006_2deg_GSWP3V1_nocrop_PPE2_hist/lnd/hist/'\n",
    "tape='h1'\n",
    "files = sorted(glob.glob(d+'*.'+tape+'.*'))\n",
    "yrs=np.array([int(f.split('.'+tape+'.')[1][:4]) for f in files])\n",
    "yr0=1980\n",
    "files = np.array(files)[yrs>=yr0]"
   ]
  },
  {
   "cell_type": "code",
   "execution_count": 392,
   "id": "16e04ae7-1b75-4250-a676-3954c89ccc3a",
   "metadata": {},
   "outputs": [],
   "source": [
    "#read in the dataset\n",
    "def preprocess(ds):\n",
    "    dvs=['TLAI']\n",
    "    return ds[dvs]\n",
    "ds1 = xr.open_mfdataset(files,combine='nested',concat_dim='time',parallel=True,\n",
    "                       decode_times=False,preprocess=preprocess)\n",
    "ds1['time']=xr.cftime_range(str(yr0),periods=len(ds1.time),freq='MS',calendar='noleap')"
   ]
  },
  {
   "cell_type": "code",
   "execution_count": 393,
   "id": "5e738895-d057-47fb-8197-41072adbd218",
   "metadata": {},
   "outputs": [],
   "source": [
    "#extra pft information\n",
    "pfts=xr.open_dataset('/glade/campaign/asp/djk2120/PPEn11/paramfiles/OAAT0000.nc').pftname\n",
    "pfts=[str(p)[2:-1].strip() for p in pftname.values]\n",
    "p=xr.open_dataset(files[0])\n",
    "for v in ['pfts1d_'+vv for vv in ['wtgcell','lat','lon','itype_veg']]:\n",
    "    ds1[v]=p[v]"
   ]
  },
  {
   "cell_type": "code",
   "execution_count": 394,
   "id": "512334b8-ffc8-424c-9387-0a854c6ca87a",
   "metadata": {},
   "outputs": [
    {
     "data": {
      "image/png": "[encoded data removed]",
      "text/plain": [
       "<Figure size 432x288 with 1 Axes>"
      ]
     },
     "metadata": {
      "needs_background": "light"
     },
     "output_type": "display_data"
    }
   ],
   "source": [
    "pft=4\n",
    "w=ds1.pfts1d_wtgcell\n",
    "a=ds1.pfts1d_lat\n",
    "o=ds1.pfts1d_lon\n",
    "ix=(ds1.pfts1d_itype_veg==pft)&(w>0)\n",
    "\n",
    "plt.plot(o,a,'.',ms=3)\n",
    "plt.plot(o[ix],a[ix],'.',ms=3)\n",
    "plt.xlim([0,360])\n",
    "plt.ylim([-60,90])\n",
    "plt.title(pfts[pft]);"
   ]
  },
  {
   "cell_type": "code",
   "execution_count": 395,
   "id": "27fe5902-7271-457d-b645-335e613723e4",
   "metadata": {},
   "outputs": [],
   "source": [
    "def regrid(ds,v,ds0,pft):\n",
    "    w=ds.pfts1d_wtgcell\n",
    "    a=ds.pfts1d_lat\n",
    "    o=ds.pfts1d_lon\n",
    "    \n",
    "    #subset the data\n",
    "    ix=(p.pfts1d_itype_veg==pft)&(w>0)\n",
    "    dp=ds[v].sel(pft=ix).T.values  \n",
    "    ap=a[ix].values\n",
    "    op=o[ix].values\n",
    "    wp=w[ix].values\n",
    "    \n",
    "    #create lat,lon matrices\n",
    "    nlat,nlon,nt=len(ds0.lat),len(ds0.lon),len(ds.time)\n",
    "    lats=np.tile(ds0.lat.values.reshape([-1,1]),[1,nlon])\n",
    "    lons=np.tile(ds0.lon.values,[nlat,1])\n",
    "    \n",
    "    #populate output matrices\n",
    "    dout=np.zeros([nt,nlat,nlon])+np.nan\n",
    "    wout=np.zeros([nlat,nlon])\n",
    "    for lat,lon,ww,dd in zip(ap,op,wp,dp):\n",
    "        ixg=(lats==lat)&(lons==lon)\n",
    "        wout[ixg]=ww\n",
    "        dout[:,ixg]=dd.reshape([-1,1])\n",
    "    \n",
    "    #output dataset\n",
    "    ds2=xr.Dataset()\n",
    "    ds2[v]=xr.DataArray(dout,coords={'time':ds.time,\n",
    "                                     'lat':ds0.lat,\n",
    "                                     'lon':ds0.lon})\n",
    "    ds2['wtgcell']=xr.DataArray(wout,dims=['lat','lon'])\n",
    "    \n",
    "    return ds2"
   ]
  },
  {
   "cell_type": "code",
   "execution_count": 420,
   "id": "29c6b109-f674-439b-a3f4-e7795ba23816",
   "metadata": {},
   "outputs": [
    {
     "data": {
      "image/png": "[encoded data removed]",
      "text/plain": [
       "<Figure size 864x216 with 3 Axes>"
      ]
     },
     "metadata": {
      "needs_background": "light"
     },
     "output_type": "display_data"
    }
   ],
   "source": [
    "v='TLAI'\n",
    "pft=4\n",
    "ds2=regrid(ds1,v,ds,pft)\n",
    "\n",
    "law=la*ds2.wtgcell\n",
    "xfg=gmean(amean(ds2[v]),law)\n",
    "\n",
    "x=xr.DataArray(ds2[v].values[:,sgix],coords={'time':ds1.time,'gridcell':range(400)})\n",
    "w=ds2.wtgcell.values[sgix]\n",
    "law=lasg*w\n",
    "xsg=gmean(amean(x),law)\n",
    "\n",
    "plt.figure(figsize=[12,3])\n",
    "plt.subplot(131)\n",
    "xfg.plot(label='fullgrid')\n",
    "xsg.plot(label='sparsegrid')\n",
    "plt.legend()\n",
    "plt.ylabel('TLAI')\n",
    "\n",
    "plt.subplot(132)\n",
    "plt.plot(xfg,xsg,'.')\n",
    "plt.ylabel('sparsegrid')\n",
    "plt.xlabel('fullgrid')\n",
    "plt.title('TLAI: '+pfts[pft]);\n",
    "\n",
    "plt.subplot(133)\n",
    "plt.plot(xfg.year,xsg-xfg,'.')\n",
    "plt.ylabel('sparsegrid-fullgrid');\n",
    "\n",
    "plt.subplots_adjust(wspace=0.3)"
   ]
  },
  {
   "cell_type": "code",
   "execution_count": 422,
   "id": "49a06750-b3ed-4da3-b556-1675bf20f065",
   "metadata": {},
   "outputs": [],
   "source": [
    "v='TLAI'\n",
    "r2=np.zeros(17)\n",
    "b=np.zeros(17)\n",
    "for pft in 1+np.arange(16):\n",
    "    \n",
    "    ds2=regrid(ds1,v,ds,pft)\n",
    "    \n",
    "    law=la*ds2.wtgcell\n",
    "    xfg=gmean(amean(ds2[v]),law)\n",
    "\n",
    "    x=xr.DataArray(ds2[v].values[:,sgix],coords={'time':ds1.time,'gridcell':range(400)})\n",
    "    w=ds2.wtgcell.values[sgix]\n",
    "    law=lasg*w\n",
    "    xsg=gmean(amean(x),law)\n",
    "    \n",
    "    r2[pft]=np.corrcoef(xfg,xsg)[0,1]**2\n",
    "    b[pft]=xsg.mean()-xfg.mean()\n",
    "    "
   ]
  },
  {
   "cell_type": "code",
   "execution_count": 441,
   "id": "dcbdd3a5-6156-48f9-8087-a7bf50a59941",
   "metadata": {},
   "outputs": [
    {
     "data": {
      "image/png": "[encoded data removed]",
      "text/plain": [
       "<Figure size 720x216 with 1 Axes>"
      ]
     },
     "metadata": {
      "needs_background": "light"
     },
     "output_type": "display_data"
    }
   ],
   "source": [
    "plt.figure(figsize=[10,3])\n",
    "plt.bar(range(17),r2)\n",
    "plt.xticks(range(17),pfts[:17],rotation=45,ha='right');\n",
    "plt.ylim([0,1])\n",
    "plt.title(r'TLAI R$^2$: fullgrid~sparsegrid (1985-2014)');"
   ]
  },
  {
   "cell_type": "code",
   "execution_count": 465,
   "id": "1ea398eb-3f9f-4c5a-be1e-b0e70b5f72a8",
   "metadata": {},
   "outputs": [
    {
     "data": {
      "text/html": [
       "<div>\n",
       "<style scoped>\n",
       "    .dataframe tbody tr th:only-of-type {\n",
       "        vertical-align: middle;\n",
       "    }\n",
       "\n",
       "    .dataframe tbody tr th {\n",
       "        vertical-align: top;\n",
       "    }\n",
       "\n",
       "    .dataframe thead th {\n",
       "        text-align: right;\n",
       "    }\n",
       "</style>\n",
       "<table border=\"1\" class=\"dataframe\">\n",
       "  <thead>\n",
       "    <tr style=\"text-align: right;\">\n",
       "      <th></th>\n",
       "      <th>R$^2$</th>\n",
       "      <th>bias</th>\n",
       "    </tr>\n",
       "  </thead>\n",
       "  <tbody>\n",
       "    <tr>\n",
       "      <th>not_vegetated</th>\n",
       "      <td>0.00</td>\n",
       "      <td>0.00</td>\n",
       "    </tr>\n",
       "    <tr>\n",
       "      <th>needleleaf_evergreen_temperate_tree</th>\n",
       "      <td>0.98</td>\n",
       "      <td>-0.14</td>\n",
       "    </tr>\n",
       "    <tr>\n",
       "      <th>needleleaf_evergreen_boreal_tree</th>\n",
       "      <td>0.97</td>\n",
       "      <td>-0.20</td>\n",
       "    </tr>\n",
       "    <tr>\n",
       "      <th>needleleaf_deciduous_boreal_tree</th>\n",
       "      <td>0.87</td>\n",
       "      <td>-0.10</td>\n",
       "    </tr>\n",
       "    <tr>\n",
       "      <th>broadleaf_evergreen_tropical_tree</th>\n",
       "      <td>0.99</td>\n",
       "      <td>0.12</td>\n",
       "    </tr>\n",
       "    <tr>\n",
       "      <th>broadleaf_evergreen_temperate_tree</th>\n",
       "      <td>0.96</td>\n",
       "      <td>-0.07</td>\n",
       "    </tr>\n",
       "    <tr>\n",
       "      <th>broadleaf_deciduous_tropical_tree</th>\n",
       "      <td>0.61</td>\n",
       "      <td>-0.21</td>\n",
       "    </tr>\n",
       "    <tr>\n",
       "      <th>broadleaf_deciduous_temperate_tree</th>\n",
       "      <td>0.88</td>\n",
       "      <td>-0.07</td>\n",
       "    </tr>\n",
       "    <tr>\n",
       "      <th>broadleaf_deciduous_boreal_tree</th>\n",
       "      <td>0.89</td>\n",
       "      <td>-0.19</td>\n",
       "    </tr>\n",
       "    <tr>\n",
       "      <th>broadleaf_evergreen_shrub</th>\n",
       "      <td>0.18</td>\n",
       "      <td>-0.06</td>\n",
       "    </tr>\n",
       "    <tr>\n",
       "      <th>broadleaf_deciduous_temperate_shrub</th>\n",
       "      <td>0.49</td>\n",
       "      <td>-0.27</td>\n",
       "    </tr>\n",
       "    <tr>\n",
       "      <th>broadleaf_deciduous_boreal_shrub</th>\n",
       "      <td>0.96</td>\n",
       "      <td>-0.01</td>\n",
       "    </tr>\n",
       "    <tr>\n",
       "      <th>c3_arctic_grass</th>\n",
       "      <td>0.83</td>\n",
       "      <td>-0.12</td>\n",
       "    </tr>\n",
       "    <tr>\n",
       "      <th>c3_non-arctic_grass</th>\n",
       "      <td>0.77</td>\n",
       "      <td>-0.03</td>\n",
       "    </tr>\n",
       "    <tr>\n",
       "      <th>c4_grass</th>\n",
       "      <td>0.42</td>\n",
       "      <td>-0.05</td>\n",
       "    </tr>\n",
       "    <tr>\n",
       "      <th>c3_crop</th>\n",
       "      <td>0.57</td>\n",
       "      <td>-0.03</td>\n",
       "    </tr>\n",
       "    <tr>\n",
       "      <th>c3_irrigated</th>\n",
       "      <td>0.97</td>\n",
       "      <td>-0.06</td>\n",
       "    </tr>\n",
       "  </tbody>\n",
       "</table>\n",
       "</div>"
      ],
      "text/plain": [
       "                                     R$^2$  bias\n",
       "not_vegetated                         0.00  0.00\n",
       "needleleaf_evergreen_temperate_tree   0.98 -0.14\n",
       "needleleaf_evergreen_boreal_tree      0.97 -0.20\n",
       "needleleaf_deciduous_boreal_tree      0.87 -0.10\n",
       "broadleaf_evergreen_tropical_tree     0.99  0.12\n",
       "broadleaf_evergreen_temperate_tree    0.96 -0.07\n",
       "broadleaf_deciduous_tropical_tree     0.61 -0.21\n",
       "broadleaf_deciduous_temperate_tree    0.88 -0.07\n",
       "broadleaf_deciduous_boreal_tree       0.89 -0.19\n",
       "broadleaf_evergreen_shrub             0.18 -0.06\n",
       "broadleaf_deciduous_temperate_shrub   0.49 -0.27\n",
       "broadleaf_deciduous_boreal_shrub      0.96 -0.01\n",
       "c3_arctic_grass                       0.83 -0.12\n",
       "c3_non-arctic_grass                   0.77 -0.03\n",
       "c4_grass                              0.42 -0.05\n",
       "c3_crop                               0.57 -0.03\n",
       "c3_irrigated                          0.97 -0.06"
      ]
     },
     "execution_count": 465,
     "metadata": {},
     "output_type": "execute_result"
    }
   ],
   "source": [
    "pd.DataFrame({r'R$^2$':np.round(r2,2),'bias':np.round(b,2)},index=pfts[:17])"
   ]
  },
  {
   "cell_type": "code",
   "execution_count": null,
   "id": "831e2a8a-c8cf-40a7-941a-6a6024b27976",
   "metadata": {},
   "outputs": [],
   "source": []
  }
 ],
 "metadata": {
  "kernelspec": {
   "display_name": "Python [conda env:miniconda3-ppe-py]",
   "language": "python",
   "name": "conda-env-miniconda3-ppe-py-py"
  },
  "language_info": {
   "codemirror_mode": {
    "name": "ipython",
    "version": 3
   },
   "file_extension": ".py",
   "mimetype": "text/x-python",
   "name": "python",
   "nbconvert_exporter": "python",
   "pygments_lexer": "ipython3",
   "version": "3.7.10"
  }
 },
 "nbformat": 4,
 "nbformat_minor": 5
}
