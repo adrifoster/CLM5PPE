{
 "cells": [
  {
   "cell_type": "markdown",
   "id": "d34739ac-e702-4b55-b495-05487a5af457",
   "metadata": {},
   "source": [
    "### History Matching\n",
    "#### LAI pxb & GPP biome\n",
    "#### Wave 1 : February 2024"
   ]
  },
  {
   "cell_type": "code",
   "execution_count": 1,
   "id": "c184b04b-4445-4bc6-942b-8714a771dc79",
   "metadata": {
    "collapsed": true,
    "jupyter": {
     "outputs_hidden": true
    }
   },
   "outputs": [
    {
     "name": "stderr",
     "output_type": "stream",
     "text": [
      "2024-02-21 09:14:37.318939: I tensorflow/core/platform/cpu_feature_guard.cc:193] This TensorFlow binary is optimized with oneAPI Deep Neural Network Library (oneDNN) to use the following CPU instructions in performance-critical operations:  AVX2 AVX512F AVX512_VNNI FMA\n",
      "To enable them in other operations, rebuild TensorFlow with the appropriate compiler flags.\n",
      "2024-02-21 09:14:37.880251: I tensorflow/core/util/util.cc:169] oneDNN custom operations are on. You may see slightly different numerical results due to floating-point round-off errors from different computation orders. To turn them off, set the environment variable `TF_ENABLE_ONEDNN_OPTS=0`.\n",
      "2024-02-21 09:14:38.205467: W tensorflow/stream_executor/platform/default/dso_loader.cc:64] Could not load dynamic library 'libcudart.so.11.0'; dlerror: libcudart.so.11.0: cannot open shared object file: No such file or directory; LD_LIBRARY_PATH: /glade/u/apps/casper/23.10/spack/opt/spack/openmpi/4.1.6/oneapi/2023.2.1/dgcv/lib:/glade/u/apps/common/23.08/spack/opt/spack/cuda/12.2.1/lib64:/glade/u/apps/common/23.08/spack/opt/spack/cuda/12.2.1/nvvm/lib64:/glade/u/apps/common/23.08/spack/opt/spack/cuda/12.2.1/extras/CUPTI/lib64:/glade/u/apps/common/23.08/spack/opt/spack/cuda/12.2.1/extras/Debugger/lib64:/glade/u/apps/common/23.08/spack/opt/spack/intel-oneapi-compilers/2023.2.1/compiler/2023.2.1/linux/lib:/glade/u/apps/common/23.08/spack/opt/spack/intel-oneapi-compilers/2023.2.1/compiler/2023.2.1/linux/lib/x64:/glade/u/apps/common/23.08/spack/opt/spack/intel-oneapi-compilers/2023.2.1/compiler/2023.2.1/linux/lib/oclfpga/host/linux64/lib:/glade/u/apps/common/23.08/spack/opt/spack/intel-oneapi-compilers/2023.2.1/compiler/2023.2.1/linux/compiler/lib/intel64_lin:/glade/u/apps/casper/23.10/spack/opt/spack/hdf5/1.12.2/oneapi/2023.2.1/6vf2/lib\n",
      "2024-02-21 09:14:38.205494: I tensorflow/stream_executor/cuda/cudart_stub.cc:29] Ignore above cudart dlerror if you do not have a GPU set up on your machine.\n",
      "2024-02-21 09:14:38.242317: E tensorflow/stream_executor/cuda/cuda_blas.cc:2981] Unable to register cuBLAS factory: Attempting to register factory for plugin cuBLAS when one has already been registered\n",
      "2024-02-21 09:14:41.045144: W tensorflow/stream_executor/platform/default/dso_loader.cc:64] Could not load dynamic library 'libnvinfer.so.7'; dlerror: libnvinfer.so.7: cannot open shared object file: No such file or directory; LD_LIBRARY_PATH: /glade/u/apps/casper/23.10/spack/opt/spack/openmpi/4.1.6/oneapi/2023.2.1/dgcv/lib:/glade/u/apps/common/23.08/spack/opt/spack/cuda/12.2.1/lib64:/glade/u/apps/common/23.08/spack/opt/spack/cuda/12.2.1/nvvm/lib64:/glade/u/apps/common/23.08/spack/opt/spack/cuda/12.2.1/extras/CUPTI/lib64:/glade/u/apps/common/23.08/spack/opt/spack/cuda/12.2.1/extras/Debugger/lib64:/glade/u/apps/common/23.08/spack/opt/spack/intel-oneapi-compilers/2023.2.1/compiler/2023.2.1/linux/lib:/glade/u/apps/common/23.08/spack/opt/spack/intel-oneapi-compilers/2023.2.1/compiler/2023.2.1/linux/lib/x64:/glade/u/apps/common/23.08/spack/opt/spack/intel-oneapi-compilers/2023.2.1/compiler/2023.2.1/linux/lib/oclfpga/host/linux64/lib:/glade/u/apps/common/23.08/spack/opt/spack/intel-oneapi-compilers/2023.2.1/compiler/2023.2.1/linux/compiler/lib/intel64_lin:/glade/u/apps/casper/23.10/spack/opt/spack/hdf5/1.12.2/oneapi/2023.2.1/6vf2/lib\n",
      "2024-02-21 09:14:41.045355: W tensorflow/stream_executor/platform/default/dso_loader.cc:64] Could not load dynamic library 'libnvinfer_plugin.so.7'; dlerror: libnvinfer_plugin.so.7: cannot open shared object file: No such file or directory; LD_LIBRARY_PATH: /glade/u/apps/casper/23.10/spack/opt/spack/openmpi/4.1.6/oneapi/2023.2.1/dgcv/lib:/glade/u/apps/common/23.08/spack/opt/spack/cuda/12.2.1/lib64:/glade/u/apps/common/23.08/spack/opt/spack/cuda/12.2.1/nvvm/lib64:/glade/u/apps/common/23.08/spack/opt/spack/cuda/12.2.1/extras/CUPTI/lib64:/glade/u/apps/common/23.08/spack/opt/spack/cuda/12.2.1/extras/Debugger/lib64:/glade/u/apps/common/23.08/spack/opt/spack/intel-oneapi-compilers/2023.2.1/compiler/2023.2.1/linux/lib:/glade/u/apps/common/23.08/spack/opt/spack/intel-oneapi-compilers/2023.2.1/compiler/2023.2.1/linux/lib/x64:/glade/u/apps/common/23.08/spack/opt/spack/intel-oneapi-compilers/2023.2.1/compiler/2023.2.1/linux/lib/oclfpga/host/linux64/lib:/glade/u/apps/common/23.08/spack/opt/spack/intel-oneapi-compilers/2023.2.1/compiler/2023.2.1/linux/compiler/lib/intel64_lin:/glade/u/apps/casper/23.10/spack/opt/spack/hdf5/1.12.2/oneapi/2023.2.1/6vf2/lib\n",
      "2024-02-21 09:14:41.045365: W tensorflow/compiler/tf2tensorrt/utils/py_utils.cc:38] TF-TRT Warning: Cannot dlopen some TensorRT libraries. If you would like to use Nvidia GPU with TensorRT, please make sure the missing libraries mentioned above are installed properly.\n"
     ]
    }
   ],
   "source": [
    "import numpy as np\n",
    "import pandas as pd\n",
    "import xarray as xr\n",
    "import tensorflow as tf\n",
    "import sys"
   ]
  },
  {
   "cell_type": "code",
   "execution_count": 2,
   "id": "67aa2500-2f8b-4608-874f-d52ec479b17e",
   "metadata": {},
   "outputs": [],
   "source": [
    "### import some analysis functions we wrote for this project\n",
    "#import sys ; sys.path.append(\"../\") ; sys.path.append(\"../../\") \n",
    "#from ppe_analysis.analysis import *\n",
    "from pyfunctions import *"
   ]
  },
  {
   "cell_type": "code",
   "execution_count": 3,
   "id": "1feb41f7-92d4-40ba-8881-64b348bed59c",
   "metadata": {},
   "outputs": [],
   "source": [
    "#############################################\n",
    "# Setup\n",
    "whit=xr.open_dataset('./whit/whitkey.nc')\n",
    "biome_names = whit.biome_name.values\n",
    "pfts=xr.open_dataset('/glade/campaign/asp/djk2120/PPEn11/paramfiles/OAAT0000.nc').pftname\n",
    "pft_names=[str(p)[2:-1].strip() for p in pfts.values]\n",
    "\n",
    "nbiomes = 10\n",
    "npfts = 17\n",
    "pft_ids = [1,2,3,4,5,6,7,8,10,11,12,13,14,15]\n",
    "biome_ids = [1,3,5,6,7,8]\n",
    "pb_index = np.load('pb_index.npy',allow_pickle='TRUE').item()\n",
    "SP_LAI_max = xr.open_dataset(\"CLM-SP_LAI_pxb_amax_2003-2007.nc\")\n",
    "SP_LAI_mean = xr.open_dataset(\"CLM-SP_LAI_pxb_amean_2003-2007.nc\")\n",
    "LAI_var = pd.read_csv(\"LAI_amax_bmean_variance.csv\",sep=',')"
   ]
  },
  {
   "cell_type": "code",
   "execution_count": 4,
   "id": "e54eef25-9c7f-4bdb-9429-1f88d927e7d1",
   "metadata": {},
   "outputs": [],
   "source": [
    "# load LHC PPE parameter sets \n",
    "lhckey = '/glade/campaign/asp/djk2120/PPEn11/csvs/lhc220926.txt'\n",
    "df = pd.read_csv(lhckey)\n",
    "lhc_params = df.drop(columns='member')\n",
    "num_params = len(lhc_params.columns)\n",
    "\n",
    "pft_params   = ['froot_leaf','kmax','krmax','leaf_long','leafcn','lmr_intercept_atkin','medlynslope','medlynintercept','psi50','slatop','stem_leaf','theta_cj']\n",
    "pftix=np.array([p in pft_params for p in lhc_params])"
   ]
  },
  {
   "cell_type": "code",
   "execution_count": 6,
   "id": "af6de4dd-eedd-4696-8df2-73789f498a49",
   "metadata": {},
   "outputs": [],
   "source": [
    "#############################################\n",
    "# build sample\n",
    "\n",
    "n_usamp = 100\n",
    "u_sample = np.random.rand(n_usamp,20)\n",
    "\n",
    "n_psamp = 1000\n",
    "p_sample = np.random.rand(n_psamp,12)\n",
    "\n",
    "sample=np.zeros([n_usamp*n_psamp,num_params])\n",
    "sample[:,~pftix]= np.repeat(u_sample,n_psamp,axis=0)\n",
    "sample[:,pftix]= np.tile(p_sample,(n_usamp,1))\n",
    "\n",
    "#np.savetxt(\"./example/tmp_sample.txt\", sample, delimiter=',')"
   ]
  },
  {
   "cell_type": "code",
   "execution_count": 7,
   "id": "ee8bcd27-b1eb-434e-9fd0-c4eb53013566",
   "metadata": {
    "collapsed": true,
    "jupyter": {
     "outputs_hidden": true
    }
   },
   "outputs": [
    {
     "name": "stderr",
     "output_type": "stream",
     "text": [
      "2024-02-20 21:50:40.351927: E tensorflow/stream_executor/cuda/cuda_driver.cc:265] failed call to cuInit: CUDA_ERROR_NO_DEVICE: no CUDA-capable device is detected\n",
      "2024-02-20 21:50:40.351987: I tensorflow/stream_executor/cuda/cuda_diagnostics.cc:156] kernel driver does not appear to be running on this host (crhtc53): /proc/driver/nvidia/version does not exist\n",
      "2024-02-20 21:50:40.352532: I tensorflow/core/platform/cpu_feature_guard.cc:193] This TensorFlow binary is optimized with oneAPI Deep Neural Network Library (oneDNN) to use the following CPU instructions in performance-critical operations:  AVX2 AVX512F AVX512_VNNI FMA\n",
      "To enable them in other operations, rebuild TensorFlow with the appropriate compiler flags.\n"
     ]
    },
    {
     "name": "stdout",
     "output_type": "stream",
     "text": [
      "CPU times: user 4min 21s, sys: 31.4 s, total: 4min 52s\n",
      "Wall time: 5min 27s\n"
     ]
    }
   ],
   "source": [
    "%%time\n",
    "\n",
    "#############################################\n",
    "# Calculate implausibility\n",
    "\n",
    "uset_I = np.empty((n_usamp,npfts))*np.NaN\n",
    "set_I = np.empty((n_usamp*n_psamp,npfts,nbiomes))*np.NaN\n",
    "\n",
    "pred = np.empty((n_usamp*n_psamp,npfts,nbiomes))*np.NaN\n",
    "pred_var = np.empty((n_usamp*n_psamp,npfts,nbiomes))*np.NaN\n",
    "\n",
    "for p in pft_ids:\n",
    "    I_tmp = np.empty((n_usamp,n_psamp,nbiomes))*np.NaN\n",
    "    \n",
    "    for b in pb_index[pft_names[p]]:  \n",
    "\n",
    "        loaded_emulator = tf.saved_model.load('/glade/u/home/linnia/clm5ppe/pyth/wave1/models_lai/pft'+str(p)+'_biome'+str(b))\n",
    "        y, y_var = loaded_emulator.predict(sample)\n",
    "        \n",
    "        pred[:,p,b] = y.numpy().flatten()\n",
    "        pred_var[:,p,b] = y_var.numpy().flatten()\n",
    "\n",
    "        pxb = p*10+b\n",
    "        if (p < 12): # not grass\n",
    "            o = SP_LAI_max.TLAI.sel(pxb=pxb).values[0]\n",
    "        else: # grass\n",
    "            o = SP_LAI_mean.TLAI.sel(pxb=pxb).values[0]\n",
    "        ovar = LAI_var.TLAI[b]\n",
    "\n",
    "        I = np.abs(o-y) / np.sqrt(ovar + y_var)\n",
    "        set_I[:,p,b] = I[:,0]\n",
    "        I_tmp[:,:,b] = I.reshape((n_usamp,n_psamp))\n",
    "        \n",
    "    ix = I_tmp.copy()\n",
    "    ix[ix<3] = 1\n",
    "    ix[ix>=3] = 0\n",
    "    x = np.nanmean(ix,axis=2)\n",
    "    uset_I[:,p] = np.any(x==1,axis=1)\n",
    "\n",
    "uset_I[:,9] = np.NaN # ignore this PFT\n",
    "\n",
    "#np.save(\"/glade/work/linnia/CLM-PPE-LAI_tests/exp5_PXB/predicted/PxB_LAI_I_sample\"+str(idx)+\".npy\", set_I)\n",
    "#np.save(\"/glade/work/linnia/CLM-PPE-LAI_tests/exp5_PXB/predicted/PxB_LAI_pred_sample\"+str(idx)+\".npy\", pred)\n",
    "#np.save(\"/glade/work/linnia/CLM-PPE-LAI_tests/exp5_PXB/predicted/PxB_LAI_predvar_sample\"+str(idx)+\".npy\", pred_var)\n"
   ]
  },
  {
   "cell_type": "code",
   "execution_count": 8,
   "id": "c3960cb2-4396-4b8b-b783-a1594b183e0c",
   "metadata": {},
   "outputs": [],
   "source": [
    "#####################################################\n",
    "# identify universal sets that have PFT sets in NROY for all PFTs\n",
    "ix_usets = np.where(np.nanmean(uset_I,axis=1)==1)[0]"
   ]
  },
  {
   "cell_type": "code",
   "execution_count": 62,
   "id": "b9bfb499-e17e-4ac8-9a7e-32dce838085f",
   "metadata": {},
   "outputs": [],
   "source": [
    "bool_usets = (np.nanmean(uset_I,axis=1)==1) "
   ]
  },
  {
   "cell_type": "code",
   "execution_count": 63,
   "id": "2f8dc07b-69b9-404c-a617-978e04cbefc2",
   "metadata": {},
   "outputs": [],
   "source": [
    "#####################################################\n",
    "# select one PFT set per Universal set (for each PFT)\n",
    "sample_NROY = np.empty((len(ix_usets),num_params,npfts))*np.NaN\n",
    "for pft in pft_ids:\n",
    "    bool_pft_biome = np.empty((len(ix_usets),nbiomes,n_psamp))*np.NaN # index of NROY sets for each PFT each Biome\n",
    "    for b in pb_index[pft_names[pft]]:\n",
    "        v = np.reshape(set_I[:,pft,b],(n_usamp,n_psamp))\n",
    "        bool_pft_biome[:,b,:] = v[ix_usets,:]<3\n",
    "    \n",
    "    ix_set = []\n",
    "    for u in range(len(ix_usets)):        \n",
    "        ix_all_psets = np.where(np.nanmean(bool_pft_biome,axis=1)[u,:]==1)[0]\n",
    "        ix_pset = np.random.choice(ix_all_psets, size= 1,replace=False)[0]\n",
    "        \n",
    "        ix_set.append(ix_usets[u]*n_psamp + ix_pset)\n",
    "        \n",
    "    sample_NROY[:,:,pft] = sample[ix_set,:]\n",
    "    \n",
    "#######################################################    \n",
    "# Save plausible sets    \n",
    "#np.save(\"/glade/work/linnia/CLM-PPE-LAI_tests/wave1/selected/PxB_NROYsets_sample\"+str(idx)+\".npy\", sample_NROY)\n"
   ]
  },
  {
   "cell_type": "code",
   "execution_count": 70,
   "id": "767d7ad7-1894-4768-8f30-ae3851d124f6",
   "metadata": {},
   "outputs": [
    {
     "data": {
      "text/plain": [
       "array([nan, nan, nan, nan, nan, nan, nan, nan, nan, nan, nan, nan, nan,\n",
       "       nan, nan, nan, nan, nan, nan, nan, nan, nan, nan, nan, nan, nan,\n",
       "       nan, nan, nan, nan, nan, nan])"
      ]
     },
     "execution_count": 70,
     "metadata": {},
     "output_type": "execute_result"
    }
   ],
   "source": [
    "sample_NROY[0,:,9]"
   ]
  },
  {
   "cell_type": "code",
   "execution_count": null,
   "id": "e8f30b74-2ce4-4462-817f-491d58128f85",
   "metadata": {},
   "outputs": [],
   "source": [
    "## Check\n",
    "# Emulator prediction of selected sample:\n",
    "best_samples = sample_NROY\n",
    "best_pred = np.empty([np.shape(best_samples)[0],npfts,nbiomes])*np.NaN\n",
    "best_pred_var = np.empty([np.shape(best_samples)[0],npfts,nbiomes])*np.NaN\n",
    "\n",
    "for p in [1,2,3,4,5,6,7,8,10,11,12,13,14,15]:\n",
    "    sample = sample_all[:,:,p]\n",
    "    for b in pb_index[pft_names[p]]:  \n",
    "\n",
    "        loaded_emulator = tf.saved_model.load('/glade/u/home/linnia/clm5ppe/pyth/wave/models_lai/pft'+str(p)+'_biome'+str(b))\n",
    "        y, y_var = loaded_emulator.predict(best_samples[:,:,p])\n",
    "        \n",
    "        best_pred[:,p,b] = y.numpy().flatten()\n",
    "        best_pred_var[:,p,b] = y_var.numpy().flatten()"
   ]
  },
  {
   "cell_type": "markdown",
   "id": "eba5e455-57d6-4007-b997-dc333539b880",
   "metadata": {},
   "source": [
    "#### GPP"
   ]
  },
  {
   "cell_type": "code",
   "execution_count": 5,
   "id": "c2925766-9d4c-4a32-aec8-1d2d3a1c864d",
   "metadata": {},
   "outputs": [],
   "source": [
    "GPP = pd.read_csv(\"FLUXCOM-GSWP3_GPP_amean_bmean_2001-2010.csv\")\n",
    "GPP_var = pd.read_csv(\"FLUXCOM_GPP_amean_bmean_variance.csv\")\n",
    "bp_index = np.load('bp_index.npy', allow_pickle=True).item()"
   ]
  },
  {
   "cell_type": "code",
   "execution_count": 6,
   "id": "414adf2e-fced-4fc8-96de-e52139eca2d4",
   "metadata": {},
   "outputs": [],
   "source": [
    "# function to calculate total Biome GPP from PFT contributions\n",
    "f='/glade/work/djk2120/ppe_savs/pbmean/sg_lapxb.nc'\n",
    "lapxb=xr.open_dataset(f).lapxb\n",
    "ix=(lapxb.pxb>9)&(lapxb.mean(dim='year').sum(dim='pft')>0)\n",
    "pxb_la = lapxb.isel(pxb=ix).sum(dim='pft')\n",
    "pb_la = pxb_la.sel(year=slice(2001,2010)).mean(dim='year').compute()\n",
    "\n",
    "whit = xr.open_dataset('../whit/whitkey.nc')\n",
    "la = get_la()\n",
    "biome_la = la.groupby(whit.biome).sum()"
   ]
  },
  {
   "cell_type": "code",
   "execution_count": 12,
   "id": "5d778942-c077-45e6-b9c0-1fa982fd4b86",
   "metadata": {},
   "outputs": [],
   "source": [
    "sample = np.loadtxt(\"/glade/work/linnia/CLM-PPE-LAI_tests/wave1.1/samples/PxB_sample_001.txt\", delimiter=',')"
   ]
  },
  {
   "cell_type": "code",
   "execution_count": 13,
   "id": "0a8e5583-4598-43bf-a149-dce6a59932f6",
   "metadata": {},
   "outputs": [],
   "source": [
    "#############################################\n",
    "# Calculate implausibility GPP\n",
    "\n",
    "uset_I = np.empty((n_usamp,nbiomes))*np.NaN\n",
    "set_I = np.empty((n_usamp*n_psamp,nbiomes))*np.NaN\n",
    "\n",
    "pred = np.empty((n_usamp*n_psamp,npfts,nbiomes))*np.NaN\n",
    "pred_var = np.empty((n_usamp*n_psamp,npfts,nbiomes))*np.NaN\n",
    "\n",
    "data = GPP\n",
    "\n",
    "for b in biome_ids:\n",
    "    o = GPP.GPP[b]\n",
    "    ovar = GPP_var.GPP[b]\n",
    "\n",
    "    I_tmp = np.empty((n_usamp,n_psamp,nbiomes))*np.NaN\n",
    "    \n",
    "    for i,p in enumerate(bp_index[biome_names[b]]):  \n",
    "        pxb = p*10+b\n",
    "        la_p = pb_la.sel(pxb=pxb).values\n",
    "        \n",
    "        loaded_emulator = tf.saved_model.load('/glade/u/home/linnia/clm5ppe/pyth/wave1/models_gpp/pft'+str(p)+'_biome'+str(b))\n",
    "        y, y_var = loaded_emulator.predict(sample)\n",
    "        \n",
    "        pred[:,p,b] = y.numpy().flatten()\n",
    "        pred_var[:,p,b] = y_var.numpy().flatten()\n",
    "\n",
    "        if (i ==0):\n",
    "            y_pred_all = la_p*y.numpy().flatten()\n",
    "            y_pred_var_all = la_p*y_var.numpy().flatten()\n",
    "\n",
    "        else:\n",
    "            y_pred_all = np.column_stack((y_pred_all,la_p*y.numpy().flatten()))\n",
    "            y_pred_var_all = np.column_stack((y_pred_var_all,la_p*y_var.numpy().flatten()))\n",
    "\n",
    "    y_pred_biome = np.sum(y_pred_all,axis=1)*(1/biome_la[b].values)\n",
    "    y_pred_var_biome = np.sum(y_pred_var_all,axis=1)*(1/biome_la[b].values)\n",
    "        \n",
    "    I = np.abs(o-y_pred_biome) / np.sqrt(ovar + y_pred_var_biome)\n",
    "    set_I[:,b] = I\n",
    "    I_tmp[:,:,b] = I.reshape((n_usamp,n_psamp))\n",
    "        \n",
    "    ix = I_tmp.copy()\n",
    "    ix[ix<3] = 1\n",
    "    ix[ix>=3] = 0\n",
    "    x = np.nanmean(ix,axis=2)\n",
    "    uset_I[:,b] = np.any(x==1,axis=1)\n",
    "\n",
    "#np.save(\"/glade/work/linnia/CLM-PPE-LAI_tests/wave1/predicted/PxB_GPP_I_sample\"+str(idx)+\".npy\", set_I)\n",
    "#np.save(\"/glade/work/linnia/CLM-PPE-LAI_tests/wave1/predicted/PxB_GPP_pred_sample\"+str(idx)+\".npy\", pred)\n",
    "#np.save(\"/glade/work/linnia/CLM-PPE-LAI_tests/wave1/predicted/PxB_GPP_predvar_sample\"+str(idx)+\".npy\", pred_var)\n"
   ]
  },
  {
   "cell_type": "code",
   "execution_count": 14,
   "id": "20b706cf-dd00-4f24-8efb-ebd046ba670f",
   "metadata": {},
   "outputs": [],
   "source": [
    "#####################################################\n",
    "# identify universal sets that have PFT sets in NROY for all Biomes\n",
    "ix_usets = np.where(np.nanmean(uset_I,axis=1)==1)[0]"
   ]
  },
  {
   "cell_type": "code",
   "execution_count": 15,
   "id": "7e4d3dd5-cad8-4d1c-989f-f0cecb0459fb",
   "metadata": {},
   "outputs": [
    {
     "data": {
      "text/plain": [
       "(100,)"
      ]
     },
     "execution_count": 15,
     "metadata": {},
     "output_type": "execute_result"
    }
   ],
   "source": [
    "np.shape(ix_usets)"
   ]
  },
  {
   "cell_type": "code",
   "execution_count": null,
   "id": "404f3dbb-a837-4b06-89cb-79dd2e9ac79c",
   "metadata": {},
   "outputs": [],
   "source": []
  }
 ],
 "metadata": {
  "kernelspec": {
   "display_name": "Python [conda env:miniconda3-mlenv]",
   "language": "python",
   "name": "conda-env-miniconda3-mlenv-py"
  },
  "language_info": {
   "codemirror_mode": {
    "name": "ipython",
    "version": 3
   },
   "file_extension": ".py",
   "mimetype": "text/x-python",
   "name": "python",
   "nbconvert_exporter": "python",
   "pygments_lexer": "ipython3",
   "version": "3.9.15"
  }
 },
 "nbformat": 4,
 "nbformat_minor": 5
}
