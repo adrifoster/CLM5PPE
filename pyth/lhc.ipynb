{
 "cells": [
  {
   "cell_type": "code",
   "execution_count": 1,
   "id": "ec978fdf",
   "metadata": {},
   "outputs": [],
   "source": [
    "import numpy as np\n",
    "import pandas as pd\n",
    "import xarray as xr\n",
    "import glob\n",
    "import matplotlib\n",
    "import matplotlib.pyplot as plt\n",
    "import cftime\n",
    "import dask\n",
    "import statsmodels.api as sm\n",
    "import os"
   ]
  },
  {
   "cell_type": "markdown",
   "id": "60e7bb29",
   "metadata": {},
   "source": [
    "### Start up PBS cluster\n",
    " - may need to adjust project and/or walltime"
   ]
  },
  {
   "cell_type": "code",
   "execution_count": 2,
   "id": "a078a6da",
   "metadata": {},
   "outputs": [],
   "source": [
    "# Setup your PBSCluster\n",
    "import dask\n",
    "from dask_jobqueue import PBSCluster\n",
    "from dask.distributed import Client\n",
    "ncores=1\n",
    "nmem='25GB'\n",
    "cluster = PBSCluster(\n",
    "    cores=ncores, # The number of cores you want\n",
    "    memory=nmem, # Amount of memory\n",
    "    processes=1, # How many processes\n",
    "    queue='casper', # The type of queue to utilize (/glade/u/apps/dav/opt/usr/bin/execcasper)\n",
    "    local_directory='$TMPDIR', # Use your local directory\n",
    "    resource_spec='select=1:ncpus='+str(ncores)+':mem='+nmem, # Specify resources\n",
    "    project='P93300641', # Input your project ID here\n",
    "    walltime='02:00:00', # Amount of wall time\n",
    "    interface='ib0', # Interface to use\n",
    ")\n",
    "\n",
    "# Scale up\n",
    "cluster.scale(30)\n",
    "\n",
    "# Setup your client\n",
    "client = Client(cluster)"
   ]
  },
  {
   "cell_type": "code",
   "execution_count": 3,
   "id": "639c39c9",
   "metadata": {},
   "outputs": [
    {
     "data": {
      "application/vnd.jupyter.widget-view+json": {
       "model_id": "f2e2321f4fcb47d780a691c793c4b33f",
       "version_major": 2,
       "version_minor": 0
      },
      "text/plain": [
       "Tab(children=(HTML(value='<div class=\"jp-RenderedHTMLCommon jp-RenderedHTML jp-mod-trusted jp-OutputArea-outpu…"
      ]
     },
     "metadata": {},
     "output_type": "display_data"
    }
   ],
   "source": [
    "client.cluster"
   ]
  },
  {
   "cell_type": "markdown",
   "id": "a9acbab1",
   "metadata": {},
   "source": [
    "### Some custom functions"
   ]
  },
  {
   "cell_type": "code",
   "execution_count": 4,
   "id": "28a8e223",
   "metadata": {},
   "outputs": [],
   "source": [
    "def month_wts(nyears):\n",
    "    '''\n",
    "    returns an xr.DataArray of days per month, tiled for nyears\n",
    "    '''\n",
    "    days_pm  = [31,28,31,30,31,30,31,31,30,31,30,31]\n",
    "    return xr.DataArray(np.tile(days_pm,nyears),dims='time')"
   ]
  },
  {
   "cell_type": "code",
   "execution_count": 31,
   "id": "bc95e41e",
   "metadata": {},
   "outputs": [],
   "source": [
    "def get_files(htape,yr0=1850,yr1=2014):\n",
    "    keys=[]\n",
    "    files=[]\n",
    "    for i in range(501):\n",
    "        k='LHC'+str(i).zfill(4)\n",
    "        d='/glade/scratch/djk2120/PPEn11_transient_'+k+'/run/'\n",
    "        f=sorted(glob.glob(d+'*.h0.*'))\n",
    "        if len(f)==33:\n",
    "            files.append(f)\n",
    "            keys.append(k)\n",
    "    return files,keys"
   ]
  },
  {
   "cell_type": "code",
   "execution_count": 129,
   "id": "d4dc97c8",
   "metadata": {},
   "outputs": [],
   "source": [
    "def get_files(htape,yr0=1850,yr1=2014):\n",
    "    d='/glade/campaign/asp/djk2120/PPEn11/transient/hist/'\n",
    "\n",
    "    #find all files\n",
    "    fs   = np.array(sorted(glob.glob(d+'*'+htape+'*')))\n",
    "    yrs  = np.array([int(f.split(htape)[1][1:5]) for f in fs])\n",
    "    keys = np.array([f.split('.clm2')[0][-7:] for f in fs])\n",
    "\n",
    "    #bump back yr0, if needed\n",
    "    uyrs=np.unique(yrs)\n",
    "    dy=uyrs[1]-yrs[0]\n",
    "    yr0=dy*int(yr0/dy)\n",
    "    \n",
    "    #find index to subset files\n",
    "    ix   = (yrs>=yr0)&(yrs<=yr1)\n",
    "    yrs  = yrs[ix]\n",
    "    keys = keys[ix]\n",
    "\n",
    "    #subset and reshape files\n",
    "    ny=np.sum(keys=='LHC0000')\n",
    "    nens = int(len(keys)/ny)\n",
    "    files = fs[ix].reshape([nens,ny])\n",
    "\n",
    "    #convert to list of lists\n",
    "    files = [list(f) for f in files]\n",
    "    \n",
    "    return files,np.unique(keys)"
   ]
  },
  {
   "cell_type": "code",
   "execution_count": 118,
   "id": "84e683b4",
   "metadata": {},
   "outputs": [],
   "source": [
    "def add_params(ds,df):\n",
    "    mems=df['member'].values\n",
    "    ix1=0*mems==1\n",
    "    for key in keys:\n",
    "        ix1=(ix1)|(mems==key)\n",
    "\n",
    "    nens=len(ds.ens)    \n",
    "    ix2=0*np.arange(nens)==1\n",
    "    for mem in mems:\n",
    "        ix2=(ix2)|(ds.key==mem)\n",
    "\n",
    "\n",
    "    params=[]    \n",
    "    for p in df.keys():\n",
    "        if p!='member':\n",
    "            x=xr.DataArray(np.nan+np.zeros(nens),dims='ens')\n",
    "            x[ix2]=df[p][ix1]\n",
    "            ds[p]=x\n",
    "            params.append(p)\n",
    "    ds['params']=xr.DataArray(params,dims='param')"
   ]
  },
  {
   "cell_type": "code",
   "execution_count": 175,
   "id": "4f63efc4",
   "metadata": {},
   "outputs": [],
   "source": [
    "def get_ds(dvs,htape,yr0=1850,yr1=2014,dropdef=False):\n",
    "    \n",
    "    def preprocess(ds):\n",
    "        return ds[dvs]\n",
    "    \n",
    "    #read in the data\n",
    "    files,keys = get_files(htape,yr0,yr1)\n",
    "    if dropdef:\n",
    "        files = files[1:]\n",
    "        keys  = keys[1:]\n",
    "    \n",
    "    ds = xr.open_mfdataset(files,combine='nested',concat_dim=['ens','time'],\n",
    "                       parallel=True,preprocess=preprocess)\n",
    "    \n",
    "    #fix the time dimension, if needed\n",
    "    yr0=str(ds['time.year'].values[0])\n",
    "    if (htape=='h0')|(htape=='h1'):\n",
    "        ds['time']=xr.cftime_range(yr0,periods=len(ds.time),freq='MS')\n",
    "    \n",
    "    #add some param info, etc.\n",
    "    df=pd.read_csv('/glade/scratch/djk2120/PPEn11/lhc220701.txt')\n",
    "    ds['key']=xr.DataArray(keys,dims=['ens'])\n",
    "    add_params(ds,df)\n",
    "    \n",
    "    #add landarea info\n",
    "    la_file = '/glade/scratch/djk2120/PPEn08/sparsegrid_landarea.nc'\n",
    "    la = xr.open_dataset(la_file).landarea  #km2\n",
    "    ds['la'] = la\n",
    "    \n",
    "    return ds\n",
    "    "
   ]
  },
  {
   "cell_type": "code",
   "execution_count": 168,
   "id": "e11bacbd",
   "metadata": {},
   "outputs": [],
   "source": [
    "def gmean(da,la,cf=1):\n",
    "    #global mean\n",
    "    xg=cf/la.sum()*(la*da).sum(dim='gridcell').compute()\n",
    "    return xg\n"
   ]
  },
  {
   "cell_type": "code",
   "execution_count": 169,
   "id": "c87af10d",
   "metadata": {},
   "outputs": [],
   "source": [
    "def amean(da,cf=1):\n",
    "    #annual mean\n",
    "    ny = len(np.unique(da['time.year']))\n",
    "    m  = month_wts(ny)\n",
    "    \n",
    "    xa = cf/365/ny*(m*da).sum(dim='time').compute()\n",
    "    return xa"
   ]
  },
  {
   "cell_type": "markdown",
   "id": "45cbd4be",
   "metadata": {},
   "source": [
    "### Start here\n",
    " - load and examine the ensemble"
   ]
  },
  {
   "cell_type": "code",
   "execution_count": 182,
   "id": "649fe101",
   "metadata": {},
   "outputs": [
    {
     "name": "stdout",
     "output_type": "stream",
     "text": [
      "CPU times: user 6.59 s, sys: 199 ms, total: 6.79 s\n",
      "Wall time: 24.7 s\n"
     ]
    }
   ],
   "source": [
    "%%time\n",
    "dvs=['TLAI','GPP','SOILWATER_10CM','EFLX_LH_TOT']\n",
    "htape='h0'\n",
    "yr0=2005\n",
    "ds = get_ds(dvs,htape,yr0)"
   ]
  },
  {
   "cell_type": "code",
   "execution_count": 184,
   "id": "24775485",
   "metadata": {},
   "outputs": [
    {
     "name": "stdout",
     "output_type": "stream",
     "text": [
      "CPU times: user 3.95 s, sys: 120 ms, total: 4.07 s\n",
      "Wall time: 7.09 s\n"
     ]
    }
   ],
   "source": [
    "%%time\n",
    "# compute avg 2005-2014 GPP\n",
    "v = 'GPP'\n",
    "y = amean(gmean(ds[v],ds.la))"
   ]
  },
  {
   "cell_type": "code",
   "execution_count": 185,
   "id": "0a8fbb20",
   "metadata": {},
   "outputs": [
    {
     "data": {
      "image/png": "[encoded data removed]",
      "text/plain": [
       "<Figure size 432x288 with 1 Axes>"
      ]
     },
     "metadata": {
      "needs_background": "light"
     },
     "output_type": "display_data"
    }
   ],
   "source": [
    "#avg 2005-2014 GPP vs. leafcn\n",
    "p = 'leafcn'\n",
    "x = ds[p]\n",
    "\n",
    "plt.plot(x,y,'.')\n",
    "plt.xlabel(p)\n",
    "plt.ylabel(v);"
   ]
  },
  {
   "cell_type": "code",
   "execution_count": 186,
   "id": "a671f0a2",
   "metadata": {},
   "outputs": [
    {
     "data": {
      "image/png": "[encoded data removed]",
      "text/plain": [
       "<Figure size 432x288 with 1 Axes>"
      ]
     },
     "metadata": {
      "needs_background": "light"
     },
     "output_type": "display_data"
    }
   ],
   "source": [
    "#avg 2005-2014 GPP vs. leafcn\n",
    "p = 'kmax'\n",
    "x = ds[p]\n",
    "\n",
    "plt.plot(x,y,'.')\n",
    "plt.xlabel(p)\n",
    "plt.ylabel(v);"
   ]
  },
  {
   "cell_type": "code",
   "execution_count": null,
   "id": "db3555ed",
   "metadata": {},
   "outputs": [],
   "source": []
  },
  {
   "cell_type": "code",
   "execution_count": null,
   "id": "0d11f89e",
   "metadata": {},
   "outputs": [],
   "source": []
  }
 ],
 "metadata": {
  "kernelspec": {
   "display_name": "Python [conda env:miniconda3-ppe-py]",
   "language": "python",
   "name": "conda-env-miniconda3-ppe-py-py"
  },
  "language_info": {
   "codemirror_mode": {
    "name": "ipython",
    "version": 3
   },
   "file_extension": ".py",
   "mimetype": "text/x-python",
   "name": "python",
   "nbconvert_exporter": "python",
   "pygments_lexer": "ipython3",
   "version": "3.7.10"
  }
 },
 "nbformat": 4,
 "nbformat_minor": 5
}
