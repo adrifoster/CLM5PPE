{
 "cells": [
  {
   "cell_type": "code",
   "execution_count": 6,
   "id": "b26ca327-85af-48e0-ad52-d0763ae1769c",
   "metadata": {
    "collapsed": true,
    "jupyter": {
     "outputs_hidden": true
    },
    "tags": []
   },
   "outputs": [
    {
     "name": "stderr",
     "output_type": "stream",
     "text": [
      "2024-01-04 11:31:03.921257: I tensorflow/core/platform/cpu_feature_guard.cc:193] This TensorFlow binary is optimized with oneAPI Deep Neural Network Library (oneDNN) to use the following CPU instructions in performance-critical operations:  AVX2 AVX512F AVX512_VNNI FMA\n",
      "To enable them in other operations, rebuild TensorFlow with the appropriate compiler flags.\n",
      "2024-01-04 11:31:04.144675: I tensorflow/core/util/util.cc:169] oneDNN custom operations are on. You may see slightly different numerical results due to floating-point round-off errors from different computation orders. To turn them off, set the environment variable `TF_ENABLE_ONEDNN_OPTS=0`.\n",
      "2024-01-04 11:31:04.151342: W tensorflow/stream_executor/platform/default/dso_loader.cc:64] Could not load dynamic library 'libcudart.so.11.0'; dlerror: libcudart.so.11.0: cannot open shared object file: No such file or directory; LD_LIBRARY_PATH: /glade/u/apps/casper/23.10/spack/opt/spack/openmpi/4.1.6/oneapi/2023.2.1/dgcv/lib:/glade/u/apps/common/23.08/spack/opt/spack/cuda/12.2.1/lib64:/glade/u/apps/common/23.08/spack/opt/spack/cuda/12.2.1/nvvm/lib64:/glade/u/apps/common/23.08/spack/opt/spack/cuda/12.2.1/extras/CUPTI/lib64:/glade/u/apps/common/23.08/spack/opt/spack/cuda/12.2.1/extras/Debugger/lib64:/glade/u/apps/common/23.08/spack/opt/spack/intel-oneapi-compilers/2023.2.1/compiler/2023.2.1/linux/lib:/glade/u/apps/common/23.08/spack/opt/spack/intel-oneapi-compilers/2023.2.1/compiler/2023.2.1/linux/lib/x64:/glade/u/apps/common/23.08/spack/opt/spack/intel-oneapi-compilers/2023.2.1/compiler/2023.2.1/linux/lib/oclfpga/host/linux64/lib:/glade/u/apps/common/23.08/spack/opt/spack/intel-oneapi-compilers/2023.2.1/compiler/2023.2.1/linux/compiler/lib/intel64_lin:/glade/u/apps/casper/23.10/spack/opt/spack/hdf5/1.12.2/oneapi/2023.2.1/6vf2/lib\n",
      "2024-01-04 11:31:04.151371: I tensorflow/stream_executor/cuda/cudart_stub.cc:29] Ignore above cudart dlerror if you do not have a GPU set up on your machine.\n",
      "2024-01-04 11:31:04.177833: E tensorflow/stream_executor/cuda/cuda_blas.cc:2981] Unable to register cuBLAS factory: Attempting to register factory for plugin cuBLAS when one has already been registered\n",
      "2024-01-04 11:31:05.473659: W tensorflow/stream_executor/platform/default/dso_loader.cc:64] Could not load dynamic library 'libnvinfer.so.7'; dlerror: libnvinfer.so.7: cannot open shared object file: No such file or directory; LD_LIBRARY_PATH: /glade/u/apps/casper/23.10/spack/opt/spack/openmpi/4.1.6/oneapi/2023.2.1/dgcv/lib:/glade/u/apps/common/23.08/spack/opt/spack/cuda/12.2.1/lib64:/glade/u/apps/common/23.08/spack/opt/spack/cuda/12.2.1/nvvm/lib64:/glade/u/apps/common/23.08/spack/opt/spack/cuda/12.2.1/extras/CUPTI/lib64:/glade/u/apps/common/23.08/spack/opt/spack/cuda/12.2.1/extras/Debugger/lib64:/glade/u/apps/common/23.08/spack/opt/spack/intel-oneapi-compilers/2023.2.1/compiler/2023.2.1/linux/lib:/glade/u/apps/common/23.08/spack/opt/spack/intel-oneapi-compilers/2023.2.1/compiler/2023.2.1/linux/lib/x64:/glade/u/apps/common/23.08/spack/opt/spack/intel-oneapi-compilers/2023.2.1/compiler/2023.2.1/linux/lib/oclfpga/host/linux64/lib:/glade/u/apps/common/23.08/spack/opt/spack/intel-oneapi-compilers/2023.2.1/compiler/2023.2.1/linux/compiler/lib/intel64_lin:/glade/u/apps/casper/23.10/spack/opt/spack/hdf5/1.12.2/oneapi/2023.2.1/6vf2/lib\n",
      "2024-01-04 11:31:05.473814: W tensorflow/stream_executor/platform/default/dso_loader.cc:64] Could not load dynamic library 'libnvinfer_plugin.so.7'; dlerror: libnvinfer_plugin.so.7: cannot open shared object file: No such file or directory; LD_LIBRARY_PATH: /glade/u/apps/casper/23.10/spack/opt/spack/openmpi/4.1.6/oneapi/2023.2.1/dgcv/lib:/glade/u/apps/common/23.08/spack/opt/spack/cuda/12.2.1/lib64:/glade/u/apps/common/23.08/spack/opt/spack/cuda/12.2.1/nvvm/lib64:/glade/u/apps/common/23.08/spack/opt/spack/cuda/12.2.1/extras/CUPTI/lib64:/glade/u/apps/common/23.08/spack/opt/spack/cuda/12.2.1/extras/Debugger/lib64:/glade/u/apps/common/23.08/spack/opt/spack/intel-oneapi-compilers/2023.2.1/compiler/2023.2.1/linux/lib:/glade/u/apps/common/23.08/spack/opt/spack/intel-oneapi-compilers/2023.2.1/compiler/2023.2.1/linux/lib/x64:/glade/u/apps/common/23.08/spack/opt/spack/intel-oneapi-compilers/2023.2.1/compiler/2023.2.1/linux/lib/oclfpga/host/linux64/lib:/glade/u/apps/common/23.08/spack/opt/spack/intel-oneapi-compilers/2023.2.1/compiler/2023.2.1/linux/compiler/lib/intel64_lin:/glade/u/apps/casper/23.10/spack/opt/spack/hdf5/1.12.2/oneapi/2023.2.1/6vf2/lib\n",
      "2024-01-04 11:31:05.473822: W tensorflow/compiler/tf2tensorrt/utils/py_utils.cc:38] TF-TRT Warning: Cannot dlopen some TensorRT libraries. If you would like to use Nvidia GPU with TensorRT, please make sure the missing libraries mentioned above are installed properly.\n"
     ]
    }
   ],
   "source": [
    "import numpy as np\n",
    "import pandas as pd\n",
    "import tensorflow as tf"
   ]
  },
  {
   "cell_type": "code",
   "execution_count": null,
   "id": "c8d18623-5fa7-4f5a-8e6f-d4aea2ad304e",
   "metadata": {},
   "outputs": [],
   "source": [
    "# input to script\n",
    "idx = 0"
   ]
  },
  {
   "cell_type": "code",
   "execution_count": 68,
   "id": "07dc4c91-9904-482b-9ae4-d2d19b4b36e4",
   "metadata": {},
   "outputs": [],
   "source": [
    "nbiomes = 10\n",
    "npfts = 16\n",
    "pft_ids = [1,2,3,4,5,6,7,8,10,11,12,13,14,15]\n",
    "pb_index = np.load('pb_index.npy',allow_pickle='TRUE').item()\n",
    "SP_LAI = np.loadtxt(\"CLM-SP_LAI_pbmean.txt\", delimiter=',')\n",
    "obs_var = np.loadtxt(\"LAImax_biome_var.txt\", delimiter=',')"
   ]
  },
  {
   "cell_type": "code",
   "execution_count": 3,
   "id": "c0ecaf34-8bd1-4af2-b784-d072b7c23a95",
   "metadata": {},
   "outputs": [],
   "source": [
    "# load LHC PPE parameter sets \n",
    "lhckey = '/glade/campaign/asp/djk2120/PPEn11/csvs/lhc220926.txt'\n",
    "df = pd.read_csv(lhckey)\n",
    "lhc_params = df.drop(columns='member')\n",
    "num_params = len(lhc_params.columns)\n",
    "\n",
    "pft_params   = ['froot_leaf','kmax','krmax','leaf_long','leafcn','lmr_intercept_atkin',\n",
    "                'medlynslope','medlynintercept','psi50','slatop','stem_leaf','theta_cj']\n",
    "pftix=np.array([p in pft_params for p in lhc_params])"
   ]
  },
  {
   "cell_type": "code",
   "execution_count": 80,
   "id": "802314b4-b7bc-4d60-ba81-c6977f77a9fb",
   "metadata": {},
   "outputs": [],
   "source": [
    "# build sample\n",
    "n_usamp = 100\n",
    "u_sample = np.random.rand(n_usamp,20)\n",
    "\n",
    "n_psamp = 1000\n",
    "p_sample = np.random.rand(n_psamp,12)\n",
    "\n",
    "sample=np.zeros([n_usamp*n_psamp,num_params])\n",
    "sample[:,~pftix]= np.repeat(u_sample,n_psamp,axis=0)\n",
    "sample[:,pftix]= np.tile(p_sample,(n_usamp,1))\n",
    "\n",
    "np.savetxt(\"/glade/work/linnia/CLM-PPE-LAI_tests/exp5_PXB/samples/PxB_sample_\"+str(idx)+\".txt\", sample, delimiter=',')"
   ]
  },
  {
   "cell_type": "code",
   "execution_count": 81,
   "id": "c5e2a89f-9c41-4bf4-86b1-25323882f369",
   "metadata": {},
   "outputs": [
    {
     "name": "stderr",
     "output_type": "stream",
     "text": [
      "<timed exec>:28: RuntimeWarning: Mean of empty slice\n"
     ]
    },
    {
     "name": "stdout",
     "output_type": "stream",
     "text": [
      "CPU times: user 4min 21s, sys: 5.01 s, total: 4min 26s\n",
      "Wall time: 4min 46s\n"
     ]
    }
   ],
   "source": [
    "%%time\n",
    "uset_I = np.empty((n_usamp,npfts))*np.NaN\n",
    "set_I = np.empty((n_usamp*n_psamp,npfts,nbiomes))*np.NaN\n",
    "\n",
    "pred = np.empty((n_usamp*n_psamp,npfts,nbiomes))*np.NaN\n",
    "pred_var = np.empty((n_usamp*n_psamp,npfts,nbiomes))*np.NaN\n",
    "\n",
    "for p in range(1,npfts):\n",
    "    I_tmp = np.empty((n_usamp,n_psamp,nbiomes))*np.NaN\n",
    "    for b in pb_index[p]:  \n",
    "\n",
    "        loaded_emulator = tf.saved_model.load('/glade/u/home/linnia/clm5ppe/pyth/exp5_pxb/models/pft'+str(p)+'_biome'+str(b))\n",
    "        y, y_var = loaded_emulator.predict(sample)\n",
    "        \n",
    "        pred[:,p,b] = y.numpy().flatten()\n",
    "        pred_var[:,p,b] = y_var.numpy().flatten()\n",
    "        \n",
    "        o = SP_LAI[p,b]\n",
    "        ovar = obs_var[b]\n",
    "\n",
    "        I = np.abs(o-y) / np.sqrt(ovar + y_var)\n",
    "        set_I[:,p,b] = I[:,0]\n",
    "        I_tmp[:,:,b] = I.reshape((n_usamp,n_psamp))\n",
    "        \n",
    "        \n",
    "    ix = I_tmp.copy()\n",
    "    ix[ix<3] = 1\n",
    "    ix[ix>=3] = 0\n",
    "    x = np.nanmean(ix,axis=2)\n",
    "    uset_I[:,p] = np.any(x==1,axis=1)\n",
    "\n",
    "uset_I[:,9] = np.NaN # ignore this PFT"
   ]
  },
  {
   "cell_type": "code",
   "execution_count": 8,
   "id": "59dd0a45-8c36-4260-8d5e-a1b43617f974",
   "metadata": {},
   "outputs": [],
   "source": [
    "np.save(\"/glade/work/linnia/CLM-PPE-LAI_tests/exp5_PXB/predicted/PxB_I_sample\"+str(idx)+\".npy\", set_I)\n",
    "np.save(\"/glade/work/linnia/CLM-PPE-LAI_tests/exp5_PXB/predicted/PxB_pred_sample\"+str(idx)+\".npy\", pred)\n",
    "np.save(\"/glade/work/linnia/CLM-PPE-LAI_tests/exp5_PXB/predicted/PxB_pred_sample\"+str(idx)+\".npy\", pred_var)"
   ]
  },
  {
   "cell_type": "code",
   "execution_count": 82,
   "id": "90dc7726-5a3c-43f3-85d3-784c985c83db",
   "metadata": {},
   "outputs": [],
   "source": [
    "# identify universal sets that have PFT sets in NROY for all PFTs\n",
    "ix_usets = np.where(np.nanmean(uset_I,axis=1)==1)[0]"
   ]
  },
  {
   "cell_type": "code",
   "execution_count": 84,
   "id": "ef8d1ea7-6f3e-4901-82c1-0e4ebaba499f",
   "metadata": {
    "tags": []
   },
   "outputs": [],
   "source": [
    "# select one PFT set per Universal set (for each PFT)\n",
    "sample_NROY = np.empty((len(ix_usets),num_params,npfts))*np.NaN\n",
    "for pft in pft_ids:\n",
    "    bool_pft_biome = np.empty((len(ix_usets),nbiomes,n_psamp))*np.NaN # index of NROY sets for each PFT each Biome\n",
    "    for b in pb_index[pft]:\n",
    "        v = np.reshape(set_I[:,pft,b],(n_usamp,n_psamp))\n",
    "        bool_pft_biome[:,b,:] = v[ix_usets,:]<3\n",
    "    \n",
    "    ix_set = []\n",
    "    for u in range(len(ix_usets)):        \n",
    "        ix_all_psets = np.where(np.nanmean(bool_pft_biome,axis=1)[u,:]==1)[0]\n",
    "        ix_pset = np.random.choice(ix_all_psets, size= 1,replace=False)[0]\n",
    "        \n",
    "        ix_set.append(ix_usets[u]*n_psamp + ix_pset)\n",
    "        \n",
    "    sample_NROY[:,:,pft] = sample[ix_set,:]"
   ]
  },
  {
   "cell_type": "code",
   "execution_count": 70,
   "id": "8edeb91f-57ad-4548-a9d4-a8161fe332fa",
   "metadata": {},
   "outputs": [],
   "source": [
    "np.save(\"/glade/work/linnia/CLM-PPE-LAI_tests/exp5_PXB/selected/PxB_NROYsets_sample\"+str(idx)+\".npy\", sample_NROY)"
   ]
  },
  {
   "cell_type": "code",
   "execution_count": 85,
   "id": "c63fdf41-9f9c-45e6-8f87-497b25780822",
   "metadata": {},
   "outputs": [
    {
     "name": "stdout",
     "output_type": "stream",
     "text": [
      "1\n",
      "62\n",
      "62\n",
      "68\n",
      "67\n",
      "47\n",
      "66\n",
      "66\n",
      "68\n",
      "1\n",
      "65\n",
      "62\n",
      "64\n",
      "60\n",
      "67\n",
      "55\n"
     ]
    }
   ],
   "source": [
    "for p in range(16):\n",
    "    print(len(np.unique(sample_NROY[:,6,p])))"
   ]
  },
  {
   "cell_type": "code",
   "execution_count": null,
   "id": "fd07be25-5cc8-4140-84a3-18a0e1ec86e4",
   "metadata": {},
   "outputs": [],
   "source": []
  }
 ],
 "metadata": {
  "kernelspec": {
   "display_name": "Python [conda env:miniconda3-mlenv]",
   "language": "python",
   "name": "conda-env-miniconda3-mlenv-py"
  },
  "language_info": {
   "codemirror_mode": {
    "name": "ipython",
    "version": 3
   },
   "file_extension": ".py",
   "mimetype": "text/x-python",
   "name": "python",
   "nbconvert_exporter": "python",
   "pygments_lexer": "ipython3",
   "version": "3.9.15"
  }
 },
 "nbformat": 4,
 "nbformat_minor": 5
}
