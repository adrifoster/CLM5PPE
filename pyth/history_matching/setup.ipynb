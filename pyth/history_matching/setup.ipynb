{
 "cells": [
  {
   "cell_type": "code",
   "execution_count": 1,
   "id": "b26ca327-85af-48e0-ad52-d0763ae1769c",
   "metadata": {
    "tags": []
   },
   "outputs": [],
   "source": [
    "import numpy as np\n",
    "import xarray as xr\n",
    "from pyfunctions import *"
   ]
  },
  {
   "cell_type": "code",
   "execution_count": 2,
   "id": "4bf9b16c-e861-4977-ac1f-297e77a8936d",
   "metadata": {},
   "outputs": [],
   "source": [
    "# PFT x Biome Combinations\n",
    "pb_index = {}\n",
    "pb_index[1] = [2,5,6,7,8]\n",
    "pb_index[2] = [4,5,6,8,9]\n",
    "pb_index[3] = [8,9]\n",
    "pb_index[4] = [1,2,3]\n",
    "pb_index[5] = [2,3]\n",
    "pb_index[6] = [2,3]\n",
    "pb_index[7] = [5,6,7]\n",
    "pb_index[8] = [5,6,8,9]\n",
    "pb_index[9] = []\n",
    "pb_index[10] = [6,7]\n",
    "pb_index[11] = [8,9]\n",
    "pb_index[12] = [7,8,9]\n",
    "pb_index[13] = [2,3,5,6,7,8]\n",
    "pb_index[14] = [1,2,3] \n",
    "pb_index[15] = [1,2,3,5,6,7,8]\n",
    "\n",
    "np.save('pb_index.npy', pb_index) "
   ]
  },
  {
   "cell_type": "markdown",
   "id": "ab670833-ee65-423a-830e-2f196c98ac39",
   "metadata": {
    "tags": []
   },
   "source": [
    "### Observational Target"
   ]
  },
  {
   "cell_type": "code",
   "execution_count": 5,
   "id": "ab5b35d1-7e13-47c8-bff0-84a777235b49",
   "metadata": {},
   "outputs": [],
   "source": [
    "# CLM-SP PFTxBiome LAI\n",
    "#read in biome vector and pft vector\n",
    "whit=xr.open_dataset('whit/whitkey.nc')\n",
    "f='/glade/campaign/cgd/tss/projects/PPE/PPEn11_LHC/transient/hist/PPEn11_transient_LHC0000.clm2.h1.2005-02-01-00000.nc'\n",
    "ds=xr.open_dataset(f)\n",
    "pfts=ds.pfts1d_itype_veg\n",
    "\n",
    "#define the pft-x-biome group\n",
    "pftbiome=xr.DataArray(np.zeros(ds.pft.shape)+np.nan,dims='pft',name='pb')\n",
    "for i in range(1,17):\n",
    "    pftbiome[pfts==i]=whit.biome+10*i\n",
    "\n",
    "lapft=xr.open_dataset('landarea_transient.nc').landarea_pft\n",
    "a=lapft.groupby('time.year').mean()\n",
    "asum=a.groupby(pftbiome).sum()\n",
    "minarea=5e4\n",
    "asum=asum.where(asum>minarea)\n",
    "\n",
    "dsp=xr.open_dataset('/glade/scratch/linnia/archive/LAI_SP_ctsm51d115/lnd/hist/LAI_SP_ctsm51d115.clm2.h1.2000-02-01-00000.nc')\n",
    "dsp['time']=xr.cftime_range('2000',periods=12,freq='MS',calendar='noleap')\n",
    "sp_lai_amax=amax(dsp.TLAI).sel(year=2000)\n",
    "sp_lai_amean=amean(dsp.TLAI).sel(year=2000)\n",
    "\n",
    "\n",
    "def get_SP_pbmean(pft,biome):\n",
    "\n",
    "    if (pft<12): # annual max\n",
    "        lai_sp=sp_lai_amax\n",
    "    else: # annual mean\n",
    "        lai_sp=sp_lai_amean\n",
    "    laig=pftgrid(lai_sp,dsp)\n",
    "\n",
    "    jvals, ivals = get_sparsegrid() # function in pyfunctions.py\n",
    "    dsp_sg = laig[:,jvals,ivals]\n",
    "\n",
    "    b = whit.biome\n",
    "    ix = np.where(b==biome)[0]\n",
    "\n",
    "    ai = a.mean(dim='year').sel(pft=pft)\n",
    "    pb = pft*10+biome-10\n",
    "    asumi = asum.mean(dim='year')[pb]\n",
    "\n",
    "    da = dsp_sg.isel(pft=pft,gridcell=ix)\n",
    "\n",
    "    sp_lai_pb = (1/asumi)*(ai.isel(pft=ix).values*da).sum().compute()\n",
    "    \n",
    "    return sp_lai_pb.values"
   ]
  },
  {
   "cell_type": "code",
   "execution_count": 6,
   "id": "bbbe4502-2602-442d-a19f-33e54254a468",
   "metadata": {},
   "outputs": [],
   "source": [
    "# get observational target\n",
    "nbiomes = 10\n",
    "npfts = 17\n",
    "pb_index = np.load('pb_index.npy',allow_pickle='TRUE').item()\n",
    "\n",
    "SP_LAI = np.empty((npfts,nbiomes))*np.NaN\n",
    "for p in range(1,16):\n",
    "    for b in pb_index[p]:\n",
    "        SP_LAI[p,b] = get_SP_pbmean(p,b)\n",
    "\n",
    "np.savetxt(\"CLM-SP_LAI_pbmean.txt\", SP_LAI, delimiter=',')        "
   ]
  },
  {
   "cell_type": "markdown",
   "id": "484be386-4f4a-44da-a3d4-7c58dd7f0077",
   "metadata": {},
   "source": [
    "### Observational Variance"
   ]
  },
  {
   "cell_type": "code",
   "execution_count": 7,
   "id": "ec6ec69b-1073-4b71-a0ab-3e763f22bde6",
   "metadata": {},
   "outputs": [],
   "source": [
    "def get_biomeLAI_var(): # this is only for annual max LAI right now (should be annual mean LAI for grasses)\n",
    "    \n",
    "    # CLM-SP LAI on sparse grid\n",
    "    la = get_la()\n",
    "    SP_sg = get_SP('h0')\n",
    "\n",
    "    BM_sp = bmean(amax(SP_sg).mean(dim='year'),la).compute()\n",
    "    \n",
    "    # load regridded ILAMB datasets (MODIS, AVHRR, AVH15C1)\n",
    "    ds_ilamb =xr.open_dataset('/glade/work/linnia/ILAMB/ilamb_data/regridded/ILAMB_LAI_regridded.nc')\n",
    "    Amax_LAI_MODIS = amax(ds_ilamb.MODIS_LAI).mean(dim='year')\n",
    "\n",
    "    jvals, ivals = get_sparsegrid()\n",
    "\n",
    "    BM_MODIS = bmean(amax(ds_ilamb.MODIS_LAI[:,jvals,ivals]).mean(dim='year'),la).compute()\n",
    "    mask = xr.where(BM_MODIS!=0,1,0)\n",
    "    BM_AVHRR = bmean(amax(ds_ilamb.AVHRR_LAI[:,jvals,ivals]).mean(dim='year'),la).compute()\n",
    "    BM_AVH15C1 = bmean(amax(ds_ilamb.AVH15C1_LAI[:,jvals,ivals]).mean(dim='year'),la).compute()\n",
    "\n",
    "    BM_LAI_obs = [BM_MODIS, BM_AVHRR, BM_AVH15C1, BM_sp]\n",
    "    \n",
    "    # variance across datasets ( Biome mean lai max )\n",
    "    obs_var = np.var(BM_LAI_obs,axis=0)\n",
    "    \n",
    "    return obs_var"
   ]
  },
  {
   "cell_type": "code",
   "execution_count": 8,
   "id": "91c855dc-c0ec-4e82-ac6a-a916c4c1cd70",
   "metadata": {},
   "outputs": [],
   "source": [
    "obs_var = get_biomeLAI_var()\n",
    "np.savetxt(\"LAImax_biome_var.txt\",obs_var, delimiter=',')"
   ]
  },
  {
   "cell_type": "code",
   "execution_count": null,
   "id": "0000c2db-36db-4cbb-bb2e-28aa9584c746",
   "metadata": {},
   "outputs": [],
   "source": []
  }
 ],
 "metadata": {
  "kernelspec": {
   "display_name": "Python [conda env:miniconda3-mlenv]",
   "language": "python",
   "name": "conda-env-miniconda3-mlenv-py"
  },
  "language_info": {
   "codemirror_mode": {
    "name": "ipython",
    "version": 3
   },
   "file_extension": ".py",
   "mimetype": "text/x-python",
   "name": "python",
   "nbconvert_exporter": "python",
   "pygments_lexer": "ipython3",
   "version": "3.9.15"
  }
 },
 "nbformat": 4,
 "nbformat_minor": 5
}
