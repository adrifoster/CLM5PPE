{
 "cells": [
  {
   "cell_type": "markdown",
   "id": "5c767651-837c-4fb9-bdae-501b664ad2b1",
   "metadata": {},
   "source": [
    "# Example GP emulator code \n",
    "### Applied to Thomas Kavoo's PPE experiment\n",
    "##### Linnia Hawkins 7/13/2023"
   ]
  },
  {
   "cell_type": "code",
   "execution_count": 13,
   "id": "5d758a52-c546-4f57-970b-732f03f3c1d7",
   "metadata": {},
   "outputs": [],
   "source": [
    "import numpy as np\n",
    "import pandas as pd\n",
    "import matplotlib\n",
    "import matplotlib.pyplot as plt\n",
    "\n",
    "import gpflow\n",
    "from esem import gp_model\n",
    "\n",
    "from sklearn.preprocessing import StandardScaler, MinMaxScaler"
   ]
  },
  {
   "cell_type": "code",
   "execution_count": 14,
   "id": "cb00c581-b2e1-47c8-845a-3dcff21a692c",
   "metadata": {},
   "outputs": [],
   "source": [
    "# annual mean?\n",
    "gpp = pd.read_csv(\"/glade/u/home/tkavoo/ppe_tools/machine_learning/gpp.csv\",engine='python')\n",
    "gpp = gpp.drop('Ensemble',axis=1)\n",
    "obs_gpp = pd.read_csv(\"/glade/u/home/tkavoo/ppe_tools/machine_learning/obsgpp.csv\",engine='python')\n",
    "params = pd.read_csv(\"/glade/u/home/tkavoo/ppe_tools/machine_learning/params.csv\",engine='python')\n",
    "params = params.drop('Ensemble',axis=1)"
   ]
  },
  {
   "cell_type": "code",
   "execution_count": 3,
   "id": "5a6faa4c-1f6a-4847-a94b-32f454631004",
   "metadata": {},
   "outputs": [],
   "source": [
    "# JJA\n",
    "gpp = pd.read_csv(\"/glade/u/home/tkavoo/ppe_tools/machine_learning/data/ornl_gpp_jja.csv\",engine='python')\n",
    "gpp = gpp.iloc[:,1:]\n",
    "obs_gpp = pd.read_csv(\"/glade/u/home/tkavoo/ppe_tools/machine_learning/data/obsgpp_jja.csv\",engine='python')\n",
    "params = pd.read_csv(\"/glade/u/home/tkavoo/ppe_tools/machine_learning/data/ornl_params_jja.csv\",engine='python')\n",
    "params = params.iloc[: , 1:]"
   ]
  },
  {
   "cell_type": "code",
   "execution_count": 15,
   "id": "98598270-79de-4c52-8b20-c2fa10452401",
   "metadata": {},
   "outputs": [],
   "source": [
    "# Create a MinMaxScaler object\n",
    "norm_scaler = MinMaxScaler()\n",
    "\n",
    "# Scale the values in the \"params\" dataframe\n",
    "ppe_params= norm_scaler.fit_transform(params[params.columns]) #LRH: these need to be normalized by column"
   ]
  },
  {
   "cell_type": "code",
   "execution_count": 16,
   "id": "901912ad-2cbe-40be-b6b3-3f26209e79db",
   "metadata": {},
   "outputs": [],
   "source": [
    "# Scale the values in the \"gpp\" dataframe\n",
    "std_scaler = StandardScaler() #LRH: I think GP performs better on standardized outputs (rather than normalized)\n",
    "gpp_scaled = pd.DataFrame(std_scaler.fit_transform(gpp), columns=gpp.columns)"
   ]
  },
  {
   "cell_type": "code",
   "execution_count": 17,
   "id": "a07d4a2c-a49c-41b0-95fc-0fd381966fcf",
   "metadata": {},
   "outputs": [
    {
     "data": {
      "text/plain": [
       "30"
      ]
     },
     "execution_count": 17,
     "metadata": {},
     "output_type": "execute_result"
    }
   ],
   "source": [
    "num_params = np.shape(ppe_params)[1]\n",
    "num_params"
   ]
  },
  {
   "cell_type": "markdown",
   "id": "65dfdb4d-a018-410b-9622-05624218e9e5",
   "metadata": {},
   "source": [
    "### Train emulator"
   ]
  },
  {
   "cell_type": "code",
   "execution_count": 11,
   "id": "cc5c49fd-567f-4800-8e09-c91da819c5c7",
   "metadata": {},
   "outputs": [
    {
     "name": "stderr",
     "output_type": "stream",
     "text": [
      "2023-07-13 11:39:03.301524: E tensorflow/stream_executor/cuda/cuda_driver.cc:265] failed call to cuInit: CUDA_ERROR_NO_DEVICE: no CUDA-capable device is detected\n",
      "2023-07-13 11:39:03.301578: I tensorflow/stream_executor/cuda/cuda_diagnostics.cc:156] kernel driver does not appear to be running on this host (crhtc39): /proc/driver/nvidia/version does not exist\n",
      "2023-07-13 11:39:03.307813: I tensorflow/core/platform/cpu_feature_guard.cc:193] This TensorFlow binary is optimized with oneAPI Deep Neural Network Library (oneDNN) to use the following CPU instructions in performance-critical operations:  AVX2 AVX512F AVX512_VNNI FMA\n",
      "To enable them in other operations, rebuild TensorFlow with the appropriate compiler flags.\n"
     ]
    }
   ],
   "source": [
    "# define kernel\n",
    "kernel_linear = gpflow.kernels.Linear(active_dims=range(num_params),variance=1)\n",
    "kernel_RBF = gpflow.kernels.RBF(active_dims = range(num_params), lengthscales=np.tile(1,num_params))\n",
    "kernel_matern32 = gpflow.kernels.Matern32(active_dims=range(num_params), variance=1, lengthscales = np.tile(1,30))\n",
    "\n",
    "kernel = kernel_linear + kernel_matern32 + kernel_RBF"
   ]
  },
  {
   "cell_type": "code",
   "execution_count": 12,
   "id": "bcb5000c-9a47-457e-ac63-f1fe5758bb3c",
   "metadata": {},
   "outputs": [
    {
     "name": "stderr",
     "output_type": "stream",
     "text": [
      "2023-07-13 11:39:17.113049: W tensorflow/core/kernels/linalg/cholesky_op.cc:56] Cholesky decomposition was not successful. Eigen::LLT failed with error code 1. Filling lower-triangular output with NaNs.\n"
     ]
    }
   ],
   "source": [
    "# split training and testing data\n",
    "Y = gpp_scaled\n",
    "\n",
    "ntest = 55\n",
    "X_test, X_train = ppe_params[:ntest], ppe_params[ntest:]\n",
    "y_test, y_train = Y[:ntest], Y[ntest:]\n",
    "\n",
    "# use ESEm package to train (note I'm not doing any hyper parameter tuning, ESEm uses gradient descent\n",
    "emulator = gp_model(np.array(X_train),np.array(y_train),kernel=kernel)\n",
    "\n",
    "emulator.train()"
   ]
  },
  {
   "cell_type": "code",
   "execution_count": null,
   "id": "b575f7e9-8e8e-4bdb-b305-a8f7e81a1697",
   "metadata": {},
   "outputs": [],
   "source": [
    "# plot validation\n",
    "plt.figure(figsize=[10,12])\n",
    "plt.rcParams.update({'font.size': 10})\n",
    "\n",
    "y_pred, y_pred_var = emulator.predict(X_test.values)\n",
    "\n",
    "r2 = np.corrcoef(y_test,y_pred)\n",
    "\n",
    "ax.plot([-3,3],[-3,3],c='k',linestyle='--',label='1:1 line')\n",
    "ax.scatter(y_test,y_pred)\n",
    "ax.text(-3,2,'R2 = '+str(np.round(r2[0,1],3)),fontsize=10)\n",
    "ax.set_xlabel('CLM (standardized)',fontsize = 10)\n",
    "ax.set_ylabel('Emulator (standardized)',fontsize = 10)\n",
    "plt.tight_layout()"
   ]
  },
  {
   "cell_type": "code",
   "execution_count": null,
   "id": "01600024-a01c-41fa-90cc-0698b6174dff",
   "metadata": {},
   "outputs": [],
   "source": []
  }
 ],
 "metadata": {
  "kernelspec": {
   "display_name": "Python [conda env:miniconda3-mlenv]",
   "language": "python",
   "name": "conda-env-miniconda3-mlenv-py"
  },
  "language_info": {
   "codemirror_mode": {
    "name": "ipython",
    "version": 3
   },
   "file_extension": ".py",
   "mimetype": "text/x-python",
   "name": "python",
   "nbconvert_exporter": "python",
   "pygments_lexer": "ipython3",
   "version": "3.9.15"
  }
 },
 "nbformat": 4,
 "nbformat_minor": 5
}
