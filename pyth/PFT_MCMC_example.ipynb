{
 "cells": [
  {
   "cell_type": "markdown",
   "id": "68756b29-3dc1-44e7-a845-5b0265f2c72e",
   "metadata": {},
   "source": [
    "### Train GP emulator for PFT mean LAI max\n",
    "##### Linnia Hawkins 9-11-2023"
   ]
  },
  {
   "cell_type": "code",
   "execution_count": null,
   "id": "ec614fbd-671b-44fd-adb4-9d51fe8bf630",
   "metadata": {},
   "outputs": [
    {
     "name": "stderr",
     "output_type": "stream",
     "text": [
      "2023-09-11 17:25:07.387761: I tensorflow/core/platform/cpu_feature_guard.cc:193] This TensorFlow binary is optimized with oneAPI Deep Neural Network Library (oneDNN) to use the following CPU instructions in performance-critical operations:  AVX2 AVX512F FMA\n",
      "To enable them in other operations, rebuild TensorFlow with the appropriate compiler flags.\n",
      "2023-09-11 17:25:07.609360: E tensorflow/stream_executor/cuda/cuda_blas.cc:2981] Unable to register cuBLAS factory: Attempting to register factory for plugin cuBLAS when one has already been registered\n"
     ]
    }
   ],
   "source": [
    "import warnings\n",
    "warnings.filterwarnings(\"ignore\")\n",
    "\n",
    "import numpy as np\n",
    "import pandas as pd\n",
    "import xarray as xr\n",
    "#import glob\n",
    "import matplotlib\n",
    "import matplotlib.pyplot as plt\n",
    "#import cftime\n",
    "#import dask\n",
    "#import os\n",
    "import gpflow\n",
    "#import tensorflow as tf\n",
    "from esem.utils import get_random_params"
   ]
  },
  {
   "cell_type": "code",
   "execution_count": null,
   "id": "4773747c-1c77-4944-9a09-02a6fc3ae53d",
   "metadata": {},
   "outputs": [],
   "source": [
    "### import some analysis functions we wrote for this project\n",
    "import sys ; sys.path.append(\"../\") ; sys.path.append(\"../../\")\n",
    "from ppe_analysis.analysis import *\n",
    "from emulation_pyfunctions import *\n",
    "from pyfunctions import *"
   ]
  },
  {
   "cell_type": "markdown",
   "id": "ec770b1f-8102-477f-99cc-c1d46ea5ebfc",
   "metadata": {
    "tags": []
   },
   "source": [
    "### Load LHC CLM-PPE (PFT mean annual max LAI)"
   ]
  },
  {
   "cell_type": "code",
   "execution_count": null,
   "id": "cc6ac755-cc86-4eec-aa7a-77c38897ed7f",
   "metadata": {},
   "outputs": [],
   "source": [
    "# set PFT index\n",
    "p = 1 # 1=needleleaf evergreen tree"
   ]
  },
  {
   "cell_type": "code",
   "execution_count": null,
   "id": "9e96c0af-25d4-4dce-916a-a283245bbb3d",
   "metadata": {},
   "outputs": [],
   "source": [
    "#Load PPE\n",
    "LHC_pmean=xr.open_dataset('/glade/u/home/linnia/clm5ppe/pyth/exp2_PFT/processed_data/LHC_pmean(TLAImax).nc')\n",
    "NL_LAI_PPE = LHC_pmean['TLAI_pftavg_annMax_2003-2014'].sel(pft=p)"
   ]
  },
  {
   "cell_type": "code",
   "execution_count": null,
   "id": "d5ce3ba6-a475-495b-9543-317fb57a7999",
   "metadata": {},
   "outputs": [],
   "source": [
    "# load parameter sets \n",
    "lhckey = '/glade/campaign/asp/djk2120/PPEn11/csvs/lhc220926.txt'\n",
    "df = pd.read_csv(lhckey)\n",
    "params = df.drop(columns='member')\n",
    "nparams = len(params.columns)"
   ]
  },
  {
   "cell_type": "markdown",
   "id": "e2ec1070-7e2f-4b92-8795-e04819dadee3",
   "metadata": {
    "tags": []
   },
   "source": [
    "### Load Observational Target data"
   ]
  },
  {
   "cell_type": "code",
   "execution_count": null,
   "id": "7c3df5ed-5103-4307-b006-9e21662714f9",
   "metadata": {},
   "outputs": [],
   "source": [
    "#calculate SP LAI, by pft\n",
    "dsp=xr.open_dataset('/glade/scratch/linnia/archive/LAI_SP_ctsm51d115/lnd/hist/LAI_SP_ctsm51d115.clm2.h1.2000-02-01-00000.nc')\n",
    "dsp['time']=xr.cftime_range('2000',periods=12,freq='MS',calendar='noleap')\n",
    "sg=xr.open_dataset('../clusters.clm51_PPEn02ctsm51d021_2deg_GSWP3V1_leafbiomassesai_PPE3_hist.annual+sd.400.nc')\n",
    "la=sg.landfrac*sg.area\n",
    "\n",
    "lai_sp=amax(dsp.TLAI).sel(year=2000)\n",
    "w=dsp.pfts1d_wtgcell\n",
    "laig=pftgrid(lai_sp,dsp)\n",
    "wg=pftgrid(w,dsp)\n",
    "cf=1/(wg*la).sum(dim=['lat','lon'])\n",
    "laisp=cf*(laig*wg*la).sum(dim=['lat','lon']).sel(pft=range(0,16)).compute()"
   ]
  },
  {
   "cell_type": "code",
   "execution_count": null,
   "id": "ac6ac6bd-9b6c-4c6d-b359-99c98e781bd6",
   "metadata": {},
   "outputs": [],
   "source": [
    "# Observational target\n",
    "NL_LAI_obs = laisp[p]"
   ]
  },
  {
   "cell_type": "markdown",
   "id": "60be0210-970c-46c1-a301-5e8dc1864a5c",
   "metadata": {
    "tags": []
   },
   "source": [
    "### Train PFT emulators"
   ]
  },
  {
   "cell_type": "code",
   "execution_count": null,
   "id": "401d1d0a-2503-4921-8271-3dba3518432e",
   "metadata": {},
   "outputs": [],
   "source": [
    "# Define kernels\n",
    "kernel_linear = gpflow.kernels.Linear(active_dims=range(nparams),variance=1)\n",
    "kernel_matern32 = gpflow.kernels.Matern32(active_dims=range(nparams), variance=1, lengthscales = np.tile(1,32))\n",
    "kernel_RBF = gpflow.kernels.RBF(active_dims = range(nparams), lengthscales=np.tile(1,nparams))\n",
    "\n",
    "# select the kernal to use\n",
    "kernel = kernel_linear + kernel_matern32 + kernel_RBF"
   ]
  },
  {
   "cell_type": "code",
   "execution_count": null,
   "id": "4b03aafb-41fb-40c4-af87-c3a524ae2fdb",
   "metadata": {},
   "outputs": [],
   "source": [
    "ntest = 50\n",
    "data = NL_LAI_PPE[1:]\n",
    "\n",
    "Y = standardize(data)\n",
    "\n",
    "# split training and testing data\n",
    "X_test, X_train = params[:ntest], params[ntest:]\n",
    "y_test, y_train = Y[:ntest], Y[ntest:]\n",
    "\n",
    "# define emulator model and train\n",
    "emulator = gpflow.models.GPR(data=(X_train, y_train), kernel=kernel, mean_function=None)\n",
    "\n",
    "opt = gpflow.optimizers.Scipy()\n",
    "opt_logs = opt.minimize(emulator.training_loss, emulator.trainable_variables, options=dict(maxiter=100))\n",
    "\n",
    "y_pred, y_var = emulator.predict_f(X_test.values)\n",
    "\n",
    "# plot validation\n",
    "ax = plt.subplot(1,1,1)\n",
    "plot_validation(y_test, np.array(y_pred), ax)"
   ]
  },
  {
   "cell_type": "markdown",
   "id": "1495756c-8458-436a-a3bb-b1252ccbd859",
   "metadata": {},
   "source": [
    "### Sample and Predict"
   ]
  },
  {
   "cell_type": "code",
   "execution_count": null,
   "id": "4ae51e30-0c4d-485f-b913-173343b24e41",
   "metadata": {},
   "outputs": [],
   "source": [
    "### Take a random sample from parameter space and use emulator to estimate LAI\n",
    "#randomly sample parameters\n",
    "n_samp = 1000\n",
    "sample = get_random_params(nparams, n_samp)"
   ]
  },
  {
   "cell_type": "code",
   "execution_count": null,
   "id": "bd6c4d19-5113-449e-a3de-df1bbc374bf5",
   "metadata": {},
   "outputs": [],
   "source": [
    "y_pred, y_pred_var = emulator.predict_f(sample) "
   ]
  },
  {
   "cell_type": "code",
   "execution_count": null,
   "id": "7089b1f4-d5e0-4e6d-9eb4-d3632d929e1c",
   "metadata": {},
   "outputs": [],
   "source": [
    "# unstandardize and plot\n",
    "NL_LAI_pred = unstandardize(np.array(y_pred).reshape(1,-1),NL_LAI_PPE)\n",
    "plt.hist(NL_LAI_pred.flatten(),label='emulated sample')\n",
    "plt.hist(NL_LAI_PPE,label='CLM-PPE')\n",
    "plt.xlabel('global mean LAI max')\n",
    "plt.title('Needleleaf Evergreen Temperate Tree')\n",
    "plt.legend()"
   ]
  },
  {
   "cell_type": "code",
   "execution_count": null,
   "id": "c5daa053-4675-4a20-84c6-634d3ef0a3ae",
   "metadata": {},
   "outputs": [],
   "source": []
  }
 ],
 "metadata": {
  "kernelspec": {
   "display_name": "Python [conda env:miniconda3-mlenv]",
   "language": "python",
   "name": "conda-env-miniconda3-mlenv-py"
  },
  "language_info": {
   "codemirror_mode": {
    "name": "ipython",
    "version": 3
   },
   "file_extension": ".py",
   "mimetype": "text/x-python",
   "name": "python",
   "nbconvert_exporter": "python",
   "pygments_lexer": "ipython3",
   "version": "3.9.15"
  }
 },
 "nbformat": 4,
 "nbformat_minor": 5
}
