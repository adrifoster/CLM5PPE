{
 "cells": [
  {
   "cell_type": "markdown",
   "id": "9ac7f23b-d555-426f-bfd5-505c936eb64f",
   "metadata": {},
   "source": [
    "# Template for analyzing the CLM5-PPE\n",
    "- Updated August 11, 2021\n",
    "- Daniel Kennedy, djk2120@ucar.edu"
   ]
  },
  {
   "cell_type": "code",
   "execution_count": 1,
   "id": "10d023b9-81d4-4a50-bc7d-6b198b171c94",
   "metadata": {},
   "outputs": [],
   "source": [
    "import numpy as np\n",
    "import pandas as pd\n",
    "import xarray as xr\n",
    "import glob\n",
    "import matplotlib\n",
    "import matplotlib.pyplot as plt\n",
    "import cftime\n",
    "import dask\n",
    "import statsmodels.api as sm\n",
    "import seaborn as sns"
   ]
  },
  {
   "cell_type": "code",
   "execution_count": 2,
   "id": "84ab72fd-88ee-4661-ac23-088b55f51b9b",
   "metadata": {},
   "outputs": [],
   "source": [
    "### import some analysis functions we wrote for this project\n",
    "import sys ; sys.path.append(\"..\")\n",
    "from ppe_analysis.analysis import *"
   ]
  },
  {
   "cell_type": "markdown",
   "id": "883af448-c9a5-4345-a87c-5829242f9c42",
   "metadata": {},
   "source": [
    "## spin up some extra cores on CASPER"
   ]
  },
  {
   "cell_type": "code",
   "execution_count": 3,
   "id": "7cac7a58-ef33-49e4-9f3d-cca6c7f97f09",
   "metadata": {},
   "outputs": [
    {
     "name": "stderr",
     "output_type": "stream",
     "text": [
      "/glade/work/kdagon/miniconda/envs/ppe-py/lib/python3.7/site-packages/dask_jobqueue/core.py:20: FutureWarning: tmpfile is deprecated and will be removed in a future release. Please use dask.utils.tmpfile instead.\n",
      "  from distributed.utils import tmpfile\n",
      "/glade/work/kdagon/miniconda/envs/ppe-py/lib/python3.7/site-packages/distributed/node.py:161: UserWarning: Port 8787 is already in use.\n",
      "Perhaps you already have a cluster running?\n",
      "Hosting the HTTP server on port 36971 instead\n",
      "  f\"Port {expected} is already in use.\\n\"\n"
     ]
    }
   ],
   "source": [
    "# Setup your PBSCluster\n",
    "from dask_jobqueue import PBSCluster\n",
    "from dask.distributed import Client\n",
    "\n",
    "project = 'P08010000' # Input your project code here\n",
    "\n",
    "ncores=1 # The number of cores you want\n",
    "nmem='10GB' # Amount of memory - can scale down as number of workers increases\n",
    "\n",
    "cluster = PBSCluster(\n",
    "    cores=ncores, # The number of cores you want\n",
    "    memory=nmem, # Amount of memory\n",
    "    processes=1, # How many processes\n",
    "    queue='casper', # The type of queue to utilize (/glade/u/apps/dav/opt/usr/bin/execcasper)\n",
    "    local_directory='/glade/scratch/$USER/dask-local', # Use your dask-local directory\n",
    "    resource_spec='select=1:ncpus='+str(ncores)+':mem='+nmem, # Specify resources\n",
    "    project=project, # Input your project ID here\n",
    "    walltime='01:00:00', # Amount of wall time\n",
    "    interface='ib0', # Interface to use\n",
    ")\n",
    "\n",
    "# Scale up\n",
    "cluster.scale(30)\n",
    "\n",
    "# Setup your client\n",
    "client = Client(cluster)"
   ]
  },
  {
   "cell_type": "code",
   "execution_count": 4,
   "id": "94466eaf-9368-4ef5-93c9-826783a800fb",
   "metadata": {},
   "outputs": [
    {
     "data": {
      "application/vnd.jupyter.widget-view+json": {
       "model_id": "cf230ec7efb24c7393a25b918c76f5a5",
       "version_major": 2,
       "version_minor": 0
      },
      "text/plain": [
       "Tab(children=(HTML(value='<div class=\"jp-RenderedHTMLCommon jp-RenderedHTML jp-mod-trusted jp-OutputArea-outpu…"
      ]
     },
     "metadata": {},
     "output_type": "display_data"
    }
   ],
   "source": [
    "client.cluster"
   ]
  },
  {
   "cell_type": "markdown",
   "id": "4dd7bb6b-ae05-4ca9-96f7-be493e6ca527",
   "metadata": {},
   "source": [
    "## A few useful functions"
   ]
  },
  {
   "cell_type": "code",
   "execution_count": 5,
   "id": "a954810a-0637-4ebd-a1d6-5777a546a600",
   "metadata": {},
   "outputs": [],
   "source": [
    "def get_files(exp,key,tape):\n",
    "    top='/glade/campaign/asp/djk2120/PPEn11/'\n",
    "    d=top+exp+'/hist/'\n",
    "\n",
    "    df=pd.read_csv(key)\n",
    "    keys = df.key.values\n",
    "    files=[glob.glob(d+'*'+key+'*.'+tape+'.*')[0] for key in keys]\n",
    "    appends={'key':keys,'param':df.param.values,'minmax':df.minmax.values}\n",
    "\n",
    "    return files,appends"
   ]
  },
  {
   "cell_type": "code",
   "execution_count": 6,
   "id": "d9d635ec-2465-4b31-b3ce-09e580dbcfcf",
   "metadata": {},
   "outputs": [],
   "source": [
    "def get_ds(files,dvs,appends={}):\n",
    "    def preprocess(ds):\n",
    "        return ds[dvs]\n",
    "    ds = xr.open_mfdataset(files,combine='nested',concat_dim='ens',\n",
    "                           parallel=True,\n",
    "                           preprocess=preprocess)\n",
    "    f=files[0]\n",
    "    htape=f.split('clm2')[1][1:3]\n",
    "\n",
    "    #fix up time dimension\n",
    "    if (htape=='h0')|(htape=='h1'):\n",
    "        yr0=str(ds['time.year'][0].values)\n",
    "        nt=len(ds.time)\n",
    "        ds['time'] = xr.cftime_range(yr0,periods=nt,freq='MS',calendar='noleap') #fix time bug\n",
    "\n",
    "    #add in some extra variables\n",
    "    ds0 = xr.open_dataset(files[0])\n",
    "    extras = ['grid1d_lat','grid1d_lon']\n",
    "    for extra in extras:\n",
    "        ds[extra]=ds0[extra]\n",
    "    la=xr.open_dataset('./sparsegrid_landarea.nc').landarea\n",
    "    ds['la']=la\n",
    "\n",
    "    for append in appends:\n",
    "        ds[append]=xr.DataArray(appends[append],dims='ens')\n",
    "        \n",
    "    return ds"
   ]
  },
  {
   "cell_type": "code",
   "execution_count": 7,
   "id": "7d3ed5c4-4044-4e78-8d0e-f1e4dd102581",
   "metadata": {},
   "outputs": [],
   "source": [
    "cfs={'GPP':[24*60*60,1e-9]}"
   ]
  },
  {
   "cell_type": "code",
   "execution_count": 14,
   "id": "49d178a7-11d8-4441-b5d2-52838a0766c3",
   "metadata": {},
   "outputs": [],
   "source": [
    "def amean(da):\n",
    "    v=da.name\n",
    "    if v in cfs:\n",
    "        cf1,cf2=cfs[v]\n",
    "    else:\n",
    "        cf1=1/365\n",
    "    dpm=da['time.daysinmonth']\n",
    "    x=cf1*(dpm*da).groupby('time.year').sum().compute()\n",
    "    x.name=v\n",
    "    return x"
   ]
  },
  {
   "cell_type": "code",
   "execution_count": 33,
   "id": "ae9a589d-0dc1-46a6-92e5-af95a12b5b52",
   "metadata": {},
   "outputs": [],
   "source": [
    "def gmean(da,la):\n",
    "    v=da.name\n",
    "    if v in cfs:\n",
    "        cf1,cf2=cfs[v]\n",
    "    else:\n",
    "        cf2=1/la.sum()\n",
    "    x=cf2*(da*la).sum(dim='gridcell').compute()\n",
    "    x.name=v\n",
    "    return x"
   ]
  },
  {
   "cell_type": "code",
   "execution_count": 10,
   "id": "e1d99794-dc1d-481e-8fe2-d656bac25385",
   "metadata": {},
   "outputs": [
    {
     "name": "stdout",
     "output_type": "stream",
     "text": [
      "CTL2010\n",
      "C285\n",
      "C867\n",
      "AF1855\n",
      "AF2095\n",
      "NDEP\n"
     ]
    }
   ],
   "source": [
    "key='/glade/campaign/asp/djk2120/PPEn11/csvs/surv.csv'\n",
    "tape='h0'\n",
    "dvs=['TLAI','GPP']\n",
    "exps=['CTL2010','C285','C867','AF1855','AF2095','NDEP']\n",
    "dsets={}\n",
    "for exp in exps:\n",
    "    print(exp)\n",
    "    files,appends=get_files(exp,key,tape)\n",
    "    dsets[exp]=get_ds(files,dvs,appends)"
   ]
  },
  {
   "cell_type": "code",
   "execution_count": 15,
   "id": "0170986d-5fa7-43c2-b7d8-79e090a7c945",
   "metadata": {},
   "outputs": [],
   "source": [
    "v='GPP'\n",
    "x={exp:amean(gmean(dsets[exp][v],dsets[exp].la)).mean(dim='year') for exp in exps}"
   ]
  },
  {
   "cell_type": "code",
   "execution_count": 16,
   "id": "c50dd2e3-c729-4e15-b1a9-d8ae40846853",
   "metadata": {},
   "outputs": [],
   "source": [
    "nens=len(x['CTL2010'])\n",
    "data={'GPP':np.concatenate([x[exp].values for exp in x]),\n",
    "      'exp':np.concatenate([np.tile(exp,nens) for exp in x])}\n",
    "df=pd.DataFrame(data)"
   ]
  },
  {
   "cell_type": "code",
   "execution_count": 17,
   "id": "cfaed6cf-a0e6-4e81-90a3-615ee44fabae",
   "metadata": {},
   "outputs": [
    {
     "data": {
      "image/png": "[encoded data removed]",
      "text/plain": [
       "<Figure size 432x288 with 1 Axes>"
      ]
     },
     "metadata": {
      "needs_background": "light"
     },
     "output_type": "display_data"
    }
   ],
   "source": [
    "sns.violinplot(data=df,y='GPP',x='exp')\n",
    "plt.ylabel('GPP (PgC/yr)')\n",
    "plt.ylim([50,250]);"
   ]
  },
  {
   "cell_type": "code",
   "execution_count": 18,
   "id": "5d68d128-31d1-4cbe-bfbc-233c2313ab88",
   "metadata": {},
   "outputs": [
    {
     "data": {
      "image/png": "[encoded data removed]",
      "text/plain": [
       "<Figure size 432x288 with 1 Axes>"
      ]
     },
     "metadata": {
      "needs_background": "light"
     },
     "output_type": "display_data"
    }
   ],
   "source": [
    "ee='CTL2010'\n",
    "da=x[ee]\n",
    "da.attrs={'units':'PgC/yr'}\n",
    "rank_plot(da,dsets[ee],10)"
   ]
  },
  {
   "cell_type": "code",
   "execution_count": 19,
   "id": "8f2e6a8a-887b-420e-8624-4479cc6712a3",
   "metadata": {},
   "outputs": [],
   "source": [
    "ee='CTL2010'\n",
    "ds=dsets[ee]\n",
    "ix=(ds.param=='kmax')&(ds.minmax=='min')\n",
    "\n",
    "gpp1=amean(ds.GPP.isel(ens=ix)).mean(dim='year')\n"
   ]
  },
  {
   "cell_type": "code",
   "execution_count": 20,
   "id": "d34127a3-266f-4a07-ac76-2628d49a94a4",
   "metadata": {},
   "outputs": [],
   "source": [
    "gpp0=ds.GPP.isel(ens=0)"
   ]
  },
  {
   "cell_type": "code",
   "execution_count": null,
   "id": "85f6370e-85fe-424d-95a6-b4066566b421",
   "metadata": {},
   "outputs": [],
   "source": []
  },
  {
   "cell_type": "code",
   "execution_count": 21,
   "id": "3330590c-ab64-491f-94c7-91b7b042184f",
   "metadata": {},
   "outputs": [
    {
     "name": "stdout",
     "output_type": "stream",
     "text": [
      "OAAT0058 : csol_sand - min\n"
     ]
    },
    {
     "data": {
      "text/plain": [
       "{'CTL2010': 1.0,\n",
       " 'C285': 1.0,\n",
       " 'C867': 1.0,\n",
       " 'AF1855': 1.0,\n",
       " 'AF2095': 0.08,\n",
       " 'NDEP': 1.0}"
      ]
     },
     "execution_count": 21,
     "metadata": {},
     "output_type": "execute_result"
    }
   ],
   "source": [
    "## AF2095-OAAT0058 looks buggy\n",
    "ee='AF2095'\n",
    "ix=x[ee].argmin()\n",
    "print(dsets[ee].key[ix].values,':',dsets[ee].param[ix].values,'-',dsets[ee].minmax[ix].values)\n",
    "xx={exp:np.round((x[exp][ix]/x[exp][0]).values,2) for exp in exps}\n",
    "xx"
   ]
  },
  {
   "cell_type": "code",
   "execution_count": 26,
   "id": "6d2b3d4b-57fc-48f9-abc7-7047614b61f0",
   "metadata": {},
   "outputs": [
    {
     "data": {
      "text/plain": [
       "{'GPP': [86400, 1e-09]}"
      ]
     },
     "execution_count": 26,
     "metadata": {},
     "output_type": "execute_result"
    }
   ],
   "source": [
    "cfs"
   ]
  },
  {
   "cell_type": "code",
   "execution_count": 28,
   "id": "de662081-715e-480d-a36f-0010a4117c02",
   "metadata": {},
   "outputs": [
    {
     "data": {
      "text/plain": [
       "False"
      ]
     },
     "execution_count": 28,
     "metadata": {},
     "output_type": "execute_result"
    }
   ],
   "source": [
    "v2 in cfs"
   ]
  },
  {
   "cell_type": "code",
   "execution_count": 29,
   "id": "67f988e4-bfb5-43a6-8d4d-b34206fad3c0",
   "metadata": {},
   "outputs": [
    {
     "data": {
      "text/plain": [
       "['CTL2010', 'C285', 'C867', 'AF1855', 'AF2095', 'NDEP']"
      ]
     },
     "execution_count": 29,
     "metadata": {},
     "output_type": "execute_result"
    }
   ],
   "source": [
    "exps"
   ]
  },
  {
   "cell_type": "code",
   "execution_count": 34,
   "id": "e09f85e2-7f0d-42fc-97b5-e2dacb0706b0",
   "metadata": {},
   "outputs": [],
   "source": [
    "v2='TLAI'\n",
    "x2={exp:amean(gmean(dsets[exp][v2],dsets[exp].la)).mean(dim='year') for exp in exps}"
   ]
  },
  {
   "cell_type": "code",
   "execution_count": 35,
   "id": "5322b376-e8d3-49d4-876a-7d7e95a14af4",
   "metadata": {},
   "outputs": [],
   "source": [
    "data2={'TLAI':np.concatenate([x2[exp].values for exp in x2]),\n",
    "      'exp':np.concatenate([np.tile(exp,nens) for exp in x2])}\n",
    "df2=pd.DataFrame(data2)"
   ]
  },
  {
   "cell_type": "code",
   "execution_count": 62,
   "id": "c16f2d69-079d-4a4b-897d-b15184d1d266",
   "metadata": {},
   "outputs": [
    {
     "data": {
      "image/png": "[encoded data removed]",
      "text/plain": [
       "<Figure size 720x432 with 1 Axes>"
      ]
     },
     "metadata": {
      "needs_background": "light"
     },
     "output_type": "display_data"
    }
   ],
   "source": [
    "fig = plt.figure(figsize=(10,6))\n",
    "sns.violinplot(data=df2,y='TLAI',x='exp',width=1)\n",
    "plt.ylabel('TLAI (m^2/m^2)', fontsize=15)\n",
    "plt.ylim([0,5])\n",
    "plt.yticks(fontsize=12)\n",
    "plt.xlabel('Forcing Scenario', fontsize=15)\n",
    "plt.xticks(fontsize=12)\n",
    "plt.title('Global Annual Mean TLAI', fontsize=16);\n",
    "#plt.savefig('../figs/oaat/TLAI_violinplot.png', bbox_inches='tight')"
   ]
  },
  {
   "cell_type": "code",
   "execution_count": 75,
   "id": "159a5b4a-c6d9-4986-8f46-a77fa47ce2c5",
   "metadata": {},
   "outputs": [
    {
     "data": {
      "image/png": "[encoded data removed]",
      "text/plain": [
       "<Figure size 720x432 with 1 Axes>"
      ]
     },
     "metadata": {
      "needs_background": "light"
     },
     "output_type": "display_data"
    }
   ],
   "source": [
    "ee='CTL2010'\n",
    "da2=x2[ee]\n",
    "da2.attrs={'units':'m^2/m^2'}\n",
    "fig = plt.figure(figsize=(10,6))\n",
    "plt.xticks(fontsize=12)\n",
    "plt.xlabel('TLAI (m^2/m^2)', fontsize=15)\n",
    "plt.yticks(fontsize=12)\n",
    "rank_plot(da2,dsets[ee],10)\n",
    "plt.title('Global Annual Mean TLAI', fontsize=16);\n",
    "plt.legend(fontsize=15);\n",
    "#plt.savefig('../figs/oaat/CTL2010_TLAI_global_top10.png', bbox_inches='tight')"
   ]
  },
  {
   "cell_type": "code",
   "execution_count": null,
   "id": "be8402ac-0dfc-40ed-9e39-532e87bc560e",
   "metadata": {},
   "outputs": [],
   "source": []
  }
 ],
 "metadata": {
  "kernelspec": {
   "display_name": "Python [conda env:miniconda-ppe-py]",
   "language": "python",
   "name": "conda-env-miniconda-ppe-py-py"
  },
  "language_info": {
   "codemirror_mode": {
    "name": "ipython",
    "version": 3
   },
   "file_extension": ".py",
   "mimetype": "text/x-python",
   "name": "python",
   "nbconvert_exporter": "python",
   "pygments_lexer": "ipython3",
   "version": "3.7.12"
  }
 },
 "nbformat": 4,
 "nbformat_minor": 5
}
