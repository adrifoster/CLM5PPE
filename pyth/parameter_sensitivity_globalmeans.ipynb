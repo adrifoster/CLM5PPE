{
 "cells": [
  {
   "cell_type": "code",
   "execution_count": null,
   "id": "a39ff704-5f50-4f8e-a4ae-cb85baa62347",
   "metadata": {},
   "outputs": [],
   "source": [
    "import glob\n",
    "import os\n",
    "import warnings\n",
    "warnings.filterwarnings(\"ignore\")\n",
    "\n",
    "import cftime\n",
    "import dask\n",
    "import matplotlib\n",
    "import matplotlib.pyplot as plt\n",
    "from matplotlib.patches import Ellipse\n",
    "import numpy as np\n",
    "import pandas as pd\n",
    "import xarray as xr\n",
    "\n",
    "from esem import gp_model\n",
    "from scipy import stats\n",
    "import gpflow\n",
    "\n",
    "from SALib.sample import fast_sampler\n",
    "from SALib.analyze import fast"
   ]
  },
  {
   "cell_type": "code",
   "execution_count": null,
   "id": "59cd2ac1-8d37-4414-820d-785aa82de622",
   "metadata": {},
   "outputs": [],
   "source": [
    "### import some analysis functions we wrote for this project\n",
    "import sys ; sys.path.append(\"..\")\n",
    "from ppe_analysis.analysis import *"
   ]
  },
  {
   "cell_type": "code",
   "execution_count": null,
   "id": "0ad8c84e-e36c-4685-9169-40cb101fdf4d",
   "metadata": {},
   "outputs": [],
   "source": [
    "# Setup your PBSCluster\n",
    "import dask\n",
    "from dask.distributed import Client\n",
    "from dask_jobqueue import PBSCluster\n",
    "\n",
    "ncores=1\n",
    "nmem='25GB'\n",
    "cluster = PBSCluster(\n",
    "    cores=ncores, # The number of cores you want\n",
    "    memory=nmem, # Amount of memory\n",
    "    processes=1, # How many processes\n",
    "    queue='casper', # The type of queue to utilize (/glade/u/apps/dav/opt/usr/bin/execcasper)\n",
    "    local_directory='$TMPDIR', # Use your local directory\n",
    "    resource_spec='select=1:ncpus='+str(ncores)+':mem='+nmem, # Specify resources\n",
    "    project='P93300641', # Input your project ID here\n",
    "    walltime='03:00:00', # Amount of wall time\n",
    "    interface='ib0', # Interface to use\n",
    ")\n",
    "\n",
    "# Scale up\n",
    "cluster.scale(30)\n",
    "\n",
    "# Setup your client\n",
    "client = Client(cluster)"
   ]
  },
  {
   "cell_type": "code",
   "execution_count": null,
   "id": "1f00687d-8a8d-4500-8fcc-d739bfba8137",
   "metadata": {},
   "outputs": [],
   "source": [
    "client.cluster"
   ]
  },
  {
   "cell_type": "code",
   "execution_count": null,
   "id": "1dc2f854-ee25-4420-a834-fdf3a0844c81",
   "metadata": {},
   "outputs": [],
   "source": [
    "def get_files(htape,yr0=1850,yr1=2014):\n",
    "    d='/glade/campaign/asp/djk2120/PPEn11/transient/hist/'\n",
    "\n",
    "    #find all files\n",
    "    fs   = np.array(sorted(glob.glob(d+'*'+htape+'*')))\n",
    "    yrs  = np.array([int(f.split(htape)[1][1:5]) for f in fs])\n",
    "    keys = np.array([f.split('.clm2')[0][-7:] for f in fs])\n",
    "    \n",
    "    #bump back yr0, if needed\n",
    "    uyrs=np.unique(yrs)\n",
    "    yr0=uyrs[(uyrs/yr0)<=1][-1]\n",
    "    \n",
    "    #find index to subset files\n",
    "    ix   = (yrs>=yr0)&(yrs<=yr1)\n",
    "    yrs  = yrs[ix]\n",
    "    keys = keys[ix]\n",
    "\n",
    "    #subset and reshape files\n",
    "    ny=np.sum(keys=='LHC0000')\n",
    "    nens = int(len(keys)/ny)\n",
    "    files = fs[ix].reshape([nens,ny])\n",
    "\n",
    "    #convert to list of lists\n",
    "    files = [list(f) for f in files]\n",
    "    \n",
    "    return files,np.unique(keys)"
   ]
  },
  {
   "cell_type": "code",
   "execution_count": null,
   "id": "d1a188fa-af7a-415d-8c4d-6d37335b0cfa",
   "metadata": {},
   "outputs": [],
   "source": [
    "def add_params(ds,df,keys):\n",
    "    mems=df['member'].values\n",
    "    ix1=0*mems==1\n",
    "    for key in keys:\n",
    "        ix1=(ix1)|(mems==key)\n",
    "\n",
    "    nens=len(ds.ens)    \n",
    "    ix2=0*np.arange(nens)==1\n",
    "    for mem in mems:\n",
    "        ix2=(ix2)|(ds.key==mem)\n",
    "\n",
    "\n",
    "    params=[]    \n",
    "    for p in df.keys():\n",
    "        if p!='member':\n",
    "            x=xr.DataArray(np.nan+np.zeros(nens),dims='ens')\n",
    "            x[ix2]=df[p][ix1]\n",
    "            ds[p]=x\n",
    "            params.append(p)\n",
    "    ds['params']=xr.DataArray(params,dims='param')"
   ]
  },
  {
   "cell_type": "code",
   "execution_count": null,
   "id": "6361be53-2a12-4bdc-9b93-ad4fea850ce1",
   "metadata": {},
   "outputs": [],
   "source": [
    "def get_ds(dvs,htape,yr0=1850,yr1=2014,dropdef=False):\n",
    "    \n",
    "    def preprocess(ds):\n",
    "        return ds[dvs]\n",
    "    \n",
    "    #read in the data\n",
    "    files,keys = get_files(htape,yr0,yr1)\n",
    "    if dropdef:\n",
    "        files = files[1:]\n",
    "        keys  = keys[1:]\n",
    "    \n",
    "    ds = xr.open_mfdataset(files,combine='nested',concat_dim=['ens','time'],\n",
    "                       parallel=True,preprocess=preprocess)\n",
    "    \n",
    "    #fix the time dimension, if needed\n",
    "    yr0=str(ds['time.year'].values[0])\n",
    "    if (htape=='h0')|(htape=='h1'):\n",
    "        ds['time']=xr.cftime_range(yr0,periods=len(ds.time),freq='MS',calendar='noleap')\n",
    "    \n",
    "    #add some param info, etc.\n",
    "    df=pd.read_csv('/glade/campaign/asp/djk2120/PPEn11/csvs/lhc220926.txt')\n",
    "    ds['key']=xr.DataArray(keys,dims=['ens'])\n",
    "    add_params(ds,df,keys)\n",
    "    \n",
    "    #add landarea info\n",
    "    la_file = '/glade/u/home/djk2120/clm5ppe/pyth/sparsegrid_landarea.nc'\n",
    "    la = xr.open_dataset(la_file).landarea  #km2\n",
    "    ds['la'] = la\n",
    "    \n",
    "    #add some extra variables, e.g. lat/lon\n",
    "    tmp = xr.open_dataset(files[0][0])\n",
    "    for v in tmp.data_vars:\n",
    "        if 'time' not in tmp[v].dims:\n",
    "            if v not in ds:\n",
    "                ds[v]=tmp[v]\n",
    "                \n",
    "    if htape=='h1':\n",
    "        ds['pft']=ds.pfts1d_itype_veg\n",
    "    \n",
    "    return ds"
   ]
  },
  {
   "cell_type": "code",
   "execution_count": null,
   "id": "8803e632-8b8f-437c-9781-603534424def",
   "metadata": {},
   "outputs": [],
   "source": [
    "def normalize(var):\n",
    "    return (var-min(var))/(max(var)-min(var))\n",
    "\n",
    "def unnormalize(norm_var,raw_var):\n",
    "    return norm_var*np.array(max(raw_var)-min(raw_var)) + np.array(min(raw_var))"
   ]
  },
  {
   "cell_type": "markdown",
   "id": "c69a12ba-bf45-40c5-b1b7-d5a4c8f00eea",
   "metadata": {},
   "source": [
    "### Read in dataset"
   ]
  },
  {
   "cell_type": "code",
   "execution_count": null,
   "id": "81a2b931-f13d-448f-a6ad-49f2b846a675",
   "metadata": {},
   "outputs": [],
   "source": [
    "dvs = ['TLAI','GPP','EFLX_LH_TOT','TWS','ER']\n",
    "htape='h0'\n",
    "ds=get_ds(dvs,htape,yr0=2005,yr1=2014)"
   ]
  },
  {
   "cell_type": "code",
   "execution_count": null,
   "id": "833e9794-dfe9-4f27-b19e-495186fdffdc",
   "metadata": {},
   "outputs": [],
   "source": [
    "# get parameter sets \n",
    "lhckey = '/glade/campaign/asp/djk2120/PPEn11/csvs/lhc220926.txt'\n",
    "df = pd.read_csv(lhckey)\n",
    "ppe_params = df.drop(columns='member')\n",
    "num_params = len(ppe_params.columns)"
   ]
  },
  {
   "cell_type": "code",
   "execution_count": null,
   "id": "28a8bfc1-6490-4c9b-90fb-a8584cb22c56",
   "metadata": {},
   "outputs": [],
   "source": [
    "# Read in satellite phenology run for reference\n",
    "in_file = '/glade/scratch/linnia/LAI_SP_ctsm51d115/run/LAI_SP_ctsm51d115.clm2.h0.2000-02-01-00000.nc'\n",
    "SP = xr.open_dataset(in_file)\n",
    "\n",
    "f='/glade/campaign/asp/djk2120/PPEn11/CTL2010/hist/PPEn08_CTL2010_OAAT0000.clm2.h0.2005-02-01-00000.nc'\n",
    "ds2=xr.open_dataset(f)\n",
    "ivals=ds2.grid1d_ixy.astype(int)-1  #python indexing starts at 0\n",
    "jvals=ds2.grid1d_jxy.astype(int)-1\n",
    "ds_SP = SP.TLAI[:,jvals,ivals]"
   ]
  },
  {
   "cell_type": "markdown",
   "id": "009ed1a4-fd60-48bb-bd17-af99c3c74697",
   "metadata": {
    "tags": []
   },
   "source": [
    "### Global mean annual mean GPP"
   ]
  },
  {
   "cell_type": "code",
   "execution_count": null,
   "id": "2601a19b-5ed4-4729-81b1-b33306a74962",
   "metadata": {},
   "outputs": [],
   "source": [
    "# select target variable and divide LHC dataset into training and testing subsets\n",
    "var_raw=gmean(amean(ds.GPP).mean(dim='year'),ds.la)*24*60*60 #Global avg GPP (kgC/m2/day)\n",
    "var = normalize(var_raw)\n",
    "n_test = 50 # number of ensemble members to test emulator\n",
    "Y = var[1:].values # target variable excluding default model [0]\n",
    "default = var[0].values # default model value\n",
    "\n",
    "X_test, X_train = ppe_params[:n_test], ppe_params[n_test:]\n",
    "y_test, y_train = Y[:n_test], Y[n_test:]"
   ]
  },
  {
   "cell_type": "code",
   "execution_count": null,
   "id": "4df14e6a-4fb8-4880-947c-914314300f7f",
   "metadata": {},
   "outputs": [],
   "source": [
    "# define kernal\n",
    "kernel_linear = gpflow.kernels.Linear(active_dims=range(num_params),variance=1)\n",
    "kernel_matern32 = gpflow.kernels.Matern32(active_dims=range(num_params), variance=1, lengthscales = np.tile(1,32))\n",
    "kernel_matern52 = gpflow.kernels.Matern52(active_dims=range(num_params),variance=1,lengthscales=np.tile(1,32))\n",
    "kernel_RBF = gpflow.kernels.RBF(active_dims = range(num_params), lengthscales=np.tile(1,num_params))\n",
    "\n",
    "kernel = kernel_linear + kernel_matern32\n",
    "\n",
    "# define emulator model and train\n",
    "emulator = gp_model(np.array(X_train),np.array(y_train),kernel = kernel)\n",
    "emulator.train()"
   ]
  },
  {
   "cell_type": "code",
   "execution_count": null,
   "id": "927cc92c-8351-4bc1-b932-abc7f0f46bf7",
   "metadata": {},
   "outputs": [],
   "source": [
    "# Predict test points with emulator\n",
    "y_pred, y_pred_var = emulator.predict(X_test.values)\n",
    "\n",
    "# plot predicted values\n",
    "from sklearn.metrics import mean_squared_error\n",
    "rms = mean_squared_error(y_test, y_pred, squared=False)\n",
    "\n",
    "y_test_raw = unnormalize(y_test,var_raw)\n",
    "\n",
    "plt.scatter(y_test_raw,unnormalize(y_pred,var_raw))\n",
    "plt.plot([min(y_test_raw),max(y_test_raw)],[min(y_test_raw),max(y_test_raw)],c='k',linestyle='--',label='1:1 line')\n",
    "plt.text(min(y_test_raw),max(y_test_raw),['RMSE = ',np.round(rms,3)])\n",
    "plt.xlabel('CLM global mean annual mean GPP (kgC/m2/day)')\n",
    "plt.ylabel('emulated global mean annual mean GPP (kgC/m2/day)')\n",
    "plt.legend(loc = 'lower right')"
   ]
  },
  {
   "cell_type": "code",
   "execution_count": null,
   "id": "ef0a7818-781e-49fc-a1ba-22f378fd510b",
   "metadata": {},
   "outputs": [],
   "source": [
    "# One-at-a-time sensitivity \n",
    "n=21\n",
    "s = np.linspace(0,1,n)\n",
    "unif = pd.concat([pd.DataFrame(np.tile(0.5,n))]*num_params,axis=1) # hold all parameters at median value\n",
    "unif.columns = ppe_params.columns\n",
    "#unif['leafcn'] = np.tile(0.8,n) # change individual parameter default setting for OAAT"
   ]
  },
  {
   "cell_type": "code",
   "execution_count": null,
   "id": "3df3b807-27b5-42d7-9b33-58be9c397e0c",
   "metadata": {},
   "outputs": [],
   "source": [
    "plt.figure(figsize=[16,14])\n",
    "sample = unif\n",
    "for i, p in enumerate(ppe_params.columns):\n",
    "    \n",
    "    sample[p] = s\n",
    "    oaat, v = emulator.predict(sample)\n",
    "    sample[p] = np.tile(0.5,n) # set column back to median\n",
    "    \n",
    "    ax=plt.subplot(7,5,i+1)\n",
    "    ax.fill_between(s, oaat-3.0*v**0.5, oaat+3.0*v**0.5,color='peru',alpha=0.4) # shade three standard deviations\n",
    "    ax.plot(s,oaat,c='k')\n",
    "    plt.text(0,0.2,p)\n",
    "    plt.plot([0,1],[default, default],'--',c='k')\n",
    "    ax.set_ylim([0,1])\n",
    "    if i == 15:\n",
    "        plt.ylabel('Global mean annual mean GPP (normalized)',fontsize=12)\n",
    "    \n",
    "#plt.savefig('../figs/param_sens/OAAT_sensitivity_GM-AM_GPP.png',dpi=200)"
   ]
  },
  {
   "cell_type": "code",
   "execution_count": null,
   "id": "de1c8f53-06a1-46f5-b4a2-535066f814a7",
   "metadata": {},
   "outputs": [],
   "source": [
    "# fourier amplitude sensitivity test w/emulator\n",
    "problem = {\n",
    "    'names': ppe_params.columns,\n",
    "    'num_vars': num_params,\n",
    "    'bounds': [[0, 1]],\n",
    "}\n",
    "\n",
    "sample = fast_sampler.sample(problem, 1000, M=4, seed=None)\n",
    "Y, _ = emulator.predict(sample)\n",
    "FAST = fast.analyze(problem, Y, M=4, num_resamples=100, conf_level=0.95, print_to_console=False, seed=None)\n",
    "gpp_sens = pd.DataFrame.from_dict(FAST)\n",
    "gpp_sens.index = gpp_sens.names\n",
    "df_sens = gpp_sens.sort_values(by=['S1'],ascending=False)"
   ]
  },
  {
   "cell_type": "code",
   "execution_count": null,
   "id": "9e0b49df-ec77-4bbd-ae52-efcb68d915c2",
   "metadata": {},
   "outputs": [],
   "source": [
    "plt.figure(num=None, figsize=(12, 6), dpi=100, facecolor='w', edgecolor='k')\n",
    "plt.rcParams.update({'font.size': 12})\n",
    "\n",
    "ax = plt.subplot(1,1,1)\n",
    "ax.bar(df_sens.names,df_sens['ST'],color='lightgrey',label='interactions')\n",
    "ax.bar(df_sens.names,df_sens['S1'],color='darkolivegreen',label='main effects')\n",
    "ax.set_xticklabels(ax.get_xticklabels(), rotation = 90)\n",
    "plt.legend(loc='upper right')\n",
    "plt.ylabel('Proportion of total emulated variance (total=1)')\n",
    "plt.title('Global mean annual mean GPP')\n",
    "plt.tight_layout()\n",
    "plt.savefig('../figs/param_sens/FAST_sensitivity_GM-AM_GPP.png',dpi=200)"
   ]
  },
  {
   "cell_type": "markdown",
   "id": "f6334ab3-e43f-4a1e-b03d-73cad271faf6",
   "metadata": {
    "tags": []
   },
   "source": [
    "### Global mean annual mean Respiration"
   ]
  },
  {
   "cell_type": "code",
   "execution_count": null,
   "id": "0b8cd3f0-dc73-4557-b3c5-15a01af5b03f",
   "metadata": {},
   "outputs": [],
   "source": [
    "# select target variable and divide LHC dataset into training and testing subsets\n",
    "var_raw=gmean(amean(ds.ER).mean(dim='year'),ds.la)*24*60*60 #Global avg RE (kgC/m2/day)\n",
    "var = normalize(var_raw)\n",
    "n_test = 50 # number of ensemble members to test emulator\n",
    "Y = var[1:].values # target variable excluding default model [0]\n",
    "default = var[0].values # default model value\n",
    "\n",
    "X_test, X_train = ppe_params[:n_test], ppe_params[n_test:]\n",
    "y_test, y_train = Y[:n_test], Y[n_test:]"
   ]
  },
  {
   "cell_type": "code",
   "execution_count": null,
   "id": "53fa950e-b234-4014-bd77-4165bcbb601d",
   "metadata": {},
   "outputs": [],
   "source": [
    "# define kernal\n",
    "kernel_linear = gpflow.kernels.Linear(active_dims=range(num_params),variance=1)\n",
    "kernel_matern32 = gpflow.kernels.Matern32(active_dims=range(num_params), variance=1, lengthscales = np.tile(1,32))\n",
    "kernel_matern52 = gpflow.kernels.Matern52(active_dims=range(num_params),variance=1,lengthscales=np.tile(1,32))\n",
    "kernel_RBF = gpflow.kernels.RBF(active_dims = range(num_params), lengthscales=np.tile(1,num_params))\n",
    "#kernel_poly = gpflow.kernels.Polynomial(active_dims=range(num_params),variance=3,offset=0)\n",
    "\n",
    "kernel = kernel_linear + kernel_matern32\n",
    "\n",
    "# define emulator model and train\n",
    "emulator = gp_model(np.array(X_train),np.array(y_train),kernel = kernel)\n",
    "emulator.train()"
   ]
  },
  {
   "cell_type": "code",
   "execution_count": null,
   "id": "d26d93ad-a077-4518-bed0-70ebfb3fa282",
   "metadata": {},
   "outputs": [],
   "source": [
    "# Predict test points with emulator\n",
    "y_pred, y_pred_var = emulator.predict(X_test.values)\n",
    "\n",
    "# plot predicted values\n",
    "from sklearn.metrics import mean_squared_error\n",
    "rms = mean_squared_error(y_test, y_pred, squared=False)\n",
    "\n",
    "y_test_raw = unnormalize(y_test,var_raw)\n",
    "\n",
    "plt.scatter(y_test_raw,unnormalize(y_pred,var_raw))\n",
    "plt.plot([min(y_test_raw),max(y_test_raw)],[min(y_test_raw),max(y_test_raw)],c='k',linestyle='--',label='1:1 line')\n",
    "plt.text(min(y_test_raw),max(y_test_raw),['RMSE = ',np.round(rms,4)])\n",
    "plt.xlabel('CLM global mean annual mean ER (kgC/m2/day)')\n",
    "plt.ylabel('emulated global mean annual mean ER (kgC/m2/day)')\n",
    "plt.legend(loc='lower right')"
   ]
  },
  {
   "cell_type": "code",
   "execution_count": null,
   "id": "278d2001-e187-4082-b642-140499e1044c",
   "metadata": {},
   "outputs": [],
   "source": [
    "# One-at-a-time sensitivity \n",
    "n=21\n",
    "s = np.linspace(0,1,n)\n",
    "unif = pd.concat([pd.DataFrame(np.tile(0.5,n))]*num_params,axis=1) # hold all parameters at median value\n",
    "unif.columns = ppe_params.columns\n",
    "#unif['leafcn'] = np.tile(0.8,n) # change individual parameter default setting for OAAT"
   ]
  },
  {
   "cell_type": "code",
   "execution_count": null,
   "id": "87b788be-786b-49f2-a8a4-4d59c95fb5e1",
   "metadata": {},
   "outputs": [],
   "source": [
    "plt.figure(figsize=[14,12])\n",
    "sample = unif\n",
    "for i, p in enumerate(ppe_params.columns):\n",
    "    \n",
    "    sample[p] = s\n",
    "    oaat, v = emulator.predict(sample)\n",
    "    sample[p] = np.tile(0.5,n) # set column back to median\n",
    "    \n",
    "    ax=plt.subplot(7,5,i+1)\n",
    "    ax.fill_between(s, oaat-3.0*v**0.5, oaat+3.0*v**0.5,color='peru',alpha=0.4) # shade three standard deviations\n",
    "    ax.plot(s,oaat,c='k')\n",
    "    plt.text(0,0.2,p)\n",
    "    plt.plot([0,1],[default, default],'--',c='k')\n",
    "    ax.set_ylim([0,1])\n",
    "    if i == 15:\n",
    "        plt.ylabel('Global mean annual mean ER (normalized)',fontsize=12)\n",
    "    \n",
    "plt.savefig('../figs/param_sens/OAAT_sensitivity_GM-AM_ER.png',dpi=200)"
   ]
  },
  {
   "cell_type": "code",
   "execution_count": null,
   "id": "542845b9-914c-4616-9f33-03202ac5dd0e",
   "metadata": {},
   "outputs": [],
   "source": [
    "# fourier amplitude sensitivity test\n",
    "problem = {\n",
    "    'names': ppe_params.columns,\n",
    "    'num_vars': num_params,\n",
    "    'bounds': [[0, 1]],\n",
    "}\n",
    "\n",
    "sample = fast_sampler.sample(problem, 1000, M=4, seed=None)\n",
    "Y, _ = emulator.predict(sample)\n",
    "FAST = fast.analyze(problem, Y, M=4, num_resamples=100, conf_level=0.95, print_to_console=False, seed=None)\n",
    "er_sens = pd.DataFrame.from_dict(FAST)\n",
    "er_sens.index = er_sens.names\n",
    "df_sens = er_sens.sort_values(by=['S1'],ascending=False)"
   ]
  },
  {
   "cell_type": "code",
   "execution_count": null,
   "id": "4fbb621a-c58f-4f0d-941b-5c9eda35b718",
   "metadata": {},
   "outputs": [],
   "source": [
    "plt.figure(num=None, figsize=(12, 6), dpi=100, facecolor='w', edgecolor='k')\n",
    "plt.rcParams.update({'font.size': 12})\n",
    "\n",
    "ax = plt.subplot(1,1,1)\n",
    "ax.bar(df_sens.names,df_sens['ST'],color='lightgrey',label='interactions')\n",
    "ax.bar(df_sens.names,df_sens['S1'],color='darkolivegreen',label='main effects')\n",
    "ax.set_xticklabels(ax.get_xticklabels(), rotation = 90)\n",
    "plt.legend(loc='upper right')\n",
    "plt.ylabel('Proportion of total emulated variance (total=1)')\n",
    "plt.title('Global mean annual mean Ecosystem Respiration (ER)')\n",
    "plt.tight_layout()\n",
    "plt.savefig('../figs/param_sens/FAST_sensitivity_GM-AM_ER.png',dpi=200)"
   ]
  },
  {
   "cell_type": "markdown",
   "id": "5eeac2eb-0d7f-40e1-a9a5-3e85a8df3424",
   "metadata": {
    "tags": []
   },
   "source": [
    "### Global mean annual mean Evapotranspiration (W/m2)"
   ]
  },
  {
   "cell_type": "code",
   "execution_count": null,
   "id": "092920e9-360b-4663-bf4e-1202c0ba77f9",
   "metadata": {},
   "outputs": [],
   "source": [
    "# select target variable and divide LHC dataset into training and testing subsets\n",
    "var_raw = gmean(amean(ds.EFLX_LH_TOT).mean(dim='year'),ds.la)\n",
    "var = normalize(var_raw)\n",
    "n_test = 50 # number of ensemble members to test emulator\n",
    "Y = var[1:].values # target variable excluding default model [0]\n",
    "default = var[0].values # default model value\n",
    "\n",
    "X_test, X_train = ppe_params[:n_test], ppe_params[n_test:]\n",
    "y_test, y_train = Y[:n_test], Y[n_test:]"
   ]
  },
  {
   "cell_type": "code",
   "execution_count": null,
   "id": "202bf0a7-b227-497a-825c-9cba74811948",
   "metadata": {},
   "outputs": [],
   "source": [
    "# define kernal\n",
    "kernel_linear = gpflow.kernels.Linear(active_dims=range(num_params),variance=1)\n",
    "kernel_matern32 = gpflow.kernels.Matern32(active_dims=range(num_params), variance=1, lengthscales = np.tile(1,32))\n",
    "kernel_matern52 = gpflow.kernels.Matern52(active_dims=range(num_params),variance=1,lengthscales=np.tile(1,32))\n",
    "kernel_RBF = gpflow.kernels.RBF(active_dims = range(num_params), lengthscales=np.tile(1,num_params))\n",
    "#kernel_poly = gpflow.kernels.Polynomial(active_dims=range(num_params),variance=3,offset=0)\n",
    "\n",
    "kernel = kernel_linear + kernel_matern32\n",
    "\n",
    "# define emulator model and train\n",
    "emulator = gp_model(np.array(X_train),np.array(y_train),kernel = kernel)\n",
    "emulator.train()"
   ]
  },
  {
   "cell_type": "code",
   "execution_count": null,
   "id": "c5ae6d42-94da-4cb5-95da-8de417cf8325",
   "metadata": {},
   "outputs": [],
   "source": [
    "# Predict test points with emulator\n",
    "y_pred, y_pred_var = emulator.predict(X_test.values)\n",
    "\n",
    "# plot predicted values\n",
    "from sklearn.metrics import mean_squared_error\n",
    "rms = mean_squared_error(y_test, y_pred, squared=False)\n",
    "\n",
    "y_test_raw = unnormalize(y_test,var_raw)\n",
    "\n",
    "plt.scatter(y_test_raw,unnormalize(y_pred,var_raw))\n",
    "plt.plot([min(y_test_raw),max(y_test_raw)],[min(y_test_raw),max(y_test_raw)],c='k',linestyle='--',label='1:1 line')\n",
    "plt.text(min(y_test_raw),max(y_test_raw),['RMSE = ',np.round(rms,4)])\n",
    "plt.xlabel('CLM global mean annual mean ET (W/m2)')\n",
    "plt.ylabel('emulated global mean annual mean ET (W/m2)')\n",
    "plt.legend(loc='lower right')"
   ]
  },
  {
   "cell_type": "code",
   "execution_count": null,
   "id": "d2f6ade4-ecea-4405-bc1e-17b4a9b26e9a",
   "metadata": {},
   "outputs": [],
   "source": [
    "# One-at-a-time sensitivity\n",
    "n=21\n",
    "s = np.linspace(0,1,n)\n",
    "unif = pd.concat([pd.DataFrame(np.tile(0.5,n))]*num_params,axis=1) # hold all parameters at median value\n",
    "unif.columns = ppe_params.columns\n",
    "#unif['leafcn'] = np.tile(0.8,n) # change individual parameter default setting for OAAT"
   ]
  },
  {
   "cell_type": "code",
   "execution_count": null,
   "id": "7ef30a5b-a49c-450a-a846-ae4c09e508f4",
   "metadata": {},
   "outputs": [],
   "source": [
    "plt.figure(figsize=[14,12])\n",
    "sample = unif\n",
    "for i, p in enumerate(ppe_params.columns):\n",
    "    \n",
    "    sample[p] = s\n",
    "    oaat, v = emulator.predict(sample)\n",
    "    sample[p] = np.tile(0.5,n) # set column back to median\n",
    "    \n",
    "    ax=plt.subplot(7,5,i+1)\n",
    "    ax.fill_between(s, oaat-3.0*v**0.5, oaat+3.0*v**0.5,color='peru',alpha=0.4) # shade three standard deviations\n",
    "    ax.plot(s,oaat,c='k')\n",
    "    plt.text(0,0.1,p)\n",
    "    plt.plot([0,1],[default, default],'--',c='k')\n",
    "    ax.set_ylim([0,1])\n",
    "    if i == 15:\n",
    "        plt.ylabel('Global mean annual mean ET (normalized)',fontsize=12)\n",
    "    \n",
    "plt.savefig('../figs/param_sens/OAAT_sensitivity_GM-AM_ET.png',dpi=200)"
   ]
  },
  {
   "cell_type": "code",
   "execution_count": null,
   "id": "7ef3455d-10bb-42fc-bcff-670065b15fbc",
   "metadata": {},
   "outputs": [],
   "source": [
    "# fourier amplitude sensitivity test\n",
    "problem = {\n",
    "    'names': ppe_params.columns,\n",
    "    'num_vars': num_params,\n",
    "    'bounds': [[0, 1]],\n",
    "}\n",
    "\n",
    "sample = fast_sampler.sample(problem, 1000, M=4, seed=None)\n",
    "Y, _ = emulator.predict(sample)\n",
    "FAST = fast.analyze(problem, Y, M=4, num_resamples=100, conf_level=0.95, print_to_console=False, seed=None)\n",
    "et_sens = pd.DataFrame.from_dict(FAST)\n",
    "et_sens.index = et_sens.names\n",
    "df_sens = et_sens.sort_values(by=['S1'],ascending=False)"
   ]
  },
  {
   "cell_type": "code",
   "execution_count": null,
   "id": "afefb25f-3ba4-43df-9e19-ec54bcd29b29",
   "metadata": {},
   "outputs": [],
   "source": [
    "plt.figure(num=None, figsize=(12, 6), dpi=100, facecolor='w', edgecolor='k')\n",
    "plt.rcParams.update({'font.size': 12})\n",
    "\n",
    "ax = plt.subplot(1,1,1)\n",
    "ax.bar(df_sens.names,df_sens['ST'],color='lightgrey',label='interactions')\n",
    "ax.bar(df_sens.names,df_sens['S1'],color='darkolivegreen',label='main effects')\n",
    "ax.set_xticklabels(ax.get_xticklabels(), rotation = 90)\n",
    "plt.legend(loc='upper right')\n",
    "plt.ylabel('Proportion of total emulated variance (total=1)')\n",
    "plt.title('Global mean annual mean Evapotranspiration (EFLX_LH_TOT)')\n",
    "plt.tight_layout()\n",
    "plt.savefig('../figs/param_sens/FAST_sensitivity_GM-AM_ET.png',dpi=200)"
   ]
  },
  {
   "cell_type": "markdown",
   "id": "d4d15468-ef13-41b6-8000-ac79a9dafa25",
   "metadata": {
    "tags": []
   },
   "source": [
    "### Global mean annual mean total soil water"
   ]
  },
  {
   "cell_type": "code",
   "execution_count": null,
   "id": "8c6827bf-eff6-444a-a852-51c7a8d88e8d",
   "metadata": {},
   "outputs": [],
   "source": [
    "# select target variable and divide LHC dataset into training and testing subsets\n",
    "var_raw = gmean(amean(ds.TWS).mean(dim='year'),ds.la)\n",
    "var = normalize(var_raw)\n",
    "n_test = 50 # number of ensemble members to test emulator\n",
    "Y = var[1:].values # target variable excluding default model [0]\n",
    "default = var[0].values # default model value\n",
    "\n",
    "X_test, X_train = ppe_params[:n_test], ppe_params[n_test:]\n",
    "y_test, y_train = Y[:n_test], Y[n_test:]"
   ]
  },
  {
   "cell_type": "code",
   "execution_count": null,
   "id": "e42b744f-a421-43f1-9d47-6aef7b99838c",
   "metadata": {},
   "outputs": [],
   "source": [
    "# define kernal\n",
    "kernel_linear = gpflow.kernels.Linear(active_dims=range(num_params),variance=1)\n",
    "kernel_matern32 = gpflow.kernels.Matern32(active_dims=range(num_params), variance=1, lengthscales = np.tile(1,32))\n",
    "kernel_matern52 = gpflow.kernels.Matern52(active_dims=range(num_params),variance=1,lengthscales=np.tile(1,32))\n",
    "kernel_RBF = gpflow.kernels.RBF(active_dims = range(num_params), lengthscales=np.tile(1,num_params))\n",
    "#kernel_poly = gpflow.kernels.Polynomial(active_dims=range(num_params),variance=3,offset=0)\n",
    "\n",
    "kernel = kernel_linear + kernel_matern32\n",
    "\n",
    "# define emulator model and train\n",
    "emulator = gp_model(np.array(X_train),np.array(y_train),kernel = kernel)\n",
    "emulator.train()"
   ]
  },
  {
   "cell_type": "code",
   "execution_count": null,
   "id": "feca8a75-7678-4d8b-afd0-60c3325cf3cd",
   "metadata": {},
   "outputs": [],
   "source": [
    "# Predict test points with emulator\n",
    "y_pred, y_pred_var = emulator.predict(X_test.values)\n",
    "\n",
    "# plot predicted values\n",
    "from sklearn.metrics import mean_squared_error\n",
    "rms = mean_squared_error(y_test, y_pred, squared=False)\n",
    "\n",
    "y_test_raw = unnormalize(y_test,var_raw)\n",
    "\n",
    "plt.scatter(y_test_raw,unnormalize(y_pred,var_raw))\n",
    "plt.plot([min(y_test_raw),max(y_test_raw)],[min(y_test_raw),max(y_test_raw)],c='k',linestyle='--',label='1:1 line')\n",
    "plt.text(min(y_test_raw),max(y_test_raw),['RMSE = ',np.round(rms,4)])\n",
    "plt.xlabel('CLM global mean annual mean TWS (mm)')\n",
    "plt.ylabel('emulated global mean annual mean TWS (mm)')\n",
    "plt.legend(loc='lower right')"
   ]
  },
  {
   "cell_type": "code",
   "execution_count": null,
   "id": "352e49c1-71cd-4a27-85ed-f37516ab92af",
   "metadata": {},
   "outputs": [],
   "source": [
    "# One-at-a-time sensitivity\n",
    "n=21\n",
    "s = np.linspace(0,1,n)\n",
    "unif = pd.concat([pd.DataFrame(np.tile(0.5,n))]*num_params,axis=1) # hold all parameters at median value\n",
    "unif.columns = ppe_params.columns\n",
    "#unif['leafcn'] = np.tile(0.8,n) # change individual parameter default setting for OAAT"
   ]
  },
  {
   "cell_type": "code",
   "execution_count": null,
   "id": "af3ec0af-e1c6-441d-9079-8cf9423a107f",
   "metadata": {},
   "outputs": [],
   "source": [
    "plt.figure(figsize=[14,12])\n",
    "sample = unif\n",
    "for i, p in enumerate(ppe_params.columns):\n",
    "    \n",
    "    sample[p] = s\n",
    "    oaat, v = emulator.predict(sample)\n",
    "    sample[p] = np.tile(0.5,n) # set column back to median\n",
    "    \n",
    "    ax=plt.subplot(7,5,i+1)\n",
    "    ax.fill_between(s, oaat-3.0*v**0.5, oaat+3.0*v**0.5,color='peru',alpha=0.4) # shade three standard deviations\n",
    "    ax.plot(s,oaat,c='k')\n",
    "    plt.text(0,0.36,p)\n",
    "    plt.plot([0,1],[default, default],'--',c='k')\n",
    "    ax.set_ylim([0,1])\n",
    "    if i == 15:\n",
    "        plt.ylabel('Global mean annual mean LAI (normalized)',fontsize=12)\n",
    "    \n",
    "plt.savefig('../figs/param_sens/OAAT_sensitivity_GM-AM_TWS.png',dpi=200)"
   ]
  },
  {
   "cell_type": "code",
   "execution_count": null,
   "id": "8c36f8e5-1a9b-4be3-a76c-c4febda7e30a",
   "metadata": {},
   "outputs": [],
   "source": [
    "# fourier amplitude sensitivity test\n",
    "problem = {\n",
    "    'names': ppe_params.columns,\n",
    "    'num_vars': num_params,\n",
    "    'bounds': [[0, 1]],\n",
    "}\n",
    "\n",
    "sample = fast_sampler.sample(problem, 1000, M=4, seed=None)\n",
    "Y, _ = emulator.predict(sample)\n",
    "FAST = fast.analyze(problem, Y, M=4, num_resamples=100, conf_level=0.95, print_to_console=False, seed=None)\n",
    "tws_sens = pd.DataFrame.from_dict(FAST)\n",
    "tws_sens.index = tws_sens.names\n",
    "df_sens = tws_sens.sort_values(by=['S1'],ascending=False)"
   ]
  },
  {
   "cell_type": "code",
   "execution_count": null,
   "id": "6088e4ea-de33-483a-a8c6-3a7f2913bd92",
   "metadata": {},
   "outputs": [],
   "source": [
    "plt.figure(num=None, figsize=(12, 6), dpi=100, facecolor='w', edgecolor='k')\n",
    "plt.rcParams.update({'font.size': 12})\n",
    "\n",
    "ax = plt.subplot(1,1,1)\n",
    "ax.bar(df_sens.names,df_sens['ST'],color='lightgrey',label='interactions')\n",
    "ax.bar(df_sens.names,df_sens['S1'],color='darkolivegreen',label='main effects')\n",
    "ax.set_xticklabels(ax.get_xticklabels(), rotation = 90)\n",
    "plt.legend(loc='upper right')\n",
    "plt.ylabel('Proportion of total emulated variance (total=1)')\n",
    "plt.title('Global mean annual mean Total Water Storage (TWS)')\n",
    "plt.tight_layout()\n",
    "plt.savefig('../figs/param_sens/FAST_sensitivity_GM-AM_TWS.png',dpi=200)"
   ]
  },
  {
   "cell_type": "markdown",
   "id": "8bce95e7-9f40-4d8f-9568-b4953fc1f9f3",
   "metadata": {
    "tags": []
   },
   "source": [
    "### Global mean annual mean LAI"
   ]
  },
  {
   "cell_type": "code",
   "execution_count": null,
   "id": "1bd11e68-b0c7-4a39-802f-88defcd1fad1",
   "metadata": {},
   "outputs": [],
   "source": [
    "# select target variable and divide LHC dataset into training and testing subsets\n",
    "var_raw = gmean(amean(ds.TLAI).mean(dim='year'),ds.la)\n",
    "var = normalize(var_raw)\n",
    "n_test = 50 # number of ensemble members to test emulator\n",
    "Y = var[1:].values # target variable excluding default model [0]\n",
    "default = var[0].values # default model value\n",
    "\n",
    "X_test, X_train = ppe_params[:n_test], ppe_params[n_test:]\n",
    "y_test, y_train = Y[:n_test], Y[n_test:]"
   ]
  },
  {
   "cell_type": "code",
   "execution_count": null,
   "id": "bf6bf1fb-bda2-4afb-b6f9-508b3446c1db",
   "metadata": {},
   "outputs": [],
   "source": [
    "sp_raw = gmean(amean(ds_SP).mean(dim='year'),ds.la)"
   ]
  },
  {
   "cell_type": "code",
   "execution_count": null,
   "id": "eefe284d-9dbb-447e-bc3e-aeb884bc6567",
   "metadata": {},
   "outputs": [],
   "source": [
    "# define kernal\n",
    "kernel_linear = gpflow.kernels.Linear(active_dims=range(num_params),variance=1)\n",
    "kernel_matern32 = gpflow.kernels.Matern32(active_dims=range(num_params), variance=1, lengthscales = np.tile(1,32))\n",
    "kernel_matern52 = gpflow.kernels.Matern52(active_dims=range(num_params),variance=1,lengthscales=np.tile(1,32))\n",
    "kernel_RBF = gpflow.kernels.RBF(active_dims = range(num_params), lengthscales=np.tile(1,num_params))\n",
    "#kernel_poly = gpflow.kernels.Polynomial(active_dims=range(num_params),variance=3,offset=0)\n",
    "\n",
    "kernel = kernel_linear + kernel_matern32\n",
    "\n",
    "# define emulator model and train\n",
    "emulator = gp_model(np.array(X_train),np.array(y_train),kernel = kernel)\n",
    "emulator.train()"
   ]
  },
  {
   "cell_type": "code",
   "execution_count": null,
   "id": "8271a884-79e3-423b-bc0d-f52c7f055844",
   "metadata": {},
   "outputs": [],
   "source": [
    "# Predict test points with emulator\n",
    "y_pred, y_pred_var = emulator.predict(X_test.values)\n",
    "\n",
    "# plot predicted values\n",
    "rms = mean_squared_error(y_test, y_pred, squared=False)\n",
    "\n",
    "y_test_raw = unnormalize(y_test,var_raw)\n",
    "\n",
    "plt.scatter(y_test_raw,unnormalize(y_pred,var_raw))\n",
    "plt.plot([min(y_test_raw),max(y_test_raw)],[min(y_test_raw),max(y_test_raw)],c='k',linestyle='--',label='1:1 line')\n",
    "plt.text(min(y_test_raw),max(y_test_raw),['RMSE=',np.round(rms,4)])\n",
    "plt.xlabel('CLM global mean annual mean LAI')\n",
    "plt.ylabel('Emulated global mean annual mean LAI')\n",
    "plt.legend(loc='lower right')"
   ]
  },
  {
   "cell_type": "code",
   "execution_count": null,
   "id": "111658e0-17df-4b61-95cb-636a772abf19",
   "metadata": {},
   "outputs": [],
   "source": [
    "# One-at-a-time sensitivity\n",
    "n=21\n",
    "s = np.linspace(0,1,n)\n",
    "unif = pd.concat([pd.DataFrame(np.tile(0.5,n))]*num_params,axis=1) # hold all parameters at median value\n",
    "unif.columns = ppe_params.columns\n",
    "#unif['leafcn'] = np.tile(0.8,n) # change individual parameter default setting for OAAT\n",
    "#unif['leaf_long'] = np.tile(0.15,n) # change individual parameter default setting for OAAT"
   ]
  },
  {
   "cell_type": "code",
   "execution_count": null,
   "id": "bb7da750-c016-41fd-a3f3-ad786c64cc6d",
   "metadata": {},
   "outputs": [],
   "source": [
    "plt.figure(figsize=[16,14])\n",
    "sample = unif\n",
    "for i, p in enumerate(ppe_params.columns):\n",
    "    \n",
    "    sample[p] = s\n",
    "    oaat, v = emulator.predict(sample)\n",
    "    sample[p] = np.tile(0.5,n) # set column back to median\n",
    "    \n",
    "    ax=plt.subplot(7,5,i+1)\n",
    "    ax.fill_between(s, oaat-3.0*v**0.5, oaat+3.0*v**0.5,color='peru',alpha=0.4) # shade three standard deviations\n",
    "    ax.plot(s,oaat,c='k')\n",
    "    ax.plot([0,1],[sp_raw,sp_raw],linestyle = '-.',c='green',label='CLM-SP')\n",
    "    plt.text(0,0.02,p)\n",
    "    plt.plot([0,1],[default, default],'--',c='k',label='default CLM')\n",
    "    ax.set_ylim([0,1])\n",
    "    if i == 15:\n",
    "        plt.ylabel('Global mean annual mean LAI (normalized)',fontsize=12)\n",
    "    if i == 0:\n",
    "        plt.legend(loc = 'upper left')\n",
    "    \n",
    "plt.savefig('../figs/param_sens/OAAT_sensitivity_GM-AM_LAI.png',dpi=200)"
   ]
  },
  {
   "cell_type": "code",
   "execution_count": null,
   "id": "5d49a9ff-08be-48ae-88c7-df6851ef975e",
   "metadata": {},
   "outputs": [],
   "source": [
    "# fourier amplitude sensitivity test\n",
    "problem = {\n",
    "    'names': ppe_params.columns,\n",
    "    'num_vars': num_params,\n",
    "    'bounds': [[0, 1]],\n",
    "}\n",
    "\n",
    "sample = fast_sampler.sample(problem, 1000, M=4, seed=None)\n",
    "Y, _ = emulator.predict(sample)\n",
    "FAST = fast.analyze(problem, Y, M=4, num_resamples=100, conf_level=0.95, print_to_console=False, seed=None)\n",
    "lai_sens = pd.DataFrame.from_dict(FAST)\n",
    "lai_sens.index = lai_sens.names\n",
    "df_sens = lai_sens.sort_values(by=['S1'],ascending=False)"
   ]
  },
  {
   "cell_type": "code",
   "execution_count": null,
   "id": "264b8189-7a73-43da-99e0-e95afa5c7ec4",
   "metadata": {},
   "outputs": [],
   "source": [
    "plt.figure(num=None, figsize=(12, 6), dpi=100, facecolor='w', edgecolor='k')\n",
    "plt.subplot\n",
    "plt.rcParams.update({'font.size': 12})\n",
    "\n",
    "ax = plt.subplot(1,1,1)\n",
    "ax.bar(df_sens.names,df_sens['ST'],color='lightgrey',label='interactions')\n",
    "ax.bar(df_sens.names,df_sens['S1'],color='darkolivegreen',label='main effects')\n",
    "ax.set_xticklabels(ax.get_xticklabels(), rotation = 90)\n",
    "plt.legend(loc='upper right')\n",
    "plt.ylabel('Proportion of total emulated variance (total=1)')\n",
    "plt.title('Global mean annual mean Leaf Area Index (TLAI)')\n",
    "plt.tight_layout()\n",
    "#plt.savefig('../figs/param_sens/FAST_sensitivity_GM-AM_TLAI.png',dpi=200)"
   ]
  },
  {
   "cell_type": "markdown",
   "id": "5191ab74-98e3-469d-96c1-3b6e2b77cfeb",
   "metadata": {},
   "source": [
    "### Heatmap"
   ]
  },
  {
   "cell_type": "code",
   "execution_count": null,
   "id": "8bf95d1e-9be4-4732-9b11-eee1d06abe69",
   "metadata": {},
   "outputs": [],
   "source": [
    "# heatmap of all global mean variables\n",
    "# group parameters by process\n",
    "df_sens = pd.DataFrame({'Leaf Area':lai_sens['S1'],'Gross Primary Production':gpp_sens['S1'],'Ecosystem Respiration':er_sens['S1'],'Evapotranspiration':et_sens['S1'],'Total Water Storage':tws_sens['S1']})\n",
    "\n",
    "params = ['jmaxb0', 'jmaxb1', 'leafcn', 'wc2wjb0', 'medlynintercept', 'medlynslope', 'kcha', 'tpu25ratio', 'tpuse_sf', 'theta_cj',\n",
    "          'kmax', 'krmax', 'psi50', 'fstor2tran','crit_dayl', 'froot_leaf', 'nstem', 'slatop','leaf_long', 'stem_leaf', 'soilpsi_off',\n",
    "          'grperc', 'lmr_intercept_atkin', 'lmrha', 'lmrhd', 'q10_mr', 'FUN_fracfixers', 'KCN', 'a_fix', 'fff', 'd_max', 'sucsat_sf']\n",
    "\n",
    "df_sens = df_sens.reindex(params)\n",
    "var_names = ['Leaf Area','Gross Primary Production','Ecosystem Respiration','Evapotranspiration','Total Water Storage']"
   ]
  },
  {
   "cell_type": "code",
   "execution_count": null,
   "id": "233d2b45-fa44-4f02-bc8a-e507a5dd1e03",
   "metadata": {},
   "outputs": [],
   "source": [
    "plt.figure(num=None, figsize=(20, 12), dpi=100, facecolor='w', edgecolor='k')\n",
    "plt.rcParams.update({'font.size': 18})\n",
    "\n",
    "ax = plt.subplot(1,1,1)\n",
    "im = ax.imshow(100.0*df_sens.transpose(),interpolation = 'nearest',cmap='magma_r',vmin=0,vmax=25)\n",
    "\n",
    "\n",
    "# Show all ticks and label them with the respective list entries\n",
    "ax.set_xticks(np.arange(len(params)), labels=params)\n",
    "ax.set_xticklabels(ax.get_xticklabels(), rotation = 90)\n",
    "ax.set_yticks(np.arange(len(var_names)), labels=var_names)\n",
    "\n",
    "#cbar = plt.colorbar(im)\n",
    "cbar = ax.figure.colorbar(im, fraction=0.015,pad = 0.05)\n",
    "cbar.set_label(\"Relative influence \\n on ensemble variance (%)\")\n",
    "plt.tight_layout()\n",
    "plt.savefig('../figs/param_sens/FAST_sensitivity_GM-AM_heatmap.png',dpi=200)"
   ]
  }
 ],
 "metadata": {
  "kernelspec": {
   "display_name": "Python [conda env:miniconda3-mlenv]",
   "language": "python",
   "name": "conda-env-miniconda3-mlenv-py"
  },
  "language_info": {
   "codemirror_mode": {
    "name": "ipython",
    "version": 3
   },
   "file_extension": ".py",
   "mimetype": "text/x-python",
   "name": "python",
   "nbconvert_exporter": "python",
   "pygments_lexer": "ipython3",
   "version": "3.9.15"
  }
 },
 "nbformat": 4,
 "nbformat_minor": 5
}
