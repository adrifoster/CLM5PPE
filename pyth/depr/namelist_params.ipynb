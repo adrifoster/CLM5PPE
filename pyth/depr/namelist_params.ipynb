{
 "cells": [
  {
   "cell_type": "code",
   "execution_count": 1,
   "metadata": {},
   "outputs": [],
   "source": [
    "import numpy as np\n",
    "import pandas as pd\n",
    "import xarray as xr\n",
    "import glob\n",
    "import os\n",
    "import matplotlib.pyplot as plt\n",
    "%matplotlib inline"
   ]
  },
  {
   "cell_type": "code",
   "execution_count": 98,
   "metadata": {},
   "outputs": [],
   "source": [
    "thedir = '/glade/work/djk2120/ctsm_hardcode_co/cime/scripts/clm50c6_ctsmhardcodep_2deg_GSWP3V1_Sparse250_2000/CaseDocs/'\n",
    "thefil = 'lnd_in'\n",
    "lndin = thedir+thefil\n",
    "defaults ={}\n",
    "defaults['freelivfix_slope_wET']=0.0006\n",
    "defaults['freelivfix_intercept']=0.0117\n",
    "defaults['cmb_cmplt_fact']=[0.5,0.28]\n",
    "special =['cmb_cmplt_fact']\n"
   ]
  },
  {
   "cell_type": "code",
   "execution_count": 117,
   "metadata": {},
   "outputs": [],
   "source": [
    "params = open('params.txt','r')\n",
    "i = 0\n",
    "for line in params:\n",
    "    if '\\n' in line:\n",
    "        v = line[:-1]\n",
    "    else:\n",
    "        v = line\n",
    "    \n",
    "    if v in special:\n",
    "        x = defaults[v]\n",
    "    else:\n",
    "        cmd = 'grep '+v+' '+lndin+' > tmp.txt'\n",
    "        ret = os.system(cmd)\n",
    "        if ret != 0:\n",
    "            x = defaults[v]\n",
    "            #print(x)\n",
    "        else:\n",
    "            f = open('tmp.txt', 'r')\n",
    "            tmp = f.read().split()[2]\n",
    "            f.close()\n",
    "            if 'd' in tmp:\n",
    "                tmp = tmp.split('d')\n",
    "                x = float(tmp[0])*10**float(tmp[1])\n",
    "            else:\n",
    "                x = tmp\n",
    "params.close()"
   ]
  },
  {
   "cell_type": "code",
   "execution_count": null,
   "metadata": {},
   "outputs": [],
   "source": []
  }
 ],
 "metadata": {
  "kernelspec": {
   "display_name": "Python 3",
   "language": "python",
   "name": "python3"
  },
  "language_info": {
   "codemirror_mode": {
    "name": "ipython",
    "version": 3
   },
   "file_extension": ".py",
   "mimetype": "text/x-python",
   "name": "python",
   "nbconvert_exporter": "python",
   "pygments_lexer": "ipython3",
   "version": "3.6.8"
  }
 },
 "nbformat": 4,
 "nbformat_minor": 4
}
