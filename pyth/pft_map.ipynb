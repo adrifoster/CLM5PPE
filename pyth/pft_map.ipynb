{
 "cells": [
  {
   "cell_type": "markdown",
   "id": "9ac7f23b-d555-426f-bfd5-505c936eb64f",
   "metadata": {},
   "source": [
    "# Template for analyzing the CLM5-PPE\n",
    "- Updated Jan 4, 2023\n",
    "- Daniel Kennedy, djk2120@ucar.edu"
   ]
  },
  {
   "cell_type": "code",
   "execution_count": 1,
   "id": "10d023b9-81d4-4a50-bc7d-6b198b171c94",
   "metadata": {},
   "outputs": [],
   "source": [
    "import numpy as np\n",
    "import pandas as pd\n",
    "import xarray as xr\n",
    "import glob\n",
    "import matplotlib\n",
    "import matplotlib.pyplot as plt\n",
    "import cftime\n",
    "import dask\n",
    "import statsmodels.api as sm\n",
    "import seaborn as sns"
   ]
  },
  {
   "cell_type": "code",
   "execution_count": 2,
   "id": "84ab72fd-88ee-4661-ac23-088b55f51b9b",
   "metadata": {},
   "outputs": [],
   "source": [
    "### import some analysis functions we wrote for this project\n",
    "import sys ; sys.path.append(\"..\")\n",
    "from ppe_analysis.analysis import *"
   ]
  },
  {
   "cell_type": "markdown",
   "id": "883af448-c9a5-4345-a87c-5829242f9c42",
   "metadata": {},
   "source": [
    "## spin up some extra cores on CASPER"
   ]
  },
  {
   "cell_type": "code",
   "execution_count": 3,
   "id": "7cac7a58-ef33-49e4-9f3d-cca6c7f97f09",
   "metadata": {},
   "outputs": [],
   "source": [
    "# Setup your PBSCluster\n",
    "import dask\n",
    "from dask_jobqueue import PBSCluster\n",
    "from dask.distributed import Client\n",
    "ncores=1\n",
    "nmem='25GB'\n",
    "cluster = PBSCluster(\n",
    "    cores=ncores, # The number of cores you want\n",
    "    memory=nmem, # Amount of memory\n",
    "    processes=1, # How many processes\n",
    "    queue='casper', # The type of queue to utilize (/glade/u/apps/dav/opt/usr/bin/execcasper)\n",
    "    local_directory='$TMPDIR', # Use your local directory\n",
    "    resource_spec='select=1:ncpus='+str(ncores)+':mem='+nmem, # Specify resources\n",
    "    project='P93300641', # Input your project ID here\n",
    "    walltime='01:30:00', # Amount of wall time\n",
    "    interface='ib0', # Interface to use\n",
    ")\n",
    "\n",
    "# Scale up\n",
    "cluster.scale(30)\n",
    "\n",
    "# Setup your client\n",
    "client = Client(cluster)"
   ]
  },
  {
   "cell_type": "code",
   "execution_count": 4,
   "id": "94466eaf-9368-4ef5-93c9-826783a800fb",
   "metadata": {},
   "outputs": [
    {
     "data": {
      "application/vnd.jupyter.widget-view+json": {
       "model_id": "e868f8f853d9442da009b19f8a3fcef7",
       "version_major": 2,
       "version_minor": 0
      },
      "text/plain": [
       "VBox(children=(HTML(value='<h2>PBSCluster</h2>'), HBox(children=(HTML(value='\\n<div>\\n  <style scoped>\\n    .d…"
      ]
     },
     "metadata": {},
     "output_type": "display_data"
    }
   ],
   "source": [
    "client.cluster"
   ]
  },
  {
   "cell_type": "code",
   "execution_count": 5,
   "id": "ef65b1d2-e678-4417-8c7f-d39211d04f21",
   "metadata": {},
   "outputs": [],
   "source": [
    "def get_ix(ds,pft):\n",
    "    ix=ds.pfts1d_itype_veg==pft\n",
    "    a=ds.pfts1d_lat[ix]\n",
    "    o=ds.pfts1d_lon[ix]\n",
    "    \n",
    "    nlon=len(ds.lon)\n",
    "    nlat=len(ds.lat)\n",
    "    nx=len(a)\n",
    "\n",
    "    lats=xr.DataArray(np.tile(ds.lat.values.reshape([-1,1,1]),[1,nlon,nx]),dims=['lat','lon','pft'])\n",
    "    lons=xr.DataArray(np.tile(ds.lon.values.reshape([1,-1,1]),[nlat,1,nx]),dims=['lat','lon','pft'])\n",
    "    ix=((abs(lats-a)<0.25)&(abs(lons-o)<0.25)).sum(dim='pft')\n",
    "    \n",
    "    return ix==1"
   ]
  },
  {
   "cell_type": "code",
   "execution_count": 6,
   "id": "d0edb74b-a870-481e-80f0-3ed7443da819",
   "metadata": {},
   "outputs": [],
   "source": [
    "def pftgrid(da,ds):\n",
    "\n",
    "    #set up dims for outgoing data array\n",
    "    dims=[]\n",
    "    s=[]\n",
    "    ix=get_ix(ds,1)\n",
    "    for dim in da.dims:\n",
    "        if dim !='pft':\n",
    "            dims.append(dim)\n",
    "            s.append(len(da[dim]))\n",
    "    dims=[*dims,*ix.dims]\n",
    "    s=[*s,*ix.shape]\n",
    "    ndims=len(dims)\n",
    "\n",
    "    das=[]\n",
    "    ix0=[slice(None) for i in range(ndims-2)]\n",
    "\n",
    "    pfts=np.unique(ds.pfts1d_itype_veg)\n",
    "    for pft in pfts:\n",
    "        out=np.zeros(s)+np.nan\n",
    "        if pft>0:\n",
    "            ix=get_ix(ds,pft)\n",
    "            ix2=tuple([*ix0,ix])\n",
    "            ixp=ds.pfts1d_itype_veg==pft\n",
    "            out[ix2]=da.isel(pft=ixp)\n",
    "        das.append(xr.DataArray(out.copy(),dims=dims))\n",
    "\n",
    "    da_out=xr.concat(das,dim='pft')\n",
    "    da_out['pft']=pfts\n",
    "    da_out['lat']=ix.lat\n",
    "    da_out['lon']=ix.lon\n",
    "    for dim in da.dims:\n",
    "        if dim !='pft':\n",
    "            da_out[dim]=da[dim]\n",
    "\n",
    "    return da_out"
   ]
  },
  {
   "cell_type": "code",
   "execution_count": 12,
   "id": "a074f896-3b16-4f60-b556-21afe73808df",
   "metadata": {},
   "outputs": [],
   "source": [
    "def amean(da,cf=1):\n",
    "    #annual mean\n",
    "    m  = da['time.daysinmonth']\n",
    "    xa = cf/365*(m*da).groupby('time.year').sum().compute()\n",
    "    return xa"
   ]
  },
  {
   "cell_type": "code",
   "execution_count": 7,
   "id": "daab492e-412e-43e2-9bc0-32c7ff5951a6",
   "metadata": {},
   "outputs": [],
   "source": [
    "#get the pft names\n",
    "pfts=xr.open_dataset('/glade/campaign/asp/djk2120/PPEn11/paramfiles/OAAT0000.nc').pftname\n",
    "pfts=[str(p)[2:-1].strip() for p in pfts.values][:17]"
   ]
  },
  {
   "cell_type": "markdown",
   "id": "762b7492-fdd8-4ab7-b3d5-667a678acda7",
   "metadata": {},
   "source": [
    "### SP regridding"
   ]
  },
  {
   "cell_type": "code",
   "execution_count": 8,
   "id": "773a81da-008b-4a49-873f-151195a4e5d0",
   "metadata": {},
   "outputs": [],
   "source": [
    "#read in the SP data\n",
    "f='/glade/scratch/linnia/archive/LAI_SP_ctsm51d115/lnd/hist/LAI_SP_ctsm51d115.clm2.h1.2000-02-01-00000.nc'\n",
    "ds = xr.open_dataset(f)\n",
    "ds['time']=xr.cftime_range('2000',periods=12,freq='MS',calendar='noleap')"
   ]
  },
  {
   "cell_type": "code",
   "execution_count": 19,
   "id": "9252a806-2613-42b7-8fb9-6c52c8943f94",
   "metadata": {},
   "outputs": [],
   "source": [
    "#load landarea with antarctica masked out\n",
    "f='clusters.clm51_PPEn02ctsm51d021_2deg_GSWP3V1_leafbiomassesai_PPE3_hist.annual+sd.400.nc'\n",
    "sg=xr.open_dataset(f)\n",
    "la=sg.landfrac*sg.area"
   ]
  },
  {
   "cell_type": "code",
   "execution_count": 20,
   "id": "4aa5467c-7541-4206-9c08-0d24b5e6bd0c",
   "metadata": {},
   "outputs": [],
   "source": [
    "#calculate and regrid lai, wtgcell\n",
    "lai=amean(ds.TLAI).mean(dim='year')\n",
    "da=pftgrid(lai,ds)\n",
    "w=pftgrid(ds.pfts1d_wtgcell,ds)"
   ]
  },
  {
   "cell_type": "code",
   "execution_count": 28,
   "id": "bbf08954-43a9-41bb-b8f5-d440f6235e5e",
   "metadata": {},
   "outputs": [],
   "source": [
    "la['lat']=w.lat\n",
    "la['lon']=w.lon"
   ]
  },
  {
   "cell_type": "code",
   "execution_count": 29,
   "id": "ac713971-931c-4271-a84b-b7f39b50d9d4",
   "metadata": {},
   "outputs": [],
   "source": [
    "a=la*w\n",
    "cf=1/a.sum(dim=['lat','lon']).compute()\n",
    "laipft=cf*(a*da).sum(dim=['lat','lon']).compute()"
   ]
  },
  {
   "cell_type": "code",
   "execution_count": 30,
   "id": "1b4a0aa9-8dcd-42f8-a7b8-03c6a7741bc7",
   "metadata": {},
   "outputs": [
    {
     "data": {
      "image/png": "[encoded data removed]",
      "text/plain": [
       "<Figure size 432x288 with 1 Axes>"
      ]
     },
     "metadata": {
      "needs_background": "light"
     },
     "output_type": "display_data"
    }
   ],
   "source": [
    "plt.barh(range(16),laipft)\n",
    "plt.yticks(range(16),pfts[:16])\n",
    "plt.xlabel('TLAI (m2/m2)')\n",
    "plt.title('CLM5-SP');"
   ]
  },
  {
   "cell_type": "markdown",
   "id": "b2c72ec1-d115-44bf-910b-bd1ac0450853",
   "metadata": {},
   "source": [
    "### keith's simulation"
   ]
  },
  {
   "cell_type": "code",
   "execution_count": 32,
   "id": "eebfe9d2-e26e-4cba-a2c2-f9e0991e32cb",
   "metadata": {},
   "outputs": [],
   "source": [
    "#locate the output files\n",
    "d='/glade/p/cgd/tss/people/oleson/clm51_lmbirchwkattgen01ctsm51d006_2deg_GSWP3V1_nocrop_PPE2_hist/lnd/hist/'\n",
    "tape='h1'\n",
    "files = sorted(glob.glob(d+'*.'+tape+'.*'))\n",
    "yrs=np.array([int(f.split('.'+tape+'.')[1][:4]) for f in files])\n",
    "yr0=1985\n",
    "files = np.array(files)[yrs>=yr0]\n",
    "def preprocess(ds):\n",
    "    dvs=['TLAI','GPP','pfts1d_wtgcell']\n",
    "    return ds[dvs]\n",
    "ds=xr.open_mfdataset(files,combine='nested',concat_dim='time',\n",
    "                     parallel=True,\n",
    "                     preprocess=preprocess)\n",
    "ds['time']=xr.cftime_range(str(yr0),freq='MS',periods=len(ds.time),calendar='noleap')\n",
    "tmp=xr.open_dataset(files[0])\n",
    "for v in tmp.data_vars:\n",
    "    if 'time' not in tmp[v].dims:\n",
    "        if 'wtgcell' not in v:\n",
    "            ds[v]=tmp[v]"
   ]
  },
  {
   "cell_type": "code",
   "execution_count": 33,
   "id": "80774471-7d2d-4e48-bf4e-ccdc0c955aa0",
   "metadata": {},
   "outputs": [],
   "source": [
    "t=slice('2003','2014')\n",
    "lai=ds.TLAI.sel(time=t)\n",
    "wtg=ds.pfts1d_wtgcell.sel(time=t)"
   ]
  },
  {
   "cell_type": "code",
   "execution_count": 43,
   "id": "bb593d6b-fe31-467e-aef3-b53ec12f3306",
   "metadata": {},
   "outputs": [
    {
     "name": "stdout",
     "output_type": "stream",
     "text": [
      "CPU times: user 45.3 s, sys: 23.1 s, total: 1min 8s\n",
      "Wall time: 1min 19s\n"
     ]
    }
   ],
   "source": [
    "%%time\n",
    "da=pftgrid(lai,ds)\n",
    "w=pftgrid(wtg,ds)"
   ]
  },
  {
   "cell_type": "code",
   "execution_count": 44,
   "id": "ffb91895-f9f2-42db-ad1d-131a78e31170",
   "metadata": {},
   "outputs": [],
   "source": [
    "a=la*w\n",
    "cf=1/amean(a).sum(dim=['lat','lon'])\n",
    "x=amean(a*da).sum(dim=['lat','lon'])\n",
    "laipft2=(x*cf).mean(dim='year')"
   ]
  },
  {
   "cell_type": "code",
   "execution_count": 48,
   "id": "55cc4256-31b6-48c1-a5e4-46b999d37d17",
   "metadata": {},
   "outputs": [
    {
     "data": {
      "image/png": "[encoded data removed]",
      "text/plain": [
       "<Figure size 432x288 with 1 Axes>"
      ]
     },
     "metadata": {
      "needs_background": "light"
     },
     "output_type": "display_data"
    }
   ],
   "source": [
    "plt.barh(range(17),laipft2)\n",
    "plt.yticks(range(17),pfts)\n",
    "plt.xlabel('TLAI')\n",
    "plt.title('CLM5-BGC');"
   ]
  },
  {
   "cell_type": "code",
   "execution_count": 68,
   "id": "05f13ee6-3759-4a80-8ac2-4de31e207705",
   "metadata": {},
   "outputs": [
    {
     "data": {
      "image/png": "[encoded data removed]",
      "text/plain": [
       "<Figure size 720x504 with 1 Axes>"
      ]
     },
     "metadata": {
      "needs_background": "light"
     },
     "output_type": "display_data"
    }
   ],
   "source": [
    "df=pd.DataFrame({'BGC':laipft2[:-1],'SP':laipft})\n",
    "df.plot(kind='barh',figsize=[10,7]);\n",
    "plt.xlabel('TLAI (m2/m2)')\n",
    "plt.yticks(range(16),pfts[:16]);"
   ]
  },
  {
   "cell_type": "code",
   "execution_count": null,
   "id": "5b837971-dea7-4b20-84e4-6b9c3c9a8386",
   "metadata": {},
   "outputs": [],
   "source": []
  }
 ],
 "metadata": {
  "kernelspec": {
   "display_name": "Python [conda env:miniconda3-lens-py]",
   "language": "python",
   "name": "conda-env-miniconda3-lens-py-py"
  },
  "language_info": {
   "codemirror_mode": {
    "name": "ipython",
    "version": 3
   },
   "file_extension": ".py",
   "mimetype": "text/x-python",
   "name": "python",
   "nbconvert_exporter": "python",
   "pygments_lexer": "ipython3",
   "version": "3.7.9"
  }
 },
 "nbformat": 4,
 "nbformat_minor": 5
}
