{
 "cells": [
  {
   "cell_type": "code",
   "execution_count": 1,
   "id": "2f591afc-245b-43f4-8eff-eec4c3061fe6",
   "metadata": {},
   "outputs": [],
   "source": [
    "import numpy as np\n",
    "import pandas as pd\n",
    "import xarray as xr\n",
    "import glob\n",
    "import matplotlib\n",
    "import matplotlib.pyplot as plt\n",
    "from matplotlib.patches import Ellipse\n",
    "import cftime\n",
    "import dask\n",
    "import statsmodels.api as sm\n",
    "import os\n",
    "import seaborn as sns\n",
    "\n",
    "import warnings\n",
    "warnings.filterwarnings(\"ignore\")\n",
    "\n",
    "import cartopy.crs as ccrs\n",
    "import cartopy.feature as cfeature"
   ]
  },
  {
   "cell_type": "code",
   "execution_count": 3,
   "id": "124ea40b-3a3a-475b-bcb1-a7d9d1d464a0",
   "metadata": {},
   "outputs": [],
   "source": [
    "### import some analysis functions we wrote for this project\n",
    "import sys ; sys.path.append(\"..\")\n",
    "from ppe_analysis.analysis import *\n",
    "from pyfunctions import *"
   ]
  },
  {
   "cell_type": "code",
   "execution_count": 4,
   "id": "d1d8cc8a-339c-4015-83bd-cbb2ffa97adc",
   "metadata": {},
   "outputs": [],
   "source": [
    "# Setup your PBSCluster\n",
    "import dask\n",
    "from dask_jobqueue import PBSCluster\n",
    "from dask.distributed import Client\n",
    "ncores=1\n",
    "nmem='10GB'\n",
    "cluster = PBSCluster(\n",
    "    cores=ncores, # The number of cores you want\n",
    "    memory=nmem, # Amount of memory\n",
    "    processes=1, # How many processes\n",
    "    queue='casper', # The type of queue to utilize (/glade/u/apps/dav/opt/usr/bin/execcasper)\n",
    "    local_directory='$TMPDIR', # Use your local directory\n",
    "    resource_spec='select=1:ncpus='+str(ncores)+':mem='+nmem, # Specify resources\n",
    "    project='P93300641', # Input your project ID here\n",
    "    walltime='03:00:00', # Amount of wall time\n",
    "    interface='ib0', # Interface to use\n",
    ")\n",
    "\n",
    "# Scale up\n",
    "cluster.scale(20)\n",
    "\n",
    "# Setup your client\n",
    "client = Client(cluster)"
   ]
  },
  {
   "cell_type": "markdown",
   "id": "0d19bb67-ac1b-4621-9d0c-5ef1d241eb96",
   "metadata": {
    "tags": []
   },
   "source": [
    "### Load observational datasets"
   ]
  },
  {
   "cell_type": "code",
   "execution_count": 6,
   "id": "b5b87a57-1d98-478f-9760-48694b86d5e8",
   "metadata": {},
   "outputs": [],
   "source": [
    "# CLM-SP LAI on sparse grid\n",
    "la = get_la()\n",
    "SP_sg = get_SP('h0')\n",
    "\n",
    "GM_sp = gmean(amax(SP_sg).mean(dim='year'),la).compute()\n",
    "BM_sp = bmean(amax(SP_sg).mean(dim='year'),la).compute()"
   ]
  },
  {
   "cell_type": "code",
   "execution_count": 8,
   "id": "dc53746f-d31c-4120-87ad-a75440e7a91f",
   "metadata": {},
   "outputs": [],
   "source": [
    "# load regridded ILAMB datasets (MODIS, AVHRR, AVH15C1)\n",
    "ds_ilamb =xr.open_dataset('/glade/work/linnia/ILAMB/ilamb_data/regridded/ILAMB_LAI_regridded.nc')\n",
    "Amax_LAI_MODIS = amax(ds_ilamb.MODIS_LAI).mean(dim='year')\n",
    "\n",
    "jvals, ivals = get_sparsegrid()\n",
    "\n",
    "GM_MODIS = gmean(amax(ds_ilamb.MODIS_LAI[:,jvals,ivals]).mean(dim='year'),la).compute()\n",
    "mask = xr.where(GM_MODIS!=0,1,0)\n",
    "GM_AVHRR = gmean(amax(ds_ilamb.AVHRR_LAI[:,jvals,ivals]).mean(dim='year'),la).compute()\n",
    "GM_AVH15C1 = gmean(amax(ds_ilamb.AVH15C1_LAI[:,jvals,ivals]).mean(dim='year'),la).compute()\n",
    "\n",
    "GM_LAI_obs = [GM_MODIS, GM_AVHRR, GM_AVH15C1, GM_sp]"
   ]
  },
  {
   "cell_type": "code",
   "execution_count": 38,
   "id": "13dcf30d-74a7-4e6b-b07b-6722eb45df75",
   "metadata": {},
   "outputs": [],
   "source": [
    "#Load ILAMB GPP datasets\n",
    "ds_gpp_ilamb =xr.open_dataset('/glade/work/linnia/ILAMB/ilamb_data/regridded/ILAMB_GPP_regridded_v3.nc')"
   ]
  },
  {
   "cell_type": "code",
   "execution_count": 39,
   "id": "19ce25fe-bd83-4419-9543-23cae407bd03",
   "metadata": {},
   "outputs": [],
   "source": [
    "la=xr.open_dataset('../sparsegrid_landarea.nc').landarea\n",
    "ilamb_cf=1e-9*la.sum()*365"
   ]
  },
  {
   "cell_type": "code",
   "execution_count": 40,
   "id": "81dca32a-3a24-49b0-a17d-c2d128638f00",
   "metadata": {},
   "outputs": [],
   "source": [
    "FLX_gpp = ilamb_cf*gmean(amean(ds_gpp_ilamb.FLUXCOM_GPP[:,jvals,ivals]).mean(dim='year'),la).compute()\n",
    "wecann_gpp = ilamb_cf*gmean(amean(ds_gpp_ilamb.WECANN_GPP[:,jvals,ivals]).mean(dim='year'),la).compute()"
   ]
  },
  {
   "cell_type": "markdown",
   "id": "f378740d-b7c0-426f-a942-880e19107c8b",
   "metadata": {
    "tags": []
   },
   "source": [
    "### Readin PPE ensemble"
   ]
  },
  {
   "cell_type": "code",
   "execution_count": 14,
   "id": "35212eaf-69e5-4023-9c82-e65b153f3667",
   "metadata": {},
   "outputs": [],
   "source": [
    "ds_h0=get_exp('transient',dvs=['TLAI','GPP'],yy=(2000,2014))"
   ]
  },
  {
   "cell_type": "code",
   "execution_count": 15,
   "id": "3fc0a36f-2796-42f3-a740-77f81dbd5d81",
   "metadata": {},
   "outputs": [],
   "source": [
    "la=xr.open_dataset('../sparsegrid_landarea.nc').landarea\n",
    "cf=1e-9*la.sum()*24*60*60*365"
   ]
  },
  {
   "cell_type": "code",
   "execution_count": 16,
   "id": "9b9c614b-62be-4135-8059-7161cbf77359",
   "metadata": {},
   "outputs": [],
   "source": [
    "t=slice(str(2000),str(2005))\n",
    "GM_Amax_lai_lhc = gmean(amax(ds_h0['TLAI'].sel(time=t)).mean(dim='year'),la).compute()"
   ]
  },
  {
   "cell_type": "code",
   "execution_count": 17,
   "id": "76935d1f-96f6-4742-a546-fd3faddb1179",
   "metadata": {},
   "outputs": [],
   "source": [
    "t=slice(str(2007),str(2013))\n",
    "GM_gpp_lhc = cf*gmean(amean(ds_h0['GPP'].sel(time=t)).mean(dim='year'),la).compute()"
   ]
  },
  {
   "cell_type": "code",
   "execution_count": 18,
   "id": "ec9bf3e7-a73b-4cb9-960f-c02d89bc11cb",
   "metadata": {},
   "outputs": [],
   "source": [
    "obs_lai_min = np.min(GM_LAI_obs)\n",
    "obs_lai_max = np.max(GM_LAI_obs)"
   ]
  },
  {
   "cell_type": "code",
   "execution_count": 41,
   "id": "30728b67-e7e8-43e5-a488-39d79fd1e133",
   "metadata": {},
   "outputs": [
    {
     "data": {
      "text/plain": [
       "(0.0, 226.0)"
      ]
     },
     "execution_count": 41,
     "metadata": {},
     "output_type": "execute_result"
    },
    {
     "data": {
      "image/png": "[encoded data removed]",
      "text/plain": [
       "<Figure size 432x432 with 1 Axes>"
      ]
     },
     "metadata": {},
     "output_type": "display_data"
    }
   ],
   "source": [
    "import seaborn as sns\n",
    "\n",
    "plt.figure(figsize=[6,6])\n",
    "plt.rcParams.update({'font.size': 26})\n",
    "\n",
    "sns.set(style=\"whitegrid\")\n",
    "ax = plt.subplot(1,1,1)\n",
    "\n",
    "# obs box\n",
    "x = np.linspace(obs_lai_min,obs_lai_max,5)\n",
    "y1 = np.tile(FLX_gpp,5)\n",
    "y2 = np.tile(wecann_gpp,5)\n",
    "ax.fill_between(x,y1,y2,color='green',label='Observations')\n",
    "\n",
    "ax.scatter(GM_Amax_lai_lhc,GM_gpp_lhc,s=15,color='grey',alpha=0.8,label='CLM-PPE')\n",
    "ax.scatter(GM_Amax_lai_lhc[0],GM_gpp_lhc[0],s=15,color='k',label='Default CLM')\n",
    "\n",
    "plt.legend(loc='lower right')\n",
    "plt.xlabel('LAI ${(m^2}$/${m^2}$)')\n",
    "plt.ylabel('GPP (PgC/yr)')\n",
    "plt.xlim([0,7])\n",
    "plt.ylim([0,226])\n",
    "\n",
    "#plt.savefig('./figs/BGC_cesm23/global_LAIvGPP_wOBS.png',dpi=300,transparent=True)"
   ]
  },
  {
   "cell_type": "code",
   "execution_count": null,
   "id": "bd47da9b-a23a-4775-9c08-5ce8c89579d4",
   "metadata": {},
   "outputs": [],
   "source": []
  }
 ],
 "metadata": {
  "kernelspec": {
   "display_name": "Python [conda env:miniconda3-ppe-py]",
   "language": "python",
   "name": "conda-env-miniconda3-ppe-py-py"
  },
  "language_info": {
   "codemirror_mode": {
    "name": "ipython",
    "version": 3
   },
   "file_extension": ".py",
   "mimetype": "text/x-python",
   "name": "python",
   "nbconvert_exporter": "python",
   "pygments_lexer": "ipython3",
   "version": "3.7.12"
  }
 },
 "nbformat": 4,
 "nbformat_minor": 5
}
