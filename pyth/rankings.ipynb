{
 "cells": [
  {
   "cell_type": "code",
   "execution_count": 1,
   "id": "79f76d75-ff40-41b3-9ae9-264c3aeb9737",
   "metadata": {},
   "outputs": [],
   "source": [
    "import numpy as np\n",
    "import pandas as pd\n",
    "import xarray as xr\n",
    "import glob\n",
    "import matplotlib\n",
    "import matplotlib.pyplot as plt\n",
    "import cftime\n",
    "import dask\n",
    "from dask_jobqueue import PBSCluster\n",
    "from dask.distributed import Client\n",
    "import statsmodels.api as sm"
   ]
  },
  {
   "cell_type": "code",
   "execution_count": 2,
   "id": "9ee8763f-79a0-45ab-8849-ec76ac74476a",
   "metadata": {},
   "outputs": [],
   "source": [
    "def get_ensemble(name,data_vars,htape,keys,paramkey,p=True):\n",
    "    '''\n",
    "    Returns a dataset comprising the given ensemble\n",
    "    name  = 'CTL2020' or 'C285' or 'AF1905'\n",
    "    data_vars, e.g. ['GPP','HR','AR']\n",
    "    htape, e.g. 'h0' 0/1/2/3/4/5/7 available\n",
    "    '''\n",
    "    \n",
    "    #define the directory structure and find files\n",
    "    topdir     = '/glade/scratch/djk2120/PPEn11/hist/' \n",
    "    thisdir    = topdir+name+'/'\n",
    "    files      = [glob.glob(thisdir+'*'+key+'*'+htape+'*.nc')[0] for key in keys]\n",
    "\n",
    "    def preprocess(ds):\n",
    "        return ds[data_vars]\n",
    "\n",
    "    #read in the dataset\n",
    "    ds = xr.open_mfdataset(files,combine='nested',concat_dim='ens',\n",
    "                           parallel=p,preprocess=preprocess)\n",
    "\n",
    "    #fix up time dimension\n",
    "    if htape=='h0' or htape=='h1':\n",
    "        ds['time'] = xr.cftime_range(str(2005),periods=len(ds.time),freq='MS') #fix time bug\n",
    "\n",
    "    #specify extra variables    \n",
    "    if htape=='h0':\n",
    "        extras     = ['grid1d_lat','grid1d_lon']\n",
    "    elif htape=='h1':\n",
    "        extras     = ['pfts1d_lat','pfts1d_lon','pfts1d_wtgcell','pfts1d_itype_veg']\n",
    "    \n",
    "    #add in some extra variables\n",
    "    ds0 = xr.open_dataset(files[0])\n",
    "    for extra in extras:\n",
    "        ds[extra]=ds0[extra]\n",
    "\n",
    "    #append some info about key/param/minmax/biome\n",
    "    params,minmaxs = get_params(keys,paramkey) \n",
    "    ds['key']    = xr.DataArray(keys,dims='ens')\n",
    "    ds['param']  = xr.DataArray(params,dims='ens')\n",
    "    ds['minmax'] = xr.DataArray(minmaxs,dims='ens')\n",
    "    whit         = xr.open_dataset('./whit/whitkey2.nc')\n",
    "    ds['biome']      = whit['biome']\n",
    "    ds['biome_name'] = whit['biome_name']\n",
    "    \n",
    "    return ds\n"
   ]
  },
  {
   "cell_type": "code",
   "execution_count": 3,
   "id": "91b47984-9ffd-4e41-91a6-060201f894f3",
   "metadata": {},
   "outputs": [],
   "source": [
    "def get_params(keys,paramkey):\n",
    "    params=[]\n",
    "    minmaxs=[]\n",
    "    for key in keys:\n",
    "        ix     = paramkey.key==key\n",
    "        params.append(paramkey.param[ix].values[0])\n",
    "        minmaxs.append(paramkey.minmax[ix].values[0])\n",
    "    return params,minmaxs\n",
    "\n",
    "def month_wts(nyears):\n",
    "    days_pm  = [31,28,31,30,31,30,31,31,30,31,30,31]\n",
    "    return xr.DataArray(np.tile(days_pm,nyears),dims='time')"
   ]
  },
  {
   "cell_type": "code",
   "execution_count": 4,
   "id": "9bfa99cb-98c0-47df-96e5-77140bf103a7",
   "metadata": {},
   "outputs": [],
   "source": [
    "def get_cfs():\n",
    "    df = pd.read_csv('agg_units.csv')\n",
    "    cfs   = dict()\n",
    "    units = dict()\n",
    "    for i,row in df.iterrows():\n",
    "        f = row['field']\n",
    "        u = row['unit']\n",
    "        c = row['cf']\n",
    "\n",
    "        cfs[f]   = c\n",
    "        units[f] = u\n",
    "    return cfs,units"
   ]
  },
  {
   "cell_type": "code",
   "execution_count": 95,
   "id": "483830cf-e6b1-4aee-b1e2-20b8c202b2e0",
   "metadata": {},
   "outputs": [],
   "source": [
    "def find_pair(da,params,minmax,p):\n",
    "    '''\n",
    "    returns a subset of da, corresponding to parameter-p\n",
    "        the returned pair corresponds to [p_min,p_max]\n",
    "    '''\n",
    "    ixmin = np.logical_and(params==p,minmax=='min')\n",
    "    ixmax = np.logical_and(params==p,minmax=='max')\n",
    "    \n",
    "    #sub in default if either is missing\n",
    "    if ixmin.sum().values==0:\n",
    "        ixmin = params=='default'\n",
    "    if ixmax.sum().values==0:\n",
    "        ixmax = params=='default'\n",
    "        \n",
    "    emin = da.ens.isel(ens=ixmin).values[0]\n",
    "    emax = da.ens.isel(ens=ixmax).values[0]\n",
    "\n",
    "    return da.sel(ens=[emin,emax])\n",
    "    \n",
    "def top_n(da,nx,params,minmax,uniques):\n",
    "    xmins=[];xmaxs=[];dxs=[]\n",
    "    for u in uniques:\n",
    "        pair  = find_pair(da,params,minmax,u)\n",
    "        xmin  = pair[0].values\n",
    "        xmax  = pair[1].values\n",
    "        dx    = abs(xmax-xmin)\n",
    "\n",
    "        xmins.append(xmin)\n",
    "        xmaxs.append(xmax)\n",
    "        dxs.append(dx)\n",
    "\n",
    "    ranks = np.argsort(dxs)\n",
    "\n",
    "    pvals = [uniques[ranks[i]] for i in range(-nx,0)]\n",
    "    xmins = [xmins[ranks[i]]   for i in range(-nx,0)]\n",
    "    xmaxs = [xmaxs[ranks[i]]   for i in range(-nx,0)]\n",
    "    \n",
    "    return xmins,xmaxs,pvals\n",
    "\n",
    "def plot20(da,nx,tstr,ll=True,xstr=''):\n",
    "    \n",
    "    uniques = list(np.unique(ds.param))\n",
    "    uniques.remove('default')\n",
    "    \n",
    "    xmins,xmaxs,pvals = top_n(da,nx,params,minmax,uniques)\n",
    "    xdef = da.isel(ens=0)\n",
    "    unit = da.attrs['units']\n",
    "    \n",
    "\n",
    "    \n",
    "    if len(xstr)==0:\n",
    "        xstr=tstr\n",
    "    nx = len(pvals)\n",
    "    plt.plot([xdef,xdef],[0,nx-1],'k:',label='default')\n",
    "    plt.scatter(xmins,range(nx),marker='o',facecolors='none', edgecolors='r',label='low-val')\n",
    "    plt.plot(xmaxs,range(nx),'ro',label='high-val')\n",
    "    if ll:\n",
    "        plt.legend(loc=3)\n",
    "    i=-1\n",
    "    for xmin,xmax in zip(xmins,xmaxs):\n",
    "        i+=1\n",
    "        plt.plot([xmin,xmax],[i,i],'r')\n",
    "    plt.yticks(range(nx),pvals)\n",
    "    plt.title(tstr)\n",
    "    plt.xlabel(xstr+' ('+unit+')');"
   ]
  },
  {
   "cell_type": "code",
   "execution_count": 5,
   "id": "d282be55-2056-4711-9c24-e41bfcbc0f7d",
   "metadata": {},
   "outputs": [],
   "source": [
    "# colorbrewer colormap, diverging, brown->green\n",
    "ccc = np.zeros([11,3]);\n",
    "ccc[0,:] = 84,48,5\n",
    "ccc[1,:] = 140,81,10\n",
    "ccc[2,:] = 191,129,45\n",
    "ccc[3,:] = 223,194,125\n",
    "ccc[4,:] = 246,232,195\n",
    "ccc[5,:] = 245,245,245\n",
    "ccc[6,:] = 199,234,229\n",
    "ccc[7,:] = 128,205,193\n",
    "ccc[8,:] = 53,151,143\n",
    "ccc[9,:] = 1,102,94\n",
    "ccc[10,:] = 0,60,48\n",
    "ccc = matplotlib.colors.ListedColormap(ccc/256)"
   ]
  },
  {
   "cell_type": "code",
   "execution_count": 6,
   "id": "eb97d897-409a-454a-8507-5abb0bb7356b",
   "metadata": {},
   "outputs": [
    {
     "name": "stderr",
     "output_type": "stream",
     "text": [
      "/glade/work/djk2120/miniconda3/envs/ppe-py/lib/python3.7/site-packages/distributed/node.py:161: UserWarning: Port 8787 is already in use.\n",
      "Perhaps you already have a cluster running?\n",
      "Hosting the HTTP server on port 45049 instead\n",
      "  f\"Port {expected} is already in use.\\n\"\n"
     ]
    }
   ],
   "source": [
    "# Setup your PBSCluster\n",
    "ncores=1\n",
    "nmem='25GB'\n",
    "cluster = PBSCluster(\n",
    "    cores=ncores, # The number of cores you want\n",
    "    memory=nmem, # Amount of memory\n",
    "    processes=1, # How many processes\n",
    "    queue='casper', # The type of queue to utilize (/glade/u/apps/dav/opt/usr/bin/execcasper)\n",
    "    local_directory='$TMPDIR', # Use your local directory\n",
    "    resource_spec='select=1:ncpus='+str(ncores)+':mem='+nmem, # Specify resources\n",
    "    project='P93300641', # Input your project ID here\n",
    "    walltime='03:00:00', # Amount of wall time\n",
    "    interface='ib0', # Interface to use\n",
    ")\n",
    "\n",
    "# Scale up\n",
    "cluster.scale(20)\n",
    "\n",
    "# Setup your client\n",
    "client = Client(cluster)"
   ]
  },
  {
   "cell_type": "code",
   "execution_count": 7,
   "id": "b3cb8b40-8403-407b-980a-5241aec20a9d",
   "metadata": {},
   "outputs": [
    {
     "data": {
      "text/html": [
       "<div>\n",
       "    <div style=\"width: 24px; height: 24px; background-color: #e1e1e1; border: 3px solid #9D9D9D; border-radius: 5px; position: absolute;\"> </div>\n",
       "    <div style=\"margin-left: 48px;\">\n",
       "        <h3 style=\"margin-bottom: 0px;\">Client</h3>\n",
       "        <p style=\"color: #9D9D9D; margin-bottom: 0px;\">Client-8821a888-2b6c-11ec-8b5e-3cecef1b11e4</p>\n",
       "        <table style=\"width: 100%; text-align: left;\">\n",
       "\n",
       "        <tr>\n",
       "        \n",
       "            <td style=\"text-align: left;\"><strong>Connection method:</strong> Cluster object</td>\n",
       "            <td style=\"text-align: left;\"><strong>Cluster type:</strong> dask_jobqueue.PBSCluster</td>\n",
       "        \n",
       "        </tr>\n",
       "\n",
       "        \n",
       "            <tr>\n",
       "                <td style=\"text-align: left;\">\n",
       "                    <strong>Dashboard: </strong> <a href=\"https://https://jupyterhub.hpc.ucar.edu/stable/user/djk2120/proxy/{port}/status\" target=\"_blank\">https://https://jupyterhub.hpc.ucar.edu/stable/user/djk2120/proxy/{port}/status</a>\n",
       "                </td>\n",
       "                <td style=\"text-align: left;\"></td>\n",
       "            </tr>\n",
       "        \n",
       "\n",
       "        </table>\n",
       "\n",
       "        \n",
       "            <details>\n",
       "            <summary style=\"margin-bottom: 20px;\"><h3 style=\"display: inline;\">Cluster Info</h3></summary>\n",
       "            <div class=\"jp-RenderedHTMLCommon jp-RenderedHTML jp-mod-trusted jp-OutputArea-output\">\n",
       "    <div style=\"width: 24px; height: 24px; background-color: #e1e1e1; border: 3px solid #9D9D9D; border-radius: 5px; position: absolute;\">\n",
       "    </div>\n",
       "    <div style=\"margin-left: 48px;\">\n",
       "        <h3 style=\"margin-bottom: 0px; margin-top: 0px;\">PBSCluster</h3>\n",
       "        <p style=\"color: #9D9D9D; margin-bottom: 0px;\">e10ab3bd</p>\n",
       "        <table style=\"width: 100%; text-align: left;\">\n",
       "            <tr>\n",
       "                <td style=\"text-align: left;\">\n",
       "                    <strong>Dashboard:</strong> <a href=\"https://https://jupyterhub.hpc.ucar.edu/stable/user/djk2120/proxy/{port}/status\" target=\"_blank\">https://https://jupyterhub.hpc.ucar.edu/stable/user/djk2120/proxy/{port}/status</a>\n",
       "                </td>\n",
       "                <td style=\"text-align: left;\">\n",
       "                    <strong>Workers:</strong> 0\n",
       "                </td>\n",
       "            </tr>\n",
       "            <tr>\n",
       "                <td style=\"text-align: left;\">\n",
       "                    <strong>Total threads:</strong> 0\n",
       "                </td>\n",
       "                <td style=\"text-align: left;\">\n",
       "                    <strong>Total memory:</strong> 0 B\n",
       "                </td>\n",
       "            </tr>\n",
       "            \n",
       "        </table>\n",
       "\n",
       "        <details>\n",
       "            <summary style=\"margin-bottom: 20px;\">\n",
       "                <h3 style=\"display: inline;\">Scheduler Info</h3>\n",
       "            </summary>\n",
       "\n",
       "            <div style=\"\">\n",
       "    <div>\n",
       "        <div style=\"width: 24px; height: 24px; background-color: #FFF7E5; border: 3px solid #FF6132; border-radius: 5px; position: absolute;\"> </div>\n",
       "        <div style=\"margin-left: 48px;\">\n",
       "            <h3 style=\"margin-bottom: 0px;\">Scheduler</h3>\n",
       "            <p style=\"color: #9D9D9D; margin-bottom: 0px;\">Scheduler-04d545c7-e8aa-423b-a6ca-0446d4c1c925</p>\n",
       "            <table style=\"width: 100%; text-align: left;\">\n",
       "                <tr>\n",
       "                    <td style=\"text-align: left;\">\n",
       "                        <strong>Comm:</strong> tcp://10.12.206.57:36591\n",
       "                    </td>\n",
       "                    <td style=\"text-align: left;\">\n",
       "                        <strong>Workers:</strong> 0\n",
       "                    </td>\n",
       "                </tr>\n",
       "                <tr>\n",
       "                    <td style=\"text-align: left;\">\n",
       "                        <strong>Dashboard:</strong> <a href=\"https://https://jupyterhub.hpc.ucar.edu/stable/user/djk2120/proxy/{port}/status\" target=\"_blank\">https://https://jupyterhub.hpc.ucar.edu/stable/user/djk2120/proxy/{port}/status</a>\n",
       "                    </td>\n",
       "                    <td style=\"text-align: left;\">\n",
       "                        <strong>Total threads:</strong> 0\n",
       "                    </td>\n",
       "                </tr>\n",
       "                <tr>\n",
       "                    <td style=\"text-align: left;\">\n",
       "                        <strong>Started:</strong> Just now\n",
       "                    </td>\n",
       "                    <td style=\"text-align: left;\">\n",
       "                        <strong>Total memory:</strong> 0 B\n",
       "                    </td>\n",
       "                </tr>\n",
       "            </table>\n",
       "        </div>\n",
       "    </div>\n",
       "\n",
       "    <details style=\"margin-left: 48px;\">\n",
       "        <summary style=\"margin-bottom: 20px;\">\n",
       "            <h3 style=\"display: inline;\">Workers</h3>\n",
       "        </summary>\n",
       "\n",
       "        \n",
       "\n",
       "    </details>\n",
       "</div>\n",
       "\n",
       "        </details>\n",
       "    </div>\n",
       "</div>\n",
       "            </details>\n",
       "        \n",
       "\n",
       "    </div>\n",
       "</div>"
      ],
      "text/plain": [
       "<Client: 'tcp://10.12.206.57:36591' processes=0 threads=0, memory=0 B>"
      ]
     },
     "execution_count": 7,
     "metadata": {},
     "output_type": "execute_result"
    }
   ],
   "source": [
    "client"
   ]
  },
  {
   "cell_type": "markdown",
   "id": "ed324bfa-6f50-4b3e-828a-dcff640c6979",
   "metadata": {},
   "source": [
    "## START HERE"
   ]
  },
  {
   "cell_type": "markdown",
   "id": "53cf3d8d-6b65-4831-837c-15fbcf641baa",
   "metadata": {},
   "source": [
    "### load ensemble"
   ]
  },
  {
   "cell_type": "code",
   "execution_count": 15,
   "id": "dafc4285-bde4-4639-8371-81de7af75d19",
   "metadata": {},
   "outputs": [],
   "source": [
    "#fetch the paraminfo\n",
    "csv = '/glade/scratch/djk2120/PPEn11/surv.csv' \n",
    "paramkey = pd.read_csv(csv)\n",
    "\n",
    "#fetch the sparsegrid landarea\n",
    "la_file = '/glade/scratch/djk2120/PPEn08/sparsegrid_landarea.nc'\n",
    "la = xr.open_dataset(la_file).landarea  #km2\n",
    "\n",
    "#fetch unit/cf dicts\n",
    "cfs,units = get_cfs()"
   ]
  },
  {
   "cell_type": "code",
   "execution_count": 80,
   "id": "8512cd89-37ad-4644-8602-b582d21fb0ed",
   "metadata": {},
   "outputs": [],
   "source": [
    "env = 'CTL2010'\n",
    "keys = paramkey.key\n",
    "data_vars = ['GPP','NPP','NBP','TWS','AR','HR','EFLX_LH_TOT','FCTR','FAREA_BURNED',\n",
    "             'TOTVEGC','TOTSOMC_1m','FCEV','FGEV','COL_FIRE_CLOSS','QHR','ALTMAX',\n",
    "             'QOVER','QDRAI','SOILWATER_10CM','SNOWDP','TV','TSOI_10CM','TLAI','FSR','FSH']\n",
    "ds = get_ensemble(env,data_vars,'h0',keys,paramkey)\n",
    "params = ds.param\n",
    "minmax = ds.minmax"
   ]
  },
  {
   "cell_type": "markdown",
   "id": "69e48a51-9aad-4184-b5cb-9932a13d7608",
   "metadata": {},
   "source": [
    "### global annual avg / iav"
   ]
  },
  {
   "cell_type": "code",
   "execution_count": 84,
   "id": "004e601f-48b9-45c9-93b5-8c9a78b86dff",
   "metadata": {},
   "outputs": [],
   "source": [
    "def calc_mean(ds,datavar,la,dim='gridcell'):\n",
    "    preload = './data/'+env+'_'+datavar+'_glob.nc'\n",
    "    \n",
    "    if not glob.glob(preload):\n",
    "        #do the calculation\n",
    "        cf = cfs[datavar]  #conversion factor\n",
    "        x  = ds[datavar]\n",
    "\n",
    "        #calc annual mean or sum (determined by cf)\n",
    "        if datavar=='ALTMAX':\n",
    "            ## unique logic for ALTMAX\n",
    "            ix   = ds.ALTMAX.isel(ens=0).mean(dim='time')<10\n",
    "            xann = cf*(la*ds.ALTMAX.where(ix).groupby('time.year').max()).sum(dim=dim).compute()\n",
    "        else:\n",
    "            xann = cf*(month_wts(10)*(la*x).sum(dim=dim)).groupby('time.year').sum().compute()\n",
    "\n",
    "        #average/iav\n",
    "        xm  = xann.mean(dim='year') \n",
    "        iav = xann.std(dim='year')\n",
    "        \n",
    "        #save the reduced data\n",
    "        out = xr.Dataset()\n",
    "        out[datavar+'_mean'] = xm\n",
    "        out[datavar+'_mean'].attrs= {'units':units[datavar]}\n",
    "        out[datavar+'_iav']  = iav\n",
    "        out[datavar+'_iav'].attrs= {'units':units[datavar]}\n",
    "        out['param']  = ds.param\n",
    "        out['minmax'] = ds.minmax\n",
    "        out.load().to_netcdf(preload)\n",
    "    \n",
    "\n",
    "    #load from file if available\n",
    "    ds  = xr.open_dataset(preload)\n",
    "    xm  = ds[datavar+'_mean']\n",
    "    iav = ds[datavar+'_iav']\n",
    "    \n",
    "    return xm,iav"
   ]
  },
  {
   "cell_type": "markdown",
   "id": "31c32d34-94b5-4d35-8288-60b1ffb992b4",
   "metadata": {},
   "source": [
    "### GPP"
   ]
  },
  {
   "cell_type": "code",
   "execution_count": 85,
   "id": "1973b23a-de11-4fd2-a232-2fb4700f5980",
   "metadata": {},
   "outputs": [
    {
     "data": {
      "image/png": "[encoded data removed]",
      "text/plain": [
       "<Figure size 432x288 with 1 Axes>"
      ]
     },
     "metadata": {
      "needs_background": "light"
     },
     "output_type": "display_data"
    }
   ],
   "source": [
    "datavar = 'GPP'\n",
    "gpp,iav = calc_mean(ds,datavar,la,dim='gridcell')\n",
    "gpp.plot.line('.');"
   ]
  },
  {
   "cell_type": "code",
   "execution_count": 96,
   "id": "778506a7-8c22-4e5f-a44d-4ed57a08bd72",
   "metadata": {},
   "outputs": [
    {
     "data": {
      "image/png": "[encoded data removed]",
      "text/plain": [
       "<Figure size 288x360 with 1 Axes>"
      ]
     },
     "metadata": {
      "needs_background": "light"
     },
     "output_type": "display_data"
    }
   ],
   "source": [
    "plt.figure(figsize=[4,5])\n",
    "plot20(gpp,20,'Global GPP')"
   ]
  },
  {
   "cell_type": "markdown",
   "id": "fab94606-f3b4-4003-85a3-a786909f0935",
   "metadata": {},
   "source": [
    "### SNOWDP"
   ]
  },
  {
   "cell_type": "code",
   "execution_count": 101,
   "id": "7e142161-994f-4738-aa9f-64032e7957b0",
   "metadata": {},
   "outputs": [
    {
     "data": {
      "image/png": "[encoded data removed]",
      "text/plain": [
       "<Figure size 432x288 with 1 Axes>"
      ]
     },
     "metadata": {
      "needs_background": "light"
     },
     "output_type": "display_data"
    }
   ],
   "source": [
    "datavar = 'SNOWDP'\n",
    "da,iav = calc_mean(ds,datavar,la,dim='gridcell')\n",
    "plot20(gpp,20,'Global '+datavar)"
   ]
  },
  {
   "cell_type": "code",
   "execution_count": null,
   "id": "5c7fda6a-de29-4662-a587-029cc1d78707",
   "metadata": {},
   "outputs": [],
   "source": []
  }
 ],
 "metadata": {
  "kernelspec": {
   "display_name": "Python [conda env:miniconda3-ppe-py]",
   "language": "python",
   "name": "conda-env-miniconda3-ppe-py-py"
  },
  "language_info": {
   "codemirror_mode": {
    "name": "ipython",
    "version": 3
   },
   "file_extension": ".py",
   "mimetype": "text/x-python",
   "name": "python",
   "nbconvert_exporter": "python",
   "pygments_lexer": "ipython3",
   "version": "3.7.10"
  }
 },
 "nbformat": 4,
 "nbformat_minor": 5
}
