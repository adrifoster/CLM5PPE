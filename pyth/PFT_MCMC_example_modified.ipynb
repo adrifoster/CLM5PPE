{
 "cells": [
  {
   "cell_type": "markdown",
   "id": "68756b29-3dc1-44e7-a845-5b0265f2c72e",
   "metadata": {},
   "source": [
    "### Train GP emulator for PFT mean LAI max\n",
    "##### Linnia Hawkins 9-11-2023\n",
    "##### updated by Katie Dagon 10-24-2023"
   ]
  },
  {
   "cell_type": "code",
   "execution_count": 9,
   "id": "ec614fbd-671b-44fd-adb4-9d51fe8bf630",
   "metadata": {},
   "outputs": [],
   "source": [
    "#import warnings\n",
    "#warnings.filterwarnings(\"ignore\")\n",
    "\n",
    "import numpy as np\n",
    "import pandas as pd\n",
    "import xarray as xr\n",
    "import matplotlib\n",
    "import matplotlib.pyplot as plt\n",
    "import gpflow\n",
    "#import tensorflow as tf\n",
    "#from esem.utils import get_random_params\n",
    "\n",
    "from sklearn import preprocessing"
   ]
  },
  {
   "cell_type": "code",
   "execution_count": null,
   "id": "4773747c-1c77-4944-9a09-02a6fc3ae53d",
   "metadata": {},
   "outputs": [],
   "source": [
    "### import some analysis functions we wrote for this project\n",
    "#import sys ; sys.path.append(\"../\") ; sys.path.append(\"../../\") ;\n",
    "#from ppe_analysis.analysis import *\n",
    "#from emulation_pyfunctions import *\n",
    "#from pyfunctions import *"
   ]
  },
  {
   "cell_type": "markdown",
   "id": "ec770b1f-8102-477f-99cc-c1d46ea5ebfc",
   "metadata": {
    "tags": []
   },
   "source": [
    "### Load LHC CLM-PPE (PFT mean annual max LAI)"
   ]
  },
  {
   "cell_type": "code",
   "execution_count": 2,
   "id": "cc6ac755-cc86-4eec-aa7a-77c38897ed7f",
   "metadata": {},
   "outputs": [],
   "source": [
    "# set PFT index\n",
    "p = 1 # 1=needleleaf evergreen tree"
   ]
  },
  {
   "cell_type": "code",
   "execution_count": 3,
   "id": "9e96c0af-25d4-4dce-916a-a283245bbb3d",
   "metadata": {},
   "outputs": [],
   "source": [
    "#Load PPE\n",
    "#LHC_pmean=xr.open_dataset('/glade/u/home/linnia/clm5ppe/pyth/exp2_PFT/processed_data/LHC_pmean(TLAImax).nc')\n",
    "LHC_pmean=xr.open_dataset('./exp2_PFT/processed_data/LHC_pmean(TLAImax).nc')\n",
    "NL_LAI_PPE = LHC_pmean['TLAI_pftavg_annMax_2003-2014'].sel(pft=p)"
   ]
  },
  {
   "cell_type": "code",
   "execution_count": 4,
   "id": "f698b3ca-97df-444e-99f5-d880290e448f",
   "metadata": {},
   "outputs": [
    {
     "data": {
      "text/html": [
       "<div><svg style=\"position: absolute; width: 0; height: 0; overflow: hidden\">\n",
       "<defs>\n",
       "<symbol id=\"icon-database\" viewBox=\"0 0 32 32\">\n",
       "<path d=\"M16 0c-8.837 0-16 2.239-16 5v4c0 2.761 7.163 5 16 5s16-2.239 16-5v-4c0-2.761-7.163-5-16-5z\"></path>\n",
       "<path d=\"M16 17c-8.837 0-16-2.239-16-5v6c0 2.761 7.163 5 16 5s16-2.239 16-5v-6c0 2.761-7.163 5-16 5z\"></path>\n",
       "<path d=\"M16 26c-8.837 0-16-2.239-16-5v6c0 2.761 7.163 5 16 5s16-2.239 16-5v-6c0 2.761-7.163 5-16 5z\"></path>\n",
       "</symbol>\n",
       "<symbol id=\"icon-file-text2\" viewBox=\"0 0 32 32\">\n",
       "<path d=\"M28.681 7.159c-0.694-0.947-1.662-2.053-2.724-3.116s-2.169-2.030-3.116-2.724c-1.612-1.182-2.393-1.319-2.841-1.319h-15.5c-1.378 0-2.5 1.121-2.5 2.5v27c0 1.378 1.122 2.5 2.5 2.5h23c1.378 0 2.5-1.122 2.5-2.5v-19.5c0-0.448-0.137-1.23-1.319-2.841zM24.543 5.457c0.959 0.959 1.712 1.825 2.268 2.543h-4.811v-4.811c0.718 0.556 1.584 1.309 2.543 2.268zM28 29.5c0 0.271-0.229 0.5-0.5 0.5h-23c-0.271 0-0.5-0.229-0.5-0.5v-27c0-0.271 0.229-0.5 0.5-0.5 0 0 15.499-0 15.5 0v7c0 0.552 0.448 1 1 1h7v19.5z\"></path>\n",
       "<path d=\"M23 26h-14c-0.552 0-1-0.448-1-1s0.448-1 1-1h14c0.552 0 1 0.448 1 1s-0.448 1-1 1z\"></path>\n",
       "<path d=\"M23 22h-14c-0.552 0-1-0.448-1-1s0.448-1 1-1h14c0.552 0 1 0.448 1 1s-0.448 1-1 1z\"></path>\n",
       "<path d=\"M23 18h-14c-0.552 0-1-0.448-1-1s0.448-1 1-1h14c0.552 0 1 0.448 1 1s-0.448 1-1 1z\"></path>\n",
       "</symbol>\n",
       "</defs>\n",
       "</svg>\n",
       "<style>/* CSS stylesheet for displaying xarray objects in jupyterlab.\n",
       " *\n",
       " */\n",
       "\n",
       ":root {\n",
       "  --xr-font-color0: var(--jp-content-font-color0, rgba(0, 0, 0, 1));\n",
       "  --xr-font-color2: var(--jp-content-font-color2, rgba(0, 0, 0, 0.54));\n",
       "  --xr-font-color3: var(--jp-content-font-color3, rgba(0, 0, 0, 0.38));\n",
       "  --xr-border-color: var(--jp-border-color2, #e0e0e0);\n",
       "  --xr-disabled-color: var(--jp-layout-color3, #bdbdbd);\n",
       "  --xr-background-color: var(--jp-layout-color0, white);\n",
       "  --xr-background-color-row-even: var(--jp-layout-color1, white);\n",
       "  --xr-background-color-row-odd: var(--jp-layout-color2, #eeeeee);\n",
       "}\n",
       "\n",
       "html[theme=dark],\n",
       "body[data-theme=dark],\n",
       "body.vscode-dark {\n",
       "  --xr-font-color0: rgba(255, 255, 255, 1);\n",
       "  --xr-font-color2: rgba(255, 255, 255, 0.54);\n",
       "  --xr-font-color3: rgba(255, 255, 255, 0.38);\n",
       "  --xr-border-color: #1F1F1F;\n",
       "  --xr-disabled-color: #515151;\n",
       "  --xr-background-color: #111111;\n",
       "  --xr-background-color-row-even: #111111;\n",
       "  --xr-background-color-row-odd: #313131;\n",
       "}\n",
       "\n",
       ".xr-wrap {\n",
       "  display: block !important;\n",
       "  min-width: 300px;\n",
       "  max-width: 700px;\n",
       "}\n",
       "\n",
       ".xr-text-repr-fallback {\n",
       "  /* fallback to plain text repr when CSS is not injected (untrusted notebook) */\n",
       "  display: none;\n",
       "}\n",
       "\n",
       ".xr-header {\n",
       "  padding-top: 6px;\n",
       "  padding-bottom: 6px;\n",
       "  margin-bottom: 4px;\n",
       "  border-bottom: solid 1px var(--xr-border-color);\n",
       "}\n",
       "\n",
       ".xr-header > div,\n",
       ".xr-header > ul {\n",
       "  display: inline;\n",
       "  margin-top: 0;\n",
       "  margin-bottom: 0;\n",
       "}\n",
       "\n",
       ".xr-obj-type,\n",
       ".xr-array-name {\n",
       "  margin-left: 2px;\n",
       "  margin-right: 10px;\n",
       "}\n",
       "\n",
       ".xr-obj-type {\n",
       "  color: var(--xr-font-color2);\n",
       "}\n",
       "\n",
       ".xr-sections {\n",
       "  padding-left: 0 !important;\n",
       "  display: grid;\n",
       "  grid-template-columns: 150px auto auto 1fr 20px 20px;\n",
       "}\n",
       "\n",
       ".xr-section-item {\n",
       "  display: contents;\n",
       "}\n",
       "\n",
       ".xr-section-item input {\n",
       "  display: none;\n",
       "}\n",
       "\n",
       ".xr-section-item input + label {\n",
       "  color: var(--xr-disabled-color);\n",
       "}\n",
       "\n",
       ".xr-section-item input:enabled + label {\n",
       "  cursor: pointer;\n",
       "  color: var(--xr-font-color2);\n",
       "}\n",
       "\n",
       ".xr-section-item input:enabled + label:hover {\n",
       "  color: var(--xr-font-color0);\n",
       "}\n",
       "\n",
       ".xr-section-summary {\n",
       "  grid-column: 1;\n",
       "  color: var(--xr-font-color2);\n",
       "  font-weight: 500;\n",
       "}\n",
       "\n",
       ".xr-section-summary > span {\n",
       "  display: inline-block;\n",
       "  padding-left: 0.5em;\n",
       "}\n",
       "\n",
       ".xr-section-summary-in:disabled + label {\n",
       "  color: var(--xr-font-color2);\n",
       "}\n",
       "\n",
       ".xr-section-summary-in + label:before {\n",
       "  display: inline-block;\n",
       "  content: '►';\n",
       "  font-size: 11px;\n",
       "  width: 15px;\n",
       "  text-align: center;\n",
       "}\n",
       "\n",
       ".xr-section-summary-in:disabled + label:before {\n",
       "  color: var(--xr-disabled-color);\n",
       "}\n",
       "\n",
       ".xr-section-summary-in:checked + label:before {\n",
       "  content: '▼';\n",
       "}\n",
       "\n",
       ".xr-section-summary-in:checked + label > span {\n",
       "  display: none;\n",
       "}\n",
       "\n",
       ".xr-section-summary,\n",
       ".xr-section-inline-details {\n",
       "  padding-top: 4px;\n",
       "  padding-bottom: 4px;\n",
       "}\n",
       "\n",
       ".xr-section-inline-details {\n",
       "  grid-column: 2 / -1;\n",
       "}\n",
       "\n",
       ".xr-section-details {\n",
       "  display: none;\n",
       "  grid-column: 1 / -1;\n",
       "  margin-bottom: 5px;\n",
       "}\n",
       "\n",
       ".xr-section-summary-in:checked ~ .xr-section-details {\n",
       "  display: contents;\n",
       "}\n",
       "\n",
       ".xr-array-wrap {\n",
       "  grid-column: 1 / -1;\n",
       "  display: grid;\n",
       "  grid-template-columns: 20px auto;\n",
       "}\n",
       "\n",
       ".xr-array-wrap > label {\n",
       "  grid-column: 1;\n",
       "  vertical-align: top;\n",
       "}\n",
       "\n",
       ".xr-preview {\n",
       "  color: var(--xr-font-color3);\n",
       "}\n",
       "\n",
       ".xr-array-preview,\n",
       ".xr-array-data {\n",
       "  padding: 0 5px !important;\n",
       "  grid-column: 2;\n",
       "}\n",
       "\n",
       ".xr-array-data,\n",
       ".xr-array-in:checked ~ .xr-array-preview {\n",
       "  display: none;\n",
       "}\n",
       "\n",
       ".xr-array-in:checked ~ .xr-array-data,\n",
       ".xr-array-preview {\n",
       "  display: inline-block;\n",
       "}\n",
       "\n",
       ".xr-dim-list {\n",
       "  display: inline-block !important;\n",
       "  list-style: none;\n",
       "  padding: 0 !important;\n",
       "  margin: 0;\n",
       "}\n",
       "\n",
       ".xr-dim-list li {\n",
       "  display: inline-block;\n",
       "  padding: 0;\n",
       "  margin: 0;\n",
       "}\n",
       "\n",
       ".xr-dim-list:before {\n",
       "  content: '(';\n",
       "}\n",
       "\n",
       ".xr-dim-list:after {\n",
       "  content: ')';\n",
       "}\n",
       "\n",
       ".xr-dim-list li:not(:last-child):after {\n",
       "  content: ',';\n",
       "  padding-right: 5px;\n",
       "}\n",
       "\n",
       ".xr-has-index {\n",
       "  font-weight: bold;\n",
       "}\n",
       "\n",
       ".xr-var-list,\n",
       ".xr-var-item {\n",
       "  display: contents;\n",
       "}\n",
       "\n",
       ".xr-var-item > div,\n",
       ".xr-var-item label,\n",
       ".xr-var-item > .xr-var-name span {\n",
       "  background-color: var(--xr-background-color-row-even);\n",
       "  margin-bottom: 0;\n",
       "}\n",
       "\n",
       ".xr-var-item > .xr-var-name:hover span {\n",
       "  padding-right: 5px;\n",
       "}\n",
       "\n",
       ".xr-var-list > li:nth-child(odd) > div,\n",
       ".xr-var-list > li:nth-child(odd) > label,\n",
       ".xr-var-list > li:nth-child(odd) > .xr-var-name span {\n",
       "  background-color: var(--xr-background-color-row-odd);\n",
       "}\n",
       "\n",
       ".xr-var-name {\n",
       "  grid-column: 1;\n",
       "}\n",
       "\n",
       ".xr-var-dims {\n",
       "  grid-column: 2;\n",
       "}\n",
       "\n",
       ".xr-var-dtype {\n",
       "  grid-column: 3;\n",
       "  text-align: right;\n",
       "  color: var(--xr-font-color2);\n",
       "}\n",
       "\n",
       ".xr-var-preview {\n",
       "  grid-column: 4;\n",
       "}\n",
       "\n",
       ".xr-index-preview {\n",
       "  grid-column: 2 / 5;\n",
       "  color: var(--xr-font-color2);\n",
       "}\n",
       "\n",
       ".xr-var-name,\n",
       ".xr-var-dims,\n",
       ".xr-var-dtype,\n",
       ".xr-preview,\n",
       ".xr-attrs dt {\n",
       "  white-space: nowrap;\n",
       "  overflow: hidden;\n",
       "  text-overflow: ellipsis;\n",
       "  padding-right: 10px;\n",
       "}\n",
       "\n",
       ".xr-var-name:hover,\n",
       ".xr-var-dims:hover,\n",
       ".xr-var-dtype:hover,\n",
       ".xr-attrs dt:hover {\n",
       "  overflow: visible;\n",
       "  width: auto;\n",
       "  z-index: 1;\n",
       "}\n",
       "\n",
       ".xr-var-attrs,\n",
       ".xr-var-data,\n",
       ".xr-index-data {\n",
       "  display: none;\n",
       "  background-color: var(--xr-background-color) !important;\n",
       "  padding-bottom: 5px !important;\n",
       "}\n",
       "\n",
       ".xr-var-attrs-in:checked ~ .xr-var-attrs,\n",
       ".xr-var-data-in:checked ~ .xr-var-data,\n",
       ".xr-index-data-in:checked ~ .xr-index-data {\n",
       "  display: block;\n",
       "}\n",
       "\n",
       ".xr-var-data > table {\n",
       "  float: right;\n",
       "}\n",
       "\n",
       ".xr-var-name span,\n",
       ".xr-var-data,\n",
       ".xr-index-name div,\n",
       ".xr-index-data,\n",
       ".xr-attrs {\n",
       "  padding-left: 25px !important;\n",
       "}\n",
       "\n",
       ".xr-attrs,\n",
       ".xr-var-attrs,\n",
       ".xr-var-data,\n",
       ".xr-index-data {\n",
       "  grid-column: 1 / -1;\n",
       "}\n",
       "\n",
       "dl.xr-attrs {\n",
       "  padding: 0;\n",
       "  margin: 0;\n",
       "  display: grid;\n",
       "  grid-template-columns: 125px auto;\n",
       "}\n",
       "\n",
       ".xr-attrs dt,\n",
       ".xr-attrs dd {\n",
       "  padding: 0;\n",
       "  margin: 0;\n",
       "  float: left;\n",
       "  padding-right: 10px;\n",
       "  width: auto;\n",
       "}\n",
       "\n",
       ".xr-attrs dt {\n",
       "  font-weight: normal;\n",
       "  grid-column: 1;\n",
       "}\n",
       "\n",
       ".xr-attrs dt:hover span {\n",
       "  display: inline-block;\n",
       "  background: var(--xr-background-color);\n",
       "  padding-right: 10px;\n",
       "}\n",
       "\n",
       ".xr-attrs dd {\n",
       "  grid-column: 2;\n",
       "  white-space: pre-wrap;\n",
       "  word-break: break-all;\n",
       "}\n",
       "\n",
       ".xr-icon-database,\n",
       ".xr-icon-file-text2,\n",
       ".xr-no-icon {\n",
       "  display: inline-block;\n",
       "  vertical-align: middle;\n",
       "  width: 1em;\n",
       "  height: 1.5em !important;\n",
       "  stroke-width: 0;\n",
       "  stroke: currentColor;\n",
       "  fill: currentColor;\n",
       "}\n",
       "</style><pre class='xr-text-repr-fallback'>&lt;xarray.DataArray &#x27;TLAI_pftavg_annMax_2003-2014&#x27; (ens: 501)&gt;\n",
       "[501 values with dtype=float64]\n",
       "Coordinates:\n",
       "    pft      float64 1.0\n",
       "Dimensions without coordinates: ens\n",
       "Attributes:\n",
       "    long_name:  PFT average LAImax 2003\n",
       "    units:      m^2/m^2\n",
       "    years:      2003-2014</pre><div class='xr-wrap' style='display:none'><div class='xr-header'><div class='xr-obj-type'>xarray.DataArray</div><div class='xr-array-name'>'TLAI_pftavg_annMax_2003-2014'</div><ul class='xr-dim-list'><li><span>ens</span>: 501</li></ul></div><ul class='xr-sections'><li class='xr-section-item'><div class='xr-array-wrap'><input id='section-e85a07f4-4997-4e51-8040-3d1a9c3fbae4' class='xr-array-in' type='checkbox' checked><label for='section-e85a07f4-4997-4e51-8040-3d1a9c3fbae4' title='Show/hide data repr'><svg class='icon xr-icon-database'><use xlink:href='#icon-database'></use></svg></label><div class='xr-array-preview xr-preview'><span>...</span></div><div class='xr-array-data'><pre>[501 values with dtype=float64]</pre></div></div></li><li class='xr-section-item'><input id='section-799f5d95-e45a-4b77-b307-3de8a1d5b17f' class='xr-section-summary-in' type='checkbox'  checked><label for='section-799f5d95-e45a-4b77-b307-3de8a1d5b17f' class='xr-section-summary' >Coordinates: <span>(1)</span></label><div class='xr-section-inline-details'></div><div class='xr-section-details'><ul class='xr-var-list'><li class='xr-var-item'><div class='xr-var-name'><span>pft</span></div><div class='xr-var-dims'>()</div><div class='xr-var-dtype'>float64</div><div class='xr-var-preview xr-preview'>1.0</div><input id='attrs-c3c9ae4b-a535-4b80-ad45-40c298f24cec' class='xr-var-attrs-in' type='checkbox' disabled><label for='attrs-c3c9ae4b-a535-4b80-ad45-40c298f24cec' title='Show/Hide attributes'><svg class='icon xr-icon-file-text2'><use xlink:href='#icon-file-text2'></use></svg></label><input id='data-61cddd33-003d-4344-bd6a-0e3451e2d745' class='xr-var-data-in' type='checkbox'><label for='data-61cddd33-003d-4344-bd6a-0e3451e2d745' title='Show/Hide data repr'><svg class='icon xr-icon-database'><use xlink:href='#icon-database'></use></svg></label><div class='xr-var-attrs'><dl class='xr-attrs'></dl></div><div class='xr-var-data'><pre>array(1.)</pre></div></li></ul></div></li><li class='xr-section-item'><input id='section-2aae3a22-b103-4bbf-9e48-ca3713b0374c' class='xr-section-summary-in' type='checkbox' disabled ><label for='section-2aae3a22-b103-4bbf-9e48-ca3713b0374c' class='xr-section-summary'  title='Expand/collapse section'>Indexes: <span>(0)</span></label><div class='xr-section-inline-details'></div><div class='xr-section-details'><ul class='xr-var-list'></ul></div></li><li class='xr-section-item'><input id='section-0328f237-692d-458d-825a-122bb10b8127' class='xr-section-summary-in' type='checkbox'  checked><label for='section-0328f237-692d-458d-825a-122bb10b8127' class='xr-section-summary' >Attributes: <span>(3)</span></label><div class='xr-section-inline-details'></div><div class='xr-section-details'><dl class='xr-attrs'><dt><span>long_name :</span></dt><dd>PFT average LAImax 2003</dd><dt><span>units :</span></dt><dd>m^2/m^2</dd><dt><span>years :</span></dt><dd>2003-2014</dd></dl></div></li></ul></div></div>"
      ],
      "text/plain": [
       "<xarray.DataArray 'TLAI_pftavg_annMax_2003-2014' (ens: 501)>\n",
       "[501 values with dtype=float64]\n",
       "Coordinates:\n",
       "    pft      float64 1.0\n",
       "Dimensions without coordinates: ens\n",
       "Attributes:\n",
       "    long_name:  PFT average LAImax 2003\n",
       "    units:      m^2/m^2\n",
       "    years:      2003-2014"
      ]
     },
     "execution_count": 4,
     "metadata": {},
     "output_type": "execute_result"
    }
   ],
   "source": [
    "NL_LAI_PPE"
   ]
  },
  {
   "cell_type": "code",
   "execution_count": 5,
   "id": "d5ce3ba6-a475-495b-9543-317fb57a7999",
   "metadata": {},
   "outputs": [],
   "source": [
    "# load parameter sets \n",
    "#lhckey = '/glade/campaign/asp/djk2120/PPEn11/csvs/lhc220926.txt'\n",
    "lhckey = './processed_data/lhc220926.txt'\n",
    "df = pd.read_csv(lhckey)\n",
    "params = df.drop(columns='member')\n",
    "nparams = len(params.columns)"
   ]
  },
  {
   "cell_type": "code",
   "execution_count": 6,
   "id": "1f846ada-3846-4535-bb1f-f5969d394fed",
   "metadata": {},
   "outputs": [
    {
     "data": {
      "text/html": [
       "<div>\n",
       "<style scoped>\n",
       "    .dataframe tbody tr th:only-of-type {\n",
       "        vertical-align: middle;\n",
       "    }\n",
       "\n",
       "    .dataframe tbody tr th {\n",
       "        vertical-align: top;\n",
       "    }\n",
       "\n",
       "    .dataframe thead th {\n",
       "        text-align: right;\n",
       "    }\n",
       "</style>\n",
       "<table border=\"1\" class=\"dataframe\">\n",
       "  <thead>\n",
       "    <tr style=\"text-align: right;\">\n",
       "      <th></th>\n",
       "      <th>FUN_fracfixers</th>\n",
       "      <th>KCN</th>\n",
       "      <th>a_fix</th>\n",
       "      <th>crit_dayl</th>\n",
       "      <th>d_max</th>\n",
       "      <th>fff</th>\n",
       "      <th>froot_leaf</th>\n",
       "      <th>fstor2tran</th>\n",
       "      <th>grperc</th>\n",
       "      <th>jmaxb0</th>\n",
       "      <th>...</th>\n",
       "      <th>psi50</th>\n",
       "      <th>q10_mr</th>\n",
       "      <th>slatop</th>\n",
       "      <th>soilpsi_off</th>\n",
       "      <th>stem_leaf</th>\n",
       "      <th>sucsat_sf</th>\n",
       "      <th>theta_cj</th>\n",
       "      <th>tpu25ratio</th>\n",
       "      <th>tpuse_sf</th>\n",
       "      <th>wc2wjb0</th>\n",
       "    </tr>\n",
       "  </thead>\n",
       "  <tbody>\n",
       "    <tr>\n",
       "      <th>0</th>\n",
       "      <td>0.778311</td>\n",
       "      <td>0.358026</td>\n",
       "      <td>0.255021</td>\n",
       "      <td>0.401235</td>\n",
       "      <td>0.797847</td>\n",
       "      <td>0.130074</td>\n",
       "      <td>0.938827</td>\n",
       "      <td>0.378388</td>\n",
       "      <td>0.196517</td>\n",
       "      <td>0.624727</td>\n",
       "      <td>...</td>\n",
       "      <td>0.196154</td>\n",
       "      <td>0.275884</td>\n",
       "      <td>0.762778</td>\n",
       "      <td>0.137397</td>\n",
       "      <td>0.113845</td>\n",
       "      <td>0.798198</td>\n",
       "      <td>0.036459</td>\n",
       "      <td>0.393617</td>\n",
       "      <td>0.078962</td>\n",
       "      <td>0.684588</td>\n",
       "    </tr>\n",
       "    <tr>\n",
       "      <th>1</th>\n",
       "      <td>0.319329</td>\n",
       "      <td>0.548803</td>\n",
       "      <td>0.630191</td>\n",
       "      <td>0.270024</td>\n",
       "      <td>0.536119</td>\n",
       "      <td>0.679190</td>\n",
       "      <td>0.672215</td>\n",
       "      <td>0.956630</td>\n",
       "      <td>0.934241</td>\n",
       "      <td>0.627186</td>\n",
       "      <td>...</td>\n",
       "      <td>0.816009</td>\n",
       "      <td>0.949813</td>\n",
       "      <td>0.717381</td>\n",
       "      <td>0.743697</td>\n",
       "      <td>0.127340</td>\n",
       "      <td>0.394660</td>\n",
       "      <td>0.093740</td>\n",
       "      <td>0.041084</td>\n",
       "      <td>0.275619</td>\n",
       "      <td>0.878455</td>\n",
       "    </tr>\n",
       "    <tr>\n",
       "      <th>2</th>\n",
       "      <td>0.876772</td>\n",
       "      <td>0.210794</td>\n",
       "      <td>0.662125</td>\n",
       "      <td>0.353350</td>\n",
       "      <td>0.140861</td>\n",
       "      <td>0.342557</td>\n",
       "      <td>0.275203</td>\n",
       "      <td>0.747737</td>\n",
       "      <td>0.823775</td>\n",
       "      <td>0.891879</td>\n",
       "      <td>...</td>\n",
       "      <td>0.995087</td>\n",
       "      <td>0.322946</td>\n",
       "      <td>0.474743</td>\n",
       "      <td>0.805385</td>\n",
       "      <td>0.249964</td>\n",
       "      <td>0.168115</td>\n",
       "      <td>0.282747</td>\n",
       "      <td>0.819746</td>\n",
       "      <td>0.840143</td>\n",
       "      <td>0.951915</td>\n",
       "    </tr>\n",
       "    <tr>\n",
       "      <th>3</th>\n",
       "      <td>0.412051</td>\n",
       "      <td>0.678111</td>\n",
       "      <td>0.398648</td>\n",
       "      <td>0.330947</td>\n",
       "      <td>0.326188</td>\n",
       "      <td>0.210967</td>\n",
       "      <td>0.327117</td>\n",
       "      <td>0.645703</td>\n",
       "      <td>0.777746</td>\n",
       "      <td>0.897482</td>\n",
       "      <td>...</td>\n",
       "      <td>0.328198</td>\n",
       "      <td>0.042303</td>\n",
       "      <td>0.766334</td>\n",
       "      <td>0.354093</td>\n",
       "      <td>0.916163</td>\n",
       "      <td>0.138359</td>\n",
       "      <td>0.635655</td>\n",
       "      <td>0.448417</td>\n",
       "      <td>0.342799</td>\n",
       "      <td>0.989434</td>\n",
       "    </tr>\n",
       "    <tr>\n",
       "      <th>4</th>\n",
       "      <td>0.045135</td>\n",
       "      <td>0.770734</td>\n",
       "      <td>0.298738</td>\n",
       "      <td>0.343413</td>\n",
       "      <td>0.747099</td>\n",
       "      <td>0.207547</td>\n",
       "      <td>0.488125</td>\n",
       "      <td>0.686079</td>\n",
       "      <td>0.459411</td>\n",
       "      <td>0.009303</td>\n",
       "      <td>...</td>\n",
       "      <td>0.602910</td>\n",
       "      <td>0.267256</td>\n",
       "      <td>0.176784</td>\n",
       "      <td>0.507355</td>\n",
       "      <td>0.646416</td>\n",
       "      <td>0.828712</td>\n",
       "      <td>0.466185</td>\n",
       "      <td>0.470941</td>\n",
       "      <td>0.357750</td>\n",
       "      <td>0.909412</td>\n",
       "    </tr>\n",
       "    <tr>\n",
       "      <th>...</th>\n",
       "      <td>...</td>\n",
       "      <td>...</td>\n",
       "      <td>...</td>\n",
       "      <td>...</td>\n",
       "      <td>...</td>\n",
       "      <td>...</td>\n",
       "      <td>...</td>\n",
       "      <td>...</td>\n",
       "      <td>...</td>\n",
       "      <td>...</td>\n",
       "      <td>...</td>\n",
       "      <td>...</td>\n",
       "      <td>...</td>\n",
       "      <td>...</td>\n",
       "      <td>...</td>\n",
       "      <td>...</td>\n",
       "      <td>...</td>\n",
       "      <td>...</td>\n",
       "      <td>...</td>\n",
       "      <td>...</td>\n",
       "      <td>...</td>\n",
       "    </tr>\n",
       "    <tr>\n",
       "      <th>495</th>\n",
       "      <td>0.936317</td>\n",
       "      <td>0.335675</td>\n",
       "      <td>0.821711</td>\n",
       "      <td>0.767823</td>\n",
       "      <td>0.330586</td>\n",
       "      <td>0.745789</td>\n",
       "      <td>0.127834</td>\n",
       "      <td>0.424287</td>\n",
       "      <td>0.609700</td>\n",
       "      <td>0.286311</td>\n",
       "      <td>...</td>\n",
       "      <td>0.246081</td>\n",
       "      <td>0.700532</td>\n",
       "      <td>0.681519</td>\n",
       "      <td>0.206475</td>\n",
       "      <td>0.802992</td>\n",
       "      <td>0.453735</td>\n",
       "      <td>0.624163</td>\n",
       "      <td>0.206822</td>\n",
       "      <td>0.441036</td>\n",
       "      <td>0.411448</td>\n",
       "    </tr>\n",
       "    <tr>\n",
       "      <th>496</th>\n",
       "      <td>0.955479</td>\n",
       "      <td>0.845082</td>\n",
       "      <td>0.019274</td>\n",
       "      <td>0.324838</td>\n",
       "      <td>0.113533</td>\n",
       "      <td>0.540953</td>\n",
       "      <td>0.150098</td>\n",
       "      <td>0.011721</td>\n",
       "      <td>0.227892</td>\n",
       "      <td>0.006216</td>\n",
       "      <td>...</td>\n",
       "      <td>0.910214</td>\n",
       "      <td>0.993029</td>\n",
       "      <td>0.930575</td>\n",
       "      <td>0.653339</td>\n",
       "      <td>0.750147</td>\n",
       "      <td>0.475151</td>\n",
       "      <td>0.536766</td>\n",
       "      <td>0.994792</td>\n",
       "      <td>0.512649</td>\n",
       "      <td>0.000159</td>\n",
       "    </tr>\n",
       "    <tr>\n",
       "      <th>497</th>\n",
       "      <td>0.185969</td>\n",
       "      <td>0.996422</td>\n",
       "      <td>0.422209</td>\n",
       "      <td>0.365048</td>\n",
       "      <td>0.275200</td>\n",
       "      <td>0.320546</td>\n",
       "      <td>0.991583</td>\n",
       "      <td>0.543024</td>\n",
       "      <td>0.037573</td>\n",
       "      <td>0.802632</td>\n",
       "      <td>...</td>\n",
       "      <td>0.346204</td>\n",
       "      <td>0.008894</td>\n",
       "      <td>0.606076</td>\n",
       "      <td>0.406761</td>\n",
       "      <td>0.453041</td>\n",
       "      <td>0.047361</td>\n",
       "      <td>0.765972</td>\n",
       "      <td>0.242643</td>\n",
       "      <td>0.842275</td>\n",
       "      <td>0.731144</td>\n",
       "    </tr>\n",
       "    <tr>\n",
       "      <th>498</th>\n",
       "      <td>0.262130</td>\n",
       "      <td>0.912280</td>\n",
       "      <td>0.533934</td>\n",
       "      <td>0.997431</td>\n",
       "      <td>0.907613</td>\n",
       "      <td>0.991805</td>\n",
       "      <td>0.363534</td>\n",
       "      <td>0.886880</td>\n",
       "      <td>0.763445</td>\n",
       "      <td>0.192524</td>\n",
       "      <td>...</td>\n",
       "      <td>0.805913</td>\n",
       "      <td>0.401231</td>\n",
       "      <td>0.865736</td>\n",
       "      <td>0.573305</td>\n",
       "      <td>0.332778</td>\n",
       "      <td>0.352641</td>\n",
       "      <td>0.842942</td>\n",
       "      <td>0.715950</td>\n",
       "      <td>0.353015</td>\n",
       "      <td>0.358052</td>\n",
       "    </tr>\n",
       "    <tr>\n",
       "      <th>499</th>\n",
       "      <td>0.422114</td>\n",
       "      <td>0.839212</td>\n",
       "      <td>0.144342</td>\n",
       "      <td>0.657058</td>\n",
       "      <td>0.400938</td>\n",
       "      <td>0.027978</td>\n",
       "      <td>0.969087</td>\n",
       "      <td>0.198452</td>\n",
       "      <td>0.025192</td>\n",
       "      <td>0.612521</td>\n",
       "      <td>...</td>\n",
       "      <td>0.402224</td>\n",
       "      <td>0.546837</td>\n",
       "      <td>0.722829</td>\n",
       "      <td>0.285382</td>\n",
       "      <td>0.346998</td>\n",
       "      <td>0.651474</td>\n",
       "      <td>0.505517</td>\n",
       "      <td>0.212370</td>\n",
       "      <td>0.363440</td>\n",
       "      <td>0.156710</td>\n",
       "    </tr>\n",
       "  </tbody>\n",
       "</table>\n",
       "<p>500 rows × 32 columns</p>\n",
       "</div>"
      ],
      "text/plain": [
       "     FUN_fracfixers       KCN     a_fix  crit_dayl     d_max       fff  \\\n",
       "0          0.778311  0.358026  0.255021   0.401235  0.797847  0.130074   \n",
       "1          0.319329  0.548803  0.630191   0.270024  0.536119  0.679190   \n",
       "2          0.876772  0.210794  0.662125   0.353350  0.140861  0.342557   \n",
       "3          0.412051  0.678111  0.398648   0.330947  0.326188  0.210967   \n",
       "4          0.045135  0.770734  0.298738   0.343413  0.747099  0.207547   \n",
       "..              ...       ...       ...        ...       ...       ...   \n",
       "495        0.936317  0.335675  0.821711   0.767823  0.330586  0.745789   \n",
       "496        0.955479  0.845082  0.019274   0.324838  0.113533  0.540953   \n",
       "497        0.185969  0.996422  0.422209   0.365048  0.275200  0.320546   \n",
       "498        0.262130  0.912280  0.533934   0.997431  0.907613  0.991805   \n",
       "499        0.422114  0.839212  0.144342   0.657058  0.400938  0.027978   \n",
       "\n",
       "     froot_leaf  fstor2tran    grperc    jmaxb0  ...     psi50    q10_mr  \\\n",
       "0      0.938827    0.378388  0.196517  0.624727  ...  0.196154  0.275884   \n",
       "1      0.672215    0.956630  0.934241  0.627186  ...  0.816009  0.949813   \n",
       "2      0.275203    0.747737  0.823775  0.891879  ...  0.995087  0.322946   \n",
       "3      0.327117    0.645703  0.777746  0.897482  ...  0.328198  0.042303   \n",
       "4      0.488125    0.686079  0.459411  0.009303  ...  0.602910  0.267256   \n",
       "..          ...         ...       ...       ...  ...       ...       ...   \n",
       "495    0.127834    0.424287  0.609700  0.286311  ...  0.246081  0.700532   \n",
       "496    0.150098    0.011721  0.227892  0.006216  ...  0.910214  0.993029   \n",
       "497    0.991583    0.543024  0.037573  0.802632  ...  0.346204  0.008894   \n",
       "498    0.363534    0.886880  0.763445  0.192524  ...  0.805913  0.401231   \n",
       "499    0.969087    0.198452  0.025192  0.612521  ...  0.402224  0.546837   \n",
       "\n",
       "       slatop  soilpsi_off  stem_leaf  sucsat_sf  theta_cj  tpu25ratio  \\\n",
       "0    0.762778     0.137397   0.113845   0.798198  0.036459    0.393617   \n",
       "1    0.717381     0.743697   0.127340   0.394660  0.093740    0.041084   \n",
       "2    0.474743     0.805385   0.249964   0.168115  0.282747    0.819746   \n",
       "3    0.766334     0.354093   0.916163   0.138359  0.635655    0.448417   \n",
       "4    0.176784     0.507355   0.646416   0.828712  0.466185    0.470941   \n",
       "..        ...          ...        ...        ...       ...         ...   \n",
       "495  0.681519     0.206475   0.802992   0.453735  0.624163    0.206822   \n",
       "496  0.930575     0.653339   0.750147   0.475151  0.536766    0.994792   \n",
       "497  0.606076     0.406761   0.453041   0.047361  0.765972    0.242643   \n",
       "498  0.865736     0.573305   0.332778   0.352641  0.842942    0.715950   \n",
       "499  0.722829     0.285382   0.346998   0.651474  0.505517    0.212370   \n",
       "\n",
       "     tpuse_sf   wc2wjb0  \n",
       "0    0.078962  0.684588  \n",
       "1    0.275619  0.878455  \n",
       "2    0.840143  0.951915  \n",
       "3    0.342799  0.989434  \n",
       "4    0.357750  0.909412  \n",
       "..        ...       ...  \n",
       "495  0.441036  0.411448  \n",
       "496  0.512649  0.000159  \n",
       "497  0.842275  0.731144  \n",
       "498  0.353015  0.358052  \n",
       "499  0.363440  0.156710  \n",
       "\n",
       "[500 rows x 32 columns]"
      ]
     },
     "execution_count": 6,
     "metadata": {},
     "output_type": "execute_result"
    }
   ],
   "source": [
    "params"
   ]
  },
  {
   "cell_type": "code",
   "execution_count": 7,
   "id": "87a311ee-5976-474f-bbe5-88868245d343",
   "metadata": {},
   "outputs": [
    {
     "data": {
      "text/plain": [
       "32"
      ]
     },
     "execution_count": 7,
     "metadata": {},
     "output_type": "execute_result"
    }
   ],
   "source": [
    "nparams"
   ]
  },
  {
   "cell_type": "code",
   "execution_count": null,
   "id": "50e0973e-936e-4246-b1a1-a3588072bf4c",
   "metadata": {},
   "outputs": [],
   "source": [
    "# load parameter sets (netcdf version)\n",
    "#lhckey = xr.open_dataarray('./processed_data/lhc220926.nc')\n",
    "#params = lhckey.to_numpy().T\n",
    "#nparams = params.shape[1]"
   ]
  },
  {
   "cell_type": "markdown",
   "id": "e2ec1070-7e2f-4b92-8795-e04819dadee3",
   "metadata": {
    "jp-MarkdownHeadingCollapsed": true,
    "tags": []
   },
   "source": [
    "### Load Observational Target data"
   ]
  },
  {
   "cell_type": "code",
   "execution_count": null,
   "id": "7c3df5ed-5103-4307-b006-9e21662714f9",
   "metadata": {},
   "outputs": [],
   "source": [
    "#calculate SP LAI, by pft\n",
    "dsp=xr.open_dataset('/glade/work/linnia/LAI_SP_ctsm51d115/run/LAI_SP_ctsm51d115.clm2.h1.2000-02-01-00000.nc')\n",
    "#dsp=xr.open_dataset('/glade/scratch/linnia/archive/LAI_SP_ctsm51d115/lnd/hist/LAI_SP_ctsm51d115.clm2.h1.2000-02-01-00000.nc')\n",
    "dsp['time']=xr.cftime_range('2000',periods=12,freq='MS',calendar='noleap')\n",
    "sg=xr.open_dataset('clusters.clm51_PPEn02ctsm51d021_2deg_GSWP3V1_leafbiomassesai_PPE3_hist.annual+sd.400.nc')\n",
    "la=sg.landfrac*sg.area\n",
    "\n",
    "lai_sp=amax(dsp.TLAI).sel(year=2000)\n",
    "w=dsp.pfts1d_wtgcell\n",
    "laig=pftgrid(lai_sp,dsp)\n",
    "wg=pftgrid(w,dsp)\n",
    "cf=1/(wg*la).sum(dim=['lat','lon'])\n",
    "laisp=cf*(laig*wg*la).sum(dim=['lat','lon']).sel(pft=range(0,16)).compute()"
   ]
  },
  {
   "cell_type": "code",
   "execution_count": null,
   "id": "ac6ac6bd-9b6c-4c6d-b359-99c98e781bd6",
   "metadata": {},
   "outputs": [],
   "source": [
    "# Observational target\n",
    "NL_LAI_obs = laisp[p]"
   ]
  },
  {
   "cell_type": "markdown",
   "id": "60be0210-970c-46c1-a301-5e8dc1864a5c",
   "metadata": {
    "tags": []
   },
   "source": [
    "### Train PFT emulators"
   ]
  },
  {
   "cell_type": "code",
   "execution_count": 8,
   "id": "401d1d0a-2503-4921-8271-3dba3518432e",
   "metadata": {},
   "outputs": [],
   "source": [
    "# Define kernels\n",
    "kernel_linear = gpflow.kernels.Linear(active_dims=range(nparams),variance=1)\n",
    "kernel_matern32 = gpflow.kernels.Matern32(active_dims=range(nparams), variance=1, lengthscales = np.tile(1,32))\n",
    "kernel_RBF = gpflow.kernels.RBF(active_dims = range(nparams), lengthscales=np.tile(1,nparams))\n",
    "\n",
    "# select the kernal to use\n",
    "kernel = kernel_linear + kernel_matern32 + kernel_RBF"
   ]
  },
  {
   "cell_type": "code",
   "execution_count": 10,
   "id": "89b89354-d193-4601-9a18-411674c39f68",
   "metadata": {},
   "outputs": [
    {
     "data": {
      "image/png": "[encoded data removed]",
      "text/plain": [
       "<Figure size 640x480 with 1 Axes>"
      ]
     },
     "metadata": {},
     "output_type": "display_data"
    }
   ],
   "source": [
    "ntest = 50\n",
    "data = NL_LAI_PPE[1:]\n",
    "plt.hist(data);"
   ]
  },
  {
   "cell_type": "code",
   "execution_count": 11,
   "id": "92257ae8-a4b2-466e-8a5c-bea906f8941a",
   "metadata": {},
   "outputs": [
    {
     "data": {
      "image/png": "[encoded data removed]",
      "text/plain": [
       "<Figure size 640x480 with 1 Axes>"
      ]
     },
     "metadata": {},
     "output_type": "display_data"
    }
   ],
   "source": [
    "Y = preprocessing.scale(data)\n",
    "plt.hist(Y);"
   ]
  },
  {
   "cell_type": "code",
   "execution_count": 12,
   "id": "c5a79c0c-68d2-4198-90cc-e7cac2ab4672",
   "metadata": {},
   "outputs": [
    {
     "data": {
      "text/plain": [
       "(500, 32)"
      ]
     },
     "execution_count": 12,
     "metadata": {},
     "output_type": "execute_result"
    }
   ],
   "source": [
    "params.shape"
   ]
  },
  {
   "cell_type": "code",
   "execution_count": 13,
   "id": "d608c995-30a5-4f14-816d-d09d739eba5c",
   "metadata": {},
   "outputs": [
    {
     "data": {
      "text/plain": [
       "(500,)"
      ]
     },
     "execution_count": 13,
     "metadata": {},
     "output_type": "execute_result"
    }
   ],
   "source": [
    "Y.shape"
   ]
  },
  {
   "cell_type": "code",
   "execution_count": 14,
   "id": "723f6603-5cb2-48f5-b3e2-cf07332a937b",
   "metadata": {},
   "outputs": [],
   "source": [
    "# split training and testing data\n",
    "X_test, X_train = params[:ntest], params[ntest:]\n",
    "y_test, y_train = Y[:ntest], Y[ntest:]"
   ]
  },
  {
   "cell_type": "code",
   "execution_count": 15,
   "id": "75d2b9ca-2ea1-41c6-bae1-8d76e6658e39",
   "metadata": {},
   "outputs": [
    {
     "data": {
      "text/plain": [
       "(450, 32)"
      ]
     },
     "execution_count": 15,
     "metadata": {},
     "output_type": "execute_result"
    }
   ],
   "source": [
    "X_train.shape"
   ]
  },
  {
   "cell_type": "code",
   "execution_count": 16,
   "id": "3b433ac5-26bb-4b90-9743-39a6ad8c6682",
   "metadata": {},
   "outputs": [
    {
     "data": {
      "text/plain": [
       "(50, 32)"
      ]
     },
     "execution_count": 16,
     "metadata": {},
     "output_type": "execute_result"
    }
   ],
   "source": [
    "X_test.shape"
   ]
  },
  {
   "cell_type": "code",
   "execution_count": 26,
   "id": "4fc9ad50-7e06-4a8c-926b-4a3f9541bd22",
   "metadata": {},
   "outputs": [
    {
     "data": {
      "text/plain": [
       "array([[0.77831114, 0.35802577, 0.25502127, ..., 0.39361723, 0.07896155,\n",
       "        0.68458797],\n",
       "       [0.31932864, 0.54880317, 0.63019079, ..., 0.04108439, 0.27561916,\n",
       "        0.87845469],\n",
       "       [0.87677181, 0.21079367, 0.6621252 , ..., 0.81974643, 0.84014328,\n",
       "        0.95191497],\n",
       "       ...,\n",
       "       [0.58229602, 0.21377433, 0.75873718, ..., 0.06865076, 0.91264871,\n",
       "        0.61636639],\n",
       "       [0.78861777, 0.50679844, 0.82298078, ..., 0.7295324 , 0.20642759,\n",
       "        0.63780786],\n",
       "       [0.56347196, 0.49945043, 0.24249117, ..., 0.86388804, 0.48548468,\n",
       "        0.49136507]])"
      ]
     },
     "execution_count": 26,
     "metadata": {},
     "output_type": "execute_result"
    }
   ],
   "source": [
    "X_test.values"
   ]
  },
  {
   "cell_type": "code",
   "execution_count": 17,
   "id": "352eda6d-59f5-4d3c-8b3a-0244859b2a58",
   "metadata": {},
   "outputs": [
    {
     "data": {
      "text/plain": [
       "(450,)"
      ]
     },
     "execution_count": 17,
     "metadata": {},
     "output_type": "execute_result"
    }
   ],
   "source": [
    "y_train.shape"
   ]
  },
  {
   "cell_type": "code",
   "execution_count": 19,
   "id": "3eacfcb1-6b49-42d2-8a73-928c8b0345fe",
   "metadata": {},
   "outputs": [],
   "source": [
    "# need to reshape y_train for proper emulation\n",
    "y_train = y_train.reshape(-1,1)"
   ]
  },
  {
   "cell_type": "code",
   "execution_count": 20,
   "id": "da891d1c-54aa-4a58-8076-730926e0c842",
   "metadata": {},
   "outputs": [
    {
     "data": {
      "text/plain": [
       "(450, 1)"
      ]
     },
     "execution_count": 20,
     "metadata": {},
     "output_type": "execute_result"
    }
   ],
   "source": [
    "y_train.shape"
   ]
  },
  {
   "cell_type": "code",
   "execution_count": 21,
   "id": "a3d43f11-cb04-4814-8c2d-d4054528c7aa",
   "metadata": {},
   "outputs": [
    {
     "data": {
      "text/plain": [
       "(50,)"
      ]
     },
     "execution_count": 21,
     "metadata": {},
     "output_type": "execute_result"
    }
   ],
   "source": [
    "y_test.shape"
   ]
  },
  {
   "cell_type": "code",
   "execution_count": 22,
   "id": "fd05ba48-e31a-4107-8341-912dff15c5e9",
   "metadata": {},
   "outputs": [],
   "source": [
    "# define emulator model and train\n",
    "emulator = gpflow.models.GPR(data=(X_train, y_train), kernel=kernel, mean_function=None)"
   ]
  },
  {
   "cell_type": "code",
   "execution_count": 23,
   "id": "cb9fddf6-6fe9-48d3-84d2-7b0d2b2edf91",
   "metadata": {},
   "outputs": [],
   "source": [
    "opt = gpflow.optimizers.Scipy()\n",
    "opt_logs = opt.minimize(emulator.training_loss, emulator.trainable_variables, options=dict(maxiter=100))"
   ]
  },
  {
   "cell_type": "code",
   "execution_count": 28,
   "id": "89af0e92-4fac-4f92-94f4-e97597a85ce7",
   "metadata": {},
   "outputs": [],
   "source": [
    "# need to convert pandas dataframe here (.values)\n",
    "y_pred, y_var = emulator.predict_f(X_test.values)"
   ]
  },
  {
   "cell_type": "code",
   "execution_count": 29,
   "id": "28fa5f38-c8dd-4ceb-b22c-ca78aac51894",
   "metadata": {},
   "outputs": [
    {
     "data": {
      "text/plain": [
       "TensorShape([50, 1])"
      ]
     },
     "execution_count": 29,
     "metadata": {},
     "output_type": "execute_result"
    }
   ],
   "source": [
    "y_pred.shape"
   ]
  },
  {
   "cell_type": "code",
   "execution_count": 31,
   "id": "41709cc2-5954-417e-8678-d1abb9942c82",
   "metadata": {},
   "outputs": [
    {
     "data": {
      "text/plain": [
       "TensorShape([50, 1])"
      ]
     },
     "execution_count": 31,
     "metadata": {},
     "output_type": "execute_result"
    }
   ],
   "source": [
    "y_var.shape"
   ]
  },
  {
   "cell_type": "code",
   "execution_count": 41,
   "id": "18da5356-cd2c-4959-adc8-d84afbb2ef6b",
   "metadata": {},
   "outputs": [
    {
     "data": {
      "image/png": "[encoded data removed]",
      "text/plain": [
       "<Figure size 640x480 with 1 Axes>"
      ]
     },
     "metadata": {},
     "output_type": "display_data"
    }
   ],
   "source": [
    "plt.scatter(y_test, y_pred)\n",
    "plt.xlim([-3,3])\n",
    "plt.ylim([-3,3])\n",
    "plt.plot([-3,3],[-3,3],c='k',linestyle='--',label='1:1 line')\n",
    "plt.xlabel('CLM (standardized)',fontsize = 10)\n",
    "plt.ylabel('Emulator (standardized)',fontsize = 10);"
   ]
  },
  {
   "cell_type": "code",
   "execution_count": 42,
   "id": "ad47ef3b-0bff-47d6-834e-dab74be9c4cf",
   "metadata": {},
   "outputs": [
    {
     "data": {
      "text/plain": [
       "(10, 32)"
      ]
     },
     "execution_count": 42,
     "metadata": {},
     "output_type": "execute_result"
    }
   ],
   "source": [
    "# try testing 10 values\n",
    "test_ten = params[:10]\n",
    "test_ten.shape"
   ]
  },
  {
   "cell_type": "code",
   "execution_count": 44,
   "id": "28a7b055-4ea9-40cf-a012-d21b02ba3120",
   "metadata": {},
   "outputs": [],
   "source": [
    "test_pred, test_var = emulator.predict_f(test_ten.values)"
   ]
  },
  {
   "cell_type": "code",
   "execution_count": 45,
   "id": "d377c5d3-6ca3-4208-89be-db9af4883dc6",
   "metadata": {},
   "outputs": [
    {
     "data": {
      "text/plain": [
       "TensorShape([10, 1])"
      ]
     },
     "execution_count": 45,
     "metadata": {},
     "output_type": "execute_result"
    }
   ],
   "source": [
    "test_pred.shape"
   ]
  },
  {
   "cell_type": "code",
   "execution_count": 50,
   "id": "6ebda1c8-12d5-4e2d-b0f7-b25cc90a3df0",
   "metadata": {},
   "outputs": [
    {
     "data": {
      "text/plain": [
       "(1, 32)"
      ]
     },
     "execution_count": 50,
     "metadata": {},
     "output_type": "execute_result"
    }
   ],
   "source": [
    "# try one set\n",
    "test_one = params[:1]\n",
    "test_one.shape"
   ]
  },
  {
   "cell_type": "code",
   "execution_count": 52,
   "id": "ed94e137-5d7a-46f6-bfce-28e4a1031385",
   "metadata": {},
   "outputs": [],
   "source": [
    "test_pred, test_var = emulator.predict_f(test_one.values)"
   ]
  },
  {
   "cell_type": "code",
   "execution_count": 53,
   "id": "0e8fb4e3-dbcd-4e8f-bdc1-1929d052748f",
   "metadata": {},
   "outputs": [
    {
     "data": {
      "text/plain": [
       "TensorShape([1, 1])"
      ]
     },
     "execution_count": 53,
     "metadata": {},
     "output_type": "execute_result"
    }
   ],
   "source": [
    "test_pred.shape"
   ]
  },
  {
   "cell_type": "code",
   "execution_count": null,
   "id": "169d6f3f-296f-4505-801e-56a0b230fb7b",
   "metadata": {},
   "outputs": [],
   "source": []
  },
  {
   "cell_type": "code",
   "execution_count": null,
   "id": "e22ad6a3-fc93-4804-ab84-3ab79c38f4a5",
   "metadata": {},
   "outputs": [],
   "source": []
  },
  {
   "cell_type": "markdown",
   "id": "ca4092e7-0743-49d7-930c-cef234edc5fb",
   "metadata": {},
   "source": [
    "### Linnia's original code/plots"
   ]
  },
  {
   "cell_type": "code",
   "execution_count": 16,
   "id": "4b03aafb-41fb-40c4-af87-c3a524ae2fdb",
   "metadata": {},
   "outputs": [
    {
     "data": {
      "image/png": "[encoded data removed]",
      "text/plain": [
       "<Figure size 640x480 with 1 Axes>"
      ]
     },
     "metadata": {},
     "output_type": "display_data"
    }
   ],
   "source": [
    "ntest = 50\n",
    "data = NL_LAI_PPE[1:]\n",
    "\n",
    "Y = standardize(data)\n",
    "\n",
    "# split training and testing data\n",
    "X_test, X_train = params[:ntest], params[ntest:]\n",
    "y_test, y_train = Y[:ntest], Y[ntest:]\n",
    "\n",
    "# define emulator model and train\n",
    "emulator = gpflow.models.GPR(data=(X_train, y_train), kernel=kernel, mean_function=None)\n",
    "\n",
    "opt = gpflow.optimizers.Scipy()\n",
    "opt_logs = opt.minimize(emulator.training_loss, emulator.trainable_variables, options=dict(maxiter=100))\n",
    "\n",
    "y_pred, y_var = emulator.predict_f(X_test.values)\n",
    "\n",
    "# plot validation\n",
    "ax = plt.subplot(1,1,1)\n",
    "plot_validation(y_test, np.array(y_pred), ax)"
   ]
  },
  {
   "cell_type": "markdown",
   "id": "1495756c-8458-436a-a3bb-b1252ccbd859",
   "metadata": {},
   "source": [
    "### Sample and Predict"
   ]
  },
  {
   "cell_type": "code",
   "execution_count": 17,
   "id": "4ae51e30-0c4d-485f-b913-173343b24e41",
   "metadata": {},
   "outputs": [],
   "source": [
    "### Take a random sample from parameter space and use emulator to estimate LAI\n",
    "#randomly sample parameters\n",
    "n_samp = 1000\n",
    "sample = get_random_params(nparams, n_samp)"
   ]
  },
  {
   "cell_type": "code",
   "execution_count": 18,
   "id": "bd6c4d19-5113-449e-a3de-df1bbc374bf5",
   "metadata": {},
   "outputs": [],
   "source": [
    "y_pred, y_pred_var = emulator.predict_f(sample) "
   ]
  },
  {
   "cell_type": "code",
   "execution_count": 19,
   "id": "7089b1f4-d5e0-4e6d-9eb4-d3632d929e1c",
   "metadata": {},
   "outputs": [
    {
     "data": {
      "text/plain": [
       "<matplotlib.legend.Legend at 0x2acf9c75b5e0>"
      ]
     },
     "execution_count": 19,
     "metadata": {},
     "output_type": "execute_result"
    },
    {
     "data": {
      "image/png": "[encoded data removed]",
      "text/plain": [
       "<Figure size 640x480 with 1 Axes>"
      ]
     },
     "metadata": {},
     "output_type": "display_data"
    }
   ],
   "source": [
    "# unstandardize and plot\n",
    "NL_LAI_pred = unstandardize(np.array(y_pred).reshape(1,-1),NL_LAI_PPE)\n",
    "plt.hist(NL_LAI_pred.flatten(),label='emulated sample')\n",
    "plt.hist(NL_LAI_PPE,label='CLM-PPE')\n",
    "plt.xlabel('global mean LAI max')\n",
    "plt.title('Needleleaf Evergreen Temperate Tree')\n",
    "plt.legend()"
   ]
  },
  {
   "cell_type": "code",
   "execution_count": null,
   "id": "c5daa053-4675-4a20-84c6-634d3ef0a3ae",
   "metadata": {},
   "outputs": [],
   "source": []
  }
 ],
 "metadata": {
  "kernelspec": {
   "display_name": "Python 3 (ipykernel)",
   "language": "python",
   "name": "python3"
  },
  "language_info": {
   "codemirror_mode": {
    "name": "ipython",
    "version": 3
   },
   "file_extension": ".py",
   "mimetype": "text/x-python",
   "name": "python",
   "nbconvert_exporter": "python",
   "pygments_lexer": "ipython3",
   "version": "3.11.6"
  }
 },
 "nbformat": 4,
 "nbformat_minor": 5
}
