{
 "cells": [
  {
   "cell_type": "code",
   "execution_count": 28,
   "id": "f50867e0-5ab8-4b9d-b9a8-32c92677d099",
   "metadata": {},
   "outputs": [],
   "source": [
    "import numpy as np\n",
    "import xarray as xr\n",
    "import os\n",
    "import pandas as pd\n",
    "import glob"
   ]
  },
  {
   "cell_type": "code",
   "execution_count": 29,
   "id": "99d6d68a-4510-4377-a457-cd2c194a8a67",
   "metadata": {},
   "outputs": [],
   "source": [
    "import sys ; sys.path.append(\"../..\")\n",
    "from ppe_tools import *"
   ]
  },
  {
   "cell_type": "code",
   "execution_count": 30,
   "id": "9c639bd1-83c2-4bbb-b508-d669adfca37b",
   "metadata": {},
   "outputs": [],
   "source": [
    "csv='lhc_220926.csv'"
   ]
  },
  {
   "cell_type": "code",
   "execution_count": 4,
   "id": "af3cc3bc",
   "metadata": {},
   "outputs": [],
   "source": [
    "#data_url = '\"https://docs.google.com/spreadsheets/d/e/2PACX-1vQLjMUT7sgunI4XkbGWq_RrjrLhR8-N0RiojM7h3lbSsN5-jgKIFyiJtPJeQkTEf2TL4ouLu_dqmEkg/pub?gid=737792973&single=true&output=csv\"'\n",
    "#cmd = 'curl -L '+data_url+' > '+csv # need to add -L option to force redirects\n",
    "#os.system(cmd)"
   ]
  },
  {
   "cell_type": "code",
   "execution_count": null,
   "id": "915b9226-20e4-42bb-9665-4d0732607b20",
   "metadata": {},
   "outputs": [
    {
     "data": {
      "text/plain": [
       "array(['FUN_fracfixers', 'KCN', 'a_fix', 'crit_dayl', 'd_max', 'fff',\n",
       "       'froot_leaf', 'fstor2tran', 'grperc', 'jmaxb0', 'jmaxb1', 'kcha',\n",
       "       'kmax', 'krmax', 'leaf_long', 'leafcn', 'lmr_intercept_atkin',\n",
       "       'lmrha', 'lmrhd', 'medlynintercept', 'medlynslope', 'nstem',\n",
       "       'psi50', 'q10_mr', 'slatop', 'soilpsi_off', 'stem_leaf',\n",
       "       'sucsat_sf', 'theta_cj', 'tpu25ratio', 'tpuse_sf', 'wc2wjb0'],\n",
       "      dtype=object)"
      ]
     },
     "execution_count": 15,
     "metadata": {},
     "output_type": "execute_result"
    }
   ],
   "source": [
    "df = pd.read_csv(csv)\n",
    "params=df['param'].values\n",
    "params"
   ]
  },
  {
   "cell_type": "code",
   "execution_count": 6,
   "id": "7390a3e1-733e-4176-bde5-df9a0d5061b5",
   "metadata": {},
   "outputs": [
    {
     "data": {
      "text/plain": [
       "['kc_nonmyc',\n",
       " 'kn_nonmyc',\n",
       " 'akc_active',\n",
       " 'akn_active',\n",
       " 'ekc_active',\n",
       " 'ekn_active']"
      ]
     },
     "execution_count": 6,
     "metadata": {},
     "output_type": "execute_result"
    }
   ],
   "source": [
    "kcns=['kc_nonmyc',\n",
    "        'kn_nonmyc',\n",
    "        'akc_active',\n",
    "        'akn_active',\n",
    "        'ekc_active',\n",
    "        'ekn_active']\n",
    "kcns"
   ]
  },
  {
   "cell_type": "code",
   "execution_count": 18,
   "id": "f6b7d30b-5bf0-48cb-adc6-e37da72ffbd9",
   "metadata": {},
   "outputs": [],
   "source": [
    "lhcs = {}\n",
    "for p in params:\n",
    "    ix       = df['param']==p\n",
    "    minval   = df['min'][ix].values[0]\n",
    "    maxval   = df['max'][ix].values[0]\n",
    "    pftmin   = df['pft_mins'][ix].values[0]\n",
    "    pftmax   = df['pft_maxs'][ix].values[0]\n",
    "    thisloc  = df['loc'][ix].values[0]\n",
    "    if p=='KCN':\n",
    "        flag='KCN'\n",
    "    else:\n",
    "        flag=''\n",
    "    \n",
    "    needs_pft = (minval=='pft')\n",
    "    if needs_pft:\n",
    "        thismin = np.fromstring(pftmin, dtype='float', sep=',')\n",
    "    elif 'percent' in minval:\n",
    "        thismin = minval\n",
    "    else:\n",
    "        thismin = np.array(float(minval))\n",
    "\n",
    "    needs_pft = (maxval=='pft')\n",
    "    if needs_pft:\n",
    "        thismax = np.fromstring(pftmax, dtype='float', sep=',')\n",
    "    elif 'percent' in maxval:\n",
    "        thismax = maxval\n",
    "    else:\n",
    "        thismax = np.array(float(maxval))\n",
    "\n",
    "    if p!='KCN':\n",
    "        lhcs[p]={'min':thismin,'max':thismax,'loc':thisloc,'flagged':[]}\n",
    "    else:\n",
    "        flagged={}\n",
    "        for kcn in kcns:\n",
    "            flagged[kcn]={'min':thismin,'max':thismax,'loc':thisloc}\n",
    "        lhcs[p]={'min':[],'max':[],'loc':thisloc,'flagged':flagged}"
   ]
  },
  {
   "cell_type": "code",
   "execution_count": null,
   "id": "a026dfbc-9dcd-4ba1-b9ac-ff603dd6aaa8",
   "metadata": {},
   "outputs": [],
   "source": []
  },
  {
   "cell_type": "markdown",
   "id": "7c9970d6-e75b-4be9-99fd-7e270d775ab3",
   "metadata": {},
   "source": [
    "### start editing from here onward"
   ]
  },
  {
   "cell_type": "code",
   "execution_count": null,
   "id": "3f49421d-42a9-4030-a703-295143036218",
   "metadata": {},
   "outputs": [],
   "source": []
  },
  {
   "cell_type": "code",
   "execution_count": 43,
   "id": "3a2c2563-8c3b-48f2-b4ae-6e64bb1d79f5",
   "metadata": {},
   "outputs": [],
   "source": [
    "def get_p(p,i):\n",
    "    #replace np.random.rand() with some function that returns the correct param weighting \n",
    "    return np.random.rand()"
   ]
  },
  {
   "cell_type": "code",
   "execution_count": 44,
   "id": "6c1e40f1-8740-471c-a2cc-f77adc4da685",
   "metadata": {},
   "outputs": [],
   "source": [
    "# specify where your samples exist\n",
    "# make sure that they are in the same order as the params in lhcs above\n",
    "exp1=[[get_p(p,i) for p in lhcs] for i in range(48)]"
   ]
  },
  {
   "cell_type": "code",
   "execution_count": 45,
   "id": "19455620-c239-4360-b5d0-10e252dcb1c2",
   "metadata": {},
   "outputs": [
    {
     "data": {
      "text/plain": [
       "48"
      ]
     },
     "execution_count": 45,
     "metadata": {},
     "output_type": "execute_result"
    }
   ],
   "source": [
    "#should have 48 members\n",
    "len(exp1)"
   ]
  },
  {
   "cell_type": "code",
   "execution_count": 46,
   "id": "25c5c77d-b369-4c8c-95fb-9b6a4b7bf4c5",
   "metadata": {},
   "outputs": [
    {
     "data": {
      "text/plain": [
       "32"
      ]
     },
     "execution_count": 46,
     "metadata": {},
     "output_type": "execute_result"
    }
   ],
   "source": [
    "#should have 32 param weightings per member\n",
    "len(exp1[0])"
   ]
  },
  {
   "cell_type": "code",
   "execution_count": null,
   "id": "005846d4-9ceb-470b-9824-97587498caf5",
   "metadata": {},
   "outputs": [],
   "source": []
  },
  {
   "cell_type": "code",
   "execution_count": 9,
   "id": "04571686-bafb-48d1-8014-eecb4fa0eaa4",
   "metadata": {},
   "outputs": [],
   "source": [
    "#instantiate the Ensemble object\n",
    "basefile = '/glade/scratch/djk2120/PPEn11/paramfiles/OAAT0000.nc'  #replace with /glade/campaign/asp/...\n",
    "pdir = '/glade/scratch/djk2120/PPEn11/paramfiles/'\n",
    "ndir = '/glade/scratch/djk2120/PPEn11/namelist_mods/'\n",
    "x    = Ensemble(basefile,pdir,ndir)\n",
    "\n",
    "#add the new LHCs\n",
    "prefix = 'LHC'   #make your own prefix\n",
    "nextnum=1\n",
    "n_samples=500  #fix this\n",
    "x.add_lhcs(lhcs,prefix,nextnum,n_samples,lhc=exp1)"
   ]
  },
  {
   "cell_type": "code",
   "execution_count": 10,
   "id": "d8c7d05f-7bf4-4490-9a68-f2c84c437c3a",
   "metadata": {},
   "outputs": [],
   "source": [
    "x.write(lhcfile='/glade/scratch/djk2120/PPEn11/lhc220926.txt')  #change to a file for your experiment"
   ]
  },
  {
   "cell_type": "code",
   "execution_count": null,
   "id": "116c0a57",
   "metadata": {},
   "outputs": [],
   "source": []
  },
  {
   "cell_type": "code",
   "execution_count": null,
   "id": "4ac0451e",
   "metadata": {},
   "outputs": [],
   "source": []
  },
  {
   "cell_type": "code",
   "execution_count": null,
   "id": "6a848eff",
   "metadata": {},
   "outputs": [],
   "source": [
    "\n",
    "\n"
   ]
  },
  {
   "cell_type": "markdown",
   "id": "0d42c7c2-3855-4a05-8721-dde27e9e342e",
   "metadata": {},
   "source": [
    "### testing stuff"
   ]
  },
  {
   "cell_type": "code",
   "execution_count": 20,
   "id": "69c4d9a5-3d57-4b98-9b15-33816f99a79b",
   "metadata": {},
   "outputs": [],
   "source": [
    "from skopt.space import Space\n",
    "from skopt.sampler import Lhs"
   ]
  },
  {
   "cell_type": "code",
   "execution_count": 21,
   "id": "f7a28fb6-f28a-4b2e-a486-744098ddfe4e",
   "metadata": {},
   "outputs": [],
   "source": [
    "n_samples=500\n",
    "space = Space([(0.,1.) for p in params])\n",
    "lhs = Lhs(lhs_type=\"classic\", criterion=None)\n",
    "lhc = lhs.generate(space.dimensions, n_samples)"
   ]
  },
  {
   "cell_type": "code",
   "execution_count": null,
   "id": "9ff6760e-f2f5-424d-87b1-20010b1a303d",
   "metadata": {},
   "outputs": [],
   "source": []
  }
 ],
 "metadata": {
  "kernelspec": {
   "display_name": "Python [conda env:miniconda3-ppe-py]",
   "language": "python",
   "name": "conda-env-miniconda3-ppe-py-py"
  },
  "language_info": {
   "codemirror_mode": {
    "name": "ipython",
    "version": 3
   },
   "file_extension": ".py",
   "mimetype": "text/x-python",
   "name": "python",
   "nbconvert_exporter": "python",
   "pygments_lexer": "ipython3",
   "version": "3.7.10"
  }
 },
 "nbformat": 4,
 "nbformat_minor": 5
}
