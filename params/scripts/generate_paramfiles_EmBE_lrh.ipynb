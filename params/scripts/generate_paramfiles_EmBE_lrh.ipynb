{
 "cells": [
  {
   "cell_type": "code",
   "execution_count": 1,
   "id": "f50867e0-5ab8-4b9d-b9a8-32c92677d099",
   "metadata": {},
   "outputs": [],
   "source": [
    "import numpy as np\n",
    "import xarray as xr\n",
    "import os\n",
    "import pandas as pd\n",
    "import glob"
   ]
  },
  {
   "cell_type": "code",
   "execution_count": 5,
   "id": "99d6d68a-4510-4377-a457-cd2c194a8a67",
   "metadata": {},
   "outputs": [],
   "source": [
    "import sys ; sys.path.append(\"../..\")\n",
    "sys.path.append(\"../../ppe_tools/\")\n",
    "from ppe_tools import *\n",
    "#from ../../ppe_tools/ import *"
   ]
  },
  {
   "cell_type": "code",
   "execution_count": 6,
   "id": "9c639bd1-83c2-4bbb-b508-d669adfca37b",
   "metadata": {},
   "outputs": [],
   "source": [
    "csv='lhc_220926.csv'"
   ]
  },
  {
   "cell_type": "code",
   "execution_count": 4,
   "id": "af3cc3bc",
   "metadata": {},
   "outputs": [],
   "source": [
    "#data_url = '\"https://docs.google.com/spreadsheets/d/e/2PACX-1vQLjMUT7sgunI4XkbGWq_RrjrLhR8-N0RiojM7h3lbSsN5-jgKIFyiJtPJeQkTEf2TL4ouLu_dqmEkg/pub?gid=737792973&single=true&output=csv\"'\n",
    "#cmd = 'curl -L '+data_url+' > '+csv # need to add -L option to force redirects\n",
    "#os.system(cmd)"
   ]
  },
  {
   "cell_type": "code",
   "execution_count": 7,
   "id": "915b9226-20e4-42bb-9665-4d0732607b20",
   "metadata": {},
   "outputs": [
    {
     "data": {
      "text/plain": [
       "array(['FUN_fracfixers', 'KCN', 'a_fix', 'crit_dayl', 'd_max', 'fff',\n",
       "       'froot_leaf', 'fstor2tran', 'grperc', 'jmaxb0', 'jmaxb1', 'kcha',\n",
       "       'kmax', 'krmax', 'leaf_long', 'leafcn', 'lmr_intercept_atkin',\n",
       "       'lmrha', 'lmrhd', 'medlynintercept', 'medlynslope', 'nstem',\n",
       "       'psi50', 'q10_mr', 'slatop', 'soilpsi_off', 'stem_leaf',\n",
       "       'sucsat_sf', 'theta_cj', 'tpu25ratio', 'tpuse_sf', 'wc2wjb0'],\n",
       "      dtype=object)"
      ]
     },
     "execution_count": 7,
     "metadata": {},
     "output_type": "execute_result"
    }
   ],
   "source": [
    "df = pd.read_csv(csv)\n",
    "params=df['param'].values\n",
    "params"
   ]
  },
  {
   "cell_type": "code",
   "execution_count": 8,
   "id": "7390a3e1-733e-4176-bde5-df9a0d5061b5",
   "metadata": {},
   "outputs": [
    {
     "data": {
      "text/plain": [
       "['kc_nonmyc',\n",
       " 'kn_nonmyc',\n",
       " 'akc_active',\n",
       " 'akn_active',\n",
       " 'ekc_active',\n",
       " 'ekn_active']"
      ]
     },
     "execution_count": 8,
     "metadata": {},
     "output_type": "execute_result"
    }
   ],
   "source": [
    "kcns=['kc_nonmyc',\n",
    "        'kn_nonmyc',\n",
    "        'akc_active',\n",
    "        'akn_active',\n",
    "        'ekc_active',\n",
    "        'ekn_active']\n",
    "kcns"
   ]
  },
  {
   "cell_type": "code",
   "execution_count": 9,
   "id": "f6b7d30b-5bf0-48cb-adc6-e37da72ffbd9",
   "metadata": {},
   "outputs": [],
   "source": [
    "lhcs = {}\n",
    "for p in params:\n",
    "    ix       = df['param']==p\n",
    "    minval   = df['min'][ix].values[0]\n",
    "    maxval   = df['max'][ix].values[0]\n",
    "    pftmin   = df['pft_mins'][ix].values[0]\n",
    "    pftmax   = df['pft_maxs'][ix].values[0]\n",
    "    thisloc  = df['loc'][ix].values[0]\n",
    "    if p=='KCN':\n",
    "        flag='KCN'\n",
    "    else:\n",
    "        flag=''\n",
    "    \n",
    "    needs_pft = (minval=='pft')\n",
    "    if needs_pft:\n",
    "        thismin = np.fromstring(pftmin, dtype='float', sep=',')\n",
    "    elif 'percent' in minval:\n",
    "        thismin = minval\n",
    "    else:\n",
    "        thismin = np.array(float(minval))\n",
    "\n",
    "    needs_pft = (maxval=='pft')\n",
    "    if needs_pft:\n",
    "        thismax = np.fromstring(pftmax, dtype='float', sep=',')\n",
    "    elif 'percent' in maxval:\n",
    "        thismax = maxval\n",
    "    else:\n",
    "        thismax = np.array(float(maxval))\n",
    "\n",
    "    if p!='KCN':\n",
    "        lhcs[p]={'min':thismin,'max':thismax,'loc':thisloc,'flagged':[]}\n",
    "    else:\n",
    "        flagged={}\n",
    "        for kcn in kcns:\n",
    "            flagged[kcn]={'min':thismin,'max':thismax,'loc':thisloc}\n",
    "        lhcs[p]={'min':[],'max':[],'loc':thisloc,'flagged':flagged}"
   ]
  },
  {
   "cell_type": "markdown",
   "id": "7c9970d6-e75b-4be9-99fd-7e270d775ab3",
   "metadata": {},
   "source": [
    "### Start editing here"
   ]
  },
  {
   "cell_type": "code",
   "execution_count": 10,
   "id": "7e05dbd7-7816-4e9d-943c-1ccdbbabaeff",
   "metadata": {},
   "outputs": [],
   "source": [
    "# read in parameter weights\n",
    "# specify where your samples exist\n",
    "# make sure that they are in the same order as the params in lhcs above\n",
    "te = pd.read_csv('../../pyth/exp1_EmBE/exp1_EmBE_TotalError_psets.csv',index_col=0)\n",
    "bm = pd.read_csv('../../pyth/exp1_EmBE/exp1_EmBE_BiomeSpecific_psets.csv',index_col=0)\n",
    "psets = pd.concat([te,bm],ignore_index=True)"
   ]
  },
  {
   "cell_type": "code",
   "execution_count": 11,
   "id": "9319ca1f-74fa-4730-b64c-a7da92e9398a",
   "metadata": {},
   "outputs": [],
   "source": [
    "def get_p(p,i):\n",
    "    return psets.iloc[i].loc[p]"
   ]
  },
  {
   "cell_type": "code",
   "execution_count": 12,
   "id": "6c1e40f1-8740-471c-a2cc-f77adc4da685",
   "metadata": {},
   "outputs": [],
   "source": [
    "exp1=[[get_p(p,i) for p in lhcs] for i in range(48)]"
   ]
  },
  {
   "cell_type": "code",
   "execution_count": 13,
   "id": "19455620-c239-4360-b5d0-10e252dcb1c2",
   "metadata": {},
   "outputs": [
    {
     "data": {
      "text/plain": [
       "(48, 32)"
      ]
     },
     "execution_count": 13,
     "metadata": {},
     "output_type": "execute_result"
    }
   ],
   "source": [
    "#should have 48 members and 32 param scale factors per member\n",
    "np.shape(exp1)"
   ]
  },
  {
   "cell_type": "code",
   "execution_count": 14,
   "id": "04571686-bafb-48d1-8014-eecb4fa0eaa4",
   "metadata": {},
   "outputs": [
    {
     "ename": "AttributeError",
     "evalue": "'Ensemble' object has no attribute 'add_lhcs'",
     "output_type": "error",
     "traceback": [
      "\u001b[0;31m---------------------------------------------------------------------------\u001b[0m",
      "\u001b[0;31mAttributeError\u001b[0m                            Traceback (most recent call last)",
      "\u001b[0;32m/glade/scratch/linnia/ipykernel_1102/3067771339.py\u001b[0m in \u001b[0;36m<module>\u001b[0;34m\u001b[0m\n\u001b[1;32m      9\u001b[0m \u001b[0mnextnum\u001b[0m\u001b[0;34m=\u001b[0m\u001b[0;36m1\u001b[0m\u001b[0;34m\u001b[0m\u001b[0;34m\u001b[0m\u001b[0m\n\u001b[1;32m     10\u001b[0m \u001b[0mn_samples\u001b[0m\u001b[0;34m=\u001b[0m\u001b[0;36m48\u001b[0m  \u001b[0;31m#fix this\u001b[0m\u001b[0;34m\u001b[0m\u001b[0;34m\u001b[0m\u001b[0m\n\u001b[0;32m---> 11\u001b[0;31m \u001b[0mx\u001b[0m\u001b[0;34m.\u001b[0m\u001b[0madd_lhcs\u001b[0m\u001b[0;34m(\u001b[0m\u001b[0mlhcs\u001b[0m\u001b[0;34m,\u001b[0m\u001b[0mprefix\u001b[0m\u001b[0;34m,\u001b[0m\u001b[0mnextnum\u001b[0m\u001b[0;34m,\u001b[0m\u001b[0mn_samples\u001b[0m\u001b[0;34m,\u001b[0m\u001b[0mlhc\u001b[0m\u001b[0;34m=\u001b[0m\u001b[0mexp1\u001b[0m\u001b[0;34m)\u001b[0m\u001b[0;34m\u001b[0m\u001b[0;34m\u001b[0m\u001b[0m\n\u001b[0m",
      "\u001b[0;31mAttributeError\u001b[0m: 'Ensemble' object has no attribute 'add_lhcs'"
     ]
    }
   ],
   "source": [
    "#instantiate the Ensemble object\n",
    "basefile = '/glade/campaign/asp/djk2120/PPEn11/paramfiles/OAAT0000.nc'  #replace with /glade/campaign/asp/...\n",
    "pdir = '/glade/scratch/djk2120/PPEn11/paramfiles/'\n",
    "ndir = '/glade/scratch/djk2120/PPEn11/namelist_mods/'\n",
    "x    = Ensemble(basefile,pdir,ndir)\n",
    "\n",
    "#add the new LHCs\n",
    "prefix = 'exp1_EmBE'   #make your own prefix\n",
    "nextnum=1\n",
    "n_samples=48  #fix this\n",
    "x.add_lhcs(lhcs,prefix,nextnum,n_samples,lhc=exp1)"
   ]
  },
  {
   "cell_type": "code",
   "execution_count": 10,
   "id": "d8c7d05f-7bf4-4490-9a68-f2c84c437c3a",
   "metadata": {},
   "outputs": [],
   "source": [
    "x.write(lhcfile='/glade/work/linnia/CLM-PPE-LAI_test/exp1_EmBE/psets_exp1_EBE_230419.txt')  #change to a file for your experiment"
   ]
  },
  {
   "cell_type": "code",
   "execution_count": null,
   "id": "116c0a57",
   "metadata": {},
   "outputs": [],
   "source": []
  },
  {
   "cell_type": "code",
   "execution_count": null,
   "id": "4ac0451e",
   "metadata": {},
   "outputs": [],
   "source": []
  },
  {
   "cell_type": "code",
   "execution_count": null,
   "id": "6a848eff",
   "metadata": {},
   "outputs": [],
   "source": [
    "\n",
    "\n"
   ]
  },
  {
   "cell_type": "markdown",
   "id": "0d42c7c2-3855-4a05-8721-dde27e9e342e",
   "metadata": {},
   "source": [
    "### testing stuff"
   ]
  },
  {
   "cell_type": "code",
   "execution_count": 20,
   "id": "69c4d9a5-3d57-4b98-9b15-33816f99a79b",
   "metadata": {},
   "outputs": [],
   "source": [
    "from skopt.space import Space\n",
    "from skopt.sampler import Lhs"
   ]
  },
  {
   "cell_type": "code",
   "execution_count": 21,
   "id": "f7a28fb6-f28a-4b2e-a486-744098ddfe4e",
   "metadata": {},
   "outputs": [],
   "source": [
    "n_samples=500\n",
    "space = Space([(0.,1.) for p in params])\n",
    "lhs = Lhs(lhs_type=\"classic\", criterion=None)\n",
    "lhc = lhs.generate(space.dimensions, n_samples)"
   ]
  },
  {
   "cell_type": "code",
   "execution_count": null,
   "id": "9ff6760e-f2f5-424d-87b1-20010b1a303d",
   "metadata": {},
   "outputs": [],
   "source": []
  }
 ],
 "metadata": {
  "kernelspec": {
   "display_name": "Python [conda env:miniconda3-ppe-py]",
   "language": "python",
   "name": "conda-env-miniconda3-ppe-py-py"
  },
  "language_info": {
   "codemirror_mode": {
    "name": "ipython",
    "version": 3
   },
   "file_extension": ".py",
   "mimetype": "text/x-python",
   "name": "python",
   "nbconvert_exporter": "python",
   "pygments_lexer": "ipython3",
   "version": "3.7.12"
  }
 },
 "nbformat": 4,
 "nbformat_minor": 5
}
