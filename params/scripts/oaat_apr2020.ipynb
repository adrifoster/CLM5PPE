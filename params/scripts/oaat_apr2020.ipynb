{
 "cells": [
  {
   "cell_type": "markdown",
   "id": "skilled-webcam",
   "metadata": {},
   "source": [
    "# CLM5-BGC OAAT parameter ensemble\n",
    "- generates paramfiles and namelist_mods for the OAAT segment of the CLM5PPE\n",
    "- leverages ppe-tools to write out the files\n",
    "- written with community-derived ensemble ranges:\n",
    "    - https://docs.google.com/spreadsheets/d/e/2PACX-1vQs413GtLXtHVDCqEPgAwn4BbDjoWmV7uFqOAWH4mgpxXoVfN6ijnJdhyRgLkV-n2eU-sSQush4CzYU\n",
    "- Katie Dagon (kdagon@ucar.edu) and Daniel Kennedy (djk2120@ucar.edu)"
   ]
  },
  {
   "cell_type": "code",
   "execution_count": 12,
   "id": "therapeutic-aquarium",
   "metadata": {},
   "outputs": [],
   "source": [
    "import numpy as np\n",
    "from ppe_tools import Ensemble, Member, ParamInfo\n",
    "import xarray as xr\n",
    "import os\n",
    "import pandas as pd"
   ]
  },
  {
   "cell_type": "markdown",
   "id": "provincial-trustee",
   "metadata": {},
   "source": [
    "### read in the google spreadsheet and and organize it into a dataframe"
   ]
  },
  {
   "cell_type": "code",
   "execution_count": 13,
   "id": "complimentary-boxing",
   "metadata": {},
   "outputs": [],
   "source": [
    "#data_url = 'https://docs.google.com/spreadsheets/d/e/2PACX-1vQs413GtLXtHVDCqEPgAwn4BbDjoWmV7uFqOAWH4mgpxXoVfN6ijnJdhyRgLkV-n2eU-sSQush4CzYU/pub?output=csv'\n",
    "#cmd = 'curl -L '+data_url+' > params.csv' # need to add -L option to force redirects\n",
    "#os.system(cmd)"
   ]
  },
  {
   "cell_type": "code",
   "execution_count": 14,
   "id": "revolutionary-dynamics",
   "metadata": {},
   "outputs": [],
   "source": [
    "csvfile = 'params.csv'\n",
    "data = pd.read_csv(csvfile,header=0,skiprows=[1]) # modify read_csv to account for header spanning 2 rows\n",
    "included = data['final'] == 1 # final flag\n",
    "params_full = data.loc[included,['name','location','min','max','flag','pft_mins','pft_maxs']]\n",
    "params = params_full.reset_index(drop=True) # reset indexing and get rid of excel row number"
   ]
  },
  {
   "cell_type": "markdown",
   "id": "trained-objective",
   "metadata": {},
   "source": [
    "### create a dictionary of all the oaat perturbation\n",
    " - parameter matched with its min and max values"
   ]
  },
  {
   "cell_type": "code",
   "execution_count": 4,
   "id": "commercial-carroll",
   "metadata": {},
   "outputs": [],
   "source": [
    "oaats = {}\n",
    "names = params['name']\n",
    "flags = params['flag']\n",
    "\n",
    "for name,flag in zip(names,flags):\n",
    "    if pd.notnull(flag):\n",
    "        if flag=='KCN':\n",
    "            flag=False\n",
    "        else:\n",
    "            ff = flag\n",
    "            flag=True\n",
    "    else: flag=False\n",
    "    if not flag:\n",
    "        ix = params['name']==name\n",
    "        minval = params['min'][ix].values[0]\n",
    "        maxval = params['max'][ix].values[0]\n",
    "        pftmin = params['pft_mins'][ix].values[0]\n",
    "        pftmax = params['pft_maxs'][ix].values[0]\n",
    "        thisloc = params['location'][ix].values[0]\n",
    "        \n",
    "        needs_pft = (minval=='pft')\n",
    "        if needs_pft:\n",
    "            thismin = np.fromstring(pftmin, dtype='float', sep=',')\n",
    "        elif 'percent' in minval:\n",
    "            thismin = minval\n",
    "        else:\n",
    "            thismin = np.array(float(minval))\n",
    "\n",
    "        needs_pft = (maxval=='pft')\n",
    "        if needs_pft:\n",
    "            thismax = np.fromstring(pftmax, dtype='float', sep=',')\n",
    "        elif 'percent' in maxval:\n",
    "            thismax = maxval\n",
    "        else:\n",
    "            thismax = np.array(float(maxval))\n",
    "\n",
    "        oaats[name]={'min':thismin,'max':thismax,'loc':thisloc}"
   ]
  },
  {
   "cell_type": "markdown",
   "id": "electric-occasion",
   "metadata": {},
   "source": [
    "### create the ensemble object and populate it with the oaats"
   ]
  },
  {
   "cell_type": "code",
   "execution_count": 5,
   "id": "bulgarian-digest",
   "metadata": {},
   "outputs": [
    {
     "name": "stdout",
     "output_type": "stream",
     "text": [
      "a_coef-max looks BFB.... skipping\n",
      "a_exp-min looks BFB.... skipping\n",
      "lai_dl-min looks BFB.... skipping\n",
      "interception_fraction-max looks BFB.... skipping\n",
      "aq_sp_yield_min-max looks BFB.... skipping\n",
      "n_baseflow-min looks BFB.... skipping\n",
      "accum_factor-min looks BFB.... skipping\n",
      "wind_snowcompact_fact-min looks BFB.... skipping\n",
      "theta_ip-min looks BFB.... skipping\n",
      "fnr-max looks BFB.... skipping\n",
      "cn_s1_bgc-min looks BFB.... skipping\n",
      "decomp_depth_efolding-max looks BFB.... skipping\n"
     ]
    }
   ],
   "source": [
    "basefile = '/glade/p/cgd/tss/people/oleson/modify_param/ctsm51_params.c210217_kwo.c210222.nc'\n",
    "pdir = '/glade/u/home/djk2120/ppetest/paramfiles/'\n",
    "ndir = '/glade/u/home/djk2120/ppetest/namelist_mods/'\n",
    "x = Ensemble(basefile,pdir,ndir)\n",
    "prefix = 'OAAT'\n",
    "nextnum = 1\n",
    "x.add_oaats(oaats,prefix,nextnum,skipBFB=True)"
   ]
  },
  {
   "cell_type": "code",
   "execution_count": 6,
   "id": "arabic-south",
   "metadata": {},
   "outputs": [
    {
     "data": {
      "text/plain": [
       "378"
      ]
     },
     "execution_count": 6,
     "metadata": {},
     "output_type": "execute_result"
    }
   ],
   "source": [
    "x.nmemb"
   ]
  },
  {
   "cell_type": "markdown",
   "id": "subject-congress",
   "metadata": {},
   "source": [
    "### add in the special cases"
   ]
  },
  {
   "cell_type": "code",
   "execution_count": 7,
   "id": "injured-jersey",
   "metadata": {},
   "outputs": [],
   "source": [
    "#these params move in unison\n",
    "flags = params['flag']\n",
    "ix = pd.notnull(params['flag'])\n",
    "uflags = pd.unique(flags[ix])\n",
    "sgns = {'min':'-','max':''}\n",
    "for uflag in uflags:\n",
    "    names = params['name'][flags==uflag]\n",
    "    for minmax in ['min','max']:\n",
    "        mf = {}\n",
    "        for name in names:\n",
    "            ix = params['name']==name\n",
    "\n",
    "            thisval = params[minmax][ix].values[0]\n",
    "            pftval  = params['pft_'+minmax+'s'][ix].values[0]\n",
    "            thisloc = params['location'][ix].values[0]\n",
    "\n",
    "            needs_pft = (thisval=='pft')\n",
    "            if needs_pft:\n",
    "                val = np.fromstring(pftval, dtype='float', sep=',')\n",
    "            elif 'percent' in thisval:\n",
    "                val = sgns[minmax]+thisval\n",
    "            else:\n",
    "                val = np.array(float(thisval))\n",
    "\n",
    "            mf[name] = {'value':val,'loc':thisloc,'minmax':minmax,'flag':uflag}\n",
    "\n",
    "        x.add_mf(mf,'OAAT')\n"
   ]
  },
  {
   "cell_type": "code",
   "execution_count": 8,
   "id": "judicial-brisbane",
   "metadata": {},
   "outputs": [
    {
     "data": {
      "text/plain": [
       "388"
      ]
     },
     "execution_count": 8,
     "metadata": {},
     "output_type": "execute_result"
    }
   ],
   "source": [
    "x.nmemb"
   ]
  },
  {
   "cell_type": "code",
   "execution_count": 9,
   "id": "modified-pasta",
   "metadata": {},
   "outputs": [],
   "source": [
    "csvfile = '/glade/u/home/djk2120/ppetest/OAAT_apr2020.csv'\n",
    "default_key='OAAT0000'\n",
    "x.write(default_key,csvfile)"
   ]
  },
  {
   "cell_type": "markdown",
   "id": "seasonal-message",
   "metadata": {},
   "source": [
    "### spot check a few variables?"
   ]
  },
  {
   "cell_type": "code",
   "execution_count": 20,
   "id": "fifth-tolerance",
   "metadata": {},
   "outputs": [
    {
     "name": "stdout",
     "output_type": "stream",
     "text": [
      "OAAT0029 a_coef min\n",
      "<xarray.DataArray 'a_coef' ()>\n",
      "array(0.1)\n",
      "Attributes:\n",
      "    long_name:  Drag coeff. under less dense canopy\n",
      "    units:      unitless\n"
     ]
    }
   ],
   "source": [
    "#should only have a min\n",
    "thisvar='a_coef'\n",
    "for member in x.members:\n",
    "    if thisvar in member.paramdict:\n",
    "        f = pdir+member.name+'.nc'\n",
    "        params = [*member.paramdict]\n",
    "        if len(params)==1:\n",
    "            param=params[0]\n",
    "        else:\n",
    "            param=member.flag\n",
    "        print(member.name,param,member.minmax)\n",
    "        p = xr.open_dataset(f)\n",
    "        for var in member.paramdict:\n",
    "            print(p[var])"
   ]
  },
  {
   "cell_type": "code",
   "execution_count": 16,
   "id": "ordered-manitoba",
   "metadata": {},
   "outputs": [
    {
     "name": "stdout",
     "output_type": "stream",
     "text": [
      "! user_nl_clm namelist options written by generate_params:\n",
      "interception_fraction=0.5\n",
      "\n"
     ]
    }
   ],
   "source": [
    "#handling namelist?\n",
    "thisvar='interception_fraction'\n",
    "for key in ['OAAT'+str(i).zfill(4) for i in range(389)]:\n",
    "    nlfile = ndir+key+'.txt'\n",
    "    with open(nlfile,\"r\") as file:\n",
    "        ff = file.read()\n",
    "    if thisvar in ff:\n",
    "        print(ff)"
   ]
  },
  {
   "cell_type": "code",
   "execution_count": 17,
   "id": "isolated-technical",
   "metadata": {},
   "outputs": [
    {
     "name": "stdout",
     "output_type": "stream",
     "text": [
      "OAAT0021 dleaf min\n",
      "<xarray.DataArray 'dleaf' (pft: 79)>\n",
      "array([0.      , 0.000216, 0.000216, 0.00072 , 0.0081  , 0.0081  , 0.0081  ,\n",
      "       0.0081  , 0.0081  , 0.0081  , 0.000405, 0.000162, 0.000144, 0.000144,\n",
      "       0.000144, 0.000162, 0.000162, 0.000162, 0.000162, 0.000162, 0.000162,\n",
      "       0.000162, 0.000162, 0.000162, 0.000162, 0.000162, 0.000162, 0.000162,\n",
      "       0.000162, 0.000162, 0.000162, 0.000162, 0.000162, 0.000162, 0.000162,\n",
      "       0.000162, 0.000162, 0.000162, 0.000162, 0.000162, 0.000162, 0.000162,\n",
      "       0.000162, 0.000162, 0.000162, 0.000162, 0.000162, 0.000162, 0.000162,\n",
      "       0.000162, 0.000162, 0.000162, 0.000162, 0.000162, 0.000162, 0.000162,\n",
      "       0.000162, 0.000162, 0.000162, 0.000162, 0.000162, 0.000162, 0.000162,\n",
      "       0.000162, 0.000162, 0.000162, 0.000162, 0.000162, 0.000162, 0.000162,\n",
      "       0.000162, 0.000162, 0.000162, 0.000162, 0.000162, 0.000162, 0.000162,\n",
      "       0.000162, 0.000162])\n",
      "Coordinates:\n",
      "    pftname  (pft) |S40 ...\n",
      "Dimensions without coordinates: pft\n",
      "Attributes:\n",
      "    long_name:  Characteristic leaf dimension\n",
      "    units:      m\n",
      "OAAT0022 dleaf max\n",
      "<xarray.DataArray 'dleaf' (pft: 79)>\n",
      "array([0.     , 0.00108, 0.00108, 0.0036 , 0.0567 , 0.0567 , 0.243  , 0.243  ,\n",
      "       0.243  , 0.081  , 0.1215 , 0.0486 , 0.018  , 0.018  , 0.018  , 0.1215 ,\n",
      "       0.1215 , 0.1215 , 0.1215 , 0.1215 , 0.1215 , 0.1215 , 0.1215 , 0.1215 ,\n",
      "       0.1215 , 0.1215 , 0.1215 , 0.1215 , 0.1215 , 0.1215 , 0.1215 , 0.1215 ,\n",
      "       0.1215 , 0.1215 , 0.1215 , 0.1215 , 0.1215 , 0.1215 , 0.1215 , 0.1215 ,\n",
      "       0.1215 , 0.1215 , 0.1215 , 0.1215 , 0.1215 , 0.1215 , 0.1215 , 0.1215 ,\n",
      "       0.1215 , 0.1215 , 0.1215 , 0.1215 , 0.1215 , 0.1215 , 0.1215 , 0.1215 ,\n",
      "       0.1215 , 0.1215 , 0.1215 , 0.1215 , 0.1215 , 0.1215 , 0.1215 , 0.1215 ,\n",
      "       0.1215 , 0.1215 , 0.1215 , 0.1215 , 0.1215 , 0.1215 , 0.1215 , 0.1215 ,\n",
      "       0.1215 , 0.1215 , 0.1215 , 0.1215 , 0.1215 , 0.1215 , 0.1215 ])\n",
      "Coordinates:\n",
      "    pftname  (pft) |S40 ...\n",
      "Dimensions without coordinates: pft\n",
      "Attributes:\n",
      "    long_name:  Characteristic leaf dimension\n",
      "    units:      m\n"
     ]
    }
   ],
   "source": [
    "#handling PFT?\n",
    "thisvar='dleaf'\n",
    "for member in x.members:\n",
    "    if thisvar in member.paramdict:\n",
    "        f = pdir+member.name+'.nc'\n",
    "        params = [*member.paramdict]\n",
    "        if len(params)==1:\n",
    "            param=params[0]\n",
    "        else:\n",
    "            param=member.flag\n",
    "        print(member.name,param,member.minmax)\n",
    "        p = xr.open_dataset(f)\n",
    "        for var in member.paramdict:\n",
    "            print(p[var])"
   ]
  },
  {
   "cell_type": "code",
   "execution_count": 18,
   "id": "collect-tunnel",
   "metadata": {},
   "outputs": [
    {
     "name": "stdout",
     "output_type": "stream",
     "text": [
      "OAAT0165 ck min\n",
      "<xarray.DataArray 'ck' (segment: 4, pft: 79)>\n",
      "array([[3., 3., 3., ..., 3., 3., 3.],\n",
      "       [3., 3., 3., ..., 3., 3., 3.],\n",
      "       [3., 3., 3., ..., 3., 3., 3.],\n",
      "       [3., 3., 3., ..., 3., 3., 3.]])\n",
      "Coordinates:\n",
      "    pftname  (pft) |S40 ...\n",
      "  * segment  (segment) |S40 b'sunlit                                  ' ... b...\n",
      "Dimensions without coordinates: pft\n",
      "Attributes:\n",
      "    units:      unitless\n",
      "    long_name:  weibull curve shape parameter\n",
      "OAAT0166 ck max\n",
      "<xarray.DataArray 'ck' (segment: 4, pft: 79)>\n",
      "array([[5.15, 5.15, 5.15, ..., 5.15, 5.15, 5.15],\n",
      "       [5.15, 5.15, 5.15, ..., 5.15, 5.15, 5.15],\n",
      "       [5.15, 5.15, 5.15, ..., 5.15, 5.15, 5.15],\n",
      "       [5.15, 5.15, 5.15, ..., 5.15, 5.15, 5.15]])\n",
      "Coordinates:\n",
      "    pftname  (pft) |S40 ...\n",
      "  * segment  (segment) |S40 b'sunlit                                  ' ... b...\n",
      "Dimensions without coordinates: pft\n",
      "Attributes:\n",
      "    units:      unitless\n",
      "    long_name:  weibull curve shape parameter\n"
     ]
    }
   ],
   "source": [
    "#handling PFTxsegment?\n",
    "thisvar='ck'\n",
    "for member in x.members:\n",
    "    if thisvar in member.paramdict:\n",
    "        f = pdir+member.name+'.nc'\n",
    "        params = [*member.paramdict]\n",
    "        if len(params)==1:\n",
    "            param=params[0]\n",
    "        else:\n",
    "            param=member.flag\n",
    "        print(member.name,param,member.minmax)\n",
    "        p = xr.open_dataset(f)\n",
    "        for var in member.paramdict:\n",
    "            print(p[var])"
   ]
  },
  {
   "cell_type": "code",
   "execution_count": 22,
   "id": "retired-mumbai",
   "metadata": {},
   "outputs": [
    {
     "name": "stdout",
     "output_type": "stream",
     "text": [
      "OAAT0193 kc_nonmyc min\n",
      "<xarray.DataArray 'kc_nonmyc' (pft: 79)>\n",
      "array([0.    , 0.072 , 0.072 , 0.072 , 0.072 , 0.072 , 0.0072, 0.072 , 0.072 ,\n",
      "       0.072 , 0.072 , 0.072 , 0.072 , 0.072 , 0.72  , 0.072 , 0.072 , 0.72  ,\n",
      "       0.72  , 0.072 , 0.072 , 0.072 , 0.072 , 0.072 , 0.072 , 0.072 , 0.072 ,\n",
      "       0.072 , 0.072 , 0.072 , 0.072 , 0.072 , 0.072 , 0.072 , 0.072 , 0.072 ,\n",
      "       0.072 , 0.072 , 0.072 , 0.072 , 0.072 , 0.072 , 0.072 , 0.072 , 0.072 ,\n",
      "       0.072 , 0.072 , 0.072 , 0.072 , 0.072 , 0.072 , 0.072 , 0.072 , 0.072 ,\n",
      "       0.072 , 0.072 , 0.072 , 0.072 , 0.072 , 0.072 , 0.072 , 0.072 , 0.072 ,\n",
      "       0.072 , 0.072 , 0.072 , 0.072 , 0.72  , 0.72  , 0.072 , 0.072 , 0.072 ,\n",
      "       0.072 , 0.72  , 0.72  , 0.72  , 0.72  , 0.072 , 0.072 ])\n",
      "Coordinates:\n",
      "    pftname  (pft) |S40 ...\n",
      "Dimensions without coordinates: pft\n",
      "Attributes:\n",
      "    long_name:  Constant relating root C to non-mycorrhizal root active uptak...\n",
      "    units:      gC/m3\n",
      "OAAT0194 kc_nonmyc max\n",
      "<xarray.DataArray 'kc_nonmyc' (pft: 79)>\n",
      "array([ 0.  ,  7.2 ,  7.2 ,  7.2 ,  7.2 ,  7.2 ,  0.72,  7.2 ,  7.2 ,  7.2 ,\n",
      "        7.2 ,  7.2 ,  7.2 ,  7.2 , 72.  ,  7.2 ,  7.2 , 72.  , 72.  ,  7.2 ,\n",
      "        7.2 ,  7.2 ,  7.2 ,  7.2 ,  7.2 ,  7.2 ,  7.2 ,  7.2 ,  7.2 ,  7.2 ,\n",
      "        7.2 ,  7.2 ,  7.2 ,  7.2 ,  7.2 ,  7.2 ,  7.2 ,  7.2 ,  7.2 ,  7.2 ,\n",
      "        7.2 ,  7.2 ,  7.2 ,  7.2 ,  7.2 ,  7.2 ,  7.2 ,  7.2 ,  7.2 ,  7.2 ,\n",
      "        7.2 ,  7.2 ,  7.2 ,  7.2 ,  7.2 ,  7.2 ,  7.2 ,  7.2 ,  7.2 ,  7.2 ,\n",
      "        7.2 ,  7.2 ,  7.2 ,  7.2 ,  7.2 ,  7.2 ,  7.2 , 72.  , 72.  ,  7.2 ,\n",
      "        7.2 ,  7.2 ,  7.2 , 72.  , 72.  , 72.  , 72.  ,  7.2 ,  7.2 ])\n",
      "Coordinates:\n",
      "    pftname  (pft) |S40 ...\n",
      "Dimensions without coordinates: pft\n",
      "Attributes:\n",
      "    long_name:  Constant relating root C to non-mycorrhizal root active uptak...\n",
      "    units:      gC/m3\n",
      "OAAT0379 KCN min\n",
      "<xarray.DataArray 'kc_nonmyc' (pft: 79)>\n",
      "array([0.    , 0.072 , 0.072 , 0.072 , 0.072 , 0.072 , 0.0072, 0.072 , 0.072 ,\n",
      "       0.072 , 0.072 , 0.072 , 0.072 , 0.072 , 0.72  , 0.072 , 0.072 , 0.72  ,\n",
      "       0.72  , 0.072 , 0.072 , 0.072 , 0.072 , 0.072 , 0.072 , 0.072 , 0.072 ,\n",
      "       0.072 , 0.072 , 0.072 , 0.072 , 0.072 , 0.072 , 0.072 , 0.072 , 0.072 ,\n",
      "       0.072 , 0.072 , 0.072 , 0.072 , 0.072 , 0.072 , 0.072 , 0.072 , 0.072 ,\n",
      "       0.072 , 0.072 , 0.072 , 0.072 , 0.072 , 0.072 , 0.072 , 0.072 , 0.072 ,\n",
      "       0.072 , 0.072 , 0.072 , 0.072 , 0.072 , 0.072 , 0.072 , 0.072 , 0.072 ,\n",
      "       0.072 , 0.072 , 0.072 , 0.072 , 0.72  , 0.72  , 0.072 , 0.072 , 0.072 ,\n",
      "       0.072 , 0.72  , 0.72  , 0.72  , 0.72  , 0.072 , 0.072 ])\n",
      "Coordinates:\n",
      "    pftname  (pft) |S40 ...\n",
      "Dimensions without coordinates: pft\n",
      "Attributes:\n",
      "    long_name:  Constant relating root C to non-mycorrhizal root active uptak...\n",
      "    units:      gC/m3\n",
      "<xarray.DataArray 'kn_nonmyc' (pft: 79)>\n",
      "array([0.     , 0.0012 , 0.0012 , 0.00012, 0.0012 , 0.0012 , 0.00012, 0.0012 ,\n",
      "       0.0012 , 0.0012 , 0.0012 , 0.0012 , 0.0012 , 0.0012 , 0.012  , 0.0012 ,\n",
      "       0.0012 , 0.012  , 0.012  , 0.0012 , 0.0012 , 0.0012 , 0.0012 , 0.0012 ,\n",
      "       0.0012 , 0.0012 , 0.0012 , 0.0012 , 0.0012 , 0.0012 , 0.0012 , 0.0012 ,\n",
      "       0.0012 , 0.0012 , 0.0012 , 0.0012 , 0.0012 , 0.0012 , 0.0012 , 0.0012 ,\n",
      "       0.0012 , 0.0012 , 0.0012 , 0.0012 , 0.0012 , 0.0012 , 0.0012 , 0.0012 ,\n",
      "       0.0012 , 0.0012 , 0.0012 , 0.0012 , 0.0012 , 0.0012 , 0.0012 , 0.0012 ,\n",
      "       0.0012 , 0.0012 , 0.0012 , 0.0012 , 0.0012 , 0.0012 , 0.0012 , 0.0012 ,\n",
      "       0.0012 , 0.0012 , 0.0012 , 0.012  , 0.012  , 0.0012 , 0.0012 , 0.0012 ,\n",
      "       0.0012 , 0.012  , 0.012  , 0.012  , 0.012  , 0.0012 , 0.0012 ])\n",
      "Coordinates:\n",
      "    pftname  (pft) |S40 ...\n",
      "Dimensions without coordinates: pft\n",
      "Attributes:\n",
      "    long_name:  Constant relating soil layer Nitrogen content to non-mycorrhi...\n",
      "    units:      gC/m2\n",
      "<xarray.DataArray 'akc_active' (pft: 79)>\n",
      "array([0.    , 0.006 , 0.006 , 0.006 , 0.006 , 0.006 , 0.0006, 0.006 , 0.006 ,\n",
      "       0.006 , 0.006 , 0.006 , 0.006 , 0.006 , 0.06  , 0.006 , 0.006 , 0.06  ,\n",
      "       0.06  , 0.006 , 0.006 , 0.006 , 0.006 , 0.006 , 0.006 , 0.006 , 0.006 ,\n",
      "       0.006 , 0.006 , 0.006 , 0.006 , 0.006 , 0.006 , 0.006 , 0.006 , 0.006 ,\n",
      "       0.006 , 0.006 , 0.006 , 0.006 , 0.006 , 0.006 , 0.006 , 0.006 , 0.006 ,\n",
      "       0.006 , 0.006 , 0.006 , 0.006 , 0.006 , 0.006 , 0.006 , 0.006 , 0.006 ,\n",
      "       0.006 , 0.006 , 0.006 , 0.006 , 0.006 , 0.006 , 0.006 , 0.006 , 0.006 ,\n",
      "       0.006 , 0.006 , 0.006 , 0.006 , 0.06  , 0.06  , 0.006 , 0.006 , 0.06  ,\n",
      "       0.06  , 0.06  , 0.06  , 0.06  , 0.06  , 0.006 , 0.006 ])\n",
      "Coordinates:\n",
      "    pftname  (pft) |S40 ...\n",
      "Dimensions without coordinates: pft\n",
      "Attributes:\n",
      "    long_name:  Constant relating root C to arbuscular mycorrhizal root activ...\n",
      "    units:      gC/m3\n",
      "<xarray.DataArray 'akn_active' (pft: 79)>\n",
      "array([0.    , 0.012 , 0.012 , 0.012 , 0.012 , 0.012 , 0.0012, 0.012 , 0.012 ,\n",
      "       0.012 , 0.012 , 0.012 , 0.012 , 0.012 , 0.12  , 0.012 , 0.012 , 0.12  ,\n",
      "       0.12  , 0.012 , 0.012 , 0.012 , 0.012 , 0.012 , 0.012 , 0.012 , 0.012 ,\n",
      "       0.012 , 0.012 , 0.012 , 0.012 , 0.012 , 0.012 , 0.012 , 0.012 , 0.012 ,\n",
      "       0.012 , 0.012 , 0.012 , 0.012 , 0.012 , 0.012 , 0.012 , 0.012 , 0.012 ,\n",
      "       0.012 , 0.012 , 0.012 , 0.012 , 0.012 , 0.012 , 0.012 , 0.012 , 0.012 ,\n",
      "       0.012 , 0.012 , 0.012 , 0.012 , 0.012 , 0.012 , 0.012 , 0.012 , 0.012 ,\n",
      "       0.012 , 0.012 , 0.012 , 0.012 , 0.12  , 0.12  , 0.012 , 0.012 , 0.12  ,\n",
      "       0.12  , 0.12  , 0.12  , 0.12  , 0.12  , 0.012 , 0.012 ])\n",
      "Coordinates:\n",
      "    pftname  (pft) |S40 ...\n",
      "Dimensions without coordinates: pft\n",
      "Attributes:\n",
      "    long_name:  Constant relating soil layer Nitrogen content to arbuscular m...\n",
      "    units:      gC/m2\n",
      "<xarray.DataArray 'ekc_active' (pft: 79)>\n",
      "array([0.    , 0.036 , 0.036 , 0.0036, 0.036 , 0.036 , 0.0036, 0.036 , 0.036 ,\n",
      "       0.036 , 0.036 , 0.036 , 0.036 , 0.036 , 0.36  , 0.036 , 0.036 , 0.36  ,\n",
      "       0.36  , 0.036 , 0.036 , 0.036 , 0.036 , 0.036 , 0.036 , 0.036 , 0.036 ,\n",
      "       0.036 , 0.036 , 0.036 , 0.036 , 0.036 , 0.036 , 0.036 , 0.036 , 0.036 ,\n",
      "       0.036 , 0.036 , 0.036 , 0.036 , 0.036 , 0.036 , 0.036 , 0.036 , 0.036 ,\n",
      "       0.036 , 0.036 , 0.036 , 0.036 , 0.036 , 0.036 , 0.036 , 0.036 , 0.036 ,\n",
      "       0.036 , 0.036 , 0.036 , 0.036 , 0.036 , 0.036 , 0.036 , 0.036 , 0.036 ,\n",
      "       0.036 , 0.036 , 0.036 , 0.036 , 0.36  , 0.36  , 0.036 , 0.036 , 0.36  ,\n",
      "       0.36  , 0.36  , 0.36  , 0.36  , 0.36  , 0.036 , 0.036 ])\n",
      "Coordinates:\n",
      "    pftname  (pft) |S40 ...\n",
      "Dimensions without coordinates: pft\n",
      "Attributes:\n",
      "    long_name:  Constant relating root C to ectomycorrhizal root active uptak...\n",
      "    units:      gC/m3\n",
      "<xarray.DataArray 'ekn_active' (pft: 79)>\n",
      "array([0.    , 0.006 , 0.006 , 0.0006, 0.006 , 0.006 , 0.0006, 0.006 , 0.006 ,\n",
      "       0.006 , 0.006 , 0.006 , 0.006 , 0.006 , 0.06  , 0.006 , 0.006 , 0.06  ,\n",
      "       0.06  , 0.006 , 0.006 , 0.006 , 0.006 , 0.006 , 0.006 , 0.006 , 0.006 ,\n",
      "       0.006 , 0.006 , 0.006 , 0.006 , 0.006 , 0.006 , 0.006 , 0.006 , 0.006 ,\n",
      "       0.006 , 0.006 , 0.006 , 0.006 , 0.006 , 0.006 , 0.006 , 0.006 , 0.006 ,\n",
      "       0.006 , 0.006 , 0.006 , 0.006 , 0.006 , 0.006 , 0.006 , 0.006 , 0.006 ,\n",
      "       0.006 , 0.006 , 0.006 , 0.006 , 0.006 , 0.006 , 0.006 , 0.006 , 0.006 ,\n",
      "       0.006 , 0.006 , 0.006 , 0.006 , 0.06  , 0.06  , 0.006 , 0.006 , 0.06  ,\n",
      "       0.06  , 0.06  , 0.06  , 0.06  , 0.06  , 0.006 , 0.006 ])\n",
      "Coordinates:\n",
      "    pftname  (pft) |S40 ...\n",
      "Dimensions without coordinates: pft\n",
      "Attributes:\n",
      "    long_name:  Constant relating soil layer Nitrogen content to ectomycorrhi...\n",
      "    units:      gC/m2\n",
      "OAAT0380 KCN max\n",
      "<xarray.DataArray 'kc_nonmyc' (pft: 79)>\n",
      "array([ 0.  ,  7.2 ,  7.2 ,  7.2 ,  7.2 ,  7.2 ,  0.72,  7.2 ,  7.2 ,  7.2 ,\n",
      "        7.2 ,  7.2 ,  7.2 ,  7.2 , 72.  ,  7.2 ,  7.2 , 72.  , 72.  ,  7.2 ,\n",
      "        7.2 ,  7.2 ,  7.2 ,  7.2 ,  7.2 ,  7.2 ,  7.2 ,  7.2 ,  7.2 ,  7.2 ,\n",
      "        7.2 ,  7.2 ,  7.2 ,  7.2 ,  7.2 ,  7.2 ,  7.2 ,  7.2 ,  7.2 ,  7.2 ,\n",
      "        7.2 ,  7.2 ,  7.2 ,  7.2 ,  7.2 ,  7.2 ,  7.2 ,  7.2 ,  7.2 ,  7.2 ,\n",
      "        7.2 ,  7.2 ,  7.2 ,  7.2 ,  7.2 ,  7.2 ,  7.2 ,  7.2 ,  7.2 ,  7.2 ,\n",
      "        7.2 ,  7.2 ,  7.2 ,  7.2 ,  7.2 ,  7.2 ,  7.2 , 72.  , 72.  ,  7.2 ,\n",
      "        7.2 ,  7.2 ,  7.2 , 72.  , 72.  , 72.  , 72.  ,  7.2 ,  7.2 ])\n",
      "Coordinates:\n",
      "    pftname  (pft) |S40 ...\n",
      "Dimensions without coordinates: pft\n",
      "Attributes:\n",
      "    long_name:  Constant relating root C to non-mycorrhizal root active uptak...\n",
      "    units:      gC/m3\n",
      "<xarray.DataArray 'kn_nonmyc' (pft: 79)>\n",
      "array([0.   , 0.12 , 0.12 , 0.012, 0.12 , 0.12 , 0.012, 0.12 , 0.12 , 0.12 ,\n",
      "       0.12 , 0.12 , 0.12 , 0.12 , 1.2  , 0.12 , 0.12 , 1.2  , 1.2  , 0.12 ,\n",
      "       0.12 , 0.12 , 0.12 , 0.12 , 0.12 , 0.12 , 0.12 , 0.12 , 0.12 , 0.12 ,\n",
      "       0.12 , 0.12 , 0.12 , 0.12 , 0.12 , 0.12 , 0.12 , 0.12 , 0.12 , 0.12 ,\n",
      "       0.12 , 0.12 , 0.12 , 0.12 , 0.12 , 0.12 , 0.12 , 0.12 , 0.12 , 0.12 ,\n",
      "       0.12 , 0.12 , 0.12 , 0.12 , 0.12 , 0.12 , 0.12 , 0.12 , 0.12 , 0.12 ,\n",
      "       0.12 , 0.12 , 0.12 , 0.12 , 0.12 , 0.12 , 0.12 , 1.2  , 1.2  , 0.12 ,\n",
      "       0.12 , 0.12 , 0.12 , 1.2  , 1.2  , 1.2  , 1.2  , 0.12 , 0.12 ])\n",
      "Coordinates:\n",
      "    pftname  (pft) |S40 ...\n",
      "Dimensions without coordinates: pft\n",
      "Attributes:\n",
      "    long_name:  Constant relating soil layer Nitrogen content to non-mycorrhi...\n",
      "    units:      gC/m2\n",
      "<xarray.DataArray 'akc_active' (pft: 79)>\n",
      "array([0.  , 0.6 , 0.6 , 0.6 , 0.6 , 0.6 , 0.06, 0.6 , 0.6 , 0.6 , 0.6 , 0.6 ,\n",
      "       0.6 , 0.6 , 6.  , 0.6 , 0.6 , 6.  , 6.  , 0.6 , 0.6 , 0.6 , 0.6 , 0.6 ,\n",
      "       0.6 , 0.6 , 0.6 , 0.6 , 0.6 , 0.6 , 0.6 , 0.6 , 0.6 , 0.6 , 0.6 , 0.6 ,\n",
      "       0.6 , 0.6 , 0.6 , 0.6 , 0.6 , 0.6 , 0.6 , 0.6 , 0.6 , 0.6 , 0.6 , 0.6 ,\n",
      "       0.6 , 0.6 , 0.6 , 0.6 , 0.6 , 0.6 , 0.6 , 0.6 , 0.6 , 0.6 , 0.6 , 0.6 ,\n",
      "       0.6 , 0.6 , 0.6 , 0.6 , 0.6 , 0.6 , 0.6 , 6.  , 6.  , 0.6 , 0.6 , 6.  ,\n",
      "       6.  , 6.  , 6.  , 6.  , 6.  , 0.6 , 0.6 ])\n",
      "Coordinates:\n",
      "    pftname  (pft) |S40 ...\n",
      "Dimensions without coordinates: pft\n",
      "Attributes:\n",
      "    long_name:  Constant relating root C to arbuscular mycorrhizal root activ...\n",
      "    units:      gC/m3\n",
      "<xarray.DataArray 'akn_active' (pft: 79)>\n",
      "array([ 0.  ,  1.2 ,  1.2 ,  1.2 ,  1.2 ,  1.2 ,  0.12,  1.2 ,  1.2 ,  1.2 ,\n",
      "        1.2 ,  1.2 ,  1.2 ,  1.2 , 12.  ,  1.2 ,  1.2 , 12.  , 12.  ,  1.2 ,\n",
      "        1.2 ,  1.2 ,  1.2 ,  1.2 ,  1.2 ,  1.2 ,  1.2 ,  1.2 ,  1.2 ,  1.2 ,\n",
      "        1.2 ,  1.2 ,  1.2 ,  1.2 ,  1.2 ,  1.2 ,  1.2 ,  1.2 ,  1.2 ,  1.2 ,\n",
      "        1.2 ,  1.2 ,  1.2 ,  1.2 ,  1.2 ,  1.2 ,  1.2 ,  1.2 ,  1.2 ,  1.2 ,\n",
      "        1.2 ,  1.2 ,  1.2 ,  1.2 ,  1.2 ,  1.2 ,  1.2 ,  1.2 ,  1.2 ,  1.2 ,\n",
      "        1.2 ,  1.2 ,  1.2 ,  1.2 ,  1.2 ,  1.2 ,  1.2 , 12.  , 12.  ,  1.2 ,\n",
      "        1.2 , 12.  , 12.  , 12.  , 12.  , 12.  , 12.  ,  1.2 ,  1.2 ])\n",
      "Coordinates:\n",
      "    pftname  (pft) |S40 ...\n",
      "Dimensions without coordinates: pft\n",
      "Attributes:\n",
      "    long_name:  Constant relating soil layer Nitrogen content to arbuscular m...\n",
      "    units:      gC/m2\n",
      "<xarray.DataArray 'ekc_active' (pft: 79)>\n",
      "array([ 0.  ,  3.6 ,  3.6 ,  0.36,  3.6 ,  3.6 ,  0.36,  3.6 ,  3.6 ,  3.6 ,\n",
      "        3.6 ,  3.6 ,  3.6 ,  3.6 , 36.  ,  3.6 ,  3.6 , 36.  , 36.  ,  3.6 ,\n",
      "        3.6 ,  3.6 ,  3.6 ,  3.6 ,  3.6 ,  3.6 ,  3.6 ,  3.6 ,  3.6 ,  3.6 ,\n",
      "        3.6 ,  3.6 ,  3.6 ,  3.6 ,  3.6 ,  3.6 ,  3.6 ,  3.6 ,  3.6 ,  3.6 ,\n",
      "        3.6 ,  3.6 ,  3.6 ,  3.6 ,  3.6 ,  3.6 ,  3.6 ,  3.6 ,  3.6 ,  3.6 ,\n",
      "        3.6 ,  3.6 ,  3.6 ,  3.6 ,  3.6 ,  3.6 ,  3.6 ,  3.6 ,  3.6 ,  3.6 ,\n",
      "        3.6 ,  3.6 ,  3.6 ,  3.6 ,  3.6 ,  3.6 ,  3.6 , 36.  , 36.  ,  3.6 ,\n",
      "        3.6 , 36.  , 36.  , 36.  , 36.  , 36.  , 36.  ,  3.6 ,  3.6 ])\n",
      "Coordinates:\n",
      "    pftname  (pft) |S40 ...\n",
      "Dimensions without coordinates: pft\n",
      "Attributes:\n",
      "    long_name:  Constant relating root C to ectomycorrhizal root active uptak...\n",
      "    units:      gC/m3\n",
      "<xarray.DataArray 'ekn_active' (pft: 79)>\n",
      "array([0.  , 0.6 , 0.6 , 0.06, 0.6 , 0.6 , 0.06, 0.6 , 0.6 , 0.6 , 0.6 , 0.6 ,\n",
      "       0.6 , 0.6 , 6.  , 0.6 , 0.6 , 6.  , 6.  , 0.6 , 0.6 , 0.6 , 0.6 , 0.6 ,\n",
      "       0.6 , 0.6 , 0.6 , 0.6 , 0.6 , 0.6 , 0.6 , 0.6 , 0.6 , 0.6 , 0.6 , 0.6 ,\n",
      "       0.6 , 0.6 , 0.6 , 0.6 , 0.6 , 0.6 , 0.6 , 0.6 , 0.6 , 0.6 , 0.6 , 0.6 ,\n",
      "       0.6 , 0.6 , 0.6 , 0.6 , 0.6 , 0.6 , 0.6 , 0.6 , 0.6 , 0.6 , 0.6 , 0.6 ,\n",
      "       0.6 , 0.6 , 0.6 , 0.6 , 0.6 , 0.6 , 0.6 , 6.  , 6.  , 0.6 , 0.6 , 6.  ,\n",
      "       6.  , 6.  , 6.  , 6.  , 6.  , 0.6 , 0.6 ])\n",
      "Coordinates:\n",
      "    pftname  (pft) |S40 ...\n",
      "Dimensions without coordinates: pft\n",
      "Attributes:\n",
      "    long_name:  Constant relating soil layer Nitrogen content to ectomycorrhi...\n",
      "    units:      gC/m2\n"
     ]
    }
   ],
   "source": [
    "#should have kc_nonmyc min/max AND KCN min/max\n",
    "thisvar='kc_nonmyc'\n",
    "for member in x.members:\n",
    "    if thisvar in member.paramdict:\n",
    "        f = pdir+member.name+'.nc'\n",
    "        params = [*member.paramdict]\n",
    "        if len(params)==1:\n",
    "            param=params[0]\n",
    "        else:\n",
    "            param=member.flag\n",
    "        print(member.name,param,member.minmax)\n",
    "        p = xr.open_dataset(f)\n",
    "        for var in member.paramdict:\n",
    "            print(p[var])"
   ]
  },
  {
   "cell_type": "code",
   "execution_count": null,
   "id": "gothic-closing",
   "metadata": {},
   "outputs": [],
   "source": []
  }
 ],
 "metadata": {
  "kernelspec": {
   "display_name": "Python [conda env:lens-py]",
   "language": "python",
   "name": "conda-env-lens-py-py"
  },
  "language_info": {
   "codemirror_mode": {
    "name": "ipython",
    "version": 3
   },
   "file_extension": ".py",
   "mimetype": "text/x-python",
   "name": "python",
   "nbconvert_exporter": "python",
   "pygments_lexer": "ipython3",
   "version": "3.7.9"
  }
 },
 "nbformat": 4,
 "nbformat_minor": 5
}
