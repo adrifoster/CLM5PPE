{
 "cells": [
  {
   "cell_type": "code",
   "execution_count": 127,
   "id": "organic-consensus",
   "metadata": {},
   "outputs": [],
   "source": [
    "import pandas as pd\n",
    "import numpy as np\n",
    "import xarray as xr\n",
    "import netCDF4"
   ]
  },
  {
   "cell_type": "markdown",
   "id": "multiple-basic",
   "metadata": {},
   "source": [
    "## Read paraminfo csv file"
   ]
  },
  {
   "cell_type": "code",
   "execution_count": 81,
   "id": "protective-compatibility",
   "metadata": {},
   "outputs": [],
   "source": [
    "csvfile = '../parameter_sets/OAAT_csv_testing.csv'"
   ]
  },
  {
   "cell_type": "code",
   "execution_count": 162,
   "id": "harmful-struggle",
   "metadata": {},
   "outputs": [],
   "source": [
    "data = pd.read_csv(csvfile, names=['paramkey', 'paramname', 'perturblev', 'paramval']) "
   ]
  },
  {
   "cell_type": "code",
   "execution_count": 163,
   "id": "electronic-uruguay",
   "metadata": {},
   "outputs": [
    {
     "data": {
      "text/html": [
       "<div>\n",
       "<style scoped>\n",
       "    .dataframe tbody tr th:only-of-type {\n",
       "        vertical-align: middle;\n",
       "    }\n",
       "\n",
       "    .dataframe tbody tr th {\n",
       "        vertical-align: top;\n",
       "    }\n",
       "\n",
       "    .dataframe thead th {\n",
       "        text-align: right;\n",
       "    }\n",
       "</style>\n",
       "<table border=\"1\" class=\"dataframe\">\n",
       "  <thead>\n",
       "    <tr style=\"text-align: right;\">\n",
       "      <th></th>\n",
       "      <th>paramkey</th>\n",
       "      <th>paramname</th>\n",
       "      <th>perturblev</th>\n",
       "      <th>paramval</th>\n",
       "    </tr>\n",
       "  </thead>\n",
       "  <tbody>\n",
       "    <tr>\n",
       "      <td>0</td>\n",
       "      <td>OAAT0000</td>\n",
       "      <td>default</td>\n",
       "      <td>none</td>\n",
       "      <td>none</td>\n",
       "    </tr>\n",
       "    <tr>\n",
       "      <td>1</td>\n",
       "      <td>OAAT0001</td>\n",
       "      <td>taulnir</td>\n",
       "      <td>min</td>\n",
       "      <td>[0.   0.23 0.27 0.38 0.27 0.23 0.37 0.33 0.37 ...</td>\n",
       "    </tr>\n",
       "    <tr>\n",
       "      <td>2</td>\n",
       "      <td>OAAT0002</td>\n",
       "      <td>taulnir</td>\n",
       "      <td>max</td>\n",
       "      <td>[0.   0.39 0.39 0.46 0.39 0.43 0.49 0.53 0.49 ...</td>\n",
       "    </tr>\n",
       "    <tr>\n",
       "      <td>3</td>\n",
       "      <td>OAAT0003</td>\n",
       "      <td>taulvis</td>\n",
       "      <td>min</td>\n",
       "      <td>[0.   0.02 0.03 0.04 0.04 0.01 0.03 0.01 0.03 ...</td>\n",
       "    </tr>\n",
       "    <tr>\n",
       "      <td>4</td>\n",
       "      <td>OAAT0004</td>\n",
       "      <td>taulvis</td>\n",
       "      <td>max</td>\n",
       "      <td>[0.   0.06 0.07 0.08 0.08 0.18 0.07 0.14 0.07 ...</td>\n",
       "    </tr>\n",
       "    <tr>\n",
       "      <td>...</td>\n",
       "      <td>...</td>\n",
       "      <td>...</td>\n",
       "      <td>...</td>\n",
       "      <td>...</td>\n",
       "    </tr>\n",
       "    <tr>\n",
       "      <td>396</td>\n",
       "      <td>OAAT0396</td>\n",
       "      <td>jmaxse_sf</td>\n",
       "      <td>max</td>\n",
       "      <td>1.2</td>\n",
       "    </tr>\n",
       "    <tr>\n",
       "      <td>397</td>\n",
       "      <td>OAAT0397</td>\n",
       "      <td>tpuse_sf</td>\n",
       "      <td>min</td>\n",
       "      <td>0.8</td>\n",
       "    </tr>\n",
       "    <tr>\n",
       "      <td>398</td>\n",
       "      <td>OAAT0398</td>\n",
       "      <td>tpuse_sf</td>\n",
       "      <td>max</td>\n",
       "      <td>1.2</td>\n",
       "    </tr>\n",
       "    <tr>\n",
       "      <td>399</td>\n",
       "      <td>OAAT0399</td>\n",
       "      <td>jmax25top_sf</td>\n",
       "      <td>min</td>\n",
       "      <td>0.8</td>\n",
       "    </tr>\n",
       "    <tr>\n",
       "      <td>400</td>\n",
       "      <td>OAAT0400</td>\n",
       "      <td>jmax25top_sf</td>\n",
       "      <td>max</td>\n",
       "      <td>1.2</td>\n",
       "    </tr>\n",
       "  </tbody>\n",
       "</table>\n",
       "<p>401 rows × 4 columns</p>\n",
       "</div>"
      ],
      "text/plain": [
       "     paramkey     paramname perturblev  \\\n",
       "0    OAAT0000       default       none   \n",
       "1    OAAT0001       taulnir        min   \n",
       "2    OAAT0002       taulnir        max   \n",
       "3    OAAT0003       taulvis        min   \n",
       "4    OAAT0004       taulvis        max   \n",
       "..        ...           ...        ...   \n",
       "396  OAAT0396     jmaxse_sf        max   \n",
       "397  OAAT0397      tpuse_sf        min   \n",
       "398  OAAT0398      tpuse_sf        max   \n",
       "399  OAAT0399  jmax25top_sf        min   \n",
       "400  OAAT0400  jmax25top_sf        max   \n",
       "\n",
       "                                              paramval  \n",
       "0                                                 none  \n",
       "1    [0.   0.23 0.27 0.38 0.27 0.23 0.37 0.33 0.37 ...  \n",
       "2    [0.   0.39 0.39 0.46 0.39 0.43 0.49 0.53 0.49 ...  \n",
       "3    [0.   0.02 0.03 0.04 0.04 0.01 0.03 0.01 0.03 ...  \n",
       "4    [0.   0.06 0.07 0.08 0.08 0.18 0.07 0.14 0.07 ...  \n",
       "..                                                 ...  \n",
       "396                                                1.2  \n",
       "397                                                0.8  \n",
       "398                                                1.2  \n",
       "399                                                0.8  \n",
       "400                                                1.2  \n",
       "\n",
       "[401 rows x 4 columns]"
      ]
     },
     "execution_count": 163,
     "metadata": {},
     "output_type": "execute_result"
    }
   ],
   "source": [
    "data"
   ]
  },
  {
   "cell_type": "code",
   "execution_count": 164,
   "id": "boxed-spank",
   "metadata": {},
   "outputs": [
    {
     "data": {
      "text/plain": [
       "157    0.05\n",
       "158    0.25\n",
       "Name: paramval, dtype: object"
      ]
     },
     "execution_count": 164,
     "metadata": {},
     "output_type": "execute_result"
    }
   ],
   "source": [
    "# paramval entries for single values\n",
    "data.paramval[data.paramname=='jmaxb1']"
   ]
  },
  {
   "cell_type": "code",
   "execution_count": 165,
   "id": "mechanical-infrastructure",
   "metadata": {},
   "outputs": [
    {
     "data": {
      "text/plain": [
       "157    0.05\n",
       "Name: paramval, dtype: object"
      ]
     },
     "execution_count": 165,
     "metadata": {},
     "output_type": "execute_result"
    }
   ],
   "source": [
    "jmaxb1min = data.paramval[(data.paramname=='jmaxb1') & (data.perturblev=='min')]\n",
    "jmaxb1min"
   ]
  },
  {
   "cell_type": "code",
   "execution_count": 166,
   "id": "stuffed-cassette",
   "metadata": {},
   "outputs": [
    {
     "data": {
      "text/plain": [
       "0.05"
      ]
     },
     "execution_count": 166,
     "metadata": {},
     "output_type": "execute_result"
    }
   ],
   "source": [
    "# extra the data (is there another way?)\n",
    "# convert from str to float\n",
    "float(jmaxb1min.iloc[0])"
   ]
  },
  {
   "cell_type": "code",
   "execution_count": 167,
   "id": "practical-swimming",
   "metadata": {},
   "outputs": [
    {
     "data": {
      "text/plain": [
       "21    [0.       0.000216 0.000216 0.00072  0.0081   ...\n",
       "22    [0.      0.00108 0.00108 0.0036  0.0567  0.056...\n",
       "Name: paramval, dtype: object"
      ]
     },
     "execution_count": 167,
     "metadata": {},
     "output_type": "execute_result"
    }
   ],
   "source": [
    "# paramval entries for PFT-varying\n",
    "data.paramval[data.paramname=='dleaf']"
   ]
  },
  {
   "cell_type": "code",
   "execution_count": 168,
   "id": "plastic-bubble",
   "metadata": {},
   "outputs": [
    {
     "data": {
      "text/plain": [
       "'[0.       0.000216 0.000216 0.00072  0.0081   0.0081   0.0081   0.0081\\n 0.0081   0.0081   0.000405 0.000162 0.000144 0.000144 0.000144 0.000162\\n 0.000162 0.000162 0.000162 0.000162 0.000162 0.000162 0.000162 0.000162\\n 0.000162 0.000162 0.000162 0.000162 0.000162 0.000162 0.000162 0.000162\\n 0.000162 0.000162 0.000162 0.000162 0.000162 0.000162 0.000162 0.000162\\n 0.000162 0.000162 0.000162 0.000162 0.000162 0.000162 0.000162 0.000162\\n 0.000162 0.000162 0.000162 0.000162 0.000162 0.000162 0.000162 0.000162\\n 0.000162 0.000162 0.000162 0.000162 0.000162 0.000162 0.000162 0.000162\\n 0.000162 0.000162 0.000162 0.000162 0.000162 0.000162 0.000162 0.000162\\n 0.000162 0.000162 0.000162 0.000162 0.000162 0.000162 0.000162]'"
      ]
     },
     "execution_count": 168,
     "metadata": {},
     "output_type": "execute_result"
    }
   ],
   "source": [
    "# paramval entry for dleaf min\n",
    "dleafmin = data.paramval[(data.paramname=='dleaf') & (data.perturblev=='min')]\n",
    "dleafmin.iloc[0]"
   ]
  },
  {
   "cell_type": "code",
   "execution_count": 169,
   "id": "assumed-stability",
   "metadata": {},
   "outputs": [
    {
     "data": {
      "text/plain": [
       "array([], dtype=float64)"
      ]
     },
     "execution_count": 169,
     "metadata": {},
     "output_type": "execute_result"
    }
   ],
   "source": [
    "# trying to convert string to np\n",
    "# need to work on this...there is weird spacing and line breaks due to the way this data was saved out\n",
    "np.fromstring(dleafmin.iloc[0], dtype='float', sep=' ')"
   ]
  },
  {
   "cell_type": "code",
   "execution_count": 170,
   "id": "selected-berkeley",
   "metadata": {},
   "outputs": [
    {
     "data": {
      "text/plain": [
       "239    ['0.25', '0.25', '0.5']\n",
       "240    ['0.25', '0.5', '0.25']\n",
       "Name: paramval, dtype: object"
      ]
     },
     "execution_count": 170,
     "metadata": {},
     "output_type": "execute_result"
    }
   ],
   "source": [
    "# paramnval entries for dependencies\n",
    "data.paramval[data.paramname==\"['lf_fcel', 'lf_flab', 'lf_flig']\"]"
   ]
  },
  {
   "cell_type": "code",
   "execution_count": 171,
   "id": "acknowledged-turkish",
   "metadata": {},
   "outputs": [
    {
     "data": {
      "text/plain": [
       "\"['0.25', '0.25', '0.5']\""
      ]
     },
     "execution_count": 171,
     "metadata": {},
     "output_type": "execute_result"
    }
   ],
   "source": [
    "# paramval entry for LF (flag) min\n",
    "lfmin = data.paramval[(data.paramname==\"['lf_fcel', 'lf_flab', 'lf_flig']\") & (data.perturblev=='min')]\n",
    "lfmin.iloc[0]"
   ]
  },
  {
   "cell_type": "code",
   "execution_count": 172,
   "id": "tired-writing",
   "metadata": {},
   "outputs": [
    {
     "data": {
      "text/plain": [
       "array([], dtype=float64)"
      ]
     },
     "execution_count": 172,
     "metadata": {},
     "output_type": "execute_result"
    }
   ],
   "source": [
    "# trying to convert string to np\n",
    "# what's the sep?\n",
    "np.fromstring(lfmin.iloc[0], dtype='float', sep='\"[\"')"
   ]
  },
  {
   "cell_type": "code",
   "execution_count": 173,
   "id": "included-island",
   "metadata": {},
   "outputs": [
    {
     "data": {
      "text/plain": [
       "'[masked_array(data=[0.    , 0.072 , 0.072 , 0.072 , 0.072 , 0.072 , 0.0072,\\n                   0.072 , 0.072 , 0.072 , 0.072 , 0.072 , 0.072 , 0.072 ,\\n                   0.72  , 0.072 , 0.072 , 0.72  , 0.72  , 0.072 , 0.072 ,\\n                   0.072 , 0.072 , 0.072 , 0.072 , 0.072 , 0.072 , 0.072 ,\\n                   0.072 , 0.072 , 0.072 , 0.072 , 0.072 , 0.072 , 0.072 ,\\n                   0.072 , 0.072 , 0.072 , 0.072 , 0.072 , 0.072 , 0.072 ,\\n                   0.072 , 0.072 , 0.072 , 0.072 , 0.072 , 0.072 , 0.072 ,\\n                   0.072 , 0.072 , 0.072 , 0.072 , 0.072 , 0.072 , 0.072 ,\\n                   0.072 , 0.072 , 0.072 , 0.072 , 0.072 , 0.072 , 0.072 ,\\n                   0.072 , 0.072 , 0.072 , 0.072 , 0.72  , 0.72  , 0.072 ,\\n                   0.072 , 0.072 , 0.072 , 0.72  , 0.72  , 0.72  , 0.72  ,\\n                   0.072 , 0.072 ],\\n             mask=False,\\n       fill_value=1e+20), masked_array(data=[0.     , 0.0012 , 0.0012 , 0.00012, 0.0012 , 0.0012 ,\\n                   0.00012, 0.0012 , 0.0012 , 0.0012 , 0.0012 , 0.0012 ,\\n                   0.0012 , 0.0012 , 0.012  , 0.0012 , 0.0012 , 0.012  ,\\n                   0.012  , 0.0012 , 0.0012 , 0.0012 , 0.0012 , 0.0012 ,\\n                   0.0012 , 0.0012 , 0.0012 , 0.0012 , 0.0012 , 0.0012 ,\\n                   0.0012 , 0.0012 , 0.0012 , 0.0012 , 0.0012 , 0.0012 ,\\n                   0.0012 , 0.0012 , 0.0012 , 0.0012 , 0.0012 , 0.0012 ,\\n                   0.0012 , 0.0012 , 0.0012 , 0.0012 , 0.0012 , 0.0012 ,\\n                   0.0012 , 0.0012 , 0.0012 , 0.0012 , 0.0012 , 0.0012 ,\\n                   0.0012 , 0.0012 , 0.0012 , 0.0012 , 0.0012 , 0.0012 ,\\n                   0.0012 , 0.0012 , 0.0012 , 0.0012 , 0.0012 , 0.0012 ,\\n                   0.0012 , 0.012  , 0.012  , 0.0012 , 0.0012 , 0.0012 ,\\n                   0.0012 , 0.012  , 0.012  , 0.012  , 0.012  , 0.0012 ,\\n                   0.0012 ],\\n             mask=False,\\n       fill_value=1e+20), masked_array(data=[0.    , 0.006 , 0.006 , 0.006 , 0.006 , 0.006 , 0.0006,\\n                   0.006 , 0.006 , 0.006 , 0.006 , 0.006 , 0.006 , 0.006 ,\\n                   0.06  , 0.006 , 0.006 , 0.06  , 0.06  , 0.006 , 0.006 ,\\n                   0.006 , 0.006 , 0.006 , 0.006 , 0.006 , 0.006 , 0.006 ,\\n                   0.006 , 0.006 , 0.006 , 0.006 , 0.006 , 0.006 , 0.006 ,\\n                   0.006 , 0.006 , 0.006 , 0.006 , 0.006 , 0.006 , 0.006 ,\\n                   0.006 , 0.006 , 0.006 , 0.006 , 0.006 , 0.006 , 0.006 ,\\n                   0.006 , 0.006 , 0.006 , 0.006 , 0.006 , 0.006 , 0.006 ,\\n                   0.006 , 0.006 , 0.006 , 0.006 , 0.006 , 0.006 , 0.006 ,\\n                   0.006 , 0.006 , 0.006 , 0.006 , 0.06  , 0.06  , 0.006 ,\\n                   0.006 , 0.06  , 0.06  , 0.06  , 0.06  , 0.06  , 0.06  ,\\n                   0.006 , 0.006 ],\\n             mask=False,\\n       fill_value=1e+20), masked_array(data=[0.    , 0.012 , 0.012 , 0.012 , 0.012 , 0.012 , 0.0012,\\n                   0.012 , 0.012 , 0.012 , 0.012 , 0.012 , 0.012 , 0.012 ,\\n                   0.12  , 0.012 , 0.012 , 0.12  , 0.12  , 0.012 , 0.012 ,\\n                   0.012 , 0.012 , 0.012 , 0.012 , 0.012 , 0.012 , 0.012 ,\\n                   0.012 , 0.012 , 0.012 , 0.012 , 0.012 , 0.012 , 0.012 ,\\n                   0.012 , 0.012 , 0.012 , 0.012 , 0.012 , 0.012 , 0.012 ,\\n                   0.012 , 0.012 , 0.012 , 0.012 , 0.012 , 0.012 , 0.012 ,\\n                   0.012 , 0.012 , 0.012 , 0.012 , 0.012 , 0.012 , 0.012 ,\\n                   0.012 , 0.012 , 0.012 , 0.012 , 0.012 , 0.012 , 0.012 ,\\n                   0.012 , 0.012 , 0.012 , 0.012 , 0.12  , 0.12  , 0.012 ,\\n                   0.012 , 0.12  , 0.12  , 0.12  , 0.12  , 0.12  , 0.12  ,\\n                   0.012 , 0.012 ],\\n             mask=False,\\n       fill_value=1e+20), masked_array(data=[0.    , 0.036 , 0.036 , 0.0036, 0.036 , 0.036 , 0.0036,\\n                   0.036 , 0.036 , 0.036 , 0.036 , 0.036 , 0.036 , 0.036 ,\\n                   0.36  , 0.036 , 0.036 , 0.36  , 0.36  , 0.036 , 0.036 ,\\n                   0.036 , 0.036 , 0.036 , 0.036 , 0.036 , 0.036 , 0.036 ,\\n                   0.036 , 0.036 , 0.036 , 0.036 , 0.036 , 0.036 , 0.036 ,\\n                   0.036 , 0.036 , 0.036 , 0.036 , 0.036 , 0.036 , 0.036 ,\\n                   0.036 , 0.036 , 0.036 , 0.036 , 0.036 , 0.036 , 0.036 ,\\n                   0.036 , 0.036 , 0.036 , 0.036 , 0.036 , 0.036 , 0.036 ,\\n                   0.036 , 0.036 , 0.036 , 0.036 , 0.036 , 0.036 , 0.036 ,\\n                   0.036 , 0.036 , 0.036 , 0.036 , 0.36  , 0.36  , 0.036 ,\\n                   0.036 , 0.36  , 0.36  , 0.36  , 0.36  , 0.36  , 0.36  ,\\n                   0.036 , 0.036 ],\\n             mask=False,\\n       fill_value=1e+20), masked_array(data=[0.    , 0.006 , 0.006 , 0.0006, 0.006 , 0.006 , 0.0006,\\n                   0.006 , 0.006 , 0.006 , 0.006 , 0.006 , 0.006 , 0.006 ,\\n                   0.06  , 0.006 , 0.006 , 0.06  , 0.06  , 0.006 , 0.006 ,\\n                   0.006 , 0.006 , 0.006 , 0.006 , 0.006 , 0.006 , 0.006 ,\\n                   0.006 , 0.006 , 0.006 , 0.006 , 0.006 , 0.006 , 0.006 ,\\n                   0.006 , 0.006 , 0.006 , 0.006 , 0.006 , 0.006 , 0.006 ,\\n                   0.006 , 0.006 , 0.006 , 0.006 , 0.006 , 0.006 , 0.006 ,\\n                   0.006 , 0.006 , 0.006 , 0.006 , 0.006 , 0.006 , 0.006 ,\\n                   0.006 , 0.006 , 0.006 , 0.006 , 0.006 , 0.006 , 0.006 ,\\n                   0.006 , 0.006 , 0.006 , 0.006 , 0.06  , 0.06  , 0.006 ,\\n                   0.006 , 0.06  , 0.06  , 0.06  , 0.06  , 0.06  , 0.06  ,\\n                   0.006 , 0.006 ],\\n             mask=False,\\n       fill_value=1e+20)]'"
      ]
     },
     "execution_count": 173,
     "metadata": {},
     "output_type": "execute_result"
    }
   ],
   "source": [
    "# paramval entry for KCN (flag) min\n",
    "# even more complex because the individual parameters are PFT-varying\n",
    "kcnmin = data.paramval[(data.paramname==\"['kc_nonmyc', 'kn_nonmyc', 'akc_active', 'akn_active', 'ekc_active', 'ekn_active']\") & (data.perturblev=='min')]\n",
    "kcnmin.iloc[0]"
   ]
  },
  {
   "cell_type": "code",
   "execution_count": 174,
   "id": "hazardous-victoria",
   "metadata": {},
   "outputs": [
    {
     "data": {
      "text/plain": [
       "245    12.0\n",
       "246    18.0\n",
       "Name: paramval, dtype: object"
      ]
     },
     "execution_count": 174,
     "metadata": {},
     "output_type": "execute_result"
    }
   ],
   "source": [
    "# for these parameters, value somehow has units attached (??)\n",
    "#UPDATE: fixed 4/9/21\n",
    "data.paramval[data.paramname=='ndays_off']"
   ]
  },
  {
   "cell_type": "code",
   "execution_count": 175,
   "id": "positive-split",
   "metadata": {},
   "outputs": [
    {
     "data": {
      "text/plain": [
       "247    24.0\n",
       "248    36.0\n",
       "Name: paramval, dtype: object"
      ]
     },
     "execution_count": 175,
     "metadata": {},
     "output_type": "execute_result"
    }
   ],
   "source": [
    "data.paramval[data.paramname=='ndays_on']"
   ]
  },
  {
   "cell_type": "code",
   "execution_count": 176,
   "id": "active-guitar",
   "metadata": {},
   "outputs": [],
   "source": [
    "# let's check how the default value for this params is read in\n",
    "basepftfile='/glade/p/cgd/tss/people/oleson/modify_param/ctsm51_params.c210217_kwo.c210222.nc'"
   ]
  },
  {
   "cell_type": "code",
   "execution_count": 177,
   "id": "antique-income",
   "metadata": {},
   "outputs": [],
   "source": [
    "def_params = xr.open_dataset(basepftfile)  "
   ]
  },
  {
   "cell_type": "code",
   "execution_count": 178,
   "id": "productive-wednesday",
   "metadata": {},
   "outputs": [
    {
     "data": {
      "text/plain": [
       "numpy.timedelta64(1296000000000000,'ns')"
      ]
     },
     "execution_count": 178,
     "metadata": {},
     "output_type": "execute_result"
    }
   ],
   "source": [
    "# these parameters are interpreted by xarray as times in nanoseconds!\n",
    "ndays_off_def = def_params['ndays_off'].values\n",
    "ndays_off_def"
   ]
  },
  {
   "cell_type": "code",
   "execution_count": 179,
   "id": "standing-connection",
   "metadata": {},
   "outputs": [
    {
     "data": {
      "text/plain": [
       "array(3.1709792e-12)"
      ]
     },
     "execution_count": 179,
     "metadata": {},
     "output_type": "execute_result"
    }
   ],
   "source": [
    "# the other parameters are just arrays\n",
    "def_params['som_diffus'].values"
   ]
  },
  {
   "cell_type": "code",
   "execution_count": 181,
   "id": "mathematical-officer",
   "metadata": {},
   "outputs": [
    {
     "data": {
      "text/plain": [
       "masked_array(data=15.,\n",
       "             mask=False,\n",
       "       fill_value=1e+20)"
      ]
     },
     "execution_count": 181,
     "metadata": {},
     "output_type": "execute_result"
    }
   ],
   "source": [
    "# try with netCDF4 instead of xarray - doesn't seem to have this problem (must be xarray interpretation)\n",
    "dset = netCDF4.Dataset(basepftfile,'r')\n",
    "dset['ndays_off'][:]"
   ]
  },
  {
   "cell_type": "code",
   "execution_count": 182,
   "id": "falling-series",
   "metadata": {},
   "outputs": [
    {
     "data": {
      "text/plain": [
       "masked_array(data=[0.   , 0.72 , 0.72 , 0.72 , 0.72 , 0.72 , 0.072, 0.72 ,\n",
       "                   0.72 , 0.72 , 0.72 , 0.72 , 0.72 , 0.72 , 7.2  , 0.72 ,\n",
       "                   0.72 , 7.2  , 7.2  , 0.72 , 0.72 , 0.72 , 0.72 , 0.72 ,\n",
       "                   0.72 , 0.72 , 0.72 , 0.72 , 0.72 , 0.72 , 0.72 , 0.72 ,\n",
       "                   0.72 , 0.72 , 0.72 , 0.72 , 0.72 , 0.72 , 0.72 , 0.72 ,\n",
       "                   0.72 , 0.72 , 0.72 , 0.72 , 0.72 , 0.72 , 0.72 , 0.72 ,\n",
       "                   0.72 , 0.72 , 0.72 , 0.72 , 0.72 , 0.72 , 0.72 , 0.72 ,\n",
       "                   0.72 , 0.72 , 0.72 , 0.72 , 0.72 , 0.72 , 0.72 , 0.72 ,\n",
       "                   0.72 , 0.72 , 0.72 , 7.2  , 7.2  , 0.72 , 0.72 , 0.72 ,\n",
       "                   0.72 , 7.2  , 7.2  , 7.2  , 7.2  , 0.72 , 0.72 ],\n",
       "             mask=False,\n",
       "       fill_value=1e+20)"
      ]
     },
     "execution_count": 182,
     "metadata": {},
     "output_type": "execute_result"
    }
   ],
   "source": [
    "dset['kc_nonmyc'][:]"
   ]
  },
  {
   "cell_type": "code",
   "execution_count": 183,
   "id": "through-anxiety",
   "metadata": {},
   "outputs": [
    {
     "data": {
      "text/plain": [
       "1"
      ]
     },
     "execution_count": 183,
     "metadata": {},
     "output_type": "execute_result"
    }
   ],
   "source": [
    "len(dset['kc_nonmyc'][:].shape)"
   ]
  },
  {
   "cell_type": "code",
   "execution_count": 184,
   "id": "higher-candy",
   "metadata": {},
   "outputs": [
    {
     "data": {
      "text/plain": [
       "masked_array(\n",
       "  data=[[0.976, 0.976, 0.943, 0.943, 0.993, 0.966, 0.993, 0.966, 0.943,\n",
       "         0.964, 0.964, 0.914, 0.914, 0.943, 0.943, 0.943, 0.943, 0.943,\n",
       "         0.943, 0.943, 0.943, 0.943, 0.943, 0.943, 0.943, 0.943, 0.943,\n",
       "         0.943, 0.943, 0.943, 0.943, 0.943, 0.943, 0.943, 0.943, 0.943,\n",
       "         0.943, 0.943, 0.943, 0.943, 0.943, 0.943, 0.943, 0.943, 0.943,\n",
       "         0.943, 0.943, 0.943, 0.943, 0.943, 0.943, 0.943, 0.943, 0.943,\n",
       "         0.943, 0.943, 0.943, 0.943, 0.943, 0.943, 0.943, 0.943, 0.943,\n",
       "         0.943, 0.943, 0.943, 0.943, 0.943, 0.943, 0.943, 0.943, 0.943,\n",
       "         0.943, 0.943, 0.943, 0.943, 0.943, 0.943, 0.943],\n",
       "        [0.976, 0.976, 0.943, 0.943, 0.962, 0.966, 0.961, 0.966, 0.943,\n",
       "         0.964, 0.964, 0.914, 0.914, 0.943, 0.943, 0.943, 0.943, 0.943,\n",
       "         0.943, 0.943, 0.943, 0.943, 0.943, 0.943, 0.943, 0.943, 0.943,\n",
       "         0.943, 0.943, 0.943, 0.943, 0.943, 0.943, 0.943, 0.943, 0.943,\n",
       "         0.943, 0.943, 0.943, 0.943, 0.943, 0.943, 0.943, 0.943, 0.943,\n",
       "         0.943, 0.943, 0.943, 0.943, 0.943, 0.943, 0.943, 0.943, 0.943,\n",
       "         0.943, 0.943, 0.943, 0.943, 0.943, 0.943, 0.943, 0.943, 0.943,\n",
       "         0.943, 0.943, 0.943, 0.943, 0.943, 0.943, 0.943, 0.943, 0.943,\n",
       "         0.943, 0.943, 0.943, 0.943, 0.943, 0.943, 0.943]],\n",
       "  mask=False,\n",
       "  fill_value=1e+20)"
      ]
     },
     "execution_count": 184,
     "metadata": {},
     "output_type": "execute_result"
    }
   ],
   "source": [
    "dset['rootprof_beta'][:]"
   ]
  },
  {
   "cell_type": "code",
   "execution_count": 185,
   "id": "wireless-plant",
   "metadata": {},
   "outputs": [
    {
     "data": {
      "text/plain": [
       "masked_array(data=[0.976, 0.976, 0.943, 0.943, 0.993, 0.966, 0.993, 0.966,\n",
       "                   0.943, 0.964, 0.964, 0.914, 0.914, 0.943, 0.943, 0.943,\n",
       "                   0.943, 0.943, 0.943, 0.943, 0.943, 0.943, 0.943, 0.943,\n",
       "                   0.943, 0.943, 0.943, 0.943, 0.943, 0.943, 0.943, 0.943,\n",
       "                   0.943, 0.943, 0.943, 0.943, 0.943, 0.943, 0.943, 0.943,\n",
       "                   0.943, 0.943, 0.943, 0.943, 0.943, 0.943, 0.943, 0.943,\n",
       "                   0.943, 0.943, 0.943, 0.943, 0.943, 0.943, 0.943, 0.943,\n",
       "                   0.943, 0.943, 0.943, 0.943, 0.943, 0.943, 0.943, 0.943,\n",
       "                   0.943, 0.943, 0.943, 0.943, 0.943, 0.943, 0.943, 0.943,\n",
       "                   0.943, 0.943, 0.943, 0.943, 0.943, 0.943, 0.943],\n",
       "             mask=False,\n",
       "       fill_value=1e+20)"
      ]
     },
     "execution_count": 185,
     "metadata": {},
     "output_type": "execute_result"
    }
   ],
   "source": [
    "dset['rootprof_beta'][0,:]"
   ]
  },
  {
   "cell_type": "code",
   "execution_count": 186,
   "id": "vertical-plenty",
   "metadata": {},
   "outputs": [
    {
     "data": {
      "text/plain": [
       "2"
      ]
     },
     "execution_count": 186,
     "metadata": {},
     "output_type": "execute_result"
    }
   ],
   "source": [
    "len(dset['rootprof_beta'][:].shape)"
   ]
  },
  {
   "cell_type": "code",
   "execution_count": 187,
   "id": "driving-timer",
   "metadata": {},
   "outputs": [],
   "source": [
    "# look at the perturbed file\n",
    "ndays_off_paramfile = '/glade/scratch/kdagon/CLM5PPE/paramfiles/OAAT0245.nc'\n",
    "ndays_off_params = xr.open_dataset(ndays_off_paramfile)  "
   ]
  },
  {
   "cell_type": "code",
   "execution_count": 188,
   "id": "national-benjamin",
   "metadata": {},
   "outputs": [
    {
     "data": {
      "text/plain": [
       "numpy.timedelta64(1036800000000000,'ns')"
      ]
     },
     "execution_count": 188,
     "metadata": {},
     "output_type": "execute_result"
    }
   ],
   "source": [
    "ndays_off_params['ndays_off'].values"
   ]
  },
  {
   "cell_type": "code",
   "execution_count": 189,
   "id": "driven-structure",
   "metadata": {},
   "outputs": [
    {
     "data": {
      "text/plain": [
       "masked_array(data=12.,\n",
       "             mask=False,\n",
       "       fill_value=1e+20)"
      ]
     },
     "execution_count": 189,
     "metadata": {},
     "output_type": "execute_result"
    }
   ],
   "source": [
    "ndays_off_params_2 = netCDF4.Dataset(ndays_off_paramfile,'r')\n",
    "ndays_off_params_2['ndays_off'][:]"
   ]
  },
  {
   "cell_type": "code",
   "execution_count": null,
   "id": "twelve-republic",
   "metadata": {},
   "outputs": [],
   "source": []
  }
 ],
 "metadata": {
  "kernelspec": {
   "display_name": "Python (conda-analysis)",
   "language": "python",
   "name": "analysis"
  },
  "language_info": {
   "codemirror_mode": {
    "name": "ipython",
    "version": 3
   },
   "file_extension": ".py",
   "mimetype": "text/x-python",
   "name": "python",
   "nbconvert_exporter": "python",
   "pygments_lexer": "ipython3",
   "version": "3.7.3"
  }
 },
 "nbformat": 4,
 "nbformat_minor": 5
}
