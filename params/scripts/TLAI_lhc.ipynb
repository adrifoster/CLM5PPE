{
 "cells": [
  {
   "cell_type": "code",
   "execution_count": 2,
   "id": "f50867e0-5ab8-4b9d-b9a8-32c92677d099",
   "metadata": {},
   "outputs": [],
   "source": [
    "import numpy as np\n",
    "from ppe_tools import Ensemble,Member,ParamInfo\n",
    "from ppe_tools.utils import get_default, parse_val\n",
    "import xarray as xr\n",
    "import os\n",
    "import pandas as pd\n",
    "import glob"
   ]
  },
  {
   "cell_type": "code",
   "execution_count": 3,
   "id": "9c639bd1-83c2-4bbb-b508-d669adfca37b",
   "metadata": {},
   "outputs": [],
   "source": [
    "csv='lhc_220926.csv'"
   ]
  },
  {
   "cell_type": "code",
   "execution_count": 4,
   "id": "af3cc3bc",
   "metadata": {},
   "outputs": [
    {
     "name": "stderr",
     "output_type": "stream",
     "text": [
      "  % Total    % Received % Xferd  Average Speed   Time    Time     Time  Current\n",
      "                                 Dload  Upload   Total   Spent    Left  Speed\n",
      "100   460    0   460    0     0   1367      0 --:--:-- --:--:-- --:--:--  1369\n",
      "100  5444    0  5444    0     0   9212      0 --:--:-- --:--:-- --:--:-- 25679\n"
     ]
    },
    {
     "data": {
      "text/plain": [
       "0"
      ]
     },
     "execution_count": 4,
     "metadata": {},
     "output_type": "execute_result"
    }
   ],
   "source": [
    "data_url = '\"https://docs.google.com/spreadsheets/d/e/2PACX-1vQLjMUT7sgunI4XkbGWq_RrjrLhR8-N0RiojM7h3lbSsN5-jgKIFyiJtPJeQkTEf2TL4ouLu_dqmEkg/pub?gid=737792973&single=true&output=csv\"'\n",
    "cmd = 'curl -L '+data_url+' > '+csv # need to add -L option to force redirects\n",
    "os.system(cmd)"
   ]
  },
  {
   "cell_type": "code",
   "execution_count": 5,
   "id": "915b9226-20e4-42bb-9665-4d0732607b20",
   "metadata": {},
   "outputs": [],
   "source": [
    "df = pd.read_csv(csv)\n",
    "params=df['param'].values"
   ]
  },
  {
   "cell_type": "code",
   "execution_count": 7,
   "id": "7390a3e1-733e-4176-bde5-df9a0d5061b5",
   "metadata": {},
   "outputs": [
    {
     "data": {
      "text/plain": [
       "['kc_nonmyc',\n",
       " 'kn_nonmyc',\n",
       " 'akc_active',\n",
       " 'akn_active',\n",
       " 'ekc_active',\n",
       " 'ekn_active']"
      ]
     },
     "execution_count": 7,
     "metadata": {},
     "output_type": "execute_result"
    }
   ],
   "source": [
    "kcns=['kc_nonmyc',\n",
    "        'kn_nonmyc',\n",
    "        'akc_active',\n",
    "        'akn_active',\n",
    "        'ekc_active',\n",
    "        'ekn_active']\n",
    "kcns"
   ]
  },
  {
   "cell_type": "code",
   "execution_count": 8,
   "id": "f6b7d30b-5bf0-48cb-adc6-e37da72ffbd9",
   "metadata": {},
   "outputs": [],
   "source": [
    "lhcs = {}\n",
    "for p in params:\n",
    "    ix       = df['param']==p\n",
    "    minval   = df['min'][ix].values[0]\n",
    "    maxval   = df['max'][ix].values[0]\n",
    "    pftmin   = df['pft_mins'][ix].values[0]\n",
    "    pftmax   = df['pft_maxs'][ix].values[0]\n",
    "    thisloc  = df['loc'][ix].values[0]\n",
    "    if p=='KCN':\n",
    "        flag='KCN'\n",
    "    else:\n",
    "        flag=''\n",
    "    \n",
    "    needs_pft = (minval=='pft')\n",
    "    if needs_pft:\n",
    "        thismin = np.fromstring(pftmin, dtype='float', sep=',')\n",
    "    elif 'percent' in minval:\n",
    "        thismin = minval\n",
    "    else:\n",
    "        thismin = np.array(float(minval))\n",
    "\n",
    "    needs_pft = (maxval=='pft')\n",
    "    if needs_pft:\n",
    "        thismax = np.fromstring(pftmax, dtype='float', sep=',')\n",
    "    elif 'percent' in maxval:\n",
    "        thismax = maxval\n",
    "    else:\n",
    "        thismax = np.array(float(maxval))\n",
    "\n",
    "    if p!='KCN':\n",
    "        lhcs[p]={'min':thismin,'max':thismax,'loc':thisloc,'flagged':[]}\n",
    "    else:\n",
    "        flagged={}\n",
    "        for kcn in kcns:\n",
    "            flagged[kcn]={'min':thismin,'max':thismax,'loc':thisloc}\n",
    "        lhcs[p]={'min':[],'max':[],'loc':thisloc,'flagged':flagged}"
   ]
  },
  {
   "cell_type": "code",
   "execution_count": 9,
   "id": "04571686-bafb-48d1-8014-eecb4fa0eaa4",
   "metadata": {},
   "outputs": [],
   "source": [
    "#instantiate the Ensemble object\n",
    "basefile = '/glade/scratch/djk2120/PPEn11/paramfiles/OAAT0000.nc'\n",
    "pdir = '/glade/scratch/djk2120/PPEn11/paramfiles/'\n",
    "ndir = '/glade/scratch/djk2120/PPEn11/namelist_mods/'\n",
    "x    = Ensemble(basefile,pdir,ndir)\n",
    "\n",
    "#add the new LHCs\n",
    "prefix = 'LHC'\n",
    "nextnum=1\n",
    "n_samples=500\n",
    "x.add_lhcs(lhcs,prefix,nextnum,n_samples)"
   ]
  },
  {
   "cell_type": "code",
   "execution_count": 10,
   "id": "d8c7d05f-7bf4-4490-9a68-f2c84c437c3a",
   "metadata": {},
   "outputs": [],
   "source": [
    "x.write(default_key='LHC0000',lhcfile='/glade/scratch/djk2120/PPEn11/lhc220926.txt')"
   ]
  },
  {
   "cell_type": "code",
   "execution_count": null,
   "id": "116c0a57",
   "metadata": {},
   "outputs": [],
   "source": []
  },
  {
   "cell_type": "code",
   "execution_count": null,
   "id": "4ac0451e",
   "metadata": {},
   "outputs": [],
   "source": []
  },
  {
   "cell_type": "code",
   "execution_count": null,
   "id": "6a848eff",
   "metadata": {},
   "outputs": [],
   "source": [
    "\n",
    "\n"
   ]
  },
  {
   "cell_type": "code",
   "execution_count": null,
   "id": "33a07b7e-44d5-4d16-8a7f-ea5ab5676f7f",
   "metadata": {},
   "outputs": [],
   "source": []
  }
 ],
 "metadata": {
  "kernelspec": {
   "display_name": "Python [conda env:miniconda3-ppe-py]",
   "language": "python",
   "name": "conda-env-miniconda3-ppe-py-py"
  },
  "language_info": {
   "codemirror_mode": {
    "name": "ipython",
    "version": 3
   },
   "file_extension": ".py",
   "mimetype": "text/x-python",
   "name": "python",
   "nbconvert_exporter": "python",
   "pygments_lexer": "ipython3",
   "version": "3.7.10"
  }
 },
 "nbformat": 4,
 "nbformat_minor": 5
}
